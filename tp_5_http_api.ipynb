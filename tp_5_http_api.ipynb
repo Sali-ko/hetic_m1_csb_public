{
 "cells": [
  {
   "cell_type": "markdown",
   "metadata": {},
   "source": [
    "# **M1 - CSB**\n",
    "# **TP 5 - Requêtes HTTP et API**\n",
    "\n",
    "\n",
    "***\n",
    "\n",
    "[**Notions**](#notions)\n",
    "\n",
    "1. [Le package `requests` et les API](#1a)\n",
    "2. [La requête `GET`](#2)\n",
    "3. [Status codes (codes de réponses HTTP)](#3)\n",
    "4. [Headers de réponses](#4)\n",
    "5. [Paramètres de requêtes](#5)\n",
    "6. [Headers de requêtes](#6)\n",
    "7. [Types de requêtes / HTTP Methods](#7)\n",
    "\n",
    "\n",
    "\n",
    "\n",
    "*** \n",
    "\n",
    "[**Exercices**](#exercices)\n",
    "\n",
    "- Exercice 1 - Manipulation de résultats de requêtes\n",
    "- Exercice 2 - \n",
    "\n",
    "***"
   ]
  },
  {
   "cell_type": "markdown",
   "metadata": {},
   "source": [
    "<a id='1'></a>\n",
    "\n",
    "## 1. Le package `requests`\n",
    "\n",
    "- `requests` est le package standard pour faire des requêtes HTTP en Python.\n",
    "- La librairies permet de faire des requêtes pour interagir avec des ressources distantes, très simplement et avec peu de code.\n",
    "- [Documentation officielle : Requests: HTTP for Humans](https://requests.readthedocs.io/en/master/)\n",
    "\n",
    "<a id='1'></a>\n",
    "## 1. ... et les API\n",
    "- Tiré de : [Practical Programming](https://practicalprogramming.fr/api-rest/)\n",
    "- **API** est un acronyme pour “Application Programming Interface” ou Interface de programmation d’application en français : \n",
    " - Il s’agit d’une interface permettant l’interaction entre différentes applications. \n",
    " - Elle définit quels appels ou requêtes peuvent être réalisés et comment les réaliser : le format des données à utiliser, la structure de la réponse, les conventions à respecter etc. \n",
    "\n",
    "<center>\n",
    "<img src=\"restapi.png\" width=\"600\">\n",
    " </center>\n",
    " \n",
    " \n",
    "- Tiré de : [Practical Programming](https://practicalprogramming.fr/api-rest/)\n",
    "- **API Rest** : REST (pour REpresentational State Transfer) est une type d’architecture d’API qui fournit un certain nombre de normes et de conventions à respecter pour faciliter la communication entre applications. Les APIs qui respectent le standard REST sont appelées API REST ou API RESTful.\n",
    "\n",
    " - Les principes d’une architecture REST\n",
    " - Le standard REST impose six contraintes architecturales qui doivent toutes être respectées par un système pour qu’il soit qualifiable de système RESTful. Le strict respect de ces six contraintes permet d’assurer une fiabilité, une scalabilité et une extensibilité optimales.\n",
    "\n",
    "    - La séparation entre client et serveur\n",
    "    - L’absence d’état de sessions (stateless)\n",
    "    - L’uniformité de l’interface \n",
    "    - La mise en cache\n",
    "    - L’architecture en couches\n",
    "    - Le code à la demande. Cette contrainte est optionnelle. "
   ]
  },
  {
   "cell_type": "markdown",
   "metadata": {},
   "source": [
    "<a id=\"2\"></a>\n",
    "## 2. La requête `GET`\n",
    "\n",
    "- Le requête `GET` accède à une page web par son URL et renvoie la page (ou le fichier) dans son intégralité. \n",
    "\n",
    "**Exemple**\n",
    "- Un lien de téléchargement d'un fichier `json` : https://www.nosdeputes.fr/deputes/enmandat/json"
   ]
  },
  {
   "cell_type": "code",
   "execution_count": 14,
   "metadata": {},
   "outputs": [],
   "source": [
    "#type(content[:100])\n",
    "#json_string[:100]\n",
    "#d"
   ]
  },
  {
   "cell_type": "code",
   "execution_count": 5,
   "metadata": {},
   "outputs": [
    {
     "name": "stdout",
     "output_type": "stream",
     "text": [
      "Type of content is <class 'bytes'>\n",
      "Type of json_string is <class 'str'>\n",
      "Type of d is <class 'dict'>\n",
      "\n",
      "\n",
      "Type of content is <class 'bytes'>\n",
      "Type of json_string is <class 'str'>\n",
      "Type of d is <class 'dict'>\n"
     ]
    }
   ],
   "source": [
    "import requests\n",
    "\n",
    "# On fait une requête GET sur cette adresse\n",
    "# r = response\n",
    "r = requests.get(\"https://www.nosdeputes.fr/deputes/enmandat/json\")\n",
    "\n",
    "# Le contenu est un objet de type bytes\n",
    "content = r.content\n",
    "\n",
    "# On le convertit en string\n",
    "json_string = r.content.decode()\n",
    "\n",
    "import json\n",
    "# On le convertit ensuite en dictionnaire\n",
    "d = json.loads(json_string)\n",
    "\n",
    "# On vérifie les types des variables\n",
    "for var_name, var in zip([\"content\", \"json_string\", \"d\"], [content, json_string, d]):\n",
    "    print(f\"Type of {var_name} is {type(var)}\")\n",
    "    \n",
    "    \n",
    "# On peut aussi obtenir directement le json au format string ainsi :    \n",
    "json_string = r.text\n",
    "\n",
    "# On peut aussi obtenir directement le dictionnaire ainsi :\n",
    "d = r.json()\n"
   ]
  },
  {
   "cell_type": "code",
   "execution_count": 15,
   "metadata": {},
   "outputs": [],
   "source": [
    "# On fait une requête GET sur cette adresse\n",
    "# r = response\n",
    "r = requests.get(\"https://www.nosdeputes.fr/deputes/enmandat/json\")\n",
    "\n",
    "# On peut aussi obtenir directement le dictionnaire ainsi :\n",
    "d = r.json()"
   ]
  },
  {
   "cell_type": "code",
   "execution_count": 16,
   "metadata": {},
   "outputs": [
    {
     "name": "stdout",
     "output_type": "stream",
     "text": [
      "dict_keys(['deputes'])\n",
      "{'depute': {'adresses': [{'adresse': 'Assemblée nationale, 126 Rue de '\n",
      "                                     \"l'Université, 75355 Paris 07 SP\"}],\n",
      "            'anciens_autres_mandats': [],\n",
      "            'anciens_mandats': [{'mandat': '21/06/2017 /  / '}],\n",
      "            'autres_mandats': [{'mandat': 'Comps / Conseil municipal / '\n",
      "                                          'membre'}],\n",
      "            'collaborateurs': [{'collaborateur': 'M. Maxence Huguenot'},\n",
      "                               {'collaborateur': 'Mme Vanessa Santos'},\n",
      "                               {'collaborateur': 'M. Guillaume Jollet'},\n",
      "                               {'collaborateur': 'Mme Virginie Evrard'}],\n",
      "            'date_naissance': '1968-11-04',\n",
      "            'emails': [{'email': 'veronique.hammerer@assemblee-nationale.fr'}],\n",
      "            'groupe_sigle': 'LREM',\n",
      "            'id': 221,\n",
      "            'id_an': '719652',\n",
      "            'lieu_naissance': 'Dax (Landes)',\n",
      "            'mandat_debut': '2017-06-21',\n",
      "            'nb_mandats': 1,\n",
      "            'nom': 'Véronique Hammerer',\n",
      "            'nom_circo': 'Gironde',\n",
      "            'nom_de_famille': 'Hammerer',\n",
      "            'num_circo': 11,\n",
      "            'num_deptmt': '33',\n",
      "            'parti_ratt_financier': 'La République en Marche',\n",
      "            'place_en_hemicycle': '326',\n",
      "            'prenom': 'Véronique',\n",
      "            'profession': 'Fonctionnaire de catégorie A',\n",
      "            'sexe': 'F',\n",
      "            'sites_web': [{'site': 'https://veroniquehammerer.com'},\n",
      "                          {'site': 'https://twitter.com/V_Hammerer'}],\n",
      "            'slug': 'veronique-hammerer',\n",
      "            'twitter': 'V_Hammerer',\n",
      "            'url_an': 'http://www2.assemblee-nationale.fr/deputes/fiche/OMC_PA719652',\n",
      "            'url_nosdeputes': 'https://www.nosdeputes.fr/veronique-hammerer',\n",
      "            'url_nosdeputes_api': 'https://www.nosdeputes.fr/veronique-hammerer/json'}}\n"
     ]
    }
   ],
   "source": [
    "print(d.keys())\n",
    "\n",
    "from pprint import pprint\n",
    "\n",
    "pprint(d[\"deputes\"][200])"
   ]
  },
  {
   "cell_type": "markdown",
   "metadata": {},
   "source": [
    "<a id=\"3\"></a>\n",
    "## 3. Status codes\n",
    "- Dans l'objet renvoyé par une requête faite avec `requests`, ici l'objet `r`, on peut accéder au `status_code`\n",
    "- Ce dernier nous renseigne sur le succès de la requête - et peut donner des informations supplémentaires :\n",
    " - Vous en connaissez tous déjà un exemple : [Le code HTTP 404](https://fr.wikipedia.org/wiki/Erreur_HTTP_404)\n",
    " - Liste des `status_codes` : [List of HTTP status codes - Wikipedia](https://en.wikipedia.org/wiki/List_of_HTTP_status_codes)\n",
    " \n",
    " \n",
    " \n",
    "- Comment les lire : \n",
    "\n",
    " - **1xx** : Information / Informational Response\n",
    "\n",
    " - **2xx** : Succès / Success\n",
    "\n",
    " - **3xx** : Redirection / Redirection\n",
    "\n",
    " - **4xx** : Erreur du client / Client Errors\n",
    "\n",
    " - **5xx** : Erreur du serveur / Server Errors\n",
    "\n",
    "**Exemple**\n",
    "- Dans le code ci dessous : \n",
    " - `GET`sur l'adresse : \"https://www.nosdeputes.fr/deputes/enmandat/json\" renvoie un code 200 (succès)\n",
    " - `GET`sur l'adresse : \"https://www.nosdeputes.fr/deputes/enmandat/json123\" renvoie un code 404 (Non trouvée, car l'url est fausse)"
   ]
  },
  {
   "cell_type": "code",
   "execution_count": 17,
   "metadata": {},
   "outputs": [
    {
     "name": "stdout",
     "output_type": "stream",
     "text": [
      "Status code : 200\n",
      "Status code : 404\n"
     ]
    }
   ],
   "source": [
    "# On fait une requête GET sur cette adresse\n",
    "r = requests.get(\"https://www.nosdeputes.fr/deputes/enmandat/json\")\n",
    "print(f\"Status code : {r.status_code}\")\n",
    "\n",
    "\n",
    "# On fait une requête GET sur cette adresse qui est fausse\n",
    "r = requests.get(\"https://www.nosdeputes.fr/deputes/enmandat/json123\")\n",
    "print(f\"Status code : {r.status_code}\")"
   ]
  },
  {
   "cell_type": "markdown",
   "metadata": {},
   "source": [
    "<a id=\"4\"></a>\n",
    "\n",
    "## 4. Headers de réponses"
   ]
  },
  {
   "cell_type": "markdown",
   "metadata": {},
   "source": [
    "- Les headers de la réponse à la requête HTTP peuvent donner des informations utiles sur le type de la réponse\n",
    "- Les headers renvoyés par `requests` sont des dictionnaires \"Case Insensitive\" - on n'a pas à se soucier de la casse en les manipulant"
   ]
  },
  {
   "cell_type": "code",
   "execution_count": 20,
   "metadata": {},
   "outputs": [
    {
     "name": "stdout",
     "output_type": "stream",
     "text": [
      "type: <class 'requests.structures.CaseInsensitiveDict'>\n",
      "\n",
      "Headers :\n",
      "{'Access-Control-Allow-Origin': '*',\n",
      " 'Connection': 'Keep-Alive',\n",
      " 'Content-Disposition': 'attachment; '\n",
      "                        'filename=\"nosdeputes.fr_deputes_en_mandat_2020-11-06.json\"',\n",
      " 'Content-Encoding': 'gzip',\n",
      " 'Content-Type': 'text/plain; charset=utf-8',\n",
      " 'Date': 'Fri, 06 Nov 2020 10:58:08 GMT',\n",
      " 'Keep-Alive': 'timeout=5, max=100',\n",
      " 'Server': 'Apache/2.4.10 (Debian)',\n",
      " 'Set-Cookie': 'symfony=dcf37009618bb524913e1bf6f392aaa6; path=/',\n",
      " 'Transfer-Encoding': 'chunked',\n",
      " 'Vary': 'Accept-Encoding',\n",
      " 'Via': '1.1 www.nosdeputes.fr',\n",
      " 'X-Powered-By': 'PHP/5.6.30'}\n",
      "\n",
      "Case insensitive :\n",
      "text/plain; charset=utf-8\n",
      "text/plain; charset=utf-8\n"
     ]
    }
   ],
   "source": [
    "# On fait une requête GET sur cette adresse\n",
    "r = requests.get(\"https://www.nosdeputes.fr/deputes/enmandat/json\")\n",
    "print(\"type:\", type(r.headers))\n",
    "print(\"\\nHeaders :\")\n",
    "pprint(dict(r.headers))\n",
    "\n",
    "# Case insensitive\n",
    "print(\"\\nCase insensitive :\")\n",
    "print(r.headers['ContENt-Type'])\n",
    "print(r.headers['content-type'])"
   ]
  },
  {
   "cell_type": "markdown",
   "metadata": {},
   "source": [
    "<a id=\"5\"></a>\n",
    "\n",
    "## 5. Paramètres de requêtes \n",
    "\n",
    "- Dans certains cas, on peut ajouter des paramètres à une requête `GET` HTTP\n",
    "- Un exemple avec l'API de Github : on peut chercher par mot clefs - cherchons le repository du cours"
   ]
  },
  {
   "cell_type": "code",
   "execution_count": 26,
   "metadata": {},
   "outputs": [
    {
     "name": "stdout",
     "output_type": "stream",
     "text": [
      "Url utilisée : https://api.github.com/search/repositories?q=hetic_m1_csb\n",
      "Status code : 200\n",
      "Url du repo: Selimmmm/hetic_m1_csb_public\n"
     ]
    }
   ],
   "source": [
    "# On passe les paramètres ainsi à la fonction get \n",
    "# équivalent à  requests.get(\"https://api.github.com/search/repositories?q=hetic_m1_csb\")\n",
    "response = requests.get(\n",
    "    'https://api.github.com/search/repositories',\n",
    "    params={'q': 'hetic_m1_csb'},\n",
    ")\n",
    "# Voici l'url utilisées\n",
    "url = response.url\n",
    "print(f\"Url utilisée : {url}\")\n",
    "\n",
    "#\n",
    "json_response = response.json()\n",
    "#print(json_response[\"items\"])\n",
    "repository = json_response['items'][0]\n",
    "print(f\"Status code : {response.status_code}\")\n",
    "print(f'Url du repo: {repository[\"full_name\"]}')  # Python 3.6+"
   ]
  },
  {
   "cell_type": "code",
   "execution_count": 29,
   "metadata": {},
   "outputs": [
    {
     "data": {
      "text/plain": [
       "['q=hetic',\n",
       " 'oq=hetic+',\n",
       " 'aqs=chrome..69i57j0l3j69i60l4.1381j0j4',\n",
       " 'sourceid=chrome',\n",
       " 'ie=UTF-8']"
      ]
     },
     "execution_count": 29,
     "metadata": {},
     "output_type": "execute_result"
    }
   ],
   "source": [
    "url_google = \"https://www.google.com/search?q=hetic&oq=hetic+&aqs=chrome..69i57j0l3j69i60l4.1381j0j4&sourceid=chrome&ie=UTF-8\"\n",
    "params_string = url_google.split(\"?\")[1]\n",
    "params_string.split(\"&\")"
   ]
  },
  {
   "cell_type": "markdown",
   "metadata": {},
   "source": [
    "<a id=\"6\"></a>\n",
    "## 6. Headers de requêtes\n",
    "\n",
    "- On peut customiser les requêtes en renseignant des paramètres dans le header\n",
    "\n",
    "**Exemple**\n",
    "- Dans cet exemple on utilise un header propriétaire de GitHub qui renseigne sur le matching des mots clefs utilisés dans la requête"
   ]
  },
  {
   "cell_type": "code",
   "execution_count": 32,
   "metadata": {},
   "outputs": [
    {
     "name": "stdout",
     "output_type": "stream",
     "text": [
      "(\"Text matches: [{'object_url': \"\n",
      " \"'https://api.github.com/repositories/304138127', 'object_type': \"\n",
      " \"'Repository', 'property': 'name', 'fragment': 'hetic_m1_csb_public', \"\n",
      " \"'matches': [{'text': 'hetic', 'indices': [0, 5]}, {'text': 'm1', 'indices': \"\n",
      " \"[6, 8]}, {'text': 'csb', 'indices': [9, 12]}]}]\")\n"
     ]
    }
   ],
   "source": [
    "import requests\n",
    "\n",
    "response = requests.get(\n",
    "    'https://api.github.com/search/repositories',\n",
    "    params={'q': 'hetic_m1_csb'},\n",
    "    headers={'Accept': 'application/vnd.github.v3.text-match+json'},\n",
    ")\n",
    "\n",
    "json_response = response.json()\n",
    "repository = json_response['items'][0]\n",
    "# Renseigne sur les positions des mots clefs de la recherche dans le repository\n",
    "pprint(f'Text matches: {repository[\"text_matches\"]}')"
   ]
  },
  {
   "cell_type": "markdown",
   "metadata": {},
   "source": [
    "- User Agent"
   ]
  },
  {
   "cell_type": "code",
   "execution_count": 33,
   "metadata": {},
   "outputs": [
    {
     "data": {
      "text/plain": [
       "200"
      ]
     },
     "execution_count": 33,
     "metadata": {},
     "output_type": "execute_result"
    }
   ],
   "source": [
    "headers = {'User-Agent': 'Mozilla/5.0 (Macintosh; Intel Mac OS X 10_10_1) AppleWebKit/537.36 (KHTML, like Gecko) Chrome/39.0.2171.95 Safari/537.36'}\n",
    "r = requests.get(\"https://www.nosdeputes.fr/deputes/enmandat/json\", headers=headers)\n",
    "r.status_code"
   ]
  },
  {
   "cell_type": "markdown",
   "metadata": {},
   "source": [
    "<a id=\"7\"></a>\n",
    "\n",
    "## 7. Types de requêtes / HTTP Methods\n",
    "\n",
    "- Il existe différentes requêtes HTTP qui permettent de faire différentes opérations : dans les API Rest, on veille à bien utiliser une méthode pour une certaine opération.\n",
    "- Quelques débats à propos de ces méthodes : https://blog.engineering.publicissapient.fr/2014/03/17/post-vs-put-la-confusion/\n",
    "- Les `https://httpbin.org/{method}` permettent de tester les requêtes\n"
   ]
  },
  {
   "cell_type": "code",
   "execution_count": 36,
   "metadata": {},
   "outputs": [
    {
     "name": "stdout",
     "output_type": "stream",
     "text": [
      "Status code : 200\n"
     ]
    }
   ],
   "source": [
    "# On envoie une ressource : par exemple un formulaire (plutôt pour un \"update\")\n",
    "response = requests.post('https://httpbin.org/post', data={'key':'value'})\n",
    "print(f\"Status code : {response.status_code}\")\n",
    "\n",
    "# print le retour des données envoyées"
   ]
  },
  {
   "cell_type": "code",
   "execution_count": 40,
   "metadata": {},
   "outputs": [
    {
     "name": "stdout",
     "output_type": "stream",
     "text": [
      "Status code : 200\n",
      "Status code : 200\n",
      "Status code : 200\n"
     ]
    }
   ],
   "source": [
    "# On envoie une ressource : par exemple un formulaire (plutôt pour un \"create\")\n",
    "response = requests.put('https://httpbin.org/put', data={'key':'value'})\n",
    "print(f\"Status code : {response.status_code}\")\n",
    "\n",
    "# On supprime une ressource\n",
    "response = requests.delete('https://httpbin.org/delete')\n",
    "print(f\"Status code : {response.status_code}\")\n",
    "\n",
    "# On veut accéder au header d'une page\n",
    "response = requests.head('https://httpbin.org/get')\n",
    "print(f\"Status code : {response.status_code}\")"
   ]
  },
  {
   "cell_type": "markdown",
   "metadata": {},
   "source": [
    "<a id='exercices'></a>\n",
    "## Exercice 1 - Manipulation de résultats de requêtes\n",
    "\n",
    "- 1. En utilisant une requête `GET`sur l'url du premier exemple : \n",
    "    - Créer la liste de tous les partis politiques\n",
    "    - Trouver tous les députés qui ont aussi un autre mandat\n",
    "    - Trouver tous les députés qui ont eu un premier mandat avant l'an 2000\n",
    "    - Etablir la liste des liens Twitter des députés renvoyés par l'API\n",
    "    \n",
    "    \n",
    "- 2. En utilisant une requête `GET`sur l'url d'un lien Twitter de la liste précédente : \n",
    "    - Interpréter une valeur de l'attribut headers de la réponse\n",
    "    - Afficher le code source de la page du profil Twitter d'un député"
   ]
  },
  {
   "cell_type": "code",
   "execution_count": 2,
   "metadata": {},
   "outputs": [
    {
     "name": "stdout",
     "output_type": "stream",
     "text": [
      "322\n"
     ]
    }
   ],
   "source": [
    "import requests\n",
    "\n",
    "r = requests.get(\"https://www.nosdeputes.fr/deputes/enmandat/json\")\n",
    "d = r.json()\n",
    "d = d[\"deputes\"]#[100]\n",
    "\n",
    "\n",
    "autres_mandats = [dep for dep in d if dep[\"depute\"][\"autres_mandats\"] != []]\n",
    "print(len(autres_mandats))"
   ]
  },
  {
   "cell_type": "code",
   "execution_count": 3,
   "metadata": {},
   "outputs": [
    {
     "name": "stdout",
     "output_type": "stream",
     "text": [
      "0\n"
     ]
    }
   ],
   "source": [
    "for i in range(500):\n",
    "    if d[i][\"depute\"][\"anciens_mandats\"] != []:\n",
    "        print(i)\n",
    "        break"
   ]
  },
  {
   "cell_type": "code",
   "execution_count": 50,
   "metadata": {},
   "outputs": [],
   "source": [
    "l_twitter = []\n",
    "\n",
    "for i in range(len(d)):\n",
    "    sites = [list(x.values())[0] for x in d[i][\"depute\"][\"sites_web\"]]\n",
    "    twitters = [x for x in sites if x.startswith(\"https://twitter\")]\n",
    "    try:\n",
    "        twitter = twitters[0]\n",
    "        l_twitter.append(twitter)\n",
    "    except:\n",
    "        pass"
   ]
  },
  {
   "cell_type": "code",
   "execution_count": 51,
   "metadata": {},
   "outputs": [
    {
     "data": {
      "text/plain": [
       "506"
      ]
     },
     "execution_count": 51,
     "metadata": {},
     "output_type": "execute_result"
    }
   ],
   "source": [
    "len(l_twitter)"
   ]
  },
  {
   "cell_type": "code",
   "execution_count": 43,
   "metadata": {},
   "outputs": [],
   "source": [
    "# d[i][\"depute\"][\"anciens_mandats\"]"
   ]
  },
  {
   "cell_type": "markdown",
   "metadata": {},
   "source": [
    "## Exercice 2 - Authentification et API Le Seigneur des Anneaux\n",
    "\n",
    "- [Documentation](https://the-one-api.dev/documentation)\n",
    "- Attention ! Pas plus de 100 requêtes toutes les 10 minutes (utiliser `time.sleep()` entre les requêtes si nécessaire\n",
    "- A part pour l'endpoint `/book` qui renvoie la liste des livres, il faut être authentifié\n",
    "\n",
    "- 1. Inscrivez-vous en créant un compte [ici](https://the-one-api.dev/sign-up)\n",
    "\n",
    "- 2. Faites une requête pour rapatrier la liste de tous les livres (cf exemple)\n",
    "\n",
    "- 3. Créer la liste de tous les personnages\n",
    "\n",
    "- 4. Créer la liste de tous les personnages qui ne sont pas des humains"
   ]
  },
  {
   "cell_type": "code",
   "execution_count": 6,
   "metadata": {},
   "outputs": [],
   "source": [
    "# Liste de tous les livres\n",
    "from pprint import pprint\n",
    "url = \"https://the-one-api.dev/v2/book\"\n",
    "r = requests.get(url)\n",
    "json_data = r.json()\n",
    "# print(json_data)"
   ]
  },
  {
   "cell_type": "code",
   "execution_count": 7,
   "metadata": {},
   "outputs": [
    {
     "name": "stdout",
     "output_type": "stream",
     "text": [
      "{'_id': '5cd99d4bde30eff6ebccfcec',\n",
      " 'birth': 'YT 1300',\n",
      " 'death': 'FA 465',\n",
      " 'gender': 'Male',\n",
      " 'hair': 'Golden',\n",
      " 'height': '',\n",
      " 'name': 'Finrod',\n",
      " 'race': 'Elf',\n",
      " 'realm': '',\n",
      " 'spouse': 'Loved ,Amarië but they never married',\n",
      " 'wikiUrl': 'http://lotr.wikia.com//wiki/Finrod'}\n"
     ]
    }
   ],
   "source": [
    "url = \"https://the-one-api.dev/v2/character\"\n",
    "headers = {\"Authorization\" : \"Bearer RUVQlI4E6uYyx4yIWr_O\"} # Remplacer XXXXXXXXXXXX par la clef affichée lors de l'inscription \n",
    "                                                    # (ou disponible sur le site dans la rubrique account en haut à droite)\n",
    "r = requests.get(url, headers=headers)\n",
    "json_data = r.json()\n",
    "pprint(json_data[\"docs\"][300])"
   ]
  },
  {
   "cell_type": "markdown",
   "metadata": {},
   "source": [
    "## A faire après TP Pandas\n",
    "\n",
    "## Exercice 3 - API Yahoo Finance\n",
    "\n",
    "- Inspiré de : [Free Stock Data for Python Using Yahoo Finance API - Towards Data Science](https://towardsdatascience.com/free-stock-data-for-python-using-yahoo-finance-api-9dafd96cad2e)\n",
    "\n",
    "- Attention, l'API de Yahoo Finance a des limites de nombres de requêtes depuis une même adresse IP par intervalle de temps (2000 / heure par adresse IP)"
   ]
  },
  {
   "cell_type": "code",
   "execution_count": 138,
   "metadata": {},
   "outputs": [
    {
     "name": "stdout",
     "output_type": "stream",
     "text": [
      "{'52WeekChange': 0.5,\n",
      " 'SandP52WeekChange': 0.11612284,\n",
      " 'address1': 'One Microsoft Way',\n",
      " 'algorithm': None,\n",
      " 'annualHoldingsTurnover': None,\n",
      " 'annualReportExpenseRatio': None,\n",
      " 'ask': 221.93,\n",
      " 'askSize': 1000,\n",
      " 'averageDailyVolume10Day': 36750262,\n",
      " 'averageVolume': 31764006,\n",
      " 'averageVolume10days': 36750262,\n",
      " 'beta': 0.868094,\n",
      " 'beta3Year': None,\n",
      " 'bid': 220.65,\n",
      " 'bidSize': 1300,\n",
      " 'bookValue': 16.313,\n",
      " 'category': None,\n",
      " 'circulatingSupply': None,\n",
      " 'city': 'Redmond',\n",
      " 'companyOfficers': [],\n",
      " 'country': 'United States',\n",
      " 'currency': 'USD',\n",
      " 'dateShortInterest': 1602720000,\n",
      " 'dayHigh': 218.31,\n",
      " 'dayLow': 212.4185,\n",
      " 'dividendRate': 2.24,\n",
      " 'dividendYield': 0.0104,\n",
      " 'earningsQuarterlyGrowth': 0.301,\n",
      " 'enterpriseToEbitda': 23.212,\n",
      " 'enterpriseToRevenue': 10.749,\n",
      " 'enterpriseValue': 1581282754560,\n",
      " 'exDividendDate': 1605657600,\n",
      " 'exchange': 'NMS',\n",
      " 'exchangeTimezoneName': 'America/New_York',\n",
      " 'exchangeTimezoneShortName': 'EST',\n",
      " 'expireDate': None,\n",
      " 'fiftyDayAverage': 210.15778,\n",
      " 'fiftyTwoWeekHigh': 232.86,\n",
      " 'fiftyTwoWeekLow': 132.52,\n",
      " 'fiveYearAverageReturn': None,\n",
      " 'fiveYearAvgDividendYield': 1.78,\n",
      " 'floatShares': 7448978653,\n",
      " 'forwardEps': 7.46,\n",
      " 'forwardPE': 29.006702,\n",
      " 'fromCurrency': None,\n",
      " 'fullTimeEmployees': 163000,\n",
      " 'fundFamily': None,\n",
      " 'fundInceptionDate': None,\n",
      " 'gmtOffSetMilliseconds': '-18000000',\n",
      " 'heldPercentInsiders': 0.00074,\n",
      " 'heldPercentInstitutions': 0.72632,\n",
      " 'industry': 'Software—Infrastructure',\n",
      " 'isEsgPopulated': False,\n",
      " 'lastCapGain': None,\n",
      " 'lastDividendDate': 1597795200,\n",
      " 'lastDividendValue': 0.51,\n",
      " 'lastFiscalYearEnd': 1593475200,\n",
      " 'lastMarket': None,\n",
      " 'lastSplitDate': 1045526400,\n",
      " 'lastSplitFactor': '2:1',\n",
      " 'legalType': None,\n",
      " 'logo_url': 'https://logo.clearbit.com/microsoft.com',\n",
      " 'longBusinessSummary': 'Microsoft Corporation develops, licenses, and '\n",
      "                        'supports software, services, devices, and solutions '\n",
      "                        'worldwide. Its Productivity and Business Processes '\n",
      "                        'segment offers Office, Exchange, SharePoint, '\n",
      "                        'Microsoft Teams, Office 365 Security and Compliance, '\n",
      "                        'and Skype for Business, as well as related Client '\n",
      "                        'Access Licenses (CAL); Skype, Outlook.com, and '\n",
      "                        'OneDrive; LinkedIn that includes Talent, Learning, '\n",
      "                        'Sales, and Marketing solutions, as well as premium '\n",
      "                        'subscriptions; and Dynamics 365, a set of cloud-based '\n",
      "                        'and on-premises business solutions for small and '\n",
      "                        'medium businesses, large organizations, and divisions '\n",
      "                        'of enterprises. Its Intelligent Cloud segment '\n",
      "                        'licenses SQL and Windows Servers, Visual Studio, '\n",
      "                        'System Center, and related CALs; GitHub that provides '\n",
      "                        'a collaboration platform and code hosting service for '\n",
      "                        'developers; and Azure, a cloud platform. It also '\n",
      "                        'offers support services and Microsoft consulting '\n",
      "                        'services to assist customers in developing, '\n",
      "                        'deploying, and managing Microsoft server and desktop '\n",
      "                        'solutions; and training and certification to '\n",
      "                        'developers and IT professionals on various Microsoft '\n",
      "                        'products. Its More Personal Computing segment '\n",
      "                        'provides Windows original equipment manufacturer '\n",
      "                        '(OEM) licensing and other non-volume licensing of the '\n",
      "                        'Windows operating system; Windows Commercial, such as '\n",
      "                        'volume licensing of the Windows operating system, '\n",
      "                        'Windows cloud services, and other Windows commercial '\n",
      "                        'offerings; patent licensing; Windows Internet of '\n",
      "                        'Things; and MSN advertising. It also offers Surface, '\n",
      "                        'PC accessories, PCs, tablets, gaming and '\n",
      "                        'entertainment consoles, and other intelligent '\n",
      "                        'devices; Gaming, including Xbox hardware, and Xbox '\n",
      "                        'content and services; video games and third-party '\n",
      "                        'video game royalties; and Search, including Bing and '\n",
      "                        'Microsoft advertising. It sells its products through '\n",
      "                        'OEMs, distributors, and resellers; and directly '\n",
      "                        'through digital marketplaces, online stores, and '\n",
      "                        'retail stores. The company was founded in 1975 and is '\n",
      "                        'headquartered in Redmond, Washington.',\n",
      " 'longName': 'Microsoft Corporation',\n",
      " 'market': 'us_market',\n",
      " 'marketCap': 1636016586752,\n",
      " 'maxAge': 1,\n",
      " 'maxSupply': None,\n",
      " 'messageBoardId': 'finmb_21835',\n",
      " 'morningStarOverallRating': None,\n",
      " 'morningStarRiskRating': None,\n",
      " 'mostRecentQuarter': 1601424000,\n",
      " 'navPrice': None,\n",
      " 'netIncomeToCommon': 47495999488,\n",
      " 'nextFiscalYearEnd': 1656547200,\n",
      " 'open': 214.02,\n",
      " 'openInterest': None,\n",
      " 'payoutRatio': 0.32900003,\n",
      " 'pegRatio': 2.2,\n",
      " 'phone': '425-882-8080',\n",
      " 'previousClose': 206.43,\n",
      " 'priceHint': 2,\n",
      " 'priceToBook': 13.264881,\n",
      " 'priceToSalesTrailing12Months': 11.12074,\n",
      " 'profitMargins': 0.32285,\n",
      " 'quoteType': 'EQUITY',\n",
      " 'regularMarketDayHigh': 218.31,\n",
      " 'regularMarketDayLow': 212.4185,\n",
      " 'regularMarketOpen': 214.02,\n",
      " 'regularMarketPreviousClose': 206.43,\n",
      " 'regularMarketPrice': 214.02,\n",
      " 'regularMarketVolume': 42311777,\n",
      " 'revenueQuarterlyGrowth': None,\n",
      " 'sector': 'Technology',\n",
      " 'sharesOutstanding': 7560500224,\n",
      " 'sharesPercentSharesOut': 0.0046,\n",
      " 'sharesShort': 35046001,\n",
      " 'sharesShortPreviousMonthDate': 1600128000,\n",
      " 'sharesShortPriorMonth': 37794303,\n",
      " 'shortName': 'Microsoft Corporation',\n",
      " 'shortPercentOfFloat': 0.0046,\n",
      " 'shortRatio': 1.17,\n",
      " 'startDate': None,\n",
      " 'state': 'WA',\n",
      " 'strikePrice': None,\n",
      " 'symbol': 'MSFT',\n",
      " 'threeYearAverageReturn': None,\n",
      " 'toCurrency': None,\n",
      " 'totalAssets': None,\n",
      " 'tradeable': False,\n",
      " 'trailingAnnualDividendRate': 2.09,\n",
      " 'trailingAnnualDividendYield': 0.010124497,\n",
      " 'trailingEps': 6.199,\n",
      " 'trailingPE': 34.90724,\n",
      " 'twoHundredDayAverage': 201.4285,\n",
      " 'volume': 42311777,\n",
      " 'volume24Hr': None,\n",
      " 'volumeAllCurrencies': None,\n",
      " 'website': 'http://www.microsoft.com',\n",
      " 'yield': None,\n",
      " 'ytdReturn': None,\n",
      " 'zip': '98052-6399'}\n"
     ]
    }
   ],
   "source": [
    "import yfinance as yf\n",
    "\n",
    "msft = yf.Ticker(\"MSFT\")\n",
    "\n",
    "# get stock info\n",
    "pprint(msft.info)\n",
    "\n",
    "# get historical market data\n",
    "hist = msft.history(period=\"5d\")"
   ]
  },
  {
   "cell_type": "markdown",
   "metadata": {},
   "source": [
    "## A faire après TP BeautifulSoup\n",
    "## Exercice 4 - API Wikipedia "
   ]
  },
  {
   "cell_type": "code",
   "execution_count": 142,
   "metadata": {},
   "outputs": [
    {
     "data": {
      "text/plain": [
       "{'batchcomplete': '',\n",
       " 'warnings': {'extracts': {'*': 'HTML may be malformed and/or unbalanced and may omit inline images. Use at your own risk. Known problems are listed at https://www.mediawiki.org/wiki/Special:MyLanguage/Extension:TextExtracts#Caveats.'}},\n",
       " 'query': {'pages': {'5225': {'pageid': 5225,\n",
       "    'ns': 0,\n",
       "    'title': 'Code',\n",
       "    'extract': '<p>In communications and information processing, <b>code</b> is a system of rules to convert information—such as a letter, word, sound, image, or gesture—into another form, sometimes shortened or secret, for communication through a communication channel or storage in a storage medium. An early example is the invention of language, which enabled a person, through speech, to communicate what they thought, saw, heard or felt to others. But speech limits the range of communication to the distance a voice can carry, and limits the audience to those present when the speech is uttered . The invention of writing, which converted spoken language into visual symbols, extended the range of communication across space and time.\\n</p><p>The process of <b>encoding</b> converts information from a source into symbols for communication or storage. <b>Decoding</b> is the reverse process, converting code symbols back into a form that the recipient understands, such as English or/and Spanish.\\n</p><p>One reason for coding is to enable communication in places where ordinary plain language, spoken or written, is difficult or impossible. For example, semaphore, where the configuration of flags held by a signaler or the arms of a semaphore tower encodes parts of the message, typically individual letters and numbers. Another person standing a great distance away can interpret the flags and reproduce the words sent.\\n</p>'}}}}"
      ]
     },
     "execution_count": 142,
     "metadata": {},
     "output_type": "execute_result"
    }
   ],
   "source": [
    "# Cette url \n",
    "mot_clef = \"Code\"\n",
    "url = f\"https://en.wikipedia.org/w/api.php?action=query&prop=extracts&format=json&exintro=&titles={mot_clef}\"\n",
    "# Package the request, send the request and catch the response: r\n",
    "r = requests.get(url)\n",
    "\n",
    "# Decode the JSON data into a dictionary: json_data\n",
    "json_data = r.json()\n",
    "json_data\n",
    "\n",
    "# RUVQlI4E6uYyx4yIWr_O\n"
   ]
  }
 ],
 "metadata": {
  "kernelspec": {
   "display_name": "Python 3",
   "language": "python",
   "name": "python3"
  },
  "language_info": {
   "codemirror_mode": {
    "name": "ipython",
    "version": 3
   },
   "file_extension": ".py",
   "mimetype": "text/x-python",
   "name": "python",
   "nbconvert_exporter": "python",
   "pygments_lexer": "ipython3",
   "version": "3.8.6"
  }
 },
 "nbformat": 4,
 "nbformat_minor": 4
}
