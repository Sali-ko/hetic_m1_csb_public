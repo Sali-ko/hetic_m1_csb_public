{
 "cells": [
  {
   "cell_type": "code",
   "execution_count": 1,
   "metadata": {},
   "outputs": [],
   "source": [
    "import csv\n",
    "import ast"
   ]
  },
  {
   "cell_type": "code",
   "execution_count": null,
   "metadata": {},
   "outputs": [],
   "source": [
    "with open(\"file.text\", \"r\") as f:\n",
    "    "
   ]
  },
  {
   "cell_type": "code",
   "execution_count": 7,
   "metadata": {},
   "outputs": [
    {
     "name": "stdout",
     "output_type": "stream",
     "text": [
      "invalid literal for int() with base 10: 'AZ'\n"
     ]
    },
    {
     "data": {
      "text/plain": [
       "False"
      ]
     },
     "execution_count": 7,
     "metadata": {},
     "output_type": "execute_result"
    }
   ],
   "source": [
    "try:\n",
    "    int(\"AZ\")\n",
    "except Exception as e:\n",
    "    print(e)\n",
    "    \n",
    "    \n",
    "import datetime \n",
    "    \n",
    "    \n",
    "def check_bissextile(year):\n",
    "    try:\n",
    "        datetime.datetime(year, 2, 29)\n",
    "        return True\n",
    "    except:\n",
    "        return False\n",
    "    \n",
    "check_bissextile(2019)"
   ]
  },
  {
   "cell_type": "code",
   "execution_count": null,
   "metadata": {},
   "outputs": [],
   "source": [
    "check_bissextile()"
   ]
  },
  {
   "cell_type": "code",
   "execution_count": 2,
   "metadata": {},
   "outputs": [],
   "source": [
    "def checkFileExistance(filePath):\n",
    "    try:\n",
    "        with open(filePath, 'r') as f:\n",
    "            return True\n",
    "    except:\n",
    "        return False\n",
    "    \n",
    "   # except FileNotFoundError as e:\n",
    "         #print(e)\n",
    "   #     return False\n",
    "   # except IOError as e:\n",
    "  # https://docs.python.org/2/library/exceptions.html\n",
    "   #     return False\n",
    "\n",
    "def convert_str_num(mon_carac):\n",
    "    try:\n",
    "        return ast.literal_eval(mon_carac)\n",
    "    except ValueError as e:\n",
    "        return mon_carac\n",
    "    except SyntaxError as s:\n",
    "        return mon_carac\n",
    "    \n",
    "    \n",
    "class CsvReader:\n",
    "    def __init__(self, file_path):\n",
    "        if (checkFileExistance(file_path)):\n",
    "            self.file_path = file_path\n",
    "            self.liste = None\n",
    "        else:\n",
    "            raise FileNotFoundError(f\"le fichier {file_path} n'existe pas\")\n",
    "    \n",
    "    def parse(self):\n",
    "        liste_parse = []\n",
    "        with open(self.file_path, mode='r') as csv_file:\n",
    "            csv_reader = csv.reader(csv_file, delimiter=\",\")\n",
    "            for row in csv_reader:\n",
    "                liste_parse.append(list(map(convert_str_num, row)))\n",
    "        self.liste = liste_parse\n",
    "    \n",
    "    def print_liste(self):\n",
    "        print(self.liste)"
   ]
  },
  {
   "cell_type": "code",
   "execution_count": 1,
   "metadata": {},
   "outputs": [
    {
     "name": "stdout",
     "output_type": "stream",
     "text": [
      "Loic\n",
      "Note : 1\n"
     ]
    }
   ],
   "source": [
    "import random\n",
    "\n",
    "class Personne:\n",
    "    def __init__(self, nom, prenom, age):\n",
    "        self.nom = nom\n",
    "        self.prenom = prenom\n",
    "        self.age = age\n",
    "        \n",
    "class Lyceen(Personne):\n",
    "    def __init__(self, nom, prenom, age, classe):\n",
    "        super().__init__(nom, prenom,age)\n",
    "        self.classe = classe\n",
    "    \n",
    "    def veillir(self):\n",
    "        self.age += 1\n",
    "        print(self.age)\n",
    "\n",
    "class Enseignant(Personne):\n",
    "    def __init__(self, nom, prenom, age, matiere):\n",
    "        super().__init__(nom, prenom,age)\n",
    "        self.matiere = matiere\n",
    "        \n",
    "    def noter_lyceen(self, name):\n",
    "        print(name)\n",
    "        note = random.randint(0,20)\n",
    "        print(\"Note :\", note)\n",
    "\n",
    "ens = Enseignant(\"Charles\", \"Henri\", 45, \"Histoire Géo\")\n",
    "lyc = Lyceen('Loic', 'Amiand', 30, 'MD4')\n",
    "ens.noter_lyceen(lyc.nom)"
   ]
  },
  {
   "cell_type": "code",
   "execution_count": 2,
   "metadata": {},
   "outputs": [
    {
     "name": "stdout",
     "output_type": "stream",
     "text": [
      "Loic\n",
      "Note : 5\n",
      "Loic\n",
      "Note : 19\n",
      "Loic\n",
      "Note : 18\n",
      "Loic\n",
      "Note : 1\n",
      "Loic\n",
      "Note : 9\n",
      "Loic\n",
      "Note : 18\n",
      "Loic\n",
      "Note : 16\n",
      "Loic\n",
      "Note : 20\n",
      "Loic\n",
      "Note : 19\n",
      "Loic\n",
      "Note : 14\n",
      "Loic\n",
      "Note : 12\n",
      "Loic\n",
      "Note : 4\n",
      "Loic\n",
      "Note : 7\n",
      "Loic\n",
      "Note : 8\n",
      "Loic\n",
      "Note : 13\n",
      "Loic\n",
      "Note : 15\n",
      "Loic\n",
      "Note : 8\n",
      "Loic\n",
      "Note : 5\n",
      "Loic\n",
      "Note : 20\n",
      "Loic\n",
      "Note : 0\n",
      "Loic\n",
      "Note : 7\n",
      "Loic\n",
      "Note : 13\n",
      "Loic\n",
      "Note : 14\n",
      "Loic\n",
      "Note : 8\n",
      "Loic\n",
      "Note : 13\n",
      "Loic\n",
      "Note : 10\n",
      "Loic\n",
      "Note : 1\n",
      "Loic\n",
      "Note : 11\n",
      "Loic\n",
      "Note : 12\n",
      "Loic\n",
      "Note : 13\n",
      "Loic\n",
      "Note : 3\n",
      "Loic\n",
      "Note : 6\n",
      "Loic\n",
      "Note : 16\n",
      "Loic\n",
      "Note : 15\n",
      "Loic\n",
      "Note : 0\n",
      "Loic\n",
      "Note : 5\n",
      "Loic\n",
      "Note : 0\n",
      "Loic\n",
      "Note : 12\n",
      "Loic\n",
      "Note : 9\n",
      "Loic\n",
      "Note : 3\n",
      "Loic\n",
      "Note : 5\n",
      "Loic\n",
      "Note : 5\n",
      "Loic\n",
      "Note : 12\n",
      "Loic\n",
      "Note : 6\n",
      "Loic\n",
      "Note : 2\n",
      "Loic\n",
      "Note : 7\n",
      "Loic\n",
      "Note : 14\n",
      "Loic\n",
      "Note : 11\n",
      "Loic\n",
      "Note : 8\n",
      "Loic\n",
      "Note : 10\n",
      "Loic\n",
      "Note : 18\n",
      "Loic\n",
      "Note : 8\n",
      "Loic\n",
      "Note : 20\n",
      "Loic\n",
      "Note : 12\n",
      "Loic\n",
      "Note : 13\n",
      "Loic\n",
      "Note : 19\n",
      "Loic\n",
      "Note : 8\n",
      "Loic\n",
      "Note : 10\n",
      "Loic\n",
      "Note : 11\n",
      "Loic\n",
      "Note : 15\n",
      "Loic\n",
      "Note : 0\n",
      "Loic\n",
      "Note : 12\n",
      "Loic\n",
      "Note : 17\n",
      "Loic\n",
      "Note : 2\n",
      "Loic\n",
      "Note : 20\n",
      "Loic\n",
      "Note : 20\n",
      "Loic\n",
      "Note : 15\n",
      "Loic\n",
      "Note : 11\n",
      "Loic\n",
      "Note : 2\n",
      "Loic\n",
      "Note : 2\n",
      "Loic\n",
      "Note : 13\n",
      "Loic\n",
      "Note : 8\n",
      "Loic\n",
      "Note : 1\n",
      "Loic\n",
      "Note : 14\n",
      "Loic\n",
      "Note : 20\n",
      "Loic\n",
      "Note : 16\n",
      "Loic\n",
      "Note : 16\n",
      "Loic\n",
      "Note : 16\n",
      "Loic\n",
      "Note : 11\n",
      "Loic\n",
      "Note : 6\n",
      "Loic\n",
      "Note : 5\n",
      "Loic\n",
      "Note : 2\n",
      "Loic\n",
      "Note : 16\n",
      "Loic\n",
      "Note : 7\n",
      "Loic\n",
      "Note : 5\n",
      "Loic\n",
      "Note : 3\n",
      "Loic\n",
      "Note : 13\n",
      "Loic\n",
      "Note : 14\n",
      "Loic\n",
      "Note : 10\n",
      "Loic\n",
      "Note : 20\n",
      "Loic\n",
      "Note : 19\n",
      "Loic\n",
      "Note : 5\n",
      "Loic\n",
      "Note : 18\n",
      "Loic\n",
      "Note : 20\n",
      "Loic\n",
      "Note : 13\n",
      "Loic\n",
      "Note : 13\n",
      "Loic\n",
      "Note : 20\n",
      "Loic\n",
      "Note : 9\n",
      "Loic\n",
      "Note : 15\n",
      "Loic\n",
      "Note : 18\n"
     ]
    }
   ],
   "source": [
    "for _ in range(100):\n",
    "    ens = Enseignant(\"Charles\", \"Henri\", 45, \"Histoire Géo\")\n",
    "    lyc = Lyceen('Loic', 'Amiand', 30, 'MD4')\n",
    "    ens.noter_lyceen(lyc.nom)\n",
    "    "
   ]
  },
  {
   "cell_type": "code",
   "execution_count": 114,
   "metadata": {},
   "outputs": [],
   "source": [
    "class JeuMonthy: \n",
    "    def __init__(self, user):\n",
    "        self.choix = (\"1\", \"2\", \"3\")\n",
    "        self.score = 0 \n",
    "        self.user = user\n",
    "        \n",
    "    def preparer_jeu(self): \n",
    "        \"\"\"Prépare le jeu en choisissant une bonne porte\"\"\"\n",
    "        self.bonne_porte = random.choice(self.choix)\n",
    "        print(f\"La bonne porte est {self.bonne_porte}\")\n",
    "        \n",
    "        \n",
    "    def input_premier_choix_utilisateur(self):  \n",
    "        \"\"\"Demande à l'utilisateur son premier choix - en vérifiant qu'il est correct.\n",
    "           Un input est correct s'il est dans la liste de choix (1, 2, 3)\"\"\"\n",
    "        \n",
    "        print(\"Veuillez saisir une des trois portes 1, 2, 3\")\n",
    "        self.premier_choix_utilisateur = input()\n",
    "            \n",
    "        while self.premier_choix_utilisateur not in self.choix:\n",
    "            print(\"Veuillez saisir une des trois portes 1, 2, 3\")\n",
    "            self.premier_choix_utilisateur = input()\n",
    "            \n",
    "    def input_premier_choix_ia_change_jamais(self):\n",
    "        self.premier_choix_utilisateur = random.choice(self.choix)\n",
    "            \n",
    "            \n",
    "    def exclure_porte(self):\n",
    "        \"\"\"Permet d'exclure une bonne derrière laquelle est une chèvre et non choisie par l'utilisateur\"\"\"\n",
    "        \n",
    "        self.mauvaises_portes = [porte for porte in self.choix if porte != self.bonne_porte]\n",
    "        \n",
    "        # Si la porte choisit est la bonne, on en exclut une au hasard\n",
    "        if self.bonne_porte == self.premier_choix_utilisateur:\n",
    "            self.porte_exclue = random.choice(self.mauvaises_portes)\n",
    "            \n",
    "        # Sinon, on choisit la porte qui n'est ni la bonne, ni celle choisie par l'utilisateur\n",
    "        else:\n",
    "            self.porte_exclue = [porte for porte in self.mauvaises_portes if porte != self.premier_choix_utilisateur][0]\n",
    "            \n",
    "        print(f\"La porte exclue est la porte {self.porte_exclue}\")\n",
    "        \n",
    "        \n",
    "    def input_second_choix_utilisateur(self):\n",
    "        \n",
    "        self.deuxieme_choix = [porte for porte in self.choix if porte != self.porte_exclue]\n",
    "        print(f\"Veuillez saisir une des portes {', '.join(self.deuxieme_choix)}\")\n",
    "        self.deuxieme_choix_utilisateur = input()\n",
    "            \n",
    "        while self.deuxieme_choix_utilisateur not in self.deuxieme_choix:\n",
    "            print(f\"Veuillez saisir une des portes {', '.join(self.deuxieme_choix)}\")\n",
    "            self.deuxieme_choix_utilisateur = input()\n",
    "        \n",
    "        \n",
    "    def verifier_si_deuxieme_choix_correct(self):\n",
    "        victoire = self.deuxieme_choix_utilisateur == self.bonne_porte\n",
    "        if victoire:\n",
    "            print(\"Vous avez gagné\")\n",
    "        else:\n",
    "            print(\"Vous n'avez pas gagné\")\n",
    "        return \n",
    "            \n",
    "            \n",
    "    def jouer_jeu(self):\n",
    "        \"\"\"Permet de jouer au jeu\"\"\"\n",
    "        self.preparer_jeu()\n",
    "        print(\"OK\")\n",
    "        \n",
    "        if self.user == \"human\":\n",
    "            self.input_premier_choix_utilisateur()\n",
    "            \n",
    "        elif self.user == \"ia_change_jamais\":\n",
    "            self.input_premier_choix_ia_change_jamais()\n",
    "            \n",
    "        elif self.user == \"ia_change_toujours\":\n",
    "            pass\n",
    "            \n",
    "        self.exclure_porte()\n",
    "        \n",
    "        if self.user == \"human\":\n",
    "            self.input_second_choix_utilisateur()\n",
    "            self.verifier_si_deuxieme_choix_correct()\n",
    "            \n",
    "        elif self.user  == \"ia_change_jamais\":\n",
    "            pass"
   ]
  },
  {
   "cell_type": "code",
   "execution_count": 116,
   "metadata": {},
   "outputs": [
    {
     "name": "stdout",
     "output_type": "stream",
     "text": [
      "La bonne porte est 3\n",
      "OK\n",
      "La porte exclue est la porte 1\n"
     ]
    }
   ],
   "source": [
    "jeu_monthy = JeuMonthy(user=\"ia_change_jamais\")\n",
    "jeu_monthy.jouer_jeu()"
   ]
  },
  {
   "cell_type": "code",
   "execution_count": 48,
   "metadata": {},
   "outputs": [
    {
     "name": "stdout",
     "output_type": "stream",
     "text": [
      "1\n"
     ]
    },
    {
     "name": "stdin",
     "output_type": "stream",
     "text": [
      " az\n"
     ]
    },
    {
     "name": "stdout",
     "output_type": "stream",
     "text": [
      "Veuillez saisir une des trois portes 1, 2, 3\n"
     ]
    },
    {
     "name": "stdin",
     "output_type": "stream",
     "text": [
      " DF\n"
     ]
    },
    {
     "name": "stdout",
     "output_type": "stream",
     "text": [
      "Veuillez saisir une des trois portes 1, 2, 3\n"
     ]
    },
    {
     "name": "stdin",
     "output_type": "stream",
     "text": [
      " 5\n"
     ]
    },
    {
     "name": "stdout",
     "output_type": "stream",
     "text": [
      "Veuillez saisir une des trois portes 1, 2, 3\n"
     ]
    },
    {
     "name": "stdin",
     "output_type": "stream",
     "text": [
      " 6\n"
     ]
    },
    {
     "name": "stdout",
     "output_type": "stream",
     "text": [
      "Veuillez saisir une des trois portes 1, 2, 3\n"
     ]
    },
    {
     "name": "stdin",
     "output_type": "stream",
     "text": [
      " 7\n"
     ]
    },
    {
     "name": "stdout",
     "output_type": "stream",
     "text": [
      "Veuillez saisir une des trois portes 1, 2, 3\n"
     ]
    },
    {
     "name": "stdin",
     "output_type": "stream",
     "text": [
      " 8\n"
     ]
    },
    {
     "name": "stdout",
     "output_type": "stream",
     "text": [
      "Veuillez saisir une des trois portes 1, 2, 3\n"
     ]
    },
    {
     "ename": "KeyboardInterrupt",
     "evalue": "Interrupted by user",
     "output_type": "error",
     "traceback": [
      "\u001b[0;31m---------------------------------------------------------------------------\u001b[0m",
      "\u001b[0;31mKeyboardInterrupt\u001b[0m                         Traceback (most recent call last)",
      "\u001b[0;32m<ipython-input-48-2ed2d222f7f6>\u001b[0m in \u001b[0;36m<module>\u001b[0;34m\u001b[0m\n\u001b[1;32m      1\u001b[0m \u001b[0mprint\u001b[0m\u001b[0;34m(\u001b[0m\u001b[0mjeu_monthy\u001b[0m\u001b[0;34m.\u001b[0m\u001b[0mbonne_porte\u001b[0m\u001b[0;34m)\u001b[0m\u001b[0;34m\u001b[0m\u001b[0;34m\u001b[0m\u001b[0m\n\u001b[0;32m----> 2\u001b[0;31m \u001b[0mjeu_monthy\u001b[0m\u001b[0;34m.\u001b[0m\u001b[0minput_premier_choix_utilisateur\u001b[0m\u001b[0;34m(\u001b[0m\u001b[0;34m)\u001b[0m\u001b[0;34m\u001b[0m\u001b[0;34m\u001b[0m\u001b[0m\n\u001b[0m",
      "\u001b[0;32m<ipython-input-46-95a256212a60>\u001b[0m in \u001b[0;36minput_premier_choix_utilisateur\u001b[0;34m(self)\u001b[0m\n\u001b[1;32m     14\u001b[0m         \u001b[0;32mwhile\u001b[0m \u001b[0mself\u001b[0m\u001b[0;34m.\u001b[0m\u001b[0mpremier_choix_utilisateur\u001b[0m \u001b[0;32mnot\u001b[0m \u001b[0;32min\u001b[0m \u001b[0mself\u001b[0m\u001b[0;34m.\u001b[0m\u001b[0mchoix\u001b[0m\u001b[0;34m:\u001b[0m\u001b[0;34m\u001b[0m\u001b[0;34m\u001b[0m\u001b[0m\n\u001b[1;32m     15\u001b[0m             \u001b[0mprint\u001b[0m\u001b[0;34m(\u001b[0m\u001b[0;34m\"Veuillez saisir une des trois portes 1, 2, 3\"\u001b[0m\u001b[0;34m)\u001b[0m\u001b[0;34m\u001b[0m\u001b[0;34m\u001b[0m\u001b[0m\n\u001b[0;32m---> 16\u001b[0;31m             \u001b[0mself\u001b[0m\u001b[0;34m.\u001b[0m\u001b[0mpremier_choix_utilisateur\u001b[0m \u001b[0;34m=\u001b[0m \u001b[0minput\u001b[0m\u001b[0;34m(\u001b[0m\u001b[0;34m)\u001b[0m\u001b[0;34m\u001b[0m\u001b[0;34m\u001b[0m\u001b[0m\n\u001b[0m\u001b[1;32m     17\u001b[0m \u001b[0;34m\u001b[0m\u001b[0m\n\u001b[1;32m     18\u001b[0m \u001b[0;34m\u001b[0m\u001b[0m\n",
      "\u001b[0;32m/usr/local/lib/python3.9/site-packages/ipykernel/kernelbase.py\u001b[0m in \u001b[0;36mraw_input\u001b[0;34m(self, prompt)\u001b[0m\n\u001b[1;32m    858\u001b[0m                 \u001b[0;34m\"raw_input was called, but this frontend does not support input requests.\"\u001b[0m\u001b[0;34m\u001b[0m\u001b[0;34m\u001b[0m\u001b[0m\n\u001b[1;32m    859\u001b[0m             )\n\u001b[0;32m--> 860\u001b[0;31m         return self._input_request(str(prompt),\n\u001b[0m\u001b[1;32m    861\u001b[0m             \u001b[0mself\u001b[0m\u001b[0;34m.\u001b[0m\u001b[0m_parent_ident\u001b[0m\u001b[0;34m,\u001b[0m\u001b[0;34m\u001b[0m\u001b[0;34m\u001b[0m\u001b[0m\n\u001b[1;32m    862\u001b[0m             \u001b[0mself\u001b[0m\u001b[0;34m.\u001b[0m\u001b[0m_parent_header\u001b[0m\u001b[0;34m,\u001b[0m\u001b[0;34m\u001b[0m\u001b[0;34m\u001b[0m\u001b[0m\n",
      "\u001b[0;32m/usr/local/lib/python3.9/site-packages/ipykernel/kernelbase.py\u001b[0m in \u001b[0;36m_input_request\u001b[0;34m(self, prompt, ident, parent, password)\u001b[0m\n\u001b[1;32m    902\u001b[0m             \u001b[0;32mexcept\u001b[0m \u001b[0mKeyboardInterrupt\u001b[0m\u001b[0;34m:\u001b[0m\u001b[0;34m\u001b[0m\u001b[0;34m\u001b[0m\u001b[0m\n\u001b[1;32m    903\u001b[0m                 \u001b[0;31m# re-raise KeyboardInterrupt, to truncate traceback\u001b[0m\u001b[0;34m\u001b[0m\u001b[0;34m\u001b[0m\u001b[0;34m\u001b[0m\u001b[0m\n\u001b[0;32m--> 904\u001b[0;31m                 \u001b[0;32mraise\u001b[0m \u001b[0mKeyboardInterrupt\u001b[0m\u001b[0;34m(\u001b[0m\u001b[0;34m\"Interrupted by user\"\u001b[0m\u001b[0;34m)\u001b[0m \u001b[0;32mfrom\u001b[0m \u001b[0;32mNone\u001b[0m\u001b[0;34m\u001b[0m\u001b[0;34m\u001b[0m\u001b[0m\n\u001b[0m\u001b[1;32m    905\u001b[0m             \u001b[0;32mexcept\u001b[0m \u001b[0mException\u001b[0m \u001b[0;32mas\u001b[0m \u001b[0me\u001b[0m\u001b[0;34m:\u001b[0m\u001b[0;34m\u001b[0m\u001b[0;34m\u001b[0m\u001b[0m\n\u001b[1;32m    906\u001b[0m                 \u001b[0mself\u001b[0m\u001b[0;34m.\u001b[0m\u001b[0mlog\u001b[0m\u001b[0;34m.\u001b[0m\u001b[0mwarning\u001b[0m\u001b[0;34m(\u001b[0m\u001b[0;34m\"Invalid Message:\"\u001b[0m\u001b[0;34m,\u001b[0m \u001b[0mexc_info\u001b[0m\u001b[0;34m=\u001b[0m\u001b[0;32mTrue\u001b[0m\u001b[0;34m)\u001b[0m\u001b[0;34m\u001b[0m\u001b[0;34m\u001b[0m\u001b[0m\n",
      "\u001b[0;31mKeyboardInterrupt\u001b[0m: Interrupted by user"
     ]
    }
   ],
   "source": [
    "print(jeu_monthy.bonne_porte)\n",
    "jeu_monthy.input_premier_choix_utilisateur()"
   ]
  },
  {
   "cell_type": "code",
   "execution_count": null,
   "metadata": {},
   "outputs": [],
   "source": []
  }
 ],
 "metadata": {
  "kernelspec": {
   "display_name": "Python 3",
   "language": "python",
   "name": "python3"
  },
  "language_info": {
   "codemirror_mode": {
    "name": "ipython",
    "version": 3
   },
   "file_extension": ".py",
   "mimetype": "text/x-python",
   "name": "python",
   "nbconvert_exporter": "python",
   "pygments_lexer": "ipython3",
   "version": "3.9.0"
  }
 },
 "nbformat": 4,
 "nbformat_minor": 4
}
