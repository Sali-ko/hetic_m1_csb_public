{
 "cells": [
  {
   "cell_type": "code",
   "execution_count": 1,
   "metadata": {},
   "outputs": [],
   "source": [
    "import csv\n",
    "import ast"
   ]
  },
  {
   "cell_type": "code",
   "execution_count": null,
   "metadata": {},
   "outputs": [],
   "source": [
    "with open(\"file.text\", \"r\") as f:\n",
    "    "
   ]
  },
  {
   "cell_type": "code",
   "execution_count": 7,
   "metadata": {},
   "outputs": [
    {
     "name": "stdout",
     "output_type": "stream",
     "text": [
      "invalid literal for int() with base 10: 'AZ'\n"
     ]
    },
    {
     "data": {
      "text/plain": [
       "False"
      ]
     },
     "execution_count": 7,
     "metadata": {},
     "output_type": "execute_result"
    }
   ],
   "source": [
    "try:\n",
    "    int(\"AZ\")\n",
    "except Exception as e:\n",
    "    print(e)\n",
    "    \n",
    "    \n",
    "import datetime \n",
    "    \n",
    "    \n",
    "def check_bissextile(year):\n",
    "    try:\n",
    "        datetime.datetime(year, 2, 29)\n",
    "        return True\n",
    "    except:\n",
    "        return False\n",
    "    \n",
    "check_bissextile(2019)"
   ]
  },
  {
   "cell_type": "code",
   "execution_count": null,
   "metadata": {},
   "outputs": [],
   "source": [
    "check_bissextile()"
   ]
  },
  {
   "cell_type": "code",
   "execution_count": 2,
   "metadata": {},
   "outputs": [],
   "source": [
    "def checkFileExistance(filePath):\n",
    "    try:\n",
    "        with open(filePath, 'r') as f:\n",
    "            return True\n",
    "    except:\n",
    "        return False\n",
    "    \n",
    "   # except FileNotFoundError as e:\n",
    "         #print(e)\n",
    "   #     return False\n",
    "   # except IOError as e:\n",
    "  # https://docs.python.org/2/library/exceptions.html\n",
    "   #     return False\n",
    "\n",
    "def convert_str_num(mon_carac):\n",
    "    try:\n",
    "        return ast.literal_eval(mon_carac)\n",
    "    except ValueError as e:\n",
    "        return mon_carac\n",
    "    except SyntaxError as s:\n",
    "        return mon_carac\n",
    "    \n",
    "    \n",
    "class CsvReader:\n",
    "    def __init__(self, file_path):\n",
    "        if (checkFileExistance(file_path)):\n",
    "            self.file_path = file_path\n",
    "            self.liste = None\n",
    "        else:\n",
    "            raise FileNotFoundError(f\"le fichier {file_path} n'existe pas\")\n",
    "    \n",
    "    def parse(self):\n",
    "        liste_parse = []\n",
    "        with open(self.file_path, mode='r') as csv_file:\n",
    "            csv_reader = csv.reader(csv_file, delimiter=\",\")\n",
    "            for row in csv_reader:\n",
    "                liste_parse.append(list(map(convert_str_num, row)))\n",
    "        self.liste = liste_parse\n",
    "    \n",
    "    def print_liste(self):\n",
    "        print(self.liste)"
   ]
  },
  {
   "cell_type": "code",
   "execution_count": null,
   "metadata": {},
   "outputs": [],
   "source": []
  }
 ],
 "metadata": {
  "kernelspec": {
   "display_name": "Python 3",
   "language": "python",
   "name": "python3"
  },
  "language_info": {
   "codemirror_mode": {
    "name": "ipython",
    "version": 3
   },
   "file_extension": ".py",
   "mimetype": "text/x-python",
   "name": "python",
   "nbconvert_exporter": "python",
   "pygments_lexer": "ipython3",
   "version": "3.9.0"
  }
 },
 "nbformat": 4,
 "nbformat_minor": 4
}
