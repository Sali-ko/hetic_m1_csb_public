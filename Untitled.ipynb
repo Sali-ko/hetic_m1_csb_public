{
 "cells": [
  {
   "cell_type": "code",
   "execution_count": 1,
   "metadata": {},
   "outputs": [],
   "source": [
    "import requests\n",
    "from pprint import pprint\n",
    "import json\n",
    "from functools import reduce\n",
    "\n",
    "\n",
    "r = requests.get(\"https://www.nosdeputes.fr/deputes/enmandat/json\")\n",
    "d = r.json()\n",
    "\n",
    "liste_partis = []\n",
    "liste_deputes_mandats = []\n",
    "liste_lien_twitter = []\n",
    "#print(d[\"deputes\"][100][\"depute\"][\"groupe_sigle\"])\n",
    "\n",
    "for depute in range(0,576):\n",
    "    \n",
    "    if d[\"deputes\"][depute][\"depute\"][\"groupe_sigle\"] not in liste_partis:\n",
    "        liste_partis.append(d[\"deputes\"][depute][\"depute\"][\"groupe_sigle\"])\n",
    "    \n",
    "    if d[\"deputes\"][depute][\"depute\"][\"autres_mandats\"]:\n",
    "        liste_deputes_mandats.append(d[\"deputes\"][depute][\"depute\"][\"nom\"])\n",
    "    "
   ]
  },
  {
   "cell_type": "code",
   "execution_count": 54,
   "metadata": {},
   "outputs": [],
   "source": [
    "r = requests.get(\"https://www.nosdeputes.fr/deputes/enmandat/json\")\n",
    "\n",
    "l_deputes = r.json()[\"deputes\"]\n",
    "\n",
    "liste_deputes_noms = []\n",
    "liste_deputes_autres_mandats_noms = []\n",
    "liste_twitter = []\n",
    "\n",
    "for dep in l_deputes:\n",
    "    \n",
    "    item = dep[\"depute\"]\n",
    "    liste_deputes_noms.append(item[\"nom\"])\n",
    "    \n",
    "    # Ps 0 : il y a déjà le mandat en tant que député\n",
    "    if item[\"nb_mandats\"] > 1 :\n",
    "        liste_deputes_autres_mandats_noms.append(item[\"nom\"])\n",
    "    \n",
    "    \n",
    "    sites = [list(x.values())[0] for x in item[\"sites_web\"]]\n",
    "    twitters = [site for site in sites if site.startswith(\"https://twitter\")]\n",
    "    \n",
    "    try:\n",
    "        twitter = twitters[0]\n",
    "        liste_twitter.append(twitter)\n",
    "    except:\n",
    "        pass"
   ]
  },
  {
   "cell_type": "code",
   "execution_count": 57,
   "metadata": {},
   "outputs": [
    {
     "data": {
      "text/plain": [
       "0.8784722222222222"
      ]
     },
     "execution_count": 57,
     "metadata": {},
     "output_type": "execute_result"
    }
   ],
   "source": [
    "len(liste_twitter) / len(liste_deputes_noms)"
   ]
  },
  {
   "cell_type": "code",
   "execution_count": 47,
   "metadata": {},
   "outputs": [],
   "source": [
    "item = l_deputes[0][\"depute\"]"
   ]
  },
  {
   "cell_type": "code",
   "execution_count": 48,
   "metadata": {},
   "outputs": [
    {
     "data": {
      "text/plain": [
       "['https://fr-fr.facebook.com/CRoussel06/',\n",
       " 'http://cedricroussel.en-marche.fr',\n",
       " 'https://twitter.com/CedricRoussel06',\n",
       " 'https://www.cedricroussel.fr']"
      ]
     },
     "execution_count": 48,
     "metadata": {},
     "output_type": "execute_result"
    }
   ],
   "source": [
    "[list(x.values())[0] for x in item[\"sites_web\"]]"
   ]
  },
  {
   "cell_type": "code",
   "execution_count": 53,
   "metadata": {},
   "outputs": [
    {
     "data": {
      "text/plain": [
       "['https://fr-fr.facebook.com/CRoussel06/',\n",
       " 'http://cedricroussel.en-marche.fr',\n",
       " 'https://twitter.com/CedricRoussel06',\n",
       " 'https://www.cedricroussel.fr']"
      ]
     },
     "execution_count": 53,
     "metadata": {},
     "output_type": "execute_result"
    }
   ],
   "source": [
    "[list(x.values())[0] for x in item[\"sites_web\"]]"
   ]
  },
  {
   "cell_type": "code",
   "execution_count": null,
   "metadata": {},
   "outputs": [],
   "source": [
    "l_twitter = []\n",
    "\n",
    "for i in range(len(d)):\n",
    "    sites = [list(x.values())[0] for x in d[i][\"depute\"][\"sites_web\"]]\n",
    "    twitters = [x for x in sites if x.startswith(\"https://twitter\")]\n",
    "    try:\n",
    "        twitter = twitters[0]\n",
    "        l_twitter.append(twitter)\n",
    "    except:\n",
    "        pass"
   ]
  },
  {
   "cell_type": "code",
   "execution_count": null,
   "metadata": {},
   "outputs": [],
   "source": []
  },
  {
   "cell_type": "code",
   "execution_count": 37,
   "metadata": {},
   "outputs": [],
   "source": [
    "r = requests.get(\"https://www.nosdeputes.fr/deputes/enmandat/json\")\n",
    "d = r.json()\n",
    "#pprint(d[\"deputes\"][:10])"
   ]
  },
  {
   "cell_type": "code",
   "execution_count": 42,
   "metadata": {},
   "outputs": [
    {
     "data": {
      "text/plain": [
       "list"
      ]
     },
     "execution_count": 42,
     "metadata": {},
     "output_type": "execute_result"
    }
   ],
   "source": [
    "type(d)\n",
    "d.keys()\n",
    "type(d[\"deputes\"])\n",
    "pprint(d[\"deputes\"][:3])"
   ]
  },
  {
   "cell_type": "code",
   "execution_count": 35,
   "metadata": {},
   "outputs": [],
   "source": [
    "r = requests.get(\"https://www.nosdeputes.fr/deputes/enmandat/json\")\n",
    "json_string = r.text\n",
    "\n",
    "# On convertit en string la datetime pour nommer le fichier\n",
    "filename = \"json_deputes.txt\"\n",
    "\n",
    "# On ouvre le fichier\n",
    "file = open(filename,\"w+\")\n",
    "\n",
    "# On écrit dans le fichier\n",
    "file.write(json_string)\n",
    "\n",
    "# On ferme le fichier\n",
    "file.close() "
   ]
  },
  {
   "cell_type": "code",
   "execution_count": null,
   "metadata": {},
   "outputs": [],
   "source": []
  },
  {
   "cell_type": "code",
   "execution_count": 8,
   "metadata": {},
   "outputs": [
    {
     "name": "stdout",
     "output_type": "stream",
     "text": [
      "<class 'list'>\n"
     ]
    },
    {
     "data": {
      "text/plain": [
       "576"
      ]
     },
     "execution_count": 8,
     "metadata": {},
     "output_type": "execute_result"
    }
   ],
   "source": [
    "d.keys()\n",
    "\n",
    "print(type(d[\"deputes\"]))\n",
    "\n",
    "len(d[\"deputes\"])"
   ]
  },
  {
   "cell_type": "code",
   "execution_count": null,
   "metadata": {},
   "outputs": [],
   "source": []
  }
 ],
 "metadata": {
  "kernelspec": {
   "display_name": "Python 3",
   "language": "python",
   "name": "python3"
  },
  "language_info": {
   "codemirror_mode": {
    "name": "ipython",
    "version": 3
   },
   "file_extension": ".py",
   "mimetype": "text/x-python",
   "name": "python",
   "nbconvert_exporter": "python",
   "pygments_lexer": "ipython3",
   "version": "3.9.0"
  }
 },
 "nbformat": 4,
 "nbformat_minor": 4
}
