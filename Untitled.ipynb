{
 "cells": [
  {
   "cell_type": "code",
   "execution_count": 1,
   "metadata": {},
   "outputs": [],
   "source": [
    "import requests\n",
    "from pprint import pprint\n",
    "import json\n",
    "from functools import reduce\n",
    "\n",
    "\n",
    "r = requests.get(\"https://www.nosdeputes.fr/deputes/enmandat/json\")\n",
    "d = r.json()\n",
    "\n",
    "liste_partis = []\n",
    "liste_deputes_mandats = []\n",
    "liste_lien_twitter = []\n",
    "#print(d[\"deputes\"][100][\"depute\"][\"groupe_sigle\"])\n",
    "\n",
    "for depute in range(0,576):\n",
    "    \n",
    "    if d[\"deputes\"][depute][\"depute\"][\"groupe_sigle\"] not in liste_partis:\n",
    "        liste_partis.append(d[\"deputes\"][depute][\"depute\"][\"groupe_sigle\"])\n",
    "    \n",
    "    if d[\"deputes\"][depute][\"depute\"][\"autres_mandats\"]:\n",
    "        liste_deputes_mandats.append(d[\"deputes\"][depute][\"depute\"][\"nom\"])\n",
    "    "
   ]
  },
  {
   "cell_type": "code",
   "execution_count": 54,
   "metadata": {},
   "outputs": [],
   "source": [
    "r = requests.get(\"https://www.nosdeputes.fr/deputes/enmandat/json\")\n",
    "\n",
    "l_deputes = r.json()[\"deputes\"]\n",
    "\n",
    "liste_deputes_noms = []\n",
    "liste_deputes_autres_mandats_noms = []\n",
    "liste_twitter = []\n",
    "\n",
    "for dep in l_deputes:\n",
    "    \n",
    "    item = dep[\"depute\"]\n",
    "    liste_deputes_noms.append(item[\"nom\"])\n",
    "    \n",
    "    # Ps 0 : il y a déjà le mandat en tant que député\n",
    "    if item[\"nb_mandats\"] > 1 :\n",
    "        liste_deputes_autres_mandats_noms.append(item[\"nom\"])\n",
    "    \n",
    "    \n",
    "    sites = [list(x.values())[0] for x in item[\"sites_web\"]]\n",
    "    twitters = [site for site in sites if site.startswith(\"https://twitter\")]\n",
    "    \n",
    "    try:\n",
    "        twitter = twitters[0]\n",
    "        liste_twitter.append(twitter)\n",
    "    except:\n",
    "        pass"
   ]
  },
  {
   "cell_type": "code",
   "execution_count": 57,
   "metadata": {},
   "outputs": [
    {
     "data": {
      "text/plain": [
       "0.8784722222222222"
      ]
     },
     "execution_count": 57,
     "metadata": {},
     "output_type": "execute_result"
    }
   ],
   "source": [
    "len(liste_twitter) / len(liste_deputes_noms)"
   ]
  },
  {
   "cell_type": "code",
   "execution_count": 47,
   "metadata": {},
   "outputs": [],
   "source": [
    "item = l_deputes[0][\"depute\"]"
   ]
  },
  {
   "cell_type": "code",
   "execution_count": 48,
   "metadata": {},
   "outputs": [
    {
     "data": {
      "text/plain": [
       "['https://fr-fr.facebook.com/CRoussel06/',\n",
       " 'http://cedricroussel.en-marche.fr',\n",
       " 'https://twitter.com/CedricRoussel06',\n",
       " 'https://www.cedricroussel.fr']"
      ]
     },
     "execution_count": 48,
     "metadata": {},
     "output_type": "execute_result"
    }
   ],
   "source": [
    "[list(x.values())[0] for x in item[\"sites_web\"]]"
   ]
  },
  {
   "cell_type": "code",
   "execution_count": 53,
   "metadata": {},
   "outputs": [
    {
     "data": {
      "text/plain": [
       "['https://fr-fr.facebook.com/CRoussel06/',\n",
       " 'http://cedricroussel.en-marche.fr',\n",
       " 'https://twitter.com/CedricRoussel06',\n",
       " 'https://www.cedricroussel.fr']"
      ]
     },
     "execution_count": 53,
     "metadata": {},
     "output_type": "execute_result"
    }
   ],
   "source": [
    "[list(x.values())[0] for x in item[\"sites_web\"]]"
   ]
  },
  {
   "cell_type": "code",
   "execution_count": null,
   "metadata": {},
   "outputs": [],
   "source": [
    "l_twitter = []\n",
    "\n",
    "for i in range(len(d)):\n",
    "    sites = [list(x.values())[0] for x in d[i][\"depute\"][\"sites_web\"]]\n",
    "    twitters = [x for x in sites if x.startswith(\"https://twitter\")]\n",
    "    try:\n",
    "        twitter = twitters[0]\n",
    "        l_twitter.append(twitter)\n",
    "    except:\n",
    "        pass"
   ]
  },
  {
   "cell_type": "code",
   "execution_count": null,
   "metadata": {},
   "outputs": [],
   "source": []
  },
  {
   "cell_type": "code",
   "execution_count": 37,
   "metadata": {},
   "outputs": [],
   "source": [
    "r = requests.get(\"https://www.nosdeputes.fr/deputes/enmandat/json\")\n",
    "d = r.json()\n",
    "#pprint(d[\"deputes\"][:10])"
   ]
  },
  {
   "cell_type": "code",
   "execution_count": 42,
   "metadata": {},
   "outputs": [
    {
     "data": {
      "text/plain": [
       "list"
      ]
     },
     "execution_count": 42,
     "metadata": {},
     "output_type": "execute_result"
    }
   ],
   "source": [
    "type(d)\n",
    "d.keys()\n",
    "type(d[\"deputes\"])\n",
    "pprint(d[\"deputes\"][:3])"
   ]
  },
  {
   "cell_type": "code",
   "execution_count": 35,
   "metadata": {},
   "outputs": [],
   "source": [
    "r = requests.get(\"https://www.nosdeputes.fr/deputes/enmandat/json\")\n",
    "json_string = r.text\n",
    "\n",
    "# On convertit en string la datetime pour nommer le fichier\n",
    "filename = \"json_deputes.txt\"\n",
    "\n",
    "# On ouvre le fichier\n",
    "file = open(filename,\"w+\")\n",
    "\n",
    "# On écrit dans le fichier\n",
    "file.write(json_string)\n",
    "\n",
    "# On ferme le fichier\n",
    "file.close() "
   ]
  },
  {
   "cell_type": "code",
   "execution_count": null,
   "metadata": {},
   "outputs": [],
   "source": []
  },
  {
   "cell_type": "code",
   "execution_count": 8,
   "metadata": {},
   "outputs": [
    {
     "name": "stdout",
     "output_type": "stream",
     "text": [
      "<class 'list'>\n"
     ]
    },
    {
     "data": {
      "text/plain": [
       "576"
      ]
     },
     "execution_count": 8,
     "metadata": {},
     "output_type": "execute_result"
    }
   ],
   "source": [
    "d.keys()\n",
    "\n",
    "print(type(d[\"deputes\"]))\n",
    "\n",
    "len(d[\"deputes\"])"
   ]
  },
  {
   "cell_type": "markdown",
   "metadata": {},
   "source": [
    "<a id='5'></a>\n",
    "\n",
    "## 5. Exercices\n",
    "\n",
    "- Ecrire une classe ``FrenchTeacher`` qui :\n",
    "    - s'initialise sans argument\n",
    "    - possède une méthode ``check_first_caps`` qui prend en argument une chaîne de caractères et vérifie que la première lettre est bien une majuscule (on pourra utiliser ``.lower()`` ou ``.upper()``\n",
    "\n",
    "\n",
    "- Ecrire une classe ``MathsTeacher`` qui :\n",
    "    - s'initialise avec un argument ``name`` qui servira à initialiser un attribut du même nom\n",
    "    - possède une méthode ``compute_mean``qui prend en argument une liste et calcule sa moyenne\n",
    "    - possède une méthode ``say_hello`` qui prend en argument une instance de la classe ``MathsTeacher`` appellé ``other_instance`` et affiche (print) ``\"Salut {other_instance.name}\"``\n",
    "    \n",
    "    \n",
    "        \n",
    "- (Plus difficile) Implémenter une classe ``Explorer`` qui vous permet :\n",
    "    - D'afficher tous les fichiers dans le dossier courant \n",
    "    - D'afficher la liste des extensions présentes dans le dossier courant\n",
    "    - De réaliser toutes les opérations ci-dessus dans n'importe quel dossier dont on connait le chemin\n",
    "    (On pourra utiliser ``os.listdir()``)\n",
    "    \n",
    "  \n",
    "- (Plus difficile) Ecrire une classe ``HeadsOrTails`` qui permet à un utilisateur de jouer au jeu suivant :\n",
    "    - On commence avec un score de 0\n",
    "    - On est invité à jouer à Pile ou Face 4 fois\n",
    "    - A chaque fois, si on devine correctement, on gagne 1\n",
    "    - Sinon on perd 1\n",
    "    - Dans les deux cas on affiche un message à l'utilisateur pour lui indiqué s'il a réussi ou non\n",
    "    - A la fin, on affiche le score final\n",
    "    - On pourra par exemple utiliser \n",
    "        - ``input()``pour que l'utilisateur saisisse une valeur\n",
    "        - la fonction ``randint``du package ``random`` que ci dessous :\n",
    "    \n",
    "    \n",
    "- (Plus difficile) Ecrire une classe ``CsvReader`` qui permet à un utilisateur de lire un fichier .csv et de mettre les valeurs dans des listes de listes\n",
    "    - La classe s'initisalise avec le chemin vers le fichier\n",
    "    - Elle possède une méthode ``parse`` qui transforme ce fichier ``csv.txt`` :\n",
    "    ```csv \n",
    "Voiture, Vitesse, Prix,\n",
    "Twingo, 100, 10000,\n",
    "Mustang, 200, 100000,\n",
    "```\n",
    "    - En cette liste de liste : \n",
    "    ```python\n",
    "    [[Voiture, Vitesse, Prix], [Twingo, 100, 10000], [Mustang, 200, 100000]]\n",
    "    ````"
   ]
  },
  {
   "cell_type": "code",
   "execution_count": 18,
   "metadata": {},
   "outputs": [
    {
     "name": "stdout",
     "output_type": "stream",
     "text": [
      "False\n",
      "True\n",
      "False\n",
      "True\n"
     ]
    }
   ],
   "source": [
    "class FrenchTeacher:\n",
    "    def __init__(self):\n",
    "        pass\n",
    "#        self.profession = \"french_teacher\"    \n",
    "    \n",
    "    def check_first_caps(self, string):\n",
    "        return string[0].isupper()\n",
    "\n",
    "french_teacher = FrenchTeacher()\n",
    "print(french_teacher.check_first_caps(\"salut\"))\n",
    "print(french_teacher.check_first_caps(\"Salut\"))\n",
    "\n",
    "\n",
    "## Fonctionne aussi (on ne fait rien dans __init__)\n",
    "class FrenchTeacher:    \n",
    "    def check_first_caps(self, string):\n",
    "        return string[0].isupper()\n",
    "    \n",
    "french_teacher = FrenchTeacher()\n",
    "print(french_teacher.check_first_caps(\"salut\"))\n",
    "print(french_teacher.check_first_caps(\"Salut\"))"
   ]
  },
  {
   "cell_type": "code",
   "execution_count": 19,
   "metadata": {},
   "outputs": [
    {
     "data": {
      "text/plain": [
       "False"
      ]
     },
     "execution_count": 19,
     "metadata": {},
     "output_type": "execute_result"
    }
   ],
   "source": [
    "french_teacher.check_first_caps(\"salut\")"
   ]
  },
  {
   "cell_type": "code",
   "execution_count": 20,
   "metadata": {},
   "outputs": [
    {
     "data": {
      "text/plain": [
       "['Prénom']"
      ]
     },
     "execution_count": 20,
     "metadata": {},
     "output_type": "execute_result"
    }
   ],
   "source": [
    "class FrenchTeacher:\n",
    "    \n",
    "    def check_first_caps (self): # prend en argument une chaîne de caractères, elle n'y est pas\n",
    "        \n",
    "        for i in liste: # variable liste ? d'où sort-elle ? \n",
    "            \n",
    "            a = [] \n",
    "            if liste[0].upper() :\n",
    "                a.append(i)\n",
    "                return a # le return est atteint à la première itération\n",
    "            \n",
    "            \n",
    "liste = [\"Prénom\", \"Nom\", \"adresse\"]\n",
    "FrenchTeacher.check_first_caps (liste)"
   ]
  },
  {
   "cell_type": "code",
   "execution_count": 100,
   "metadata": {},
   "outputs": [
    {
     "name": "stdout",
     "output_type": "stream",
     "text": [
      "True\n",
      "True\n",
      "False\n",
      "[True, True, False]\n"
     ]
    }
   ],
   "source": [
    "class FrenchTeacher:\n",
    "    def check_first_caps_string(self, chars): # prend en argument une chaîne de caractères, elle n'y est pas\n",
    "        return chars[0].isupper()\n",
    "    \n",
    "    def check_first_caps_list(self, l):\n",
    "        answers = []\n",
    "        for item in l:\n",
    "            answers.append(self.check_first_caps_string(item))\n",
    "        return answers\n",
    "    \n",
    "french_teacher = FrenchTeacher() \n",
    "\n",
    "liste = [\"Prénom\", \"Nom\", \"adresse\"]\n",
    "\n",
    "# On itère sur la liste et on appelle la fonction qui le vérifie unitairement sur une chaîne de caractères\n",
    "for char in liste:\n",
    "    print(french_teacher.check_first_caps_string(char))\n",
    "\n",
    "# on le fait directement sur la liste, on créant une méthode dédiée\n",
    "print(french_teacher.check_first_caps_list(liste))"
   ]
  },
  {
   "cell_type": "code",
   "execution_count": 32,
   "metadata": {},
   "outputs": [
    {
     "name": "stdout",
     "output_type": "stream",
     "text": [
      "4395865040 4395866864\n"
     ]
    }
   ],
   "source": [
    "french_teacher_un = FrenchTeacher()\n",
    "french_teacher_deux = FrenchTeacher()\n",
    "\n",
    "print(id(french_teacher_un), id(french_teacher_deux))"
   ]
  },
  {
   "cell_type": "code",
   "execution_count": 39,
   "metadata": {},
   "outputs": [
    {
     "name": "stdout",
     "output_type": "stream",
     "text": [
      "13.0\n",
      "Salut Hubert - c'est Jacques\n"
     ]
    }
   ],
   "source": [
    "class MathsTeacher:\n",
    "    def __init__(self, name):\n",
    "        self.name = name\n",
    "    \n",
    "    def compute_mean(self, l):\n",
    "        return sum(l) / len(l)\n",
    "    \n",
    "    def say_hello(self, other_maths_teacher):\n",
    "        print(f\"Salut {other_maths_teacher.name} - c'est {self.name}\")\n",
    "    \n",
    "maths_teacher = MathsTeacher(\"Jacques\")\n",
    "\n",
    "collegue_maths_teacher = MathsTeacher(\"Hubert\")\n",
    "\n",
    "print(maths_teacher.compute_mean([20, 9 , 10]))\n",
    "\n",
    "maths_teacher.say_hello(collegue_maths_teacher)"
   ]
  },
  {
   "cell_type": "code",
   "execution_count": null,
   "metadata": {},
   "outputs": [],
   "source": []
  },
  {
   "cell_type": "code",
   "execution_count": 101,
   "metadata": {},
   "outputs": [
    {
     "name": "stdout",
     "output_type": "stream",
     "text": [
      "Taper 0 pour Pile ou 1 pour Face\n"
     ]
    },
    {
     "ename": "KeyboardInterrupt",
     "evalue": "Interrupted by user",
     "output_type": "error",
     "traceback": [
      "\u001b[0;31m---------------------------------------------------------------------------\u001b[0m",
      "\u001b[0;31mKeyboardInterrupt\u001b[0m                         Traceback (most recent call last)",
      "\u001b[0;32m<ipython-input-101-eb021dcd3d19>\u001b[0m in \u001b[0;36m<module>\u001b[0;34m\u001b[0m\n\u001b[1;32m     33\u001b[0m \u001b[0;34m\u001b[0m\u001b[0m\n\u001b[1;32m     34\u001b[0m \u001b[0mgame\u001b[0m \u001b[0;34m=\u001b[0m \u001b[0mHeadOrTails\u001b[0m\u001b[0;34m(\u001b[0m\u001b[0;34m)\u001b[0m\u001b[0;34m\u001b[0m\u001b[0;34m\u001b[0m\u001b[0m\n\u001b[0;32m---> 35\u001b[0;31m \u001b[0mgame\u001b[0m\u001b[0;34m.\u001b[0m\u001b[0mplay_4_times\u001b[0m\u001b[0;34m(\u001b[0m\u001b[0;34m)\u001b[0m\u001b[0;34m\u001b[0m\u001b[0;34m\u001b[0m\u001b[0m\n\u001b[0m",
      "\u001b[0;32m<ipython-input-101-eb021dcd3d19>\u001b[0m in \u001b[0;36mplay_4_times\u001b[0;34m(self)\u001b[0m\n\u001b[1;32m     27\u001b[0m     \u001b[0;32mdef\u001b[0m \u001b[0mplay_4_times\u001b[0m\u001b[0;34m(\u001b[0m\u001b[0mself\u001b[0m\u001b[0;34m)\u001b[0m\u001b[0;34m:\u001b[0m\u001b[0;34m\u001b[0m\u001b[0;34m\u001b[0m\u001b[0m\n\u001b[1;32m     28\u001b[0m         \u001b[0;32mfor\u001b[0m \u001b[0m_\u001b[0m \u001b[0;32min\u001b[0m \u001b[0mrange\u001b[0m\u001b[0;34m(\u001b[0m\u001b[0;36m4\u001b[0m\u001b[0;34m)\u001b[0m\u001b[0;34m:\u001b[0m\u001b[0;34m\u001b[0m\u001b[0;34m\u001b[0m\u001b[0m\n\u001b[0;32m---> 29\u001b[0;31m             \u001b[0mself\u001b[0m\u001b[0;34m.\u001b[0m\u001b[0mplay_once\u001b[0m\u001b[0;34m(\u001b[0m\u001b[0;34m)\u001b[0m\u001b[0;34m\u001b[0m\u001b[0;34m\u001b[0m\u001b[0m\n\u001b[0m\u001b[1;32m     30\u001b[0m \u001b[0;34m\u001b[0m\u001b[0m\n\u001b[1;32m     31\u001b[0m         \u001b[0mprint\u001b[0m\u001b[0;34m(\u001b[0m\u001b[0;34mf\"Votre score final est {self.score}\"\u001b[0m\u001b[0;34m)\u001b[0m\u001b[0;34m\u001b[0m\u001b[0;34m\u001b[0m\u001b[0m\n",
      "\u001b[0;32m<ipython-input-101-eb021dcd3d19>\u001b[0m in \u001b[0;36mplay_once\u001b[0;34m(self)\u001b[0m\n\u001b[1;32m     12\u001b[0m         \u001b[0mprint\u001b[0m\u001b[0;34m(\u001b[0m\u001b[0;34m\"Taper 0 pour Pile ou 1 pour Face\"\u001b[0m\u001b[0;34m)\u001b[0m\u001b[0;34m\u001b[0m\u001b[0;34m\u001b[0m\u001b[0m\n\u001b[1;32m     13\u001b[0m \u001b[0;34m\u001b[0m\u001b[0m\n\u001b[0;32m---> 14\u001b[0;31m         \u001b[0muser_tentative\u001b[0m \u001b[0;34m=\u001b[0m \u001b[0minput\u001b[0m\u001b[0;34m(\u001b[0m\u001b[0;34m)\u001b[0m\u001b[0;34m\u001b[0m\u001b[0;34m\u001b[0m\u001b[0m\n\u001b[0m\u001b[1;32m     15\u001b[0m \u001b[0;34m\u001b[0m\u001b[0m\n\u001b[1;32m     16\u001b[0m         \u001b[0;32mwhile\u001b[0m \u001b[0muser_tentative\u001b[0m \u001b[0;32mnot\u001b[0m \u001b[0;32min\u001b[0m \u001b[0;34m[\u001b[0m\u001b[0;34m\"0\"\u001b[0m\u001b[0;34m,\u001b[0m\u001b[0;34m\"1\"\u001b[0m\u001b[0;34m]\u001b[0m\u001b[0;34m:\u001b[0m\u001b[0;34m\u001b[0m\u001b[0;34m\u001b[0m\u001b[0m\n",
      "\u001b[0;32m/usr/local/lib/python3.9/site-packages/ipykernel/kernelbase.py\u001b[0m in \u001b[0;36mraw_input\u001b[0;34m(self, prompt)\u001b[0m\n\u001b[1;32m    858\u001b[0m                 \u001b[0;34m\"raw_input was called, but this frontend does not support input requests.\"\u001b[0m\u001b[0;34m\u001b[0m\u001b[0;34m\u001b[0m\u001b[0m\n\u001b[1;32m    859\u001b[0m             )\n\u001b[0;32m--> 860\u001b[0;31m         return self._input_request(str(prompt),\n\u001b[0m\u001b[1;32m    861\u001b[0m             \u001b[0mself\u001b[0m\u001b[0;34m.\u001b[0m\u001b[0m_parent_ident\u001b[0m\u001b[0;34m,\u001b[0m\u001b[0;34m\u001b[0m\u001b[0;34m\u001b[0m\u001b[0m\n\u001b[1;32m    862\u001b[0m             \u001b[0mself\u001b[0m\u001b[0;34m.\u001b[0m\u001b[0m_parent_header\u001b[0m\u001b[0;34m,\u001b[0m\u001b[0;34m\u001b[0m\u001b[0;34m\u001b[0m\u001b[0m\n",
      "\u001b[0;32m/usr/local/lib/python3.9/site-packages/ipykernel/kernelbase.py\u001b[0m in \u001b[0;36m_input_request\u001b[0;34m(self, prompt, ident, parent, password)\u001b[0m\n\u001b[1;32m    902\u001b[0m             \u001b[0;32mexcept\u001b[0m \u001b[0mKeyboardInterrupt\u001b[0m\u001b[0;34m:\u001b[0m\u001b[0;34m\u001b[0m\u001b[0;34m\u001b[0m\u001b[0m\n\u001b[1;32m    903\u001b[0m                 \u001b[0;31m# re-raise KeyboardInterrupt, to truncate traceback\u001b[0m\u001b[0;34m\u001b[0m\u001b[0;34m\u001b[0m\u001b[0;34m\u001b[0m\u001b[0m\n\u001b[0;32m--> 904\u001b[0;31m                 \u001b[0;32mraise\u001b[0m \u001b[0mKeyboardInterrupt\u001b[0m\u001b[0;34m(\u001b[0m\u001b[0;34m\"Interrupted by user\"\u001b[0m\u001b[0;34m)\u001b[0m \u001b[0;32mfrom\u001b[0m \u001b[0;32mNone\u001b[0m\u001b[0;34m\u001b[0m\u001b[0;34m\u001b[0m\u001b[0m\n\u001b[0m\u001b[1;32m    905\u001b[0m             \u001b[0;32mexcept\u001b[0m \u001b[0mException\u001b[0m \u001b[0;32mas\u001b[0m \u001b[0me\u001b[0m\u001b[0;34m:\u001b[0m\u001b[0;34m\u001b[0m\u001b[0;34m\u001b[0m\u001b[0m\n\u001b[1;32m    906\u001b[0m                 \u001b[0mself\u001b[0m\u001b[0;34m.\u001b[0m\u001b[0mlog\u001b[0m\u001b[0;34m.\u001b[0m\u001b[0mwarning\u001b[0m\u001b[0;34m(\u001b[0m\u001b[0;34m\"Invalid Message:\"\u001b[0m\u001b[0;34m,\u001b[0m \u001b[0mexc_info\u001b[0m\u001b[0;34m=\u001b[0m\u001b[0;32mTrue\u001b[0m\u001b[0;34m)\u001b[0m\u001b[0;34m\u001b[0m\u001b[0;34m\u001b[0m\u001b[0m\n",
      "\u001b[0;31mKeyboardInterrupt\u001b[0m: Interrupted by user"
     ]
    }
   ],
   "source": [
    "\n",
    "import random\n",
    "\n",
    "class HeadOrTails:\n",
    "    def __init__(self):\n",
    "        # Score de départ\n",
    "        self.score = 0\n",
    "        # Lancer le jeu\n",
    "    \n",
    "    def play_once(self):\n",
    "        \n",
    "        result = str(random.randint(0,1)) # 0 pour Tail et 1 pour Head\n",
    "        print(\"Taper 0 pour Pile ou 1 pour Face\")\n",
    "        \n",
    "        user_tentative = input()\n",
    "        \n",
    "        while user_tentative not in [\"0\",\"1\"]:\n",
    "            print(\"Veuillez saisir 0 pour Pile ou 1 pour Face\")\n",
    "            user_tentative = input()\n",
    "            \n",
    "        if result == user_tentative:\n",
    "            print(\"Bonne réponse ! \")\n",
    "            self.score += 1\n",
    "        else:\n",
    "            print(\"Mauvaise réponse ! \")\n",
    "            self.score -= 1\n",
    "    \n",
    "    def play_4_times(self):\n",
    "        for _ in range(4):\n",
    "            self.play_once()\n",
    "            \n",
    "        print(f\"Votre score final est {self.score}\")\n",
    "        \n",
    "        \n",
    "game = HeadOrTails()\n",
    "game.play_4_times()"
   ]
  },
  {
   "cell_type": "code",
   "execution_count": 99,
   "metadata": {},
   "outputs": [
    {
     "name": "stdout",
     "output_type": "stream",
     "text": [
      "Comment vous appelez vous ?\n"
     ]
    },
    {
     "ename": "KeyboardInterrupt",
     "evalue": "Interrupted by user",
     "output_type": "error",
     "traceback": [
      "\u001b[0;31m---------------------------------------------------------------------------\u001b[0m",
      "\u001b[0;31mKeyboardInterrupt\u001b[0m                         Traceback (most recent call last)",
      "\u001b[0;32m<ipython-input-99-21c62b0b3a19>\u001b[0m in \u001b[0;36m<module>\u001b[0;34m\u001b[0m\n\u001b[1;32m     50\u001b[0m \u001b[0;34m\u001b[0m\u001b[0m\n\u001b[1;32m     51\u001b[0m \u001b[0mgame\u001b[0m \u001b[0;34m=\u001b[0m \u001b[0mHeadsOrTailsV2\u001b[0m\u001b[0;34m(\u001b[0m\u001b[0;34m)\u001b[0m\u001b[0;34m\u001b[0m\u001b[0;34m\u001b[0m\u001b[0m\n\u001b[0;32m---> 52\u001b[0;31m \u001b[0mgame\u001b[0m\u001b[0;34m.\u001b[0m\u001b[0mplay_and_greet\u001b[0m\u001b[0;34m(\u001b[0m\u001b[0;34m)\u001b[0m\u001b[0;34m\u001b[0m\u001b[0;34m\u001b[0m\u001b[0m\n\u001b[0m",
      "\u001b[0;32m<ipython-input-99-21c62b0b3a19>\u001b[0m in \u001b[0;36mplay_and_greet\u001b[0;34m(self)\u001b[0m\n\u001b[1;32m     44\u001b[0m \u001b[0;34m\u001b[0m\u001b[0m\n\u001b[1;32m     45\u001b[0m     \u001b[0;32mdef\u001b[0m \u001b[0mplay_and_greet\u001b[0m\u001b[0;34m(\u001b[0m\u001b[0mself\u001b[0m\u001b[0;34m)\u001b[0m\u001b[0;34m:\u001b[0m\u001b[0;34m\u001b[0m\u001b[0;34m\u001b[0m\u001b[0m\n\u001b[0;32m---> 46\u001b[0;31m         \u001b[0mself\u001b[0m\u001b[0;34m.\u001b[0m\u001b[0mask_name\u001b[0m\u001b[0;34m(\u001b[0m\u001b[0;34m)\u001b[0m\u001b[0;34m\u001b[0m\u001b[0;34m\u001b[0m\u001b[0m\n\u001b[0m\u001b[1;32m     47\u001b[0m         \u001b[0mself\u001b[0m\u001b[0;34m.\u001b[0m\u001b[0msay_hello\u001b[0m\u001b[0;34m(\u001b[0m\u001b[0;34m)\u001b[0m\u001b[0;34m\u001b[0m\u001b[0;34m\u001b[0m\u001b[0m\n\u001b[1;32m     48\u001b[0m         \u001b[0mself\u001b[0m\u001b[0;34m.\u001b[0m\u001b[0mplay_4_times\u001b[0m\u001b[0;34m(\u001b[0m\u001b[0;34m)\u001b[0m\u001b[0;34m\u001b[0m\u001b[0;34m\u001b[0m\u001b[0m\n",
      "\u001b[0;32m<ipython-input-99-21c62b0b3a19>\u001b[0m in \u001b[0;36mask_name\u001b[0;34m(self)\u001b[0m\n\u001b[1;32m     35\u001b[0m     \u001b[0;32mdef\u001b[0m \u001b[0mask_name\u001b[0m\u001b[0;34m(\u001b[0m\u001b[0mself\u001b[0m\u001b[0;34m)\u001b[0m\u001b[0;34m:\u001b[0m\u001b[0;34m\u001b[0m\u001b[0;34m\u001b[0m\u001b[0m\n\u001b[1;32m     36\u001b[0m         \u001b[0mprint\u001b[0m\u001b[0;34m(\u001b[0m\u001b[0;34m'Comment vous appelez vous ?'\u001b[0m\u001b[0;34m)\u001b[0m\u001b[0;34m\u001b[0m\u001b[0;34m\u001b[0m\u001b[0m\n\u001b[0;32m---> 37\u001b[0;31m         \u001b[0mself\u001b[0m\u001b[0;34m.\u001b[0m\u001b[0muser_name\u001b[0m \u001b[0;34m=\u001b[0m \u001b[0minput\u001b[0m\u001b[0;34m(\u001b[0m\u001b[0;34m)\u001b[0m\u001b[0;34m\u001b[0m\u001b[0;34m\u001b[0m\u001b[0m\n\u001b[0m\u001b[1;32m     38\u001b[0m \u001b[0;34m\u001b[0m\u001b[0m\n\u001b[1;32m     39\u001b[0m     \u001b[0;32mdef\u001b[0m \u001b[0msay_hello\u001b[0m\u001b[0;34m(\u001b[0m\u001b[0mself\u001b[0m\u001b[0;34m)\u001b[0m\u001b[0;34m:\u001b[0m\u001b[0;34m\u001b[0m\u001b[0;34m\u001b[0m\u001b[0m\n",
      "\u001b[0;32m/usr/local/lib/python3.9/site-packages/ipykernel/kernelbase.py\u001b[0m in \u001b[0;36mraw_input\u001b[0;34m(self, prompt)\u001b[0m\n\u001b[1;32m    858\u001b[0m                 \u001b[0;34m\"raw_input was called, but this frontend does not support input requests.\"\u001b[0m\u001b[0;34m\u001b[0m\u001b[0;34m\u001b[0m\u001b[0m\n\u001b[1;32m    859\u001b[0m             )\n\u001b[0;32m--> 860\u001b[0;31m         return self._input_request(str(prompt),\n\u001b[0m\u001b[1;32m    861\u001b[0m             \u001b[0mself\u001b[0m\u001b[0;34m.\u001b[0m\u001b[0m_parent_ident\u001b[0m\u001b[0;34m,\u001b[0m\u001b[0;34m\u001b[0m\u001b[0;34m\u001b[0m\u001b[0m\n\u001b[1;32m    862\u001b[0m             \u001b[0mself\u001b[0m\u001b[0;34m.\u001b[0m\u001b[0m_parent_header\u001b[0m\u001b[0;34m,\u001b[0m\u001b[0;34m\u001b[0m\u001b[0;34m\u001b[0m\u001b[0m\n",
      "\u001b[0;32m/usr/local/lib/python3.9/site-packages/ipykernel/kernelbase.py\u001b[0m in \u001b[0;36m_input_request\u001b[0;34m(self, prompt, ident, parent, password)\u001b[0m\n\u001b[1;32m    902\u001b[0m             \u001b[0;32mexcept\u001b[0m \u001b[0mKeyboardInterrupt\u001b[0m\u001b[0;34m:\u001b[0m\u001b[0;34m\u001b[0m\u001b[0;34m\u001b[0m\u001b[0m\n\u001b[1;32m    903\u001b[0m                 \u001b[0;31m# re-raise KeyboardInterrupt, to truncate traceback\u001b[0m\u001b[0;34m\u001b[0m\u001b[0;34m\u001b[0m\u001b[0;34m\u001b[0m\u001b[0m\n\u001b[0;32m--> 904\u001b[0;31m                 \u001b[0;32mraise\u001b[0m \u001b[0mKeyboardInterrupt\u001b[0m\u001b[0;34m(\u001b[0m\u001b[0;34m\"Interrupted by user\"\u001b[0m\u001b[0;34m)\u001b[0m \u001b[0;32mfrom\u001b[0m \u001b[0;32mNone\u001b[0m\u001b[0;34m\u001b[0m\u001b[0;34m\u001b[0m\u001b[0m\n\u001b[0m\u001b[1;32m    905\u001b[0m             \u001b[0;32mexcept\u001b[0m \u001b[0mException\u001b[0m \u001b[0;32mas\u001b[0m \u001b[0me\u001b[0m\u001b[0;34m:\u001b[0m\u001b[0;34m\u001b[0m\u001b[0;34m\u001b[0m\u001b[0m\n\u001b[1;32m    906\u001b[0m                 \u001b[0mself\u001b[0m\u001b[0;34m.\u001b[0m\u001b[0mlog\u001b[0m\u001b[0;34m.\u001b[0m\u001b[0mwarning\u001b[0m\u001b[0;34m(\u001b[0m\u001b[0;34m\"Invalid Message:\"\u001b[0m\u001b[0;34m,\u001b[0m \u001b[0mexc_info\u001b[0m\u001b[0;34m=\u001b[0m\u001b[0;32mTrue\u001b[0m\u001b[0;34m)\u001b[0m\u001b[0;34m\u001b[0m\u001b[0;34m\u001b[0m\u001b[0m\n",
      "\u001b[0;31mKeyboardInterrupt\u001b[0m: Interrupted by user"
     ]
    }
   ],
   "source": [
    "import random\n",
    "\n",
    "\n",
    "class HeadsOrTails:\n",
    "    def __init__(self):\n",
    "        # Score de départ\n",
    "        self.score = 0\n",
    "        # Lancer le jeu\n",
    "    \n",
    "    def play_once(self):\n",
    "        result = str(random.randint(0,1)) # 0 pour Tail et 1 pour Head\n",
    "        print(\"Tapez 0 pour Pile ou 1 pour Face\")\n",
    "\n",
    "        user_tentative = input()        \n",
    "        while user_tentative not in [\"0\",\"1\"]:\n",
    "            print(\"Veuillez saisir 0 pour Pile ou 1 pour Face\")\n",
    "            user_tentative = input()\n",
    "            \n",
    "        if result == user_tentative:\n",
    "            print(\"Bonne réponse ! \")\n",
    "            self.score += 1\n",
    "        else:\n",
    "            print(\"Mauvaise réponse ! \")\n",
    "            self.score -= 1\n",
    "    \n",
    "    def play_4_times(self):\n",
    "        for _ in range(4):\n",
    "            self.play_once()\n",
    "            \n",
    "        print(f\"Votre score final est {self.score}\")\n",
    "        \n",
    "        \n",
    "class HeadsOrTailsV2(HeadsOrTails):\n",
    "    \n",
    "    def ask_name(self):\n",
    "        print('Comment vous appelez vous ?')\n",
    "        self.user_name = input()\n",
    "        \n",
    "    def say_hello(self):\n",
    "        print(f\"Salut {self.user_name}\")\n",
    "        \n",
    "    def say_goodbye(self):\n",
    "        print(f\"Au revoir {self.user_name}\")\n",
    "        \n",
    "    def play_and_greet(self):\n",
    "        self.ask_name()\n",
    "        self.say_hello()\n",
    "        self.play_4_times()\n",
    "        self.say_goodbye()\n",
    "        \n",
    "game = HeadsOrTailsV2()\n",
    "game.play_and_greet()"
   ]
  },
  {
   "cell_type": "code",
   "execution_count": 36,
   "metadata": {},
   "outputs": [],
   "source": [
    "import os \n",
    "\n",
    "class Explorer:\n",
    "    def __init__(self):\n",
    "        pass\n",
    "    \n",
    "    def get_all_files_in_current_dir(self):\n",
    "        return os.listdir()\n",
    "    \n",
    "    def get_all_ext_in_current_dir(self):\n",
    "        return set([fn.split(\".\")[-1] for fn in os.listdir() if not fn.startswith('.')])\n",
    "    \n",
    "    def get_all_files_in_dir(self, path):\n",
    "        return os.listdir(path)\n",
    "    \n",
    "    def get_all_ext_in_dir(self, path):\n",
    "        return set([fn.split(\".\")[-1] for fn in os.listdir(path) if not fn.startswith('.')])\n",
    "    \n",
    "            "
   ]
  },
  {
   "cell_type": "code",
   "execution_count": 41,
   "metadata": {},
   "outputs": [
    {
     "data": {
      "text/plain": [
       "'/Users/selim/hetic_m1_csb_public'"
      ]
     },
     "execution_count": 41,
     "metadata": {},
     "output_type": "execute_result"
    }
   ],
   "source": [
    "os.getcwd()"
   ]
  },
  {
   "cell_type": "code",
   "execution_count": 44,
   "metadata": {},
   "outputs": [
    {
     "name": "stdout",
     "output_type": "stream",
     "text": [
      "['introduction_to_google_colab.ipynb', 'Untitled1.ipynb', '.DS_Store', 'tp_7_classes.ipynb', 'tp_2_test_boucle_fonction.ipynb', 'tp_3_algorithmie.ipynb', 'images', 'Untitled.ipynb', 'tp_6_webscraping_bs.ipynb', 'README.md', 'introduction_m1_csb.pdf', 'tp_8_syntax_wrap_up.ipynb', 'tp_1_syntaxe_variables_et_types.ipynb', '.gitignore', 'tp_5_http_api.ipynb', '.ipynb_checkpoints', '.git', 'data', 'tp_4_files.ipynb', '.idea', '01_python_et_env.pdf']\n",
      "{'ipynb', 'md', 'pdf', 'data', 'images'}\n",
      "['.ipynb_checkpoints', 'data.txt']\n",
      "{'txt'}\n"
     ]
    }
   ],
   "source": [
    "explorer = Explorer()\n",
    "print(explorer.get_all_files_in_current_dir())\n",
    "print(explorer.get_all_ext_in_current_dir())\n",
    "print(explorer.get_all_files_in_dir(\"data\"))\n",
    "print(explorer.get_all_ext_in_dir(\"data\"))"
   ]
  },
  {
   "cell_type": "code",
   "execution_count": 5,
   "metadata": {},
   "outputs": [],
   "source": [
    "from pprint import pprint\n",
    "\n",
    "\n",
    "class CsvReader:\n",
    "    def __init__(self, path):\n",
    "        self.path = path\n",
    "        self.process_file()\n",
    "        self.display_file()\n",
    "        \n",
    "    def read_file(self):\n",
    "        file = open(self.path, \"r\")\n",
    "        content = file.read()\n",
    "        return content\n",
    "    \n",
    "    def parse_file(self, content):\n",
    "        lines = content.split(\"\\n\")\n",
    "        lines = [line.split(\",\") for line in lines]\n",
    "        header = lines[0]\n",
    "        values = lines[1:]\n",
    "        return header, values\n",
    "    \n",
    "    def process_file(self):\n",
    "        content = self.read_file()\n",
    "        self.header, self.values = self.parse_file(content)\n",
    "        \n",
    "    ## TODO specify int / float or str et check index of type : [str, float, int]\n",
    "    def deal_with_types(self):\n",
    "        for n_col in range(len(self.values[0])):\n",
    "            type_for_this_col = self.values[1][n_col]\n",
    "            all_types_of_this_col = [type(item) for item in self.values[x][n_col]]\n",
    "            if set(all_types_of_this_col) == {type_for_this_col}:\n",
    "                pass\n",
    "        \n",
    "    def display_file(self):\n",
    "        print(f\"file read at {self.path}\")\n",
    "        pprint(self.header)\n",
    "        pprint(self.values)\n",
    "        "
   ]
  },
  {
   "cell_type": "code",
   "execution_count": 66,
   "metadata": {},
   "outputs": [
    {
     "name": "stdout",
     "output_type": "stream",
     "text": [
      "file read at data.csv\n",
      "['Voiture', ' Vitesse', ' Prix']\n",
      "[['Twingo', ' 100', ' 10000'],\n",
      " ['Mustang', ' 200', ' 100000'],\n",
      " ['Trabant', ' 50', ' 1000']]\n"
     ]
    }
   ],
   "source": [
    "csv_reader = CsvReader(\"data.csv\")"
   ]
  },
  {
   "cell_type": "code",
   "execution_count": 1,
   "metadata": {},
   "outputs": [],
   "source": [
    "class P:\n",
    "    pass\n",
    "\n",
    "\n",
    "p = P()"
   ]
  },
  {
   "cell_type": "code",
   "execution_count": 2,
   "metadata": {},
   "outputs": [],
   "source": []
  },
  {
   "cell_type": "code",
   "execution_count": 42,
   "metadata": {},
   "outputs": [
    {
     "name": "stdout",
     "output_type": "stream",
     "text": [
      "La moyenne est 5.4\n",
      "Salut Mr Thales - c'est Mr Pythagore\n"
     ]
    }
   ],
   "source": [
    "\n",
    "class MathsTeacher():\n",
    "    def __init__(self, name):\n",
    "        # attribut prend valeur argument :\n",
    "        self.name = name\n",
    "        \n",
    "    def compute_mean(self, liste):\n",
    "        mean = sum(liste) / len(liste)\n",
    "        print(\"La moyenne est\", mean)\n",
    "        return mean\n",
    "        \n",
    "    def say_hello(self, other_instance):\n",
    "        print(f'Salut {other_instance.name} - c\\'est {self.name}')\n",
    "        \n",
    "        \n",
    "# Créer un premier prof\n",
    "pythagore = MathsTeacher('Mr Pythagore')\n",
    "pythagore.compute_mean([1, 2, 4, 8, 12])\n",
    "\n",
    "thales = MathsTeacher('Mr Thales')\n",
    "\n",
    "pythagore.say_hello(thales)\n",
    "\n",
    "# thales.say_hello(pythagore)"
   ]
  },
  {
   "cell_type": "code",
   "execution_count": 51,
   "metadata": {},
   "outputs": [
    {
     "name": "stdout",
     "output_type": "stream",
     "text": [
      "hello rene\n"
     ]
    }
   ],
   "source": [
    "class MathsTeacher:\n",
    "    def __init__(self, name):\n",
    "        self.name = name\n",
    "        \n",
    "    def compute_mean(self, listy):\n",
    "        return mean(listy)\n",
    "    \n",
    "    def say_hello(self, other_instance):\n",
    "        print(f'hello {other_instance.name}')\n",
    "\n",
    "        \n",
    "        \n",
    "# Instance rene     \n",
    "rene = MathsTeacher('rene')\n",
    "# Instance cotty\n",
    "cotty = MathsTeacher('cotty')\n",
    "\n",
    "# rene est un argument de la méthode say_hello \n",
    "# et c'est une instance de la classe MathsTeacher\n",
    "cotty.say_hello(rene) "
   ]
  },
  {
   "cell_type": "code",
   "execution_count": 79,
   "metadata": {},
   "outputs": [],
   "source": [
    "class HeadsOrTails:\n",
    "    def play(self):\n",
    "        score = 0\n",
    "        nb_parti = 4        \n",
    "        while nb_parti > 0:\n",
    "            lancer = str(random.randint(1, 2))\n",
    "            joueur = input(\"Je mise sur (Pile : 1 ou Face : 2) \")\n",
    "            print(type(joueur))\n",
    "            if joueur == lancer:\n",
    "                score = score + 1\n",
    "                print(\"Félicition, vous avez gagné un point\")\n",
    "                nb_parti = nb_parti - 1\n",
    "            else :\n",
    "                score = score - 1\n",
    "                print(\"Dommage, vous avez perdu un point\")\n",
    "                nb_parti = nb_parti - 1\n",
    "\n",
    "        print(\"Votre score est de \", score)"
   ]
  },
  {
   "cell_type": "code",
   "execution_count": 80,
   "metadata": {},
   "outputs": [],
   "source": [
    "heads_or_tails = HeadsOrTails()"
   ]
  },
  {
   "cell_type": "code",
   "execution_count": 81,
   "metadata": {},
   "outputs": [
    {
     "name": "stdin",
     "output_type": "stream",
     "text": [
      "Je mise sur (Pile : 1 ou Face : 2)  1\n"
     ]
    },
    {
     "name": "stdout",
     "output_type": "stream",
     "text": [
      "<class 'str'>\n",
      "Dommage, vous avez perdu un point\n"
     ]
    },
    {
     "name": "stdin",
     "output_type": "stream",
     "text": [
      "Je mise sur (Pile : 1 ou Face : 2)  1\n"
     ]
    },
    {
     "name": "stdout",
     "output_type": "stream",
     "text": [
      "<class 'str'>\n",
      "Dommage, vous avez perdu un point\n"
     ]
    },
    {
     "name": "stdin",
     "output_type": "stream",
     "text": [
      "Je mise sur (Pile : 1 ou Face : 2)  1\n"
     ]
    },
    {
     "name": "stdout",
     "output_type": "stream",
     "text": [
      "<class 'str'>\n",
      "Dommage, vous avez perdu un point\n"
     ]
    },
    {
     "name": "stdin",
     "output_type": "stream",
     "text": [
      "Je mise sur (Pile : 1 ou Face : 2)  1\n"
     ]
    },
    {
     "name": "stdout",
     "output_type": "stream",
     "text": [
      "<class 'str'>\n",
      "Félicition, vous avez gagné un point\n",
      "Votre score est de  -2\n"
     ]
    }
   ],
   "source": [
    "heads_or_tails.play()"
   ]
  },
  {
   "cell_type": "code",
   "execution_count": null,
   "metadata": {},
   "outputs": [],
   "source": []
  }
 ],
 "metadata": {
  "kernelspec": {
   "display_name": "Python 3",
   "language": "python",
   "name": "python3"
  },
  "language_info": {
   "codemirror_mode": {
    "name": "ipython",
    "version": 3
   },
   "file_extension": ".py",
   "mimetype": "text/x-python",
   "name": "python",
   "nbconvert_exporter": "python",
   "pygments_lexer": "ipython3",
   "version": "3.9.0"
  }
 },
 "nbformat": 4,
 "nbformat_minor": 4
}
