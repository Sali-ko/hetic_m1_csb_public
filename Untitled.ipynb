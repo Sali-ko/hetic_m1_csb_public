{
 "cells": [
  {
   "cell_type": "code",
   "execution_count": 1,
   "metadata": {},
   "outputs": [],
   "source": [
    "import requests\n",
    "from pprint import pprint\n",
    "import json\n",
    "from functools import reduce\n",
    "\n",
    "\n",
    "r = requests.get(\"https://www.nosdeputes.fr/deputes/enmandat/json\")\n",
    "d = r.json()\n",
    "\n",
    "liste_partis = []\n",
    "liste_deputes_mandats = []\n",
    "liste_lien_twitter = []\n",
    "#print(d[\"deputes\"][100][\"depute\"][\"groupe_sigle\"])\n",
    "\n",
    "for depute in range(0,576):\n",
    "    \n",
    "    if d[\"deputes\"][depute][\"depute\"][\"groupe_sigle\"] not in liste_partis:\n",
    "        liste_partis.append(d[\"deputes\"][depute][\"depute\"][\"groupe_sigle\"])\n",
    "    \n",
    "    if d[\"deputes\"][depute][\"depute\"][\"autres_mandats\"]:\n",
    "        liste_deputes_mandats.append(d[\"deputes\"][depute][\"depute\"][\"nom\"])\n",
    "    "
   ]
  },
  {
   "cell_type": "code",
   "execution_count": 54,
   "metadata": {},
   "outputs": [],
   "source": [
    "r = requests.get(\"https://www.nosdeputes.fr/deputes/enmandat/json\")\n",
    "\n",
    "l_deputes = r.json()[\"deputes\"]\n",
    "\n",
    "liste_deputes_noms = []\n",
    "liste_deputes_autres_mandats_noms = []\n",
    "liste_twitter = []\n",
    "\n",
    "for dep in l_deputes:\n",
    "    \n",
    "    item = dep[\"depute\"]\n",
    "    liste_deputes_noms.append(item[\"nom\"])\n",
    "    \n",
    "    # Ps 0 : il y a déjà le mandat en tant que député\n",
    "    if item[\"nb_mandats\"] > 1 :\n",
    "        liste_deputes_autres_mandats_noms.append(item[\"nom\"])\n",
    "    \n",
    "    \n",
    "    sites = [list(x.values())[0] for x in item[\"sites_web\"]]\n",
    "    twitters = [site for site in sites if site.startswith(\"https://twitter\")]\n",
    "    \n",
    "    try:\n",
    "        twitter = twitters[0]\n",
    "        liste_twitter.append(twitter)\n",
    "    except:\n",
    "        pass"
   ]
  },
  {
   "cell_type": "code",
   "execution_count": 57,
   "metadata": {},
   "outputs": [
    {
     "data": {
      "text/plain": [
       "0.8784722222222222"
      ]
     },
     "execution_count": 57,
     "metadata": {},
     "output_type": "execute_result"
    }
   ],
   "source": [
    "len(liste_twitter) / len(liste_deputes_noms)"
   ]
  },
  {
   "cell_type": "code",
   "execution_count": 47,
   "metadata": {},
   "outputs": [],
   "source": [
    "item = l_deputes[0][\"depute\"]"
   ]
  },
  {
   "cell_type": "code",
   "execution_count": 48,
   "metadata": {},
   "outputs": [
    {
     "data": {
      "text/plain": [
       "['https://fr-fr.facebook.com/CRoussel06/',\n",
       " 'http://cedricroussel.en-marche.fr',\n",
       " 'https://twitter.com/CedricRoussel06',\n",
       " 'https://www.cedricroussel.fr']"
      ]
     },
     "execution_count": 48,
     "metadata": {},
     "output_type": "execute_result"
    }
   ],
   "source": [
    "[list(x.values())[0] for x in item[\"sites_web\"]]"
   ]
  },
  {
   "cell_type": "code",
   "execution_count": 53,
   "metadata": {},
   "outputs": [
    {
     "data": {
      "text/plain": [
       "['https://fr-fr.facebook.com/CRoussel06/',\n",
       " 'http://cedricroussel.en-marche.fr',\n",
       " 'https://twitter.com/CedricRoussel06',\n",
       " 'https://www.cedricroussel.fr']"
      ]
     },
     "execution_count": 53,
     "metadata": {},
     "output_type": "execute_result"
    }
   ],
   "source": [
    "[list(x.values())[0] for x in item[\"sites_web\"]]"
   ]
  },
  {
   "cell_type": "code",
   "execution_count": null,
   "metadata": {},
   "outputs": [],
   "source": [
    "l_twitter = []\n",
    "\n",
    "for i in range(len(d)):\n",
    "    sites = [list(x.values())[0] for x in d[i][\"depute\"][\"sites_web\"]]\n",
    "    twitters = [x for x in sites if x.startswith(\"https://twitter\")]\n",
    "    try:\n",
    "        twitter = twitters[0]\n",
    "        l_twitter.append(twitter)\n",
    "    except:\n",
    "        pass"
   ]
  },
  {
   "cell_type": "code",
   "execution_count": null,
   "metadata": {},
   "outputs": [],
   "source": []
  },
  {
   "cell_type": "code",
   "execution_count": 37,
   "metadata": {},
   "outputs": [],
   "source": [
    "r = requests.get(\"https://www.nosdeputes.fr/deputes/enmandat/json\")\n",
    "d = r.json()\n",
    "#pprint(d[\"deputes\"][:10])"
   ]
  },
  {
   "cell_type": "code",
   "execution_count": 42,
   "metadata": {},
   "outputs": [
    {
     "data": {
      "text/plain": [
       "list"
      ]
     },
     "execution_count": 42,
     "metadata": {},
     "output_type": "execute_result"
    }
   ],
   "source": [
    "type(d)\n",
    "d.keys()\n",
    "type(d[\"deputes\"])\n",
    "pprint(d[\"deputes\"][:3])"
   ]
  },
  {
   "cell_type": "code",
   "execution_count": 35,
   "metadata": {},
   "outputs": [],
   "source": [
    "r = requests.get(\"https://www.nosdeputes.fr/deputes/enmandat/json\")\n",
    "json_string = r.text\n",
    "\n",
    "# On convertit en string la datetime pour nommer le fichier\n",
    "filename = \"json_deputes.txt\"\n",
    "\n",
    "# On ouvre le fichier\n",
    "file = open(filename,\"w+\")\n",
    "\n",
    "# On écrit dans le fichier\n",
    "file.write(json_string)\n",
    "\n",
    "# On ferme le fichier\n",
    "file.close() "
   ]
  },
  {
   "cell_type": "code",
   "execution_count": null,
   "metadata": {},
   "outputs": [],
   "source": []
  },
  {
   "cell_type": "code",
   "execution_count": 8,
   "metadata": {},
   "outputs": [
    {
     "name": "stdout",
     "output_type": "stream",
     "text": [
      "<class 'list'>\n"
     ]
    },
    {
     "data": {
      "text/plain": [
       "576"
      ]
     },
     "execution_count": 8,
     "metadata": {},
     "output_type": "execute_result"
    }
   ],
   "source": [
    "d.keys()\n",
    "\n",
    "print(type(d[\"deputes\"]))\n",
    "\n",
    "len(d[\"deputes\"])"
   ]
  },
  {
   "cell_type": "markdown",
   "metadata": {},
   "source": [
    "<a id='5'></a>\n",
    "\n",
    "## 5. Exercices\n",
    "\n",
    "- Ecrire une classe ``FrenchTeacher`` qui :\n",
    "    - s'initialise sans argument\n",
    "    - possède une méthode ``check_first_caps`` qui prend en argument une chaîne de caractères et vérifie que la première lettre est bien une majuscule (on pourra utiliser ``.lower()`` ou ``.upper()``\n",
    "\n",
    "\n",
    "- Ecrire une classe ``MathsTeacher`` qui :\n",
    "    - s'initialise avec un argument ``name`` qui servira à initialiser un attribut du même nom\n",
    "    - possède une méthode ``compute_mean``qui prend en argument une liste et calcule sa moyenne\n",
    "    - possède une méthode ``say_hello`` qui prend en argument une instance de la classe ``MathsTeacher`` appellé ``other_instance`` et affiche (print) ``\"Salut {other_instance.name}\"``\n",
    "    \n",
    "    \n",
    "        \n",
    "- (Plus difficile) Implémenter une classe ``Explorer`` qui vous permet :\n",
    "    - D'afficher tous les fichiers dans le dossier courant \n",
    "    - D'afficher la liste des extensions présentes dans le dossier courant\n",
    "    - De réaliser toutes les opérations ci-dessus dans n'importe quel dossier dont on connait le chemin\n",
    "    (On pourra utiliser ``os.listdir()``)\n",
    "    \n",
    "  \n",
    "- (Plus difficile) Ecrire une classe ``HeadsOrTails`` qui permet à un utilisateur de jouer au jeu suivant :\n",
    "    - On commence avec un score de 0\n",
    "    - On est invité à jouer à Pile ou Face 4 fois\n",
    "    - A chaque fois, si on devine correctement, on gagne 1\n",
    "    - Sinon on perd 1\n",
    "    - Dans les deux cas on affiche un message à l'utilisateur pour lui indiqué s'il a réussi ou non\n",
    "    - A la fin, on affiche le score final\n",
    "    - On pourra par exemple utiliser \n",
    "        - ``input()``pour que l'utilisateur saisisse une valeur\n",
    "        - la fonction ``randint``du package ``random`` que ci dessous :\n",
    "    \n",
    "    \n",
    "- (Plus difficile) Ecrire une classe ``CsvReader`` qui permet à un utilisateur de lire un fichier .csv et de mettre les valeurs dans des listes de listes\n",
    "    - La classe s'initisalise avec le chemin vers le fichier\n",
    "    - Elle possède une méthode ``parse`` qui transforme ce fichier ``csv.txt`` :\n",
    "    ```csv \n",
    "Voiture, Vitesse, Prix,\n",
    "Twingo, 100, 10000,\n",
    "Mustang, 200, 100000,\n",
    "```\n",
    "    - En cette liste de liste : \n",
    "    ```python\n",
    "    [[Voiture, Vitesse, Prix], [Twingo, 100, 10000], [Mustang, 200, 100000]]\n",
    "    ````"
   ]
  },
  {
   "cell_type": "code",
   "execution_count": 31,
   "metadata": {},
   "outputs": [
    {
     "name": "stdout",
     "output_type": "stream",
     "text": [
      "False\n",
      "True\n"
     ]
    }
   ],
   "source": [
    "class FrenchTeacher:\n",
    "    def __init__(self):\n",
    "        pass\n",
    "    \n",
    "    def check_first_caps(self, string):\n",
    "        if string[0].upper() == string[0]:\n",
    "            b = True\n",
    "        else:\n",
    "            b = False\n",
    "        return b\n",
    "    \n",
    "french_teacher = FrenchTeacher()\n",
    "print(french_teacher.check_first_caps(\"salut\"))\n",
    "print(french_teacher.check_first_caps(\"Salut\"))"
   ]
  },
  {
   "cell_type": "code",
   "execution_count": 32,
   "metadata": {},
   "outputs": [
    {
     "name": "stdout",
     "output_type": "stream",
     "text": [
      "13.0\n",
      "Salut Hubert\n"
     ]
    }
   ],
   "source": [
    "class MathsTeacher:\n",
    "    def __init__(self, name):\n",
    "        self.name = name\n",
    "    \n",
    "    def compute_mean(self, l):\n",
    "        return sum(l) / len(l)\n",
    "    \n",
    "    def say_hello(self, other_maths_teacher):\n",
    "        print(f\"Salut {other_maths_teacher.name}\")\n",
    "    \n",
    "maths_teacher = MathsTeacher(\"Jacques\")\n",
    "collegue_maths_teacher = MathsTeacher(\"Hubert\")\n",
    "print(maths_teacher.compute_mean([20, 9 , 10]))\n",
    "maths_teacher.say_hello(collegue_maths_teacher)"
   ]
  },
  {
   "cell_type": "code",
   "execution_count": 35,
   "metadata": {},
   "outputs": [
    {
     "name": "stdout",
     "output_type": "stream",
     "text": [
      "Taper 0 pour Pile ou 1 pour Face\n"
     ]
    },
    {
     "name": "stdin",
     "output_type": "stream",
     "text": [
      " 0\n"
     ]
    },
    {
     "name": "stdout",
     "output_type": "stream",
     "text": [
      "Mauvaise réponse ! \n",
      "Taper 0 pour Pile ou 1 pour Face\n"
     ]
    },
    {
     "name": "stdin",
     "output_type": "stream",
     "text": [
      " 1\n"
     ]
    },
    {
     "name": "stdout",
     "output_type": "stream",
     "text": [
      "Bonne réponse ! \n",
      "Taper 0 pour Pile ou 1 pour Face\n"
     ]
    },
    {
     "name": "stdin",
     "output_type": "stream",
     "text": [
      " 0\n"
     ]
    },
    {
     "name": "stdout",
     "output_type": "stream",
     "text": [
      "Bonne réponse ! \n",
      "Taper 0 pour Pile ou 1 pour Face\n"
     ]
    },
    {
     "name": "stdin",
     "output_type": "stream",
     "text": [
      " 1\n"
     ]
    },
    {
     "name": "stdout",
     "output_type": "stream",
     "text": [
      "Bonne réponse ! \n",
      "Votre score final est 2\n"
     ]
    }
   ],
   "source": [
    "import random\n",
    "\n",
    "class HeadOrTails:\n",
    "    def __init__(self):\n",
    "        self.score = 0\n",
    "        self.play_4_times()\n",
    "    \n",
    "    def play_once(self):\n",
    "        result = str(random.randint(0,1)) # 0 pour Head et 1 pour Tail\n",
    "        \n",
    "        print(\"Taper 0 pour Pile ou 1 pour Face\")\n",
    "        \n",
    "        user_tentative = input()\n",
    "        while user_tentative not in [\"0\",\"1\"]:\n",
    "            print(\"Veuillez saisir 0 pour Pile ou 1 pour Face\")\n",
    "            user_tentative = input()\n",
    "            \n",
    "        if result == user_tentative:\n",
    "            print(\"Bonne réponse ! \")\n",
    "            self.score += 1\n",
    "        else:\n",
    "            print(\"Mauvaise réponse ! \")\n",
    "            self.score -= 1\n",
    "    \n",
    "    def play_4_times(self):\n",
    "        for _ in range(4):\n",
    "            self.play_once()\n",
    "            \n",
    "        print(f\"Votre score final est {self.score}\")\n",
    "        \n",
    "            \n",
    "game = HeadOrTails()"
   ]
  },
  {
   "cell_type": "code",
   "execution_count": 36,
   "metadata": {},
   "outputs": [],
   "source": [
    "import os \n",
    "\n",
    "class Explorer:\n",
    "    def __init__(self):\n",
    "        pass\n",
    "    \n",
    "    def get_all_files_in_current_dir(self):\n",
    "        return os.listdir()\n",
    "    \n",
    "    def get_all_ext_in_current_dir(self):\n",
    "        return set([fn.split(\".\")[-1] for fn in os.listdir() if not fn.startswith('.')])\n",
    "    \n",
    "    def get_all_files_in_dir(self, path):\n",
    "        return os.listdir(path)\n",
    "    \n",
    "    def get_all_ext_in_dir(self, path):\n",
    "        return set([fn.split(\".\")[-1] for fn in os.listdir(path) if not fn.startswith('.')])\n",
    "    \n",
    "            "
   ]
  },
  {
   "cell_type": "code",
   "execution_count": 41,
   "metadata": {},
   "outputs": [
    {
     "data": {
      "text/plain": [
       "'/Users/selim/hetic_m1_csb_public'"
      ]
     },
     "execution_count": 41,
     "metadata": {},
     "output_type": "execute_result"
    }
   ],
   "source": [
    "os.getcwd()"
   ]
  },
  {
   "cell_type": "code",
   "execution_count": 44,
   "metadata": {},
   "outputs": [
    {
     "name": "stdout",
     "output_type": "stream",
     "text": [
      "['introduction_to_google_colab.ipynb', 'Untitled1.ipynb', '.DS_Store', 'tp_7_classes.ipynb', 'tp_2_test_boucle_fonction.ipynb', 'tp_3_algorithmie.ipynb', 'images', 'Untitled.ipynb', 'tp_6_webscraping_bs.ipynb', 'README.md', 'introduction_m1_csb.pdf', 'tp_8_syntax_wrap_up.ipynb', 'tp_1_syntaxe_variables_et_types.ipynb', '.gitignore', 'tp_5_http_api.ipynb', '.ipynb_checkpoints', '.git', 'data', 'tp_4_files.ipynb', '.idea', '01_python_et_env.pdf']\n",
      "{'ipynb', 'md', 'pdf', 'data', 'images'}\n",
      "['.ipynb_checkpoints', 'data.txt']\n",
      "{'txt'}\n"
     ]
    }
   ],
   "source": [
    "explorer = Explorer()\n",
    "print(explorer.get_all_files_in_current_dir())\n",
    "print(explorer.get_all_ext_in_current_dir())\n",
    "print(explorer.get_all_files_in_dir(\"data\"))\n",
    "print(explorer.get_all_ext_in_dir(\"data\"))"
   ]
  },
  {
   "cell_type": "code",
   "execution_count": 65,
   "metadata": {},
   "outputs": [],
   "source": [
    "from pprint import pprint\n",
    "\n",
    "\n",
    "class CsvReader:\n",
    "    def __init__(self, path):\n",
    "        self.path = path\n",
    "        self.process_file()\n",
    "        self.display_file()\n",
    "        \n",
    "    def read_file(self):\n",
    "        file = open(self.path, \"r\")\n",
    "        content = file.read()\n",
    "        return content\n",
    "    \n",
    "    def parse_file(self, content):\n",
    "        lines = content.split(\"\\n\")\n",
    "        lines = [line.split(\",\") for line in lines]\n",
    "        header = lines[0]\n",
    "        values = lines[1:]\n",
    "        return header, values\n",
    "    \n",
    "    def process_file(self):\n",
    "        content = self.read_file()\n",
    "        self.header, self.values = self.parse_file(content)\n",
    "        \n",
    "    def display_file(self):\n",
    "        print(f\"file read at {self.path}\")\n",
    "        pprint(self.header)\n",
    "        pprint(self.values)\n",
    "        "
   ]
  },
  {
   "cell_type": "code",
   "execution_count": 66,
   "metadata": {},
   "outputs": [
    {
     "name": "stdout",
     "output_type": "stream",
     "text": [
      "file read at data.csv\n",
      "['Voiture', ' Vitesse', ' Prix']\n",
      "[['Twingo', ' 100', ' 10000'],\n",
      " ['Mustang', ' 200', ' 100000'],\n",
      " ['Trabant', ' 50', ' 1000']]\n"
     ]
    }
   ],
   "source": [
    "csv_reader = CsvReader(\"data.csv\")"
   ]
  },
  {
   "cell_type": "code",
   "execution_count": null,
   "metadata": {},
   "outputs": [],
   "source": []
  }
 ],
 "metadata": {
  "kernelspec": {
   "display_name": "Python 3",
   "language": "python",
   "name": "python3"
  },
  "language_info": {
   "codemirror_mode": {
    "name": "ipython",
    "version": 3
   },
   "file_extension": ".py",
   "mimetype": "text/x-python",
   "name": "python",
   "nbconvert_exporter": "python",
   "pygments_lexer": "ipython3",
   "version": "3.9.0"
  }
 },
 "nbformat": 4,
 "nbformat_minor": 4
}
