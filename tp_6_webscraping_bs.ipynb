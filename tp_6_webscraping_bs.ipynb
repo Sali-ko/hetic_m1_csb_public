{
 "cells": [
  {
   "cell_type": "markdown",
   "metadata": {},
   "source": [
    "#  Webscraping avec python\n",
    "\n",
    "# **M1 - CSB**\n",
    "# **TP 6 - Scraping avec BeautifulSoup**\n",
    "\n",
    "**Inspiré de : [Cours de Python pour le Data Scientist - Lino Galiana](https://linogaliana-teaching.netlify.app/manipulation/webscraping/)**\n",
    "\n",
    "\n",
    "***\n",
    "\n",
    "[**Notions**](#notions)\n",
    "\n",
    "1. [Balises HTML](#1)\n",
    "2. [Parent et enfant](#2)\n",
    "3. [Utiliser BeautifulSoup](#3)\n",
    "\n",
    "\n",
    "*** \n",
    "\n",
    "[**Exercices**](#exercices)\n",
    "\n",
    "- Exercice 1\n",
    "- Exercice 2\n",
    "\n",
    "***\n",
    "\n",
    "[![Open In Colab](https://colab.research.google.com/assets/colab-badge.svg)](https://colab.research.google.com/github/Selimmmm/hetic_m1_csb_public/blob/master/tp_6_webscraping_bs.ipynb)\n"
   ]
  },
  {
   "cell_type": "markdown",
   "metadata": {},
   "source": [
    "<a id='1'></a>\n",
    "\n",
    "## 1. Balises HTML\n",
    "\n",
    "\n",
    "En HTML, on utilise des balises pour séparer les différents morceaux du code qui correspondent à des éléments sur la page. Par exemple ``<head>`` est la balise pour le header du fichier html, ``<title>`` pour son titre, ``<p>`` pour un pragraphe, ``<h1>``, ``<h2>``, ``<h3>``,... pour des headlines ou ``<br>``pour un retour à la ligne.\n",
    "\n",
    "\n",
    "Une balise est toujours fermée par la même balise avec un ``/``en plus. Par exemple : ``<title> Titre </title>``"
   ]
  },
  {
   "cell_type": "markdown",
   "metadata": {},
   "source": [
    "#### Exemple : les balise des tableaux\n",
    "\n",
    "$$\n",
    "\\begin{array}{rr} \\hline\n",
    "Balise  & \\text{Description} \\\\ \\hline\n",
    "< table> & \\text{Tableau} \\\\\n",
    "< caption>& \\text{Titre du tableau} \\\\\n",
    "< tr> & \\text{Ligne de tableau} \\\\\n",
    "< th> & \\text{Cellule d'en-tête}\\\\\n",
    "< td> & \\text{Cellule} \\\\\n",
    "< thead> & \\text{Section de l'en-tête du tableau} \\\\\n",
    "< tbody> & \\text{Section du corps du tableau} \\\\\n",
    "< tfoot> & \\text{Section du pied du tableau} \\\\\n",
    "\\end{array}\n",
    "$$"
   ]
  },
  {
   "cell_type": "markdown",
   "metadata": {},
   "source": [
    "##### Application : un tableau en HTML\n",
    "\n",
    "Le code *HTML* du tableau suivant\n"
   ]
  },
  {
   "cell_type": "code",
   "execution_count": 1,
   "metadata": {},
   "outputs": [
    {
     "ename": "SyntaxError",
     "evalue": "invalid syntax (<ipython-input-1-132a93e9898c>, line 1)",
     "output_type": "error",
     "traceback": [
      "\u001b[0;36m  File \u001b[0;32m\"<ipython-input-1-132a93e9898c>\"\u001b[0;36m, line \u001b[0;32m1\u001b[0m\n\u001b[0;31m    <table>\u001b[0m\n\u001b[0m    ^\u001b[0m\n\u001b[0;31mSyntaxError\u001b[0m\u001b[0;31m:\u001b[0m invalid syntax\n"
     ]
    }
   ],
   "source": [
    "<table>\n",
    "<caption> Le Titre de mon tableau </caption>\n",
    "\n",
    "   <tr>\n",
    "      <th>Prénom</th>\n",
    "      <th>Nom</th>\n",
    "      <th>Profession</th>\n",
    "   </tr>\n",
    "   <tr>\n",
    "      <td>Mike </td>\n",
    "      <td>Stuntman</td>\n",
    "      <td>Cascadeur</td>\n",
    "   </tr>\n",
    "   <tr>\n",
    "      <td>Mister</td>\n",
    "      <td>Pink</td>\n",
    "      <td>Gangster</td>\n",
    "   </tr>\n",
    "</table>"
   ]
  },
  {
   "cell_type": "markdown",
   "metadata": {},
   "source": [
    "Donnera dans le navigateur\n",
    "\n",
    "<table>\n",
    "<caption> Le Titre de mon tableau </caption>\n",
    "\n",
    "   <tr>\n",
    "      <th>Prénom</th>\n",
    "      <th>Nom</th>\n",
    "      <th>Profession</th>\n",
    "   </tr>\n",
    "   <tr>\n",
    "      <td>Mike </td>\n",
    "      <td>Stuntman</td>\n",
    "      <td>Cascadeur</td>\n",
    "   </tr>\n",
    "   <tr>\n",
    "      <td>Mister</td>\n",
    "      <td>Pink</td>\n",
    "      <td>Gangster</td>\n",
    "   </tr>\n",
    "</table>"
   ]
  },
  {
   "cell_type": "markdown",
   "metadata": {},
   "source": [
    "<a id='2'></a>\n",
    "## 2. Parent et enfant\n",
    "\n",
    "Dans le cadre du langage HTML, les termes de parents (parent) et enfants (child) servent à désigner des élements emboîtés les uns dans les autres. Dans la construction suivante, par exemple :\n"
   ]
  },
  {
   "cell_type": "code",
   "execution_count": 2,
   "metadata": {},
   "outputs": [
    {
     "ename": "SyntaxError",
     "evalue": "invalid syntax (<ipython-input-2-81de294fe3e9>, line 1)",
     "output_type": "error",
     "traceback": [
      "\u001b[0;36m  File \u001b[0;32m\"<ipython-input-2-81de294fe3e9>\"\u001b[0;36m, line \u001b[0;32m1\u001b[0m\n\u001b[0;31m    <div>\u001b[0m\n\u001b[0m    ^\u001b[0m\n\u001b[0;31mSyntaxError\u001b[0m\u001b[0;31m:\u001b[0m invalid syntax\n"
     ]
    }
   ],
   "source": [
    "<div> \n",
    "    <p>\n",
    "       bla,bla\n",
    "    </p>\n",
    "</div>\n",
    "\n",
    "\n",
    "\n",
    "<div> \n",
    "\n",
    "</div>\n",
    "\n",
    "<p>\n",
    "   bla,bla\n",
    "</p>"
   ]
  },
  {
   "cell_type": "markdown",
   "metadata": {},
   "source": [
    "Sur la page web, cela apparaitra de la manière suivante : \n",
    "\n",
    "<div> \n",
    "    <p>\n",
    "       bla,bla\n",
    "    </p>\n",
    "</div>"
   ]
  },
  {
   "cell_type": "markdown",
   "metadata": {},
   "source": [
    "On dira que l'élément ``<div>`` est le parent de l'élément ``<p>`` tandis que l'élément ``<p>`` est l'enfant de l'élément ``<div>``."
   ]
  },
  {
   "cell_type": "markdown",
   "metadata": {},
   "source": [
    "## 3. Utiliser BeautifulSoup\n",
    "\n",
    "Les packages et étapes pour scrapper des pages HTML : \n",
    "- Etape 1: ``requests`` ou ``urllib`` pour faire des requêtes `GET` sur les pages\n",
    "- Etape 2: ``BeautifulSoup4`` pour parser le code HTML"
   ]
  },
  {
   "cell_type": "code",
   "execution_count": 40,
   "metadata": {},
   "outputs": [],
   "source": [
    "import urllib\n",
    "import bs4"
   ]
  },
  {
   "cell_type": "markdown",
   "metadata": {},
   "source": [
    "### 1ere page HTML\n",
    "\n",
    "On va commencer facilement, prenons une page wikipedia, par exemple celle de la Ligue 1 de football : [Championnat de France de football 2019-2020](https://fr.wikipedia.org/wiki/Championnat_de_France_de_football_2019-2020). On va souhaiter récupérer la liste des équipes, ainsi que les url des pages Wikipedia de ces équipes.\n"
   ]
  },
  {
   "cell_type": "code",
   "execution_count": 48,
   "metadata": {
    "lines_to_next_cell": 2
   },
   "outputs": [
    {
     "name": "stdout",
     "output_type": "stream",
     "text": [
      "b'<!DOCTYPE html>\\n<html class=\"client-nojs\" lang=\"fr\" dir=\"ltr\">\\n<head>\\n<meta charset=\"UTF-8\"/>\\n<title>Championnat de France de football 2019-2020 \\xe2\\x80\\x94 Wikip\\xc3\\xa9dia</title>\\n<script>document.documentElement.className=\"client-js\";RLCONF={\"wgBreakFrames\":!1,\"wgSeparatorTransformTable\":[\",\\\\t.\",\"\\xc2\\xa0\\\\t,\"],\"wgDigitTransformTable\":[\"\",\"\"],\"wgDefaultDateFormat\":\"dmy\",\"wgMonthNames\":[\"\",\"janvier\",\"f\\xc3\\xa9vrier\",\"mars\",\"avril\",\"mai\",\"juin\",\"juillet\",\"ao\\xc3\\xbbt\",\"septembre\",\"octobre\",\"novembre\",\"d\\xc3\\xa9cembre\"],\"wgRequestId\":\"76bb7e30-047e-4089-8680-fb16f784e572\",\"wgCSPNonce\":!1,\"wgCanonicalNamespace\":\"\",\"wgCanonicalSpecialPageName\":!1,\"wgNamespaceNumber\":0,\"wgPageName\":\"Championnat_de_France_de_football_2019-2020\",\"wgTitle\":\"Championnat de France de football 2019-2020\",\"wgCurRevisionId\":175912619,\"wgRevisionId\":175912619,\"wgArticleId\":12518858,\"wgIsArticle\":!0,\"wgIsRedirect\":!1,\"wgAction\":\"view\",\"wgUserName\":null,\"wgUserGroups\":[\"*\"],\"wgCategories\":[\"Page utilisant une frise chronologique\",\"Article utilisant une I'\n",
      "\n",
      " type: <class 'bytes'>\n"
     ]
    }
   ],
   "source": [
    "# Etape 1 : se connecter à la page wikipedia et obtenir le code source\n",
    "\n",
    "url_ligue_1 = \"https://fr.wikipedia.org/wiki/Championnat_de_France_de_football_2019-2020\"\n",
    "    \n",
    "from urllib import request\n",
    "\n",
    "request_text = request.urlopen(url_ligue_1).read()\n",
    "print(request_text[:1000])    \n",
    "print(\"\\n type:\", type(request_text))\n",
    "\n",
    "\n",
    "# Etape 2 : utiliser le package BeautifulSoup\n",
    "page = bs4.BeautifulSoup(request_text, \"lxml\")"
   ]
  },
  {
   "cell_type": "markdown",
   "metadata": {
    "lines_to_next_cell": 2
   },
   "source": [
    "### Méthode ``.find()``\n",
    "Elle renvoie la première occurence trouvée avec cette balise "
   ]
  },
  {
   "cell_type": "code",
   "execution_count": 49,
   "metadata": {},
   "outputs": [
    {
     "name": "stdout",
     "output_type": "stream",
     "text": [
      "<title>Championnat de France de football 2019-2020 — Wikipédia</title>\n"
     ]
    }
   ],
   "source": [
    "print(page.find(\"title\"))"
   ]
  },
  {
   "cell_type": "code",
   "execution_count": 50,
   "metadata": {},
   "outputs": [],
   "source": [
    "# print(page.find(\"table\"))"
   ]
  },
  {
   "cell_type": "markdown",
   "metadata": {},
   "source": [
    "La cellule avec le copier-coller du code source donne : \n",
    "\n",
    "<table><caption style=\"background:#99cc99;color:#000000;\">Généralités</caption><tbody><tr>\n",
    "<th scope=\"row\" style=\"width:10.5em;\">Sport</th>\n",
    "<td>\n",
    "<a href=\"/wiki/Football\" title=\"Football\">Football</a></td>\n",
    "</tr>\n",
    "<tr>\n",
    "<th scope=\"row\" style=\"width:10.5em;\">Organisateur(s)</th>\n",
    "<td>\n",
    "<a href=\"/wiki/Ligue_de_football_professionnel\" title=\"Ligue de football professionnel\">LFP</a></td>\n",
    "</tr>\n",
    "<tr>\n",
    "<th scope=\"row\" style=\"width:10.5em;\">Édition</th>\n",
    "<td>\n",
    "<abbr class=\"abbr\" title=\"Quatre-vingt-deuxième (huitante-deuxième / octante-deuxième)\">82<sup>e</sup></abbr></td>\n",
    "</tr>\n",
    "<tr>\n",
    "<th scope=\"row\" style=\"width:10.5em;\">Lieu(x)</th>\n",
    "<td>\n",
    "<span class=\"datasortkey\" data-sort-value=\"France\"><span class=\"flagicon\"><a class=\"image\" href=\"/wiki/Fichier:Flag_of_France.svg\" title=\"Drapeau de la France\"><img alt=\"Drapeau de la France\" class=\"noviewer thumbborder\" data-file-height=\"600\" data-file-width=\"900\" decoding=\"async\" height=\"13\" src=\"//upload.wikimedia.org/wikipedia/commons/thumb/c/c3/Flag_of_France.svg/20px-Flag_of_France.svg.png\" srcset=\"//upload.wikimedia.org/wikipedia/commons/thumb/c/c3/Flag_of_France.svg/30px-Flag_of_France.svg.png 1.5x, //upload.wikimedia.org/wikipedia/commons/thumb/c/c3/Flag_of_France.svg/40px-Flag_of_France.svg.png 2x\" width=\"20\"/></a> </span><a href=\"/wiki/France\" title=\"France\">France</a></span> et <br/><span class=\"datasortkey\" data-sort-value=\"Monaco\"><span class=\"flagicon\"><a class=\"image\" href=\"/wiki/Fichier:Flag_of_Monaco.svg\" title=\"Drapeau de Monaco\"><img alt=\"Drapeau de Monaco\" class=\"noviewer thumbborder\" data-file-height=\"800\" data-file-width=\"1000\" decoding=\"async\" height=\"16\" src=\"//upload.wikimedia.org/wikipedia/commons/thumb/e/ea/Flag_of_Monaco.svg/20px-Flag_of_Monaco.svg.png\" srcset=\"//upload.wikimedia.org/wikipedia/commons/thumb/e/ea/Flag_of_Monaco.svg/30px-Flag_of_Monaco.svg.png 1.5x, //upload.wikimedia.org/wikipedia/commons/thumb/e/ea/Flag_of_Monaco.svg/40px-Flag_of_Monaco.svg.png 2x\" width=\"20\"/></a> </span><a href=\"/wiki/Monaco\" title=\"Monaco\">Monaco</a></span></td>\n",
    "</tr>\n",
    "<tr>\n",
    "<th scope=\"row\" style=\"width:10.5em;\">Date</th>\n",
    "<td>\n",
    "Du <time class=\"nowrap date-lien\" data-sort-value=\"2019-08-09\" datetime=\"2019-08-09\"><a href=\"/wiki/9_ao%C3%BBt_en_sport\" title=\"9 août en sport\">9</a> <a class=\"mw-redirect\" href=\"/wiki/Ao%C3%BBt_2019_en_sport\" title=\"Août 2019 en sport\">août</a> <a href=\"/wiki/2019_en_football\" title=\"2019 en football\">2019</a></time><br/>au <time class=\"nowrap date-lien\" data-sort-value=\"2020-03-08\" datetime=\"2020-03-08\"><a href=\"/wiki/8_mars_en_sport\" title=\"8 mars en sport\">8 mars</a> <a href=\"/wiki/2020_en_football\" title=\"2020 en football\">2020</a></time> <small>(arrêt définitif)</small></td>\n",
    "</tr>\n",
    "<tr>\n",
    "<th scope=\"row\" style=\"width:10.5em;\">Participants</th>\n",
    "<td>\n",
    "20 équipes</td>\n",
    "</tr>\n",
    "<tr>\n",
    "<th scope=\"row\" style=\"width:10.5em;\">Matchs joués</th>\n",
    "<td>\n",
    "279</td>\n",
    "</tr>\n",
    "<tr>\n",
    "<th scope=\"row\" style=\"width:10.5em;\">Site web officiel</th>\n",
    "<td>\n",
    "<a class=\"external text\" href=\"https://www.ligue1.fr/\" rel=\"nofollow\">Site officiel</a></td>\n",
    "</tr></tbody></table>"
   ]
  },
  {
   "cell_type": "markdown",
   "metadata": {},
   "source": [
    "### Méthode ``.find_all()``\n",
    "Elle renvoie toutes les occurences trouvées avec cette balise "
   ]
  },
  {
   "cell_type": "code",
   "execution_count": 51,
   "metadata": {},
   "outputs": [
    {
     "name": "stdout",
     "output_type": "stream",
     "text": [
      "Il y a 33 éléments dans la page qui sont des <table>\n"
     ]
    }
   ],
   "source": [
    "all_tables = page.find_all(\"table\")\n",
    "print(\"Il y a\", len(all_tables), \"éléments dans la page qui sont des <table>\")"
   ]
  },
  {
   "cell_type": "markdown",
   "metadata": {},
   "source": [
    "### Attribut ``.text``\n",
    "Il contient le texte entre des bablises"
   ]
  },
  {
   "cell_type": "code",
   "execution_count": 52,
   "metadata": {},
   "outputs": [
    {
     "name": "stdout",
     "output_type": "stream",
     "text": [
      "<p>Les critères de départage sont inchangés depuis la saison 2017-2018. Ceux-ci se présentent ainsi :\n",
      "</p>\n",
      "Les critères de départage sont inchangés depuis la saison 2017-2018. Ceux-ci se présentent ainsi :\n",
      "\n"
     ]
    }
   ],
   "source": [
    "paragraph = page.find_all(\"p\")[10]\n",
    "print(paragraph)\n",
    "print(paragraph.text)"
   ]
  },
  {
   "cell_type": "markdown",
   "metadata": {},
   "source": [
    "### Filtrer sur une classe HTML avec ``find``ou ``find_all``"
   ]
  },
  {
   "cell_type": "code",
   "execution_count": 56,
   "metadata": {},
   "outputs": [
    {
     "name": "stdout",
     "output_type": "stream",
     "text": [
      "2 objects with class wikitable sortable\n"
     ]
    }
   ],
   "source": [
    "wikitables = page.find_all(\"table\", class_='wikitable sortable')\n",
    "print(len(wikitables), \"objects with class wikitable sortable\")"
   ]
  },
  {
   "cell_type": "markdown",
   "metadata": {},
   "source": [
    "### ``.get``pour récupérer un attribut\n",
    "Ici, on récupère l'attribut ``href``d'un tag avec ``.get(\"href\")``"
   ]
  },
  {
   "cell_type": "code",
   "execution_count": 76,
   "metadata": {},
   "outputs": [
    {
     "name": "stdout",
     "output_type": "stream",
     "text": [
      "2 objects with class wikitable sortable\n",
      "<th scope=\"col\">Classement<br/><a href=\"/wiki/Championnat_de_France_de_football_2018-2019\" title=\"Championnat de France de football 2018-2019\">2018-2019</a>\n",
      "</th>\n",
      "\n",
      "\n",
      "<a href=\"/wiki/Championnat_de_France_de_football_2018-2019\" title=\"Championnat de France de football 2018-2019\">2018-2019</a>\n",
      "/wiki/Championnat_de_France_de_football_2018-2019\n"
     ]
    }
   ],
   "source": [
    "wikitables = page.find_all(\"table\", class_='wikitable sortable')\n",
    "print(len(wikitables), \"objects with class wikitable sortable\")\n",
    "\n",
    "# th indique la ligne d'entête du tableau, on prend la troisième cellule \n",
    "# de la liste des entêtes\n",
    "tag_header = wikitables[0].find_all(\"th\")[3]\n",
    "print(tag_header)\n",
    "print('\\n')\n",
    "\n",
    "# on cherche maintenant la balise a dedans\n",
    "tag_a = tag_header.find(\"a\")\n",
    "print(tag_a)\n",
    "print(tag_a.get(\"href\"))"
   ]
  },
  {
   "cell_type": "markdown",
   "metadata": {},
   "source": [
    "## Exercices"
   ]
  },
  {
   "cell_type": "markdown",
   "metadata": {},
   "source": [
    "## Exercice 1 : obtenir la liste des équipes de Ligue 1\n",
    "\n",
    "Sur la page https://fr.wikipedia.org/wiki/Championnat_de_France_de_football_2019-2020, on veut scraper le tableau de la section Participants (celui avec ces colonnes : (Club, Dernière montée, Budget en M€, ...)"
   ]
  },
  {
   "cell_type": "markdown",
   "metadata": {},
   "source": [
    "#### 1) Trouver le tableau\n"
   ]
  },
  {
   "cell_type": "code",
   "execution_count": 26,
   "metadata": {},
   "outputs": [],
   "source": [
    "import requests\n",
    "from bs4 import BeautifulSoup\n",
    "\n",
    "url_ligue_1 = \"https://fr.wikipedia.org/wiki/Championnat_de_France_de_football_2019-2020\"\n",
    "\n",
    "# Requête et son contenu\n",
    "response = requests.get(url_ligue_1)\n",
    "content = response.content\n",
    "\n",
    "# On parse le html\n",
    "page = BeautifulSoup(content, 'html.parser')\n",
    "\n",
    "# On trouve le tableau\n",
    "tableau_participants = page.find('table', class_='wikitable sortable')\n",
    "\n",
    "# Dans le tableau, on trouve le fuls tbody\n",
    "table_body = tableau_participants.find('tbody')"
   ]
  },
  {
   "cell_type": "markdown",
   "metadata": {},
   "source": [
    "#### 2) Récupérer chaque ligne du table\n"
   ]
  },
  {
   "cell_type": "code",
   "execution_count": 27,
   "metadata": {
    "lines_to_next_cell": 2
   },
   "outputs": [],
   "source": [
    "# on recherche toutes les lignes du tableau avec la balise \"tr\"\n",
    "rows = table_body.find_all('tr')"
   ]
  },
  {
   "cell_type": "code",
   "execution_count": 28,
   "metadata": {},
   "outputs": [],
   "source": [
    "# Example : \n",
    "row = rows[12]\n",
    "row = row.text.split(\"\\n\")\n",
    "row = [x for x in row if x != \"\"]"
   ]
  },
  {
   "cell_type": "code",
   "execution_count": 29,
   "metadata": {},
   "outputs": [],
   "source": [
    "# On reproduit cette logique sur toutes les lignes\n",
    "rows_cleaned = []\n",
    "for row in rows:\n",
    "    row_cleaned = row.text.split(\"\\n\")\n",
    "    row_cleaned = [x for x in row_cleaned if x != \"\"]\n",
    "    rows_cleaned.append(row_cleaned)\n",
    "    \n",
    "rows_cleaned = [[x for x in row.text.split(\"\\n\") if x != \"\"] for row in rows] "
   ]
  },
  {
   "cell_type": "code",
   "execution_count": 30,
   "metadata": {},
   "outputs": [
    {
     "data": {
      "text/plain": [
       "['FC Nantes',\n",
       " '2013',\n",
       " '70',\n",
       " '12e',\n",
       " ' Christian Gourcuff',\n",
       " '2019',\n",
       " 'Stade de la Beaujoire - Louis Fonteneau',\n",
       " '35\\xa0322',\n",
       " '51']"
      ]
     },
     "execution_count": 30,
     "metadata": {},
     "output_type": "execute_result"
    }
   ],
   "source": [
    "# Example\n",
    "row = rows[12]\n",
    "values = row.find_all(\"td\")\n",
    "values = [tag.text.strip(\"\\n\") for tag in values]\n",
    "values"
   ]
  },
  {
   "cell_type": "code",
   "execution_count": 31,
   "metadata": {},
   "outputs": [],
   "source": [
    "# On reproduit cette logique sur toutes les lignes\n",
    "l_values = []\n",
    "\n",
    "# On récupère les entêtes avec th\n",
    "values = rows[0].find_all(\"th\")\n",
    "values = [tag.text.strip(\"\\n\") for tag in values]\n",
    "l_values.append(values)\n",
    "\n",
    "for row in rows:\n",
    "    # On récupère les valeurs dans les cellules\n",
    "    values = row.find_all(\"td\")\n",
    "    values = [tag.text.strip(\"\\n\") for tag in values]\n",
    "    l_values.append(values)"
   ]
  },
  {
   "cell_type": "markdown",
   "metadata": {},
   "source": [
    "## Exercice 2\n",
    "- A partir de la suivante : [pokedex](https://pokemondb.net/pokedex/national), l'objectif est de constituer la liste de tous les pokemons\n",
    " - 1. Dans un premier temps, on voudrait la liste avec nom, numéro et types pour chaque pokémon\n",
    " - 2. Ensuite, on souhaiterait aussi garder l'url pour chaque pokemon (par exemple en utilisant l'attribut ``href``) pour pouvoir ensuite faire une requête ``GET``sur cette page (par exemple : https://pokemondb.net/pokedex/venusaur) et récupérer les données de taille et de poids"
   ]
  },
  {
   "cell_type": "code",
   "execution_count": 19,
   "metadata": {},
   "outputs": [],
   "source": [
    "## Question 1 (partielle, il n'y a pas les types)\n",
    "\n",
    "import requests\n",
    "from bs4 import BeautifulSoup\n",
    "import os\n",
    "\n",
    "\n",
    "url = \"https://pokemondb.net/pokedex/national\"\n",
    "\n",
    "# Requête\n",
    "response = requests.get(url)\n",
    "content = response.content\n",
    "page = BeautifulSoup(content, 'html.parser')\n",
    "# Division infocard pour chaque pokemon\n",
    "info_cards = page.find_all(\"div\", class_=\"infocard\")\n",
    "\n",
    "l_pokemons = []\n",
    "for info_card in info_cards[:15]:\n",
    "   \n",
    "    # On filtre sur la classe et on prend l'attribut text\n",
    "    name_tag = info_card.find('a', class_=\"ent-name\")\n",
    "    name = name_tag.text\n",
    "    number = info_card.find('small').text[1:]\n",
    "    \n",
    "    url = \"https://pokemondb.net/pokedex/\" + name_tag.get(\"href\").split(\"/\")[2]\n",
    "    \n",
    "    # On peut le trouver ainsi\n",
    "    types = info_card.find_all(\"small\")[1]\n",
    "    #print(types)\n",
    "    \n",
    "    # On peut aussi utiliser\n",
    "    types  = info_card.find('small').find_next(\"small\")#.text\n",
    "    #print(types)\n",
    "    types = [t.strip() for t in types.text.split(\" · \")]\n",
    "    \n",
    "    d = {\"name\":name, \"number\":number, \"types\":types, \"url\": url}\n",
    "   \n",
    "    l_pokemons.append(d)"
   ]
  },
  {
   "cell_type": "code",
   "execution_count": 36,
   "metadata": {},
   "outputs": [
    {
     "name": "stdout",
     "output_type": "stream",
     "text": [
      "https://pokemondb.net/pokedex/bulbasaur\n",
      "['0.7\\xa0m (2′04″)', '6.9\\xa0kg (15.2\\xa0lbs)']\n",
      "https://pokemondb.net/pokedex/ivysaur\n",
      "['1.0\\xa0m (3′03″)', '13.0\\xa0kg (28.7\\xa0lbs)']\n",
      "https://pokemondb.net/pokedex/venusaur\n",
      "['2.0\\xa0m (6′07″)', '100.0\\xa0kg (220.5\\xa0lbs)']\n",
      "https://pokemondb.net/pokedex/charmander\n",
      "['0.6\\xa0m (2′00″)', '8.5\\xa0kg (18.7\\xa0lbs)']\n",
      "https://pokemondb.net/pokedex/charmeleon\n",
      "['1.1\\xa0m (3′07″)', '19.0\\xa0kg (41.9\\xa0lbs)']\n",
      "https://pokemondb.net/pokedex/charizard\n",
      "['1.7\\xa0m (5′07″)', '90.5\\xa0kg (199.5\\xa0lbs)']\n",
      "https://pokemondb.net/pokedex/squirtle\n",
      "['0.5\\xa0m (1′08″)', '9.0\\xa0kg (19.8\\xa0lbs)']\n",
      "https://pokemondb.net/pokedex/wartortle\n",
      "['1.0\\xa0m (3′03″)', '22.5\\xa0kg (49.6\\xa0lbs)']\n",
      "https://pokemondb.net/pokedex/blastoise\n",
      "['1.6\\xa0m (5′03″)', '85.5\\xa0kg (188.5\\xa0lbs)']\n",
      "https://pokemondb.net/pokedex/caterpie\n",
      "['0.3\\xa0m (1′00″)', '2.9\\xa0kg (6.4\\xa0lbs)']\n",
      "https://pokemondb.net/pokedex/metapod\n",
      "['0.7\\xa0m (2′04″)', '9.9\\xa0kg (21.8\\xa0lbs)']\n",
      "https://pokemondb.net/pokedex/butterfree\n",
      "['1.1\\xa0m (3′07″)', '32.0\\xa0kg (70.5\\xa0lbs)']\n",
      "https://pokemondb.net/pokedex/weedle\n",
      "['0.3\\xa0m (1′00″)', '3.2\\xa0kg (7.1\\xa0lbs)']\n",
      "https://pokemondb.net/pokedex/kakuna\n",
      "['0.6\\xa0m (2′00″)', '10.0\\xa0kg (22.0\\xa0lbs)']\n",
      "https://pokemondb.net/pokedex/beedrill\n",
      "['1.0\\xa0m (3′03″)', '29.5\\xa0kg (65.0\\xa0lbs)']\n"
     ]
    }
   ],
   "source": [
    "## Question 1 (partielle, il n'y a pas les types)\n",
    "\n",
    "\n",
    "for pokemon in l_pokemons:\n",
    "    url = pokemon[\"url\"]\n",
    "    print(url)\n",
    "    \n",
    "    # Requête\n",
    "    response = requests.get(url)\n",
    "    content = response.content\n",
    "    page = BeautifulSoup(content, 'html.parser')\n",
    "    \n",
    "    # On récupère les nom des variables (en-têtes mais à gauche dans cette table)\n",
    "    ths = page.find(\"table\", class_=\"vitals-table\").find_all(\"th\")\n",
    "    \n",
    "    #for th in ths:\n",
    "    #    if th.text in [\"Height\", \"Weight\"]:\n",
    "    #        print(th.find_next())\n",
    "    \n",
    "    # On utilise find_next après avoir trouvé l'entête\n",
    "    data = [th.find_next().text for th in ths if th.text in [\"Height\", \"Weight\"]]\n",
    "    print(data)\n",
    "    \n",
    "    height = data[0].split(\"(\")[0].replace(\"\\xa0\", \" \").strip()\n",
    "    weight = data[1].split(\"(\")[0].replace(\"\\xa0\", \" \").strip()\n",
    "\n",
    "    pokemon[\"height\"] = height\n",
    "    pokemon[\"weight\"] = weight\n"
   ]
  },
  {
   "cell_type": "code",
   "execution_count": 39,
   "metadata": {},
   "outputs": [
    {
     "data": {
      "text/plain": [
       "[{'name': 'Bulbasaur',\n",
       "  'number': '001',\n",
       "  'types': ['Grass', 'Poison'],\n",
       "  'url': 'https://pokemondb.net/pokedex/bulbasaur',\n",
       "  'height': '0.7 m',\n",
       "  'weight': '6.9 kg'},\n",
       " {'name': 'Ivysaur',\n",
       "  'number': '002',\n",
       "  'types': ['Grass', 'Poison'],\n",
       "  'url': 'https://pokemondb.net/pokedex/ivysaur',\n",
       "  'height': '1.0 m',\n",
       "  'weight': '13.0 kg'},\n",
       " {'name': 'Venusaur',\n",
       "  'number': '003',\n",
       "  'types': ['Grass', 'Poison'],\n",
       "  'url': 'https://pokemondb.net/pokedex/venusaur',\n",
       "  'height': '2.0 m',\n",
       "  'weight': '100.0 kg'},\n",
       " {'name': 'Charmander',\n",
       "  'number': '004',\n",
       "  'types': ['Fire'],\n",
       "  'url': 'https://pokemondb.net/pokedex/charmander',\n",
       "  'height': '0.6 m',\n",
       "  'weight': '8.5 kg'},\n",
       " {'name': 'Charmeleon',\n",
       "  'number': '005',\n",
       "  'types': ['Fire'],\n",
       "  'url': 'https://pokemondb.net/pokedex/charmeleon',\n",
       "  'height': '1.1 m',\n",
       "  'weight': '19.0 kg'},\n",
       " {'name': 'Charizard',\n",
       "  'number': '006',\n",
       "  'types': ['Fire', 'Flying'],\n",
       "  'url': 'https://pokemondb.net/pokedex/charizard',\n",
       "  'height': '1.7 m',\n",
       "  'weight': '90.5 kg'},\n",
       " {'name': 'Squirtle',\n",
       "  'number': '007',\n",
       "  'types': ['Water'],\n",
       "  'url': 'https://pokemondb.net/pokedex/squirtle',\n",
       "  'height': '0.5 m',\n",
       "  'weight': '9.0 kg'},\n",
       " {'name': 'Wartortle',\n",
       "  'number': '008',\n",
       "  'types': ['Water'],\n",
       "  'url': 'https://pokemondb.net/pokedex/wartortle',\n",
       "  'height': '1.0 m',\n",
       "  'weight': '22.5 kg'},\n",
       " {'name': 'Blastoise',\n",
       "  'number': '009',\n",
       "  'types': ['Water'],\n",
       "  'url': 'https://pokemondb.net/pokedex/blastoise',\n",
       "  'height': '1.6 m',\n",
       "  'weight': '85.5 kg'},\n",
       " {'name': 'Caterpie',\n",
       "  'number': '010',\n",
       "  'types': ['Bug'],\n",
       "  'url': 'https://pokemondb.net/pokedex/caterpie',\n",
       "  'height': '0.3 m',\n",
       "  'weight': '2.9 kg'},\n",
       " {'name': 'Metapod',\n",
       "  'number': '011',\n",
       "  'types': ['Bug'],\n",
       "  'url': 'https://pokemondb.net/pokedex/metapod',\n",
       "  'height': '0.7 m',\n",
       "  'weight': '9.9 kg'},\n",
       " {'name': 'Butterfree',\n",
       "  'number': '012',\n",
       "  'types': ['Bug', 'Flying'],\n",
       "  'url': 'https://pokemondb.net/pokedex/butterfree',\n",
       "  'height': '1.1 m',\n",
       "  'weight': '32.0 kg'},\n",
       " {'name': 'Weedle',\n",
       "  'number': '013',\n",
       "  'types': ['Bug', 'Poison'],\n",
       "  'url': 'https://pokemondb.net/pokedex/weedle',\n",
       "  'height': '0.3 m',\n",
       "  'weight': '3.2 kg'},\n",
       " {'name': 'Kakuna',\n",
       "  'number': '014',\n",
       "  'types': ['Bug', 'Poison'],\n",
       "  'url': 'https://pokemondb.net/pokedex/kakuna',\n",
       "  'height': '0.6 m',\n",
       "  'weight': '10.0 kg'},\n",
       " {'name': 'Beedrill',\n",
       "  'number': '015',\n",
       "  'types': ['Bug', 'Poison'],\n",
       "  'url': 'https://pokemondb.net/pokedex/beedrill',\n",
       "  'height': '1.0 m',\n",
       "  'weight': '29.5 kg'}]"
      ]
     },
     "execution_count": 39,
     "metadata": {},
     "output_type": "execute_result"
    }
   ],
   "source": [
    "l_pokemons"
   ]
  },
  {
   "cell_type": "code",
   "execution_count": null,
   "metadata": {},
   "outputs": [],
   "source": []
  }
 ],
 "metadata": {
  "kernelspec": {
   "display_name": "Python 3",
   "language": "python",
   "name": "python3"
  },
  "language_info": {
   "codemirror_mode": {
    "name": "ipython",
    "version": 3
   },
   "file_extension": ".py",
   "mimetype": "text/x-python",
   "name": "python",
   "nbconvert_exporter": "python",
   "pygments_lexer": "ipython3",
   "version": "3.9.0"
  }
 },
 "nbformat": 4,
 "nbformat_minor": 4
}
