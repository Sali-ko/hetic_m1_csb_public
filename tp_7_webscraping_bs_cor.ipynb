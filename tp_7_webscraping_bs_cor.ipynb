{
 "cells": [
  {
   "cell_type": "markdown",
   "metadata": {},
   "source": [
    "#  Webscraping avec python\n",
    "\n",
    "\n",
    "\n"
   ]
  },
  {
   "cell_type": "markdown",
   "metadata": {},
   "source": [
    "Sous ce nom se cache une pratique très utile pour toute personne souhaitant travailler sur des informations disponibles en ligne, mais n'existant pas forcément sous la forme d'un tableau *Excel*... Bref, il s'agit de récupérer des informations depuis *Internet*."
   ]
  },
  {
   "cell_type": "markdown",
   "metadata": {},
   "source": [
    "Le [webscraping](https://fr.wikipedia.org/wiki/Web_scraping) désigne les techniques d'extraction du contenu des sites internet. Via un programme informatique : nous allons aujourd'hui vous présenter comme créer et exécuter ces robots afin de recupérer rapidement des informations utiles à vos projets actuels ou futurs."
   ]
  },
  {
   "cell_type": "markdown",
   "metadata": {},
   "source": [
    "## Un détour par le Web : comment fonctionne un site ?\n",
    "\n",
    "Même si nous n'allons pas aujourd'hui faire un cours de web, il vous faut néanmoins certaines bases pour comprendre comment un site internet fonctionne et comment sont structurées les informations sur une page.\n",
    "\n",
    "\n"
   ]
  },
  {
   "cell_type": "markdown",
   "metadata": {},
   "source": [
    "Un site Web est un ensemble de pages codées en *HTML* qui permet de décrire à la fois le contenu et la forme d'une page *Web*.\n",
    "\n",
    "Pour voir cela, ouvrez n'importe quelle page web et faites un clic-droit dessus. \n",
    "- Sous Chrome : Cliquez ensuite sur \"Affichez le code source de la page\" (Ctrl+U)\n",
    "- Sous Edge : \"Affichez la page source\" (Ctrl+U)\n",
    "- Sous Firefox : \"Code source de la page\"\n",
    "- Sous Safari : voir comment faire ici https://fr.wikihow.com/voir-le-code-source\n"
   ]
  },
  {
   "cell_type": "markdown",
   "metadata": {},
   "source": [
    "###  HTML \n",
    "\n",
    "### Les balises\n",
    "\n",
    "\n",
    "Sur une page web, vous trouverez toujours à coup sûr des éléments comme ``<head>``, ``<title>``, etc. Il  s'agit des codes qui vous permettent de structurer le contenu d'une page *HTML* et qui s'appellent des balises. \n",
    "Citons, par exemple, les balises ``<p>``, ``<h1>``, ``<h2>``, ``<h3>``, ``<strong>`` ou ``<em>``.\n",
    "Le symbole ``< >`` est une balise : il sert à indiquer le début d'une partie. Le symbole ``</ >`` indique la fin de cette partie. La plupart des balises vont par paires, avec une *balise ouvrante* et une *balise fermante* (par exemple ``<p>`` et ``</p>``)."
   ]
  },
  {
   "cell_type": "markdown",
   "metadata": {},
   "source": [
    "#### Exemple : les balise des tableaux\n",
    "\n",
    "$$\n",
    "\\begin{array}{rr} \\hline\n",
    "Balise  & \\text{Description} \\\\ \\hline\n",
    "< table> & \\text{Tableau} \\\\\n",
    "< caption>& \\text{Titre du tableau} \\\\\n",
    "< tr> & \\text{Ligne de tableau} \\\\\n",
    "< th> & \\text{Cellule d'en-tête}\\\\\n",
    "< td> & \\text{Cellule} \\\\\n",
    "< thead> & \\text{Section de l'en-tête du tableau} \\\\\n",
    "< tbody> & \\text{Section du corps du tableau} \\\\\n",
    "< tfoot> & \\text{Section du pied du tableau} \\\\\n",
    "\\end{array}\n",
    "$$"
   ]
  },
  {
   "cell_type": "markdown",
   "metadata": {},
   "source": [
    "##### Application : un tableau en HTML\n",
    "\n",
    "Le code *HTML* du tableau suivant\n"
   ]
  },
  {
   "cell_type": "code",
   "execution_count": 1,
   "metadata": {},
   "outputs": [
    {
     "ename": "SyntaxError",
     "evalue": "invalid syntax (<ipython-input-1-132a93e9898c>, line 1)",
     "output_type": "error",
     "traceback": [
      "\u001b[0;36m  File \u001b[0;32m\"<ipython-input-1-132a93e9898c>\"\u001b[0;36m, line \u001b[0;32m1\u001b[0m\n\u001b[0;31m    <table>\u001b[0m\n\u001b[0m    ^\u001b[0m\n\u001b[0;31mSyntaxError\u001b[0m\u001b[0;31m:\u001b[0m invalid syntax\n"
     ]
    }
   ],
   "source": [
    "<table>\n",
    "<caption> Le Titre de mon tableau </caption>\n",
    "\n",
    "   <tr>\n",
    "      <th>Prénom</th>\n",
    "      <th>Nom</th>\n",
    "      <th>Profession</th>\n",
    "   </tr>\n",
    "   <tr>\n",
    "      <td>Mike </td>\n",
    "      <td>Stuntman</td>\n",
    "      <td>Cascadeur</td>\n",
    "   </tr>\n",
    "   <tr>\n",
    "      <td>Mister</td>\n",
    "      <td>Pink</td>\n",
    "      <td>Gangster</td>\n",
    "   </tr>\n",
    "</table>"
   ]
  },
  {
   "cell_type": "markdown",
   "metadata": {},
   "source": [
    "Donnera dans le navigateur\n",
    "\n",
    "<table>\n",
    "<caption> Le Titre de mon tableau </caption>\n",
    "\n",
    "   <tr>\n",
    "      <th>Prénom</th>\n",
    "      <th>Nom</th>\n",
    "      <th>Profession</th>\n",
    "   </tr>\n",
    "   <tr>\n",
    "      <td>Mike </td>\n",
    "      <td>Stuntman</td>\n",
    "      <td>Cascadeur</td>\n",
    "   </tr>\n",
    "   <tr>\n",
    "      <td>Mister</td>\n",
    "      <td>Pink</td>\n",
    "      <td>Gangster</td>\n",
    "   </tr>\n",
    "</table>"
   ]
  },
  {
   "cell_type": "markdown",
   "metadata": {},
   "source": [
    "#### Parent et enfant\n",
    "\n",
    "Dans le cadre du langage HTML, les termes de parents (parent) et enfants (child) servent à désigner des élements emboîtés les uns dans les autres. Dans la construction suivante, par exemple :\n"
   ]
  },
  {
   "cell_type": "code",
   "execution_count": 2,
   "metadata": {},
   "outputs": [
    {
     "ename": "SyntaxError",
     "evalue": "invalid syntax (<ipython-input-2-3fb1b26103b2>, line 1)",
     "output_type": "error",
     "traceback": [
      "\u001b[0;36m  File \u001b[0;32m\"<ipython-input-2-3fb1b26103b2>\"\u001b[0;36m, line \u001b[0;32m1\u001b[0m\n\u001b[0;31m    < div>\u001b[0m\n\u001b[0m    ^\u001b[0m\n\u001b[0;31mSyntaxError\u001b[0m\u001b[0;31m:\u001b[0m invalid syntax\n"
     ]
    }
   ],
   "source": [
    "< div> \n",
    "    < p>\n",
    "       bla,bla\n",
    "    < /p>\n",
    "< /div>"
   ]
  },
  {
   "cell_type": "markdown",
   "metadata": {},
   "source": [
    "Sur la page web, cela apparaitra de la manière suivante : \n",
    "\n",
    "<div> \n",
    "    <p>\n",
    "       bla,bla\n",
    "    </p>\n",
    "</div>"
   ]
  },
  {
   "cell_type": "markdown",
   "metadata": {},
   "source": [
    "On dira que l'élément ``<div>`` est le parent de l'élément ``<p>`` tandis que l'élément ``<p>`` est l'enfant de l'élément ``<div>``."
   ]
  },
  {
   "cell_type": "markdown",
   "metadata": {},
   "source": [
    "----------\n",
    "\n",
    "Mais pourquoi apprendre ça pour scraper me direz-vous ?\n",
    "\n",
    "Pour bien récupérer les informations d'un site internet, il faut pouvoir comprendre sa structure et donc son code HTML. Les fonctions python qui servent au scrapping sont principalement construites pour vous permettre de naviguer entre les balises."
   ]
  },
  {
   "cell_type": "markdown",
   "metadata": {},
   "source": [
    "## Scrapper avec python\n",
    "\n",
    "Nous allons essentiellement utiliser le package [BeautifulSoup4](https://www.crummy.com/software/BeautifulSoup/bs4/doc/) pour ce cours, mais d'autres packages existent ([Selenium](https://selenium-python.readthedocs.io/), [Scrapy](https://scrapy.org/)...).\n",
    "\n",
    "[BeautifulSoup](https://www.crummy.com/software/BeautifulSoup/bs4/doc/) sera suffisant quand vous voudrez travailler sur des pages HTML statiques, dès que les informations que vous recherchez sont générées via l'exécution de scripts [Javascript](https://fr.wikipedia.org/wiki/JavaScript), il vous faudra passer par des outils comme Selenium.\n",
    "\n",
    "De même, si vous ne connaissez pas l'URL, il faudra passer par un framework comme [Scrapy](https://scrapy.org/), qui passe facilement d'une page à une autre (\"crawl\"). Scrapy est plus complexe à manipuler que [BeautifulSoup](https://www.crummy.com/software/BeautifulSoup/bs4/doc/) : si vous voulez plus de détails, rendez-vous sur la page du tutorial [Scrapy Tutorial](https://doc.scrapy.org/en/latest/intro/tutorial.html)."
   ]
  },
  {
   "cell_type": "markdown",
   "metadata": {},
   "source": [
    "### Utiliser BeautifulSoup\n",
    "\n",
    "Les packages pour scrapper des pages HTML : \n",
    "- [BeautifulSoup4](https://www.crummy.com/software/BeautifulSoup/bs4/doc/) (``pip install bs4``)\n",
    "- [urllib](https://docs.python.org/3/library/urllib.html#module-urllib)\n"
   ]
  },
  {
   "cell_type": "code",
   "execution_count": 3,
   "metadata": {},
   "outputs": [],
   "source": [
    "import urllib\n",
    "import bs4\n",
    "import pandas\n",
    "#help(bs4)"
   ]
  },
  {
   "cell_type": "markdown",
   "metadata": {},
   "source": [
    "#### 1ere page HTML\n",
    "\n",
    "On va commencer facilement, prenons une page wikipedia, par exemple celle de la Ligue 1 de football : [Championnat de France de football 2019-2020](https://fr.wikipedia.org/wiki/Championnat_de_France_de_football_2019-2020). On va souhaiter récupérer la liste des équipes, ainsi que les url des pages Wikipedia de ces équipes.\n"
   ]
  },
  {
   "cell_type": "code",
   "execution_count": 4,
   "metadata": {
    "lines_to_next_cell": 2
   },
   "outputs": [
    {
     "name": "stdout",
     "output_type": "stream",
     "text": [
      "b'<!DOCTYPE html>\\n<html class=\"client-nojs\" lang=\"fr\" dir=\"ltr\">\\n<head>\\n<meta charset=\"UTF-8\"/>\\n<title>Championnat de France de football 2019-2020 \\xe2\\x80\\x94 Wikip\\xc3\\xa9dia</title>\\n<script>document.documentElement.className=\"client-js\";RLCONF={\"wgBreakFrames\":!1,\"wgSeparatorTransformTable\":[\",\\\\t.\",\"\\xc2\\xa0\\\\t,\"],\"wgDigitTransformTable\":[\"\",\"\"],\"wgDefaultDateFormat\":\"dmy\",\"wgMonthNames\":[\"\",\"janvier\",\"f\\xc3\\xa9vrier\",\"mars\",\"avril\",\"mai\",\"juin\",\"juillet\",\"ao\\xc3\\xbbt\",\"septembre\",\"octobre\",\"novembre\",\"d\\xc3\\xa9cembre\"],\"wgRequestId\":\"cc877fcf-c049-418b-b502-c3e814ac05e2\",\"wgCSPNonce\":!1,\"wgCanonicalNamespace\":\"\",\"wgCanonicalSpecialPageName\":!1,\"wgNamespaceNumber\":0,\"wgPageName\":\"Championnat_de_France_de_football_2019-2020\",\"wgTitle\":\"Championnat de France de football 2019-2020\",\"wgCurRevisionId\":175912619,\"wgRevisionId\":175912619,\"wgArticleId\":12518858,\"wgIsArticle\":!0,\"wgIsRedirect\":!1,\"wgAction\":\"view\",\"wgUserName\":null,\"wgUserGroups\":[\"*\"],\"wgCategories\":[\"Page utilisant une frise chronologique\",\"Article utilisant une I'\n"
     ]
    }
   ],
   "source": [
    "# Etape 1 : se connecter à la page wikipedia et obtenir le code source\n",
    "\n",
    "url_ligue_1 = \"https://fr.wikipedia.org/wiki/Championnat_de_France_de_football_2019-2020\"\n",
    "    \n",
    "from urllib import request\n",
    "\n",
    "request_text = request.urlopen(url_ligue_1).read()\n",
    "print(request_text[:1000])    "
   ]
  },
  {
   "cell_type": "code",
   "execution_count": 5,
   "metadata": {
    "lines_to_next_cell": 2
   },
   "outputs": [
    {
     "data": {
      "text/plain": [
       "bytes"
      ]
     },
     "execution_count": 5,
     "metadata": {},
     "output_type": "execute_result"
    }
   ],
   "source": [
    "type(request_text)"
   ]
  },
  {
   "cell_type": "code",
   "execution_count": 7,
   "metadata": {},
   "outputs": [],
   "source": [
    "# Etape 2 : utiliser le package BeautifulSoup\n",
    "# qui \"comprend\" les balises contenues dans la chaine de caractères renvoyée par la fonction request\n",
    "\n",
    "page = bs4.BeautifulSoup(request_text, \"lxml\")\n",
    "\n",
    "#print(page)"
   ]
  },
  {
   "cell_type": "markdown",
   "metadata": {
    "lines_to_next_cell": 2
   },
   "source": [
    "Si on print l'objet, page créée avec BeautifulSoup, on voit que ce n'est plus une chaine de caractères mais bien une page HTML avec des balises. On peut à présenter chercher des élements à l'intérieur de ces balises.\n",
    "\n",
    "\n",
    "par exemple, si on veut connaire le titre de la page, on utilise la méthode .find et on lui demande \"title\""
   ]
  },
  {
   "cell_type": "code",
   "execution_count": 8,
   "metadata": {},
   "outputs": [
    {
     "name": "stdout",
     "output_type": "stream",
     "text": [
      "<title>Championnat de France de football 2019-2020 — Wikipédia</title>\n"
     ]
    }
   ],
   "source": [
    "print(page.find(\"title\"))"
   ]
  },
  {
   "cell_type": "markdown",
   "metadata": {},
   "source": [
    "La methode ``.find`` ne renvoie que la première occurence de l'élément. \n",
    "Cela correspond à l'encart \"Généralités\" de la page. \n",
    "\n",
    "Pour vous en assurer vous pouvez :\n",
    "- copier le bout de code source obtenu, \n",
    "- le coller  dans une cellule de votre notebook\n",
    "- et passer la cellule en \"Markdown\"\n"
   ]
  },
  {
   "cell_type": "code",
   "execution_count": 9,
   "metadata": {},
   "outputs": [
    {
     "name": "stdout",
     "output_type": "stream",
     "text": [
      "<table><caption style=\"background:#99cc99;color:#000000;\">Généralités</caption><tbody><tr>\n",
      "<th scope=\"row\" style=\"width:10.5em;\">Sport</th>\n",
      "<td>\n",
      "<a href=\"/wiki/Football\" title=\"Football\">Football</a></td>\n",
      "</tr>\n",
      "<tr>\n",
      "<th scope=\"row\" style=\"width:10.5em;\">Organisateur(s)</th>\n",
      "<td>\n",
      "<a href=\"/wiki/Ligue_de_football_professionnel\" title=\"Ligue de football professionnel\">LFP</a></td>\n",
      "</tr>\n",
      "<tr>\n",
      "<th scope=\"row\" style=\"width:10.5em;\">Édition</th>\n",
      "<td>\n",
      "<abbr class=\"abbr\" title=\"Quatre-vingt-deuxième (huitante-deuxième / octante-deuxième)\">82<sup>e</sup></abbr></td>\n",
      "</tr>\n",
      "<tr>\n",
      "<th scope=\"row\" style=\"width:10.5em;\">Lieu(x)</th>\n",
      "<td>\n",
      "<span class=\"datasortkey\" data-sort-value=\"France\"><span class=\"flagicon\"><a class=\"image\" href=\"/wiki/Fichier:Flag_of_France.svg\" title=\"Drapeau de la France\"><img alt=\"Drapeau de la France\" class=\"noviewer thumbborder\" data-file-height=\"600\" data-file-width=\"900\" decoding=\"async\" height=\"13\" src=\"//upload.wikimedia.org/wikipedia/commons/thumb/c/c3/Flag_of_France.svg/20px-Flag_of_France.svg.png\" srcset=\"//upload.wikimedia.org/wikipedia/commons/thumb/c/c3/Flag_of_France.svg/30px-Flag_of_France.svg.png 1.5x, //upload.wikimedia.org/wikipedia/commons/thumb/c/c3/Flag_of_France.svg/40px-Flag_of_France.svg.png 2x\" width=\"20\"/></a> </span><a href=\"/wiki/France\" title=\"France\">France</a></span> et <br/><span class=\"datasortkey\" data-sort-value=\"Monaco\"><span class=\"flagicon\"><a class=\"image\" href=\"/wiki/Fichier:Flag_of_Monaco.svg\" title=\"Drapeau de Monaco\"><img alt=\"Drapeau de Monaco\" class=\"noviewer thumbborder\" data-file-height=\"800\" data-file-width=\"1000\" decoding=\"async\" height=\"16\" src=\"//upload.wikimedia.org/wikipedia/commons/thumb/e/ea/Flag_of_Monaco.svg/20px-Flag_of_Monaco.svg.png\" srcset=\"//upload.wikimedia.org/wikipedia/commons/thumb/e/ea/Flag_of_Monaco.svg/30px-Flag_of_Monaco.svg.png 1.5x, //upload.wikimedia.org/wikipedia/commons/thumb/e/ea/Flag_of_Monaco.svg/40px-Flag_of_Monaco.svg.png 2x\" width=\"20\"/></a> </span><a href=\"/wiki/Monaco\" title=\"Monaco\">Monaco</a></span></td>\n",
      "</tr>\n",
      "<tr>\n",
      "<th scope=\"row\" style=\"width:10.5em;\">Date</th>\n",
      "<td>\n",
      "Du <time class=\"nowrap date-lien\" data-sort-value=\"2019-08-09\" datetime=\"2019-08-09\"><a href=\"/wiki/9_ao%C3%BBt_en_sport\" title=\"9 août en sport\">9</a> <a class=\"mw-redirect\" href=\"/wiki/Ao%C3%BBt_2019_en_sport\" title=\"Août 2019 en sport\">août</a> <a href=\"/wiki/2019_en_football\" title=\"2019 en football\">2019</a></time><br/>au <time class=\"nowrap date-lien\" data-sort-value=\"2020-03-08\" datetime=\"2020-03-08\"><a href=\"/wiki/8_mars_en_sport\" title=\"8 mars en sport\">8 mars</a> <a href=\"/wiki/2020_en_football\" title=\"2020 en football\">2020</a></time> <small>(arrêt définitif)</small></td>\n",
      "</tr>\n",
      "<tr>\n",
      "<th scope=\"row\" style=\"width:10.5em;\">Participants</th>\n",
      "<td>\n",
      "20 équipes</td>\n",
      "</tr>\n",
      "<tr>\n",
      "<th scope=\"row\" style=\"width:10.5em;\">Matchs joués</th>\n",
      "<td>\n",
      "279</td>\n",
      "</tr>\n",
      "<tr>\n",
      "<th scope=\"row\" style=\"width:10.5em;\">Site web officiel</th>\n",
      "<td>\n",
      "<a class=\"external text\" href=\"https://www.ligue1.fr/\" rel=\"nofollow\">Site officiel</a></td>\n",
      "</tr></tbody></table>\n"
     ]
    }
   ],
   "source": [
    "print(page.find(\"table\"))"
   ]
  },
  {
   "cell_type": "markdown",
   "metadata": {},
   "source": [
    "La cellule avec le copier-coller du code source donne : \n",
    "\n",
    "<table><caption style=\"background:#99cc99;color:#000000;\">Généralités</caption><tbody><tr>\n",
    "<th scope=\"row\" style=\"width:10.5em;\">Sport</th>\n",
    "<td>\n",
    "<a href=\"/wiki/Football\" title=\"Football\">Football</a></td>\n",
    "</tr>\n",
    "<tr>\n",
    "<th scope=\"row\" style=\"width:10.5em;\">Organisateur(s)</th>\n",
    "<td>\n",
    "<a href=\"/wiki/Ligue_de_football_professionnel\" title=\"Ligue de football professionnel\">LFP</a></td>\n",
    "</tr>\n",
    "<tr>\n",
    "<th scope=\"row\" style=\"width:10.5em;\">Édition</th>\n",
    "<td>\n",
    "<abbr class=\"abbr\" title=\"Quatre-vingt-deuxième (huitante-deuxième / octante-deuxième)\">82<sup>e</sup></abbr></td>\n",
    "</tr>\n",
    "<tr>\n",
    "<th scope=\"row\" style=\"width:10.5em;\">Lieu(x)</th>\n",
    "<td>\n",
    "<span class=\"datasortkey\" data-sort-value=\"France\"><span class=\"flagicon\"><a class=\"image\" href=\"/wiki/Fichier:Flag_of_France.svg\" title=\"Drapeau de la France\"><img alt=\"Drapeau de la France\" class=\"noviewer thumbborder\" data-file-height=\"600\" data-file-width=\"900\" decoding=\"async\" height=\"13\" src=\"//upload.wikimedia.org/wikipedia/commons/thumb/c/c3/Flag_of_France.svg/20px-Flag_of_France.svg.png\" srcset=\"//upload.wikimedia.org/wikipedia/commons/thumb/c/c3/Flag_of_France.svg/30px-Flag_of_France.svg.png 1.5x, //upload.wikimedia.org/wikipedia/commons/thumb/c/c3/Flag_of_France.svg/40px-Flag_of_France.svg.png 2x\" width=\"20\"/></a> </span><a href=\"/wiki/France\" title=\"France\">France</a></span> et <br/><span class=\"datasortkey\" data-sort-value=\"Monaco\"><span class=\"flagicon\"><a class=\"image\" href=\"/wiki/Fichier:Flag_of_Monaco.svg\" title=\"Drapeau de Monaco\"><img alt=\"Drapeau de Monaco\" class=\"noviewer thumbborder\" data-file-height=\"800\" data-file-width=\"1000\" decoding=\"async\" height=\"16\" src=\"//upload.wikimedia.org/wikipedia/commons/thumb/e/ea/Flag_of_Monaco.svg/20px-Flag_of_Monaco.svg.png\" srcset=\"//upload.wikimedia.org/wikipedia/commons/thumb/e/ea/Flag_of_Monaco.svg/30px-Flag_of_Monaco.svg.png 1.5x, //upload.wikimedia.org/wikipedia/commons/thumb/e/ea/Flag_of_Monaco.svg/40px-Flag_of_Monaco.svg.png 2x\" width=\"20\"/></a> </span><a href=\"/wiki/Monaco\" title=\"Monaco\">Monaco</a></span></td>\n",
    "</tr>\n",
    "<tr>\n",
    "<th scope=\"row\" style=\"width:10.5em;\">Date</th>\n",
    "<td>\n",
    "Du <time class=\"nowrap date-lien\" data-sort-value=\"2019-08-09\" datetime=\"2019-08-09\"><a href=\"/wiki/9_ao%C3%BBt_en_sport\" title=\"9 août en sport\">9</a> <a class=\"mw-redirect\" href=\"/wiki/Ao%C3%BBt_2019_en_sport\" title=\"Août 2019 en sport\">août</a> <a href=\"/wiki/2019_en_football\" title=\"2019 en football\">2019</a></time><br/>au <time class=\"nowrap date-lien\" data-sort-value=\"2020-03-08\" datetime=\"2020-03-08\"><a href=\"/wiki/8_mars_en_sport\" title=\"8 mars en sport\">8 mars</a> <a href=\"/wiki/2020_en_football\" title=\"2020 en football\">2020</a></time> <small>(arrêt définitif)</small></td>\n",
    "</tr>\n",
    "<tr>\n",
    "<th scope=\"row\" style=\"width:10.5em;\">Participants</th>\n",
    "<td>\n",
    "20 équipes</td>\n",
    "</tr>\n",
    "<tr>\n",
    "<th scope=\"row\" style=\"width:10.5em;\">Matchs joués</th>\n",
    "<td>\n",
    "279</td>\n",
    "</tr>\n",
    "<tr>\n",
    "<th scope=\"row\" style=\"width:10.5em;\">Site web officiel</th>\n",
    "<td>\n",
    "<a class=\"external text\" href=\"https://www.ligue1.fr/\" rel=\"nofollow\">Site officiel</a></td>\n",
    "</tr></tbody></table>"
   ]
  },
  {
   "cell_type": "markdown",
   "metadata": {},
   "source": [
    "---------------\n",
    "Pour trouver toutes les occurences, on utilise ``.findAll()``.\n"
   ]
  },
  {
   "cell_type": "code",
   "execution_count": 10,
   "metadata": {},
   "outputs": [
    {
     "name": "stdout",
     "output_type": "stream",
     "text": [
      "Il y a 33 éléments dans la page qui sont des <table>\n"
     ]
    }
   ],
   "source": [
    "print(\"Il y a\", len(page.findAll(\"table\")), \"éléments dans la page qui sont des <table>\")"
   ]
  },
  {
   "cell_type": "markdown",
   "metadata": {},
   "source": [
    "### Exercice guidé : obtenir la liste des équipes de Ligue 1\n",
    "\n",
    "Dans le premier paragraphe de la page \"Participants\", on a le tableau avec les résultats de l'année. \n",
    "\n",
    "Le but est de récupérer les informations contenues dans ce tableau. \n"
   ]
  },
  {
   "cell_type": "markdown",
   "metadata": {},
   "source": [
    "#### 1) Trouver le tableau\n"
   ]
  },
  {
   "cell_type": "code",
   "execution_count": 1,
   "metadata": {},
   "outputs": [
    {
     "ename": "NameError",
     "evalue": "name 'page' is not defined",
     "output_type": "error",
     "traceback": [
      "\u001b[0;31m---------------------------------------------------------------------------\u001b[0m",
      "\u001b[0;31mNameError\u001b[0m                                 Traceback (most recent call last)",
      "\u001b[0;32m<ipython-input-1-737a4bd26eec>\u001b[0m in \u001b[0;36m<module>\u001b[0;34m\u001b[0m\n\u001b[1;32m      1\u001b[0m \u001b[0;31m# on identifie le tableau en question : c'est le premier qui a cette classe \"wikitable sortable\"\u001b[0m\u001b[0;34m\u001b[0m\u001b[0;34m\u001b[0m\u001b[0;34m\u001b[0m\u001b[0m\n\u001b[0;32m----> 2\u001b[0;31m \u001b[0mtableau_participants\u001b[0m \u001b[0;34m=\u001b[0m \u001b[0mpage\u001b[0m\u001b[0;34m.\u001b[0m\u001b[0mfind\u001b[0m\u001b[0;34m(\u001b[0m\u001b[0;34m'table'\u001b[0m\u001b[0;34m,\u001b[0m \u001b[0;34m{\u001b[0m\u001b[0;34m'class'\u001b[0m \u001b[0;34m:\u001b[0m \u001b[0;34m'wikitable sortable'\u001b[0m\u001b[0;34m}\u001b[0m\u001b[0;34m)\u001b[0m\u001b[0;34m\u001b[0m\u001b[0;34m\u001b[0m\u001b[0m\n\u001b[0m\u001b[1;32m      3\u001b[0m \u001b[0;31m#print(tableau_participants)\u001b[0m\u001b[0;34m\u001b[0m\u001b[0;34m\u001b[0m\u001b[0;34m\u001b[0m\u001b[0m\n",
      "\u001b[0;31mNameError\u001b[0m: name 'page' is not defined"
     ]
    }
   ],
   "source": [
    "# on identifie le tableau en question : c'est le premier qui a cette classe \"wikitable sortable\"\n",
    "tableau_participants = page.find('table', {'class' : 'wikitable sortable'})\n",
    "#print(tableau_participants)"
   ]
  },
  {
   "cell_type": "markdown",
   "metadata": {},
   "source": [
    "#### 2) Récupérer chaque ligne du table\n"
   ]
  },
  {
   "cell_type": "code",
   "execution_count": 12,
   "metadata": {
    "lines_to_next_cell": 2
   },
   "outputs": [
    {
     "name": "stdout",
     "output_type": "stream",
     "text": [
      "<tr>\n",
      "<th scope=\"col\">Club\n",
      "</th>\n",
      "<th scope=\"col\">Dernière<br/>montée\n",
      "</th>\n",
      "<th scope=\"col\">Budget<sup class=\"reference\" id=\"cite_ref-3\"><a href=\"#cite_note-3\"><span class=\"cite_crochet\">[</span>3<span class=\"cite_crochet\">]</span></a></sup><br/>en M<a href=\"/wiki/Euro\" title=\"Euro\">€</a>\n",
      "</th>\n",
      "<th scope=\"col\">Classement<br/><a href=\"/wiki/Championnat_de_France_de_football_2018-2019\" title=\"Championnat de France de football 2018-2019\">2018-2019</a>\n",
      "</th>\n",
      "<th scope=\"col\">Entraîneur\n",
      "</th>\n",
      "<th scope=\"col\">Depuis\n",
      "</th>\n",
      "<th scope=\"col\">Stade\n",
      "</th>\n",
      "<th scope=\"col\">Capacité<br/>en L1<sup class=\"reference\" id=\"cite_ref-4\"><a href=\"#cite_note-4\"><span class=\"cite_crochet\">[</span>4<span class=\"cite_crochet\">]</span></a></sup>\n",
      "</th>\n",
      "<th scope=\"col\">Nombre<br/>de saisons<br/>en L1\n",
      "</th></tr>\n"
     ]
    }
   ],
   "source": [
    "table_body = tableau_participants.find('tbody')\n",
    "\n",
    "# on recherche toutes les lignes du tableau avec la balise \"tr\"\n",
    "rows = table_body.find_all('tr')\n",
    "\n",
    "# on obtient une liste où chaque élément est une des lignes du tableau\n",
    "\n",
    "# par exemple la première ligne va correspondre aux entêtes de colonne\n",
    "print(rows[0])"
   ]
  },
  {
   "cell_type": "code",
   "execution_count": 13,
   "metadata": {},
   "outputs": [
    {
     "name": "stdout",
     "output_type": "stream",
     "text": [
      "<tr bgcolor=\"#97DEFF\">\n",
      "<td><a href=\"/wiki/Paris_Saint-Germain_Football_Club\" title=\"Paris Saint-Germain Football Club\">Paris Saint-Germain</a>\n",
      "</td>\n",
      "<td>1974\n",
      "</td>\n",
      "<td>637\n",
      "</td>\n",
      "<td><span data-sort-value=\"101 !\"></span><abbr class=\"abbr\" title=\"Premier\">1<sup>er</sup></abbr>\n",
      "</td>\n",
      "<td align=\"left\"><span class=\"flagicon\"><a class=\"image\" href=\"/wiki/Fichier:Flag_of_Germany.svg\" title=\"Drapeau : Allemagne\"><img alt=\"Drapeau : Allemagne\" class=\"noviewer thumbborder\" data-file-height=\"600\" data-file-width=\"1000\" decoding=\"async\" height=\"12\" src=\"//upload.wikimedia.org/wikipedia/commons/thumb/b/ba/Flag_of_Germany.svg/20px-Flag_of_Germany.svg.png\" srcset=\"//upload.wikimedia.org/wikipedia/commons/thumb/b/ba/Flag_of_Germany.svg/30px-Flag_of_Germany.svg.png 1.5x, //upload.wikimedia.org/wikipedia/commons/thumb/b/ba/Flag_of_Germany.svg/40px-Flag_of_Germany.svg.png 2x\" width=\"20\"/></a></span> <a href=\"/wiki/Thomas_Tuchel\" title=\"Thomas Tuchel\">Thomas Tuchel</a>\n",
      "</td>\n",
      "<td>2018\n",
      "</td>\n",
      "<td><a href=\"/wiki/Parc_des_Princes\" title=\"Parc des Princes\">Parc des Princes</a>\n",
      "</td>\n",
      "<td>47 929\n",
      "</td>\n",
      "<td>46\n",
      "</td></tr>\n"
     ]
    }
   ],
   "source": [
    "# par exemple la seconde ligne va correspondre à la ligne du premier club présent dans le tableau\n",
    "\n",
    "print(rows[1])"
   ]
  },
  {
   "cell_type": "markdown",
   "metadata": {},
   "source": [
    "#### 3)  Nettoyer les sorties en ne gardant que le texte sur une ligne"
   ]
  },
  {
   "cell_type": "markdown",
   "metadata": {},
   "source": [
    "On va utiliser l'attribut \"text\" afin de se débarasser de toute la couche de HTML qu'on obtient à l'étape 2.\n",
    "\n",
    "Un exemple sur la ligne du premier club :\n",
    "- on commence par prendre toutes les cellules de cette ligne, avec la balise \"td\".\n",
    "- on fait ensuite une boucle sur chacune des cellules et on ne garde que le texte de la cellule avec l'attribut \"text\".\n",
    "- enfin, on applique la méthode strip() pour que le texte soit bien mis en forme (sans espace inutile etc).\n"
   ]
  },
  {
   "cell_type": "code",
   "execution_count": 14,
   "metadata": {},
   "outputs": [
    {
     "name": "stdout",
     "output_type": "stream",
     "text": [
      "Paris Saint-Germain\n",
      "1974\n",
      "637\n",
      "1er\n",
      "Thomas Tuchel\n",
      "2018\n",
      "Parc des Princes\n",
      "47 929\n",
      "46\n"
     ]
    }
   ],
   "source": [
    "cols = rows[1].find_all('td')\n",
    "for ele in cols : \n",
    "    print(ele.text.strip())"
   ]
  },
  {
   "cell_type": "markdown",
   "metadata": {},
   "source": [
    "#### 4) Généraliser sur toutes les lignes\n"
   ]
  },
  {
   "cell_type": "code",
   "execution_count": 15,
   "metadata": {},
   "outputs": [
    {
     "name": "stdout",
     "output_type": "stream",
     "text": [
      "[]\n",
      "['Paris Saint-Germain', '1974', '637', '1er', 'Thomas Tuchel', '2018', 'Parc des Princes', '47\\xa0929', '46']\n",
      "['LOSC Lille', '2000', '120', '2e', 'Christophe Galtier', '2017', 'Stade Pierre-Mauroy', '49\\xa0712', '59']\n",
      "['Olympique lyonnais', '1989', '310', '3e', 'Rudi Garcia', '2019', 'Groupama Stadium', '57\\xa0206', '60']\n",
      "['AS Saint-Étienne', '2004', '100', '4e', 'Claude Puel', '2019', 'Stade Geoffroy-Guichard', '41\\xa0965', '66']\n",
      "['Olympique de Marseille', '1996', '110', '5e', 'André Villas-Boas', '2019', 'Orange Vélodrome', '66\\xa0226', '69']\n",
      "['Montpellier HSC', '2009', '40', '6e', 'Michel Der Zakarian', '2017', 'Stade de la Mosson', '22\\xa0000', '27']\n",
      "['OGC Nice', '2002', '50', '7e', 'Patrick Vieira', '2018', 'Allianz Riviera', '35\\xa0596', '60']\n",
      "['Stade de Reims', '2018', '45', '8e', 'David Guion', '2017', 'Stade Auguste-Delaune', '20\\xa0546', '35']\n",
      "['Nîmes Olympique', '2018', '27', '9e', 'Bernard Blaquart', '2015', 'Stade des Costières', '15\\xa0788', '35']\n",
      "['Stade rennais FC', '1994', '65', '10e', 'Julien Stéphan', '2018', 'Roazhon Park', '29\\xa0194', '62']\n",
      "['RC Strasbourg Alsace', '2017', '43', '11e', 'Thierry Laurey', '2016', 'Stade de la Meinau', '26\\xa0109', '58']\n",
      "['FC Nantes', '2013', '70', '12e', 'Christian Gourcuff', '2019', 'Stade de la Beaujoire - Louis Fonteneau', '35\\xa0322', '51']\n",
      "['SCO d’Angers', '2015', '32', '13e', 'Stéphane Moulin', '2011', 'Stade Raymond-Kopa', '17\\xa0048', '27']\n",
      "['Girondins de Bordeaux', '1992', '70', '14e', 'Paulo Sousa', '2019', 'Matmut Atlantique', '42\\xa0115', '66']\n",
      "['Amiens SC', '2017', '30', '15e', 'Luka Elsner', '2019', 'Stade Crédit Agricole la Licorne', '12\\xa0999', '2']\n",
      "['Toulouse FC', '2003', '35', '16e', 'Denis Zanko', '2020', 'Stadium de Toulouse', '33\\xa0033', '32']\n",
      "['AS Monaco', '2013', '220', '17e', 'Robert Moreno', '2019', 'Stade Louis-II', '16\\xa0500', '60']\n",
      "['Dijon FCO', '2016', '38', '18e', 'Stéphane Jobard', '2019', 'Parc des Sports Gaston-Gérard', '15\\xa0459', '4']\n",
      "['FC Metz', '2019', '40', '1er (Ligue 2)', 'Vincent Hognon', '2019', 'Stade Saint-Symphorien', '25\\xa0865', '61']\n",
      "['Stade brestois 29', '2019', '30', '2e (Ligue 2)', \"Olivier Dall'Oglio\", '2019', 'Stade Francis-Le Blé', '14\\xa0920', '13']\n"
     ]
    }
   ],
   "source": [
    "for row in rows:\n",
    "    cols = row.find_all('td')\n",
    "    cols = [ele.text.strip() for ele in cols]\n",
    "    print(cols)"
   ]
  },
  {
   "cell_type": "markdown",
   "metadata": {},
   "source": [
    "On a bien réussi à avoir les informations contenues dans le tableau des Participants du championnat.\n",
    "Mais la premiere ligne est étrange : une liste vide ... \n",
    "\n",
    "Il s'agit des entêtes : qui sont reconnues par la balise \"th\" et non \"td\". \n",
    "\n",
    "On va mettre tout le contenu dans un dictionnaire, pour le transformer ensuite en dataframe pandas\n"
   ]
  },
  {
   "cell_type": "code",
   "execution_count": 16,
   "metadata": {
    "lines_to_next_cell": 2
   },
   "outputs": [
    {
     "data": {
      "text/plain": [
       "{'Paris Saint-Germain': ['1974',\n",
       "  '637',\n",
       "  '1er',\n",
       "  'Thomas Tuchel',\n",
       "  '2018',\n",
       "  'Parc des Princes',\n",
       "  '47\\xa0929',\n",
       "  '46'],\n",
       " 'LOSC Lille': ['2000',\n",
       "  '120',\n",
       "  '2e',\n",
       "  'Christophe Galtier',\n",
       "  '2017',\n",
       "  'Stade Pierre-Mauroy',\n",
       "  '49\\xa0712',\n",
       "  '59'],\n",
       " 'Olympique lyonnais': ['1989',\n",
       "  '310',\n",
       "  '3e',\n",
       "  'Rudi Garcia',\n",
       "  '2019',\n",
       "  'Groupama Stadium',\n",
       "  '57\\xa0206',\n",
       "  '60'],\n",
       " 'AS Saint-Étienne': ['2004',\n",
       "  '100',\n",
       "  '4e',\n",
       "  'Claude Puel',\n",
       "  '2019',\n",
       "  'Stade Geoffroy-Guichard',\n",
       "  '41\\xa0965',\n",
       "  '66'],\n",
       " 'Olympique de Marseille': ['1996',\n",
       "  '110',\n",
       "  '5e',\n",
       "  'André Villas-Boas',\n",
       "  '2019',\n",
       "  'Orange Vélodrome',\n",
       "  '66\\xa0226',\n",
       "  '69'],\n",
       " 'Montpellier HSC': ['2009',\n",
       "  '40',\n",
       "  '6e',\n",
       "  'Michel Der Zakarian',\n",
       "  '2017',\n",
       "  'Stade de la Mosson',\n",
       "  '22\\xa0000',\n",
       "  '27'],\n",
       " 'OGC Nice': ['2002',\n",
       "  '50',\n",
       "  '7e',\n",
       "  'Patrick Vieira',\n",
       "  '2018',\n",
       "  'Allianz Riviera',\n",
       "  '35\\xa0596',\n",
       "  '60'],\n",
       " 'Stade de Reims': ['2018',\n",
       "  '45',\n",
       "  '8e',\n",
       "  'David Guion',\n",
       "  '2017',\n",
       "  'Stade Auguste-Delaune',\n",
       "  '20\\xa0546',\n",
       "  '35'],\n",
       " 'Nîmes Olympique': ['2018',\n",
       "  '27',\n",
       "  '9e',\n",
       "  'Bernard Blaquart',\n",
       "  '2015',\n",
       "  'Stade des Costières',\n",
       "  '15\\xa0788',\n",
       "  '35'],\n",
       " 'Stade rennais FC': ['1994',\n",
       "  '65',\n",
       "  '10e',\n",
       "  'Julien Stéphan',\n",
       "  '2018',\n",
       "  'Roazhon Park',\n",
       "  '29\\xa0194',\n",
       "  '62'],\n",
       " 'RC Strasbourg Alsace': ['2017',\n",
       "  '43',\n",
       "  '11e',\n",
       "  'Thierry Laurey',\n",
       "  '2016',\n",
       "  'Stade de la Meinau',\n",
       "  '26\\xa0109',\n",
       "  '58'],\n",
       " 'FC Nantes': ['2013',\n",
       "  '70',\n",
       "  '12e',\n",
       "  'Christian Gourcuff',\n",
       "  '2019',\n",
       "  'Stade de la Beaujoire - Louis Fonteneau',\n",
       "  '35\\xa0322',\n",
       "  '51'],\n",
       " 'SCO d’Angers': ['2015',\n",
       "  '32',\n",
       "  '13e',\n",
       "  'Stéphane Moulin',\n",
       "  '2011',\n",
       "  'Stade Raymond-Kopa',\n",
       "  '17\\xa0048',\n",
       "  '27'],\n",
       " 'Girondins de Bordeaux': ['1992',\n",
       "  '70',\n",
       "  '14e',\n",
       "  'Paulo Sousa',\n",
       "  '2019',\n",
       "  'Matmut Atlantique',\n",
       "  '42\\xa0115',\n",
       "  '66'],\n",
       " 'Amiens SC': ['2017',\n",
       "  '30',\n",
       "  '15e',\n",
       "  'Luka Elsner',\n",
       "  '2019',\n",
       "  'Stade Crédit Agricole la Licorne',\n",
       "  '12\\xa0999',\n",
       "  '2'],\n",
       " 'Toulouse FC': ['2003',\n",
       "  '35',\n",
       "  '16e',\n",
       "  'Denis Zanko',\n",
       "  '2020',\n",
       "  'Stadium de Toulouse',\n",
       "  '33\\xa0033',\n",
       "  '32'],\n",
       " 'AS Monaco': ['2013',\n",
       "  '220',\n",
       "  '17e',\n",
       "  'Robert Moreno',\n",
       "  '2019',\n",
       "  'Stade Louis-II',\n",
       "  '16\\xa0500',\n",
       "  '60'],\n",
       " 'Dijon FCO': ['2016',\n",
       "  '38',\n",
       "  '18e',\n",
       "  'Stéphane Jobard',\n",
       "  '2019',\n",
       "  'Parc des Sports Gaston-Gérard',\n",
       "  '15\\xa0459',\n",
       "  '4'],\n",
       " 'FC Metz': ['2019',\n",
       "  '40',\n",
       "  '1er (Ligue 2)',\n",
       "  'Vincent Hognon',\n",
       "  '2019',\n",
       "  'Stade Saint-Symphorien',\n",
       "  '25\\xa0865',\n",
       "  '61'],\n",
       " 'Stade brestois 29': ['2019',\n",
       "  '30',\n",
       "  '2e (Ligue 2)',\n",
       "  \"Olivier Dall'Oglio\",\n",
       "  '2019',\n",
       "  'Stade Francis-Le Blé',\n",
       "  '14\\xa0920',\n",
       "  '13']}"
      ]
     },
     "execution_count": 16,
     "metadata": {},
     "output_type": "execute_result"
    }
   ],
   "source": [
    "dico_participants = dict()\n",
    "for row in rows:\n",
    "    cols = row.find_all('td')\n",
    "    cols = [ele.text.strip() for ele in cols]\n",
    "    if len(cols) > 0 : \n",
    "        dico_participants[cols[0]] = cols[1:]\n",
    "dico_participants"
   ]
  },
  {
   "cell_type": "code",
   "execution_count": 17,
   "metadata": {},
   "outputs": [
    {
     "data": {
      "text/html": [
       "<div>\n",
       "<style scoped>\n",
       "    .dataframe tbody tr th:only-of-type {\n",
       "        vertical-align: middle;\n",
       "    }\n",
       "\n",
       "    .dataframe tbody tr th {\n",
       "        vertical-align: top;\n",
       "    }\n",
       "\n",
       "    .dataframe thead th {\n",
       "        text-align: right;\n",
       "    }\n",
       "</style>\n",
       "<table border=\"1\" class=\"dataframe\">\n",
       "  <thead>\n",
       "    <tr style=\"text-align: right;\">\n",
       "      <th></th>\n",
       "      <th>0</th>\n",
       "      <th>1</th>\n",
       "      <th>2</th>\n",
       "      <th>3</th>\n",
       "      <th>4</th>\n",
       "      <th>5</th>\n",
       "      <th>6</th>\n",
       "      <th>7</th>\n",
       "    </tr>\n",
       "  </thead>\n",
       "  <tbody>\n",
       "    <tr>\n",
       "      <th>Paris Saint-Germain</th>\n",
       "      <td>1974</td>\n",
       "      <td>637</td>\n",
       "      <td>1er</td>\n",
       "      <td>Thomas Tuchel</td>\n",
       "      <td>2018</td>\n",
       "      <td>Parc des Princes</td>\n",
       "      <td>47 929</td>\n",
       "      <td>46</td>\n",
       "    </tr>\n",
       "    <tr>\n",
       "      <th>LOSC Lille</th>\n",
       "      <td>2000</td>\n",
       "      <td>120</td>\n",
       "      <td>2e</td>\n",
       "      <td>Christophe Galtier</td>\n",
       "      <td>2017</td>\n",
       "      <td>Stade Pierre-Mauroy</td>\n",
       "      <td>49 712</td>\n",
       "      <td>59</td>\n",
       "    </tr>\n",
       "    <tr>\n",
       "      <th>Olympique lyonnais</th>\n",
       "      <td>1989</td>\n",
       "      <td>310</td>\n",
       "      <td>3e</td>\n",
       "      <td>Rudi Garcia</td>\n",
       "      <td>2019</td>\n",
       "      <td>Groupama Stadium</td>\n",
       "      <td>57 206</td>\n",
       "      <td>60</td>\n",
       "    </tr>\n",
       "    <tr>\n",
       "      <th>AS Saint-Étienne</th>\n",
       "      <td>2004</td>\n",
       "      <td>100</td>\n",
       "      <td>4e</td>\n",
       "      <td>Claude Puel</td>\n",
       "      <td>2019</td>\n",
       "      <td>Stade Geoffroy-Guichard</td>\n",
       "      <td>41 965</td>\n",
       "      <td>66</td>\n",
       "    </tr>\n",
       "    <tr>\n",
       "      <th>Olympique de Marseille</th>\n",
       "      <td>1996</td>\n",
       "      <td>110</td>\n",
       "      <td>5e</td>\n",
       "      <td>André Villas-Boas</td>\n",
       "      <td>2019</td>\n",
       "      <td>Orange Vélodrome</td>\n",
       "      <td>66 226</td>\n",
       "      <td>69</td>\n",
       "    </tr>\n",
       "  </tbody>\n",
       "</table>\n",
       "</div>"
      ],
      "text/plain": [
       "                           0    1    2                   3     4  \\\n",
       "Paris Saint-Germain     1974  637  1er       Thomas Tuchel  2018   \n",
       "LOSC Lille              2000  120   2e  Christophe Galtier  2017   \n",
       "Olympique lyonnais      1989  310   3e         Rudi Garcia  2019   \n",
       "AS Saint-Étienne        2004  100   4e         Claude Puel  2019   \n",
       "Olympique de Marseille  1996  110   5e   André Villas-Boas  2019   \n",
       "\n",
       "                                              5       6   7  \n",
       "Paris Saint-Germain            Parc des Princes  47 929  46  \n",
       "LOSC Lille                  Stade Pierre-Mauroy  49 712  59  \n",
       "Olympique lyonnais             Groupama Stadium  57 206  60  \n",
       "AS Saint-Étienne        Stade Geoffroy-Guichard  41 965  66  \n",
       "Olympique de Marseille         Orange Vélodrome  66 226  69  "
      ]
     },
     "execution_count": 17,
     "metadata": {},
     "output_type": "execute_result"
    }
   ],
   "source": [
    "data_participants = pandas.DataFrame.from_dict(dico_participants,orient='index')\n",
    "data_participants.head()"
   ]
  },
  {
   "cell_type": "markdown",
   "metadata": {},
   "source": [
    "#### 5) Récupérer les entêtes du tableau\n"
   ]
  },
  {
   "cell_type": "code",
   "execution_count": 18,
   "metadata": {
    "lines_to_next_cell": 2
   },
   "outputs": [
    {
     "name": "stdout",
     "output_type": "stream",
     "text": [
      "[<th scope=\"col\">Club\n",
      "</th>, <th scope=\"col\">Dernière<br/>montée\n",
      "</th>, <th scope=\"col\">Budget<sup class=\"reference\" id=\"cite_ref-3\"><a href=\"#cite_note-3\"><span class=\"cite_crochet\">[</span>3<span class=\"cite_crochet\">]</span></a></sup><br/>en M<a href=\"/wiki/Euro\" title=\"Euro\">€</a>\n",
      "</th>, <th scope=\"col\">Classement<br/><a href=\"/wiki/Championnat_de_France_de_football_2018-2019\" title=\"Championnat de France de football 2018-2019\">2018-2019</a>\n",
      "</th>, <th scope=\"col\">Entraîneur\n",
      "</th>, <th scope=\"col\">Depuis\n",
      "</th>, <th scope=\"col\">Stade\n",
      "</th>, <th scope=\"col\">Capacité<br/>en L1<sup class=\"reference\" id=\"cite_ref-4\"><a href=\"#cite_note-4\"><span class=\"cite_crochet\">[</span>4<span class=\"cite_crochet\">]</span></a></sup>\n",
      "</th>, <th scope=\"col\">Nombre<br/>de saisons<br/>en L1\n",
      "</th>]\n",
      "[]\n",
      "[]\n",
      "[]\n",
      "[]\n",
      "[]\n",
      "[]\n",
      "[]\n",
      "[]\n",
      "[]\n",
      "[]\n",
      "[]\n",
      "[]\n",
      "[]\n",
      "[]\n",
      "[]\n",
      "[]\n",
      "[]\n",
      "[]\n",
      "[]\n",
      "[]\n"
     ]
    }
   ],
   "source": [
    "for row in rows:\n",
    "    cols = row.find_all('th')\n",
    "    print(cols)\n",
    "    if len(cols) > 0 : \n",
    "        cols = [ele.get_text(separator=' ').strip().title() for ele in cols]\n",
    "        columns_participants = cols"
   ]
  },
  {
   "cell_type": "code",
   "execution_count": 19,
   "metadata": {
    "lines_to_next_cell": 2
   },
   "outputs": [
    {
     "data": {
      "text/plain": [
       "['Club',\n",
       " 'Dernière Montée',\n",
       " 'Budget [ 3 ] En M €',\n",
       " 'Classement 2018-2019',\n",
       " 'Entraîneur',\n",
       " 'Depuis',\n",
       " 'Stade',\n",
       " 'Capacité En L1 [ 4 ]',\n",
       " 'Nombre De Saisons En L1']"
      ]
     },
     "execution_count": 19,
     "metadata": {},
     "output_type": "execute_result"
    }
   ],
   "source": [
    "columns_participants"
   ]
  },
  {
   "cell_type": "code",
   "execution_count": 20,
   "metadata": {},
   "outputs": [
    {
     "data": {
      "text/plain": [
       "['Club',\n",
       " 'Dernière Montée',\n",
       " 'Budget En M €',\n",
       " 'Classement 2018-2019',\n",
       " 'Entraîneur',\n",
       " 'Depuis',\n",
       " 'Stade',\n",
       " 'Capacité En L1 ',\n",
       " 'Nombre De Saisons En L1']"
      ]
     },
     "execution_count": 20,
     "metadata": {},
     "output_type": "execute_result"
    }
   ],
   "source": [
    "import re\n",
    "    \n",
    "columns_participants = [re.sub('\\[ (\\d+) \\] ?', '', nom_col) for nom_col in columns_participants]\n",
    "columns_participants"
   ]
  },
  {
   "cell_type": "markdown",
   "metadata": {},
   "source": [
    "#### 6) Finalisation du tableau \n"
   ]
  },
  {
   "cell_type": "code",
   "execution_count": 21,
   "metadata": {
    "lines_to_next_cell": 2
   },
   "outputs": [],
   "source": [
    "data_participants.columns = columns_participants[1:]"
   ]
  },
  {
   "cell_type": "code",
   "execution_count": 22,
   "metadata": {
    "lines_to_next_cell": 2
   },
   "outputs": [
    {
     "data": {
      "text/html": [
       "<div>\n",
       "<style scoped>\n",
       "    .dataframe tbody tr th:only-of-type {\n",
       "        vertical-align: middle;\n",
       "    }\n",
       "\n",
       "    .dataframe tbody tr th {\n",
       "        vertical-align: top;\n",
       "    }\n",
       "\n",
       "    .dataframe thead th {\n",
       "        text-align: right;\n",
       "    }\n",
       "</style>\n",
       "<table border=\"1\" class=\"dataframe\">\n",
       "  <thead>\n",
       "    <tr style=\"text-align: right;\">\n",
       "      <th></th>\n",
       "      <th>Dernière Montée</th>\n",
       "      <th>Budget En M €</th>\n",
       "      <th>Classement 2018-2019</th>\n",
       "      <th>Entraîneur</th>\n",
       "      <th>Depuis</th>\n",
       "      <th>Stade</th>\n",
       "      <th>Capacité En L1</th>\n",
       "      <th>Nombre De Saisons En L1</th>\n",
       "    </tr>\n",
       "  </thead>\n",
       "  <tbody>\n",
       "    <tr>\n",
       "      <th>Paris Saint-Germain</th>\n",
       "      <td>1974</td>\n",
       "      <td>637</td>\n",
       "      <td>1er</td>\n",
       "      <td>Thomas Tuchel</td>\n",
       "      <td>2018</td>\n",
       "      <td>Parc des Princes</td>\n",
       "      <td>47 929</td>\n",
       "      <td>46</td>\n",
       "    </tr>\n",
       "    <tr>\n",
       "      <th>LOSC Lille</th>\n",
       "      <td>2000</td>\n",
       "      <td>120</td>\n",
       "      <td>2e</td>\n",
       "      <td>Christophe Galtier</td>\n",
       "      <td>2017</td>\n",
       "      <td>Stade Pierre-Mauroy</td>\n",
       "      <td>49 712</td>\n",
       "      <td>59</td>\n",
       "    </tr>\n",
       "    <tr>\n",
       "      <th>Olympique lyonnais</th>\n",
       "      <td>1989</td>\n",
       "      <td>310</td>\n",
       "      <td>3e</td>\n",
       "      <td>Rudi Garcia</td>\n",
       "      <td>2019</td>\n",
       "      <td>Groupama Stadium</td>\n",
       "      <td>57 206</td>\n",
       "      <td>60</td>\n",
       "    </tr>\n",
       "    <tr>\n",
       "      <th>AS Saint-Étienne</th>\n",
       "      <td>2004</td>\n",
       "      <td>100</td>\n",
       "      <td>4e</td>\n",
       "      <td>Claude Puel</td>\n",
       "      <td>2019</td>\n",
       "      <td>Stade Geoffroy-Guichard</td>\n",
       "      <td>41 965</td>\n",
       "      <td>66</td>\n",
       "    </tr>\n",
       "    <tr>\n",
       "      <th>Olympique de Marseille</th>\n",
       "      <td>1996</td>\n",
       "      <td>110</td>\n",
       "      <td>5e</td>\n",
       "      <td>André Villas-Boas</td>\n",
       "      <td>2019</td>\n",
       "      <td>Orange Vélodrome</td>\n",
       "      <td>66 226</td>\n",
       "      <td>69</td>\n",
       "    </tr>\n",
       "    <tr>\n",
       "      <th>Montpellier HSC</th>\n",
       "      <td>2009</td>\n",
       "      <td>40</td>\n",
       "      <td>6e</td>\n",
       "      <td>Michel Der Zakarian</td>\n",
       "      <td>2017</td>\n",
       "      <td>Stade de la Mosson</td>\n",
       "      <td>22 000</td>\n",
       "      <td>27</td>\n",
       "    </tr>\n",
       "    <tr>\n",
       "      <th>OGC Nice</th>\n",
       "      <td>2002</td>\n",
       "      <td>50</td>\n",
       "      <td>7e</td>\n",
       "      <td>Patrick Vieira</td>\n",
       "      <td>2018</td>\n",
       "      <td>Allianz Riviera</td>\n",
       "      <td>35 596</td>\n",
       "      <td>60</td>\n",
       "    </tr>\n",
       "    <tr>\n",
       "      <th>Stade de Reims</th>\n",
       "      <td>2018</td>\n",
       "      <td>45</td>\n",
       "      <td>8e</td>\n",
       "      <td>David Guion</td>\n",
       "      <td>2017</td>\n",
       "      <td>Stade Auguste-Delaune</td>\n",
       "      <td>20 546</td>\n",
       "      <td>35</td>\n",
       "    </tr>\n",
       "    <tr>\n",
       "      <th>Nîmes Olympique</th>\n",
       "      <td>2018</td>\n",
       "      <td>27</td>\n",
       "      <td>9e</td>\n",
       "      <td>Bernard Blaquart</td>\n",
       "      <td>2015</td>\n",
       "      <td>Stade des Costières</td>\n",
       "      <td>15 788</td>\n",
       "      <td>35</td>\n",
       "    </tr>\n",
       "    <tr>\n",
       "      <th>Stade rennais FC</th>\n",
       "      <td>1994</td>\n",
       "      <td>65</td>\n",
       "      <td>10e</td>\n",
       "      <td>Julien Stéphan</td>\n",
       "      <td>2018</td>\n",
       "      <td>Roazhon Park</td>\n",
       "      <td>29 194</td>\n",
       "      <td>62</td>\n",
       "    </tr>\n",
       "    <tr>\n",
       "      <th>RC Strasbourg Alsace</th>\n",
       "      <td>2017</td>\n",
       "      <td>43</td>\n",
       "      <td>11e</td>\n",
       "      <td>Thierry Laurey</td>\n",
       "      <td>2016</td>\n",
       "      <td>Stade de la Meinau</td>\n",
       "      <td>26 109</td>\n",
       "      <td>58</td>\n",
       "    </tr>\n",
       "    <tr>\n",
       "      <th>FC Nantes</th>\n",
       "      <td>2013</td>\n",
       "      <td>70</td>\n",
       "      <td>12e</td>\n",
       "      <td>Christian Gourcuff</td>\n",
       "      <td>2019</td>\n",
       "      <td>Stade de la Beaujoire - Louis Fonteneau</td>\n",
       "      <td>35 322</td>\n",
       "      <td>51</td>\n",
       "    </tr>\n",
       "    <tr>\n",
       "      <th>SCO d’Angers</th>\n",
       "      <td>2015</td>\n",
       "      <td>32</td>\n",
       "      <td>13e</td>\n",
       "      <td>Stéphane Moulin</td>\n",
       "      <td>2011</td>\n",
       "      <td>Stade Raymond-Kopa</td>\n",
       "      <td>17 048</td>\n",
       "      <td>27</td>\n",
       "    </tr>\n",
       "    <tr>\n",
       "      <th>Girondins de Bordeaux</th>\n",
       "      <td>1992</td>\n",
       "      <td>70</td>\n",
       "      <td>14e</td>\n",
       "      <td>Paulo Sousa</td>\n",
       "      <td>2019</td>\n",
       "      <td>Matmut Atlantique</td>\n",
       "      <td>42 115</td>\n",
       "      <td>66</td>\n",
       "    </tr>\n",
       "    <tr>\n",
       "      <th>Amiens SC</th>\n",
       "      <td>2017</td>\n",
       "      <td>30</td>\n",
       "      <td>15e</td>\n",
       "      <td>Luka Elsner</td>\n",
       "      <td>2019</td>\n",
       "      <td>Stade Crédit Agricole la Licorne</td>\n",
       "      <td>12 999</td>\n",
       "      <td>2</td>\n",
       "    </tr>\n",
       "    <tr>\n",
       "      <th>Toulouse FC</th>\n",
       "      <td>2003</td>\n",
       "      <td>35</td>\n",
       "      <td>16e</td>\n",
       "      <td>Denis Zanko</td>\n",
       "      <td>2020</td>\n",
       "      <td>Stadium de Toulouse</td>\n",
       "      <td>33 033</td>\n",
       "      <td>32</td>\n",
       "    </tr>\n",
       "    <tr>\n",
       "      <th>AS Monaco</th>\n",
       "      <td>2013</td>\n",
       "      <td>220</td>\n",
       "      <td>17e</td>\n",
       "      <td>Robert Moreno</td>\n",
       "      <td>2019</td>\n",
       "      <td>Stade Louis-II</td>\n",
       "      <td>16 500</td>\n",
       "      <td>60</td>\n",
       "    </tr>\n",
       "    <tr>\n",
       "      <th>Dijon FCO</th>\n",
       "      <td>2016</td>\n",
       "      <td>38</td>\n",
       "      <td>18e</td>\n",
       "      <td>Stéphane Jobard</td>\n",
       "      <td>2019</td>\n",
       "      <td>Parc des Sports Gaston-Gérard</td>\n",
       "      <td>15 459</td>\n",
       "      <td>4</td>\n",
       "    </tr>\n",
       "    <tr>\n",
       "      <th>FC Metz</th>\n",
       "      <td>2019</td>\n",
       "      <td>40</td>\n",
       "      <td>1er (Ligue 2)</td>\n",
       "      <td>Vincent Hognon</td>\n",
       "      <td>2019</td>\n",
       "      <td>Stade Saint-Symphorien</td>\n",
       "      <td>25 865</td>\n",
       "      <td>61</td>\n",
       "    </tr>\n",
       "    <tr>\n",
       "      <th>Stade brestois 29</th>\n",
       "      <td>2019</td>\n",
       "      <td>30</td>\n",
       "      <td>2e (Ligue 2)</td>\n",
       "      <td>Olivier Dall'Oglio</td>\n",
       "      <td>2019</td>\n",
       "      <td>Stade Francis-Le Blé</td>\n",
       "      <td>14 920</td>\n",
       "      <td>13</td>\n",
       "    </tr>\n",
       "  </tbody>\n",
       "</table>\n",
       "</div>"
      ],
      "text/plain": [
       "                       Dernière Montée Budget En M € Classement 2018-2019  \\\n",
       "Paris Saint-Germain               1974           637                  1er   \n",
       "LOSC Lille                        2000           120                   2e   \n",
       "Olympique lyonnais                1989           310                   3e   \n",
       "AS Saint-Étienne                  2004           100                   4e   \n",
       "Olympique de Marseille            1996           110                   5e   \n",
       "Montpellier HSC                   2009            40                   6e   \n",
       "OGC Nice                          2002            50                   7e   \n",
       "Stade de Reims                    2018            45                   8e   \n",
       "Nîmes Olympique                   2018            27                   9e   \n",
       "Stade rennais FC                  1994            65                  10e   \n",
       "RC Strasbourg Alsace              2017            43                  11e   \n",
       "FC Nantes                         2013            70                  12e   \n",
       "SCO d’Angers                      2015            32                  13e   \n",
       "Girondins de Bordeaux             1992            70                  14e   \n",
       "Amiens SC                         2017            30                  15e   \n",
       "Toulouse FC                       2003            35                  16e   \n",
       "AS Monaco                         2013           220                  17e   \n",
       "Dijon FCO                         2016            38                  18e   \n",
       "FC Metz                           2019            40        1er (Ligue 2)   \n",
       "Stade brestois 29                 2019            30         2e (Ligue 2)   \n",
       "\n",
       "                                 Entraîneur Depuis  \\\n",
       "Paris Saint-Germain           Thomas Tuchel   2018   \n",
       "LOSC Lille               Christophe Galtier   2017   \n",
       "Olympique lyonnais              Rudi Garcia   2019   \n",
       "AS Saint-Étienne                Claude Puel   2019   \n",
       "Olympique de Marseille    André Villas-Boas   2019   \n",
       "Montpellier HSC         Michel Der Zakarian   2017   \n",
       "OGC Nice                     Patrick Vieira   2018   \n",
       "Stade de Reims                  David Guion   2017   \n",
       "Nîmes Olympique            Bernard Blaquart   2015   \n",
       "Stade rennais FC             Julien Stéphan   2018   \n",
       "RC Strasbourg Alsace         Thierry Laurey   2016   \n",
       "FC Nantes                Christian Gourcuff   2019   \n",
       "SCO d’Angers                Stéphane Moulin   2011   \n",
       "Girondins de Bordeaux           Paulo Sousa   2019   \n",
       "Amiens SC                       Luka Elsner   2019   \n",
       "Toulouse FC                     Denis Zanko   2020   \n",
       "AS Monaco                     Robert Moreno   2019   \n",
       "Dijon FCO                   Stéphane Jobard   2019   \n",
       "FC Metz                      Vincent Hognon   2019   \n",
       "Stade brestois 29        Olivier Dall'Oglio   2019   \n",
       "\n",
       "                                                          Stade  \\\n",
       "Paris Saint-Germain                            Parc des Princes   \n",
       "LOSC Lille                                  Stade Pierre-Mauroy   \n",
       "Olympique lyonnais                             Groupama Stadium   \n",
       "AS Saint-Étienne                        Stade Geoffroy-Guichard   \n",
       "Olympique de Marseille                         Orange Vélodrome   \n",
       "Montpellier HSC                              Stade de la Mosson   \n",
       "OGC Nice                                        Allianz Riviera   \n",
       "Stade de Reims                            Stade Auguste-Delaune   \n",
       "Nîmes Olympique                             Stade des Costières   \n",
       "Stade rennais FC                                   Roazhon Park   \n",
       "RC Strasbourg Alsace                         Stade de la Meinau   \n",
       "FC Nantes               Stade de la Beaujoire - Louis Fonteneau   \n",
       "SCO d’Angers                                 Stade Raymond-Kopa   \n",
       "Girondins de Bordeaux                         Matmut Atlantique   \n",
       "Amiens SC                      Stade Crédit Agricole la Licorne   \n",
       "Toulouse FC                                 Stadium de Toulouse   \n",
       "AS Monaco                                        Stade Louis-II   \n",
       "Dijon FCO                         Parc des Sports Gaston-Gérard   \n",
       "FC Metz                                  Stade Saint-Symphorien   \n",
       "Stade brestois 29                          Stade Francis-Le Blé   \n",
       "\n",
       "                       Capacité En L1  Nombre De Saisons En L1  \n",
       "Paris Saint-Germain             47 929                      46  \n",
       "LOSC Lille                      49 712                      59  \n",
       "Olympique lyonnais              57 206                      60  \n",
       "AS Saint-Étienne                41 965                      66  \n",
       "Olympique de Marseille          66 226                      69  \n",
       "Montpellier HSC                 22 000                      27  \n",
       "OGC Nice                        35 596                      60  \n",
       "Stade de Reims                  20 546                      35  \n",
       "Nîmes Olympique                 15 788                      35  \n",
       "Stade rennais FC                29 194                      62  \n",
       "RC Strasbourg Alsace            26 109                      58  \n",
       "FC Nantes                       35 322                      51  \n",
       "SCO d’Angers                    17 048                      27  \n",
       "Girondins de Bordeaux           42 115                      66  \n",
       "Amiens SC                       12 999                       2  \n",
       "Toulouse FC                     33 033                      32  \n",
       "AS Monaco                       16 500                      60  \n",
       "Dijon FCO                       15 459                       4  \n",
       "FC Metz                         25 865                      61  \n",
       "Stade brestois 29               14 920                      13  "
      ]
     },
     "execution_count": 22,
     "metadata": {},
     "output_type": "execute_result"
    }
   ],
   "source": [
    "data_participants"
   ]
  },
  {
   "cell_type": "code",
   "execution_count": 23,
   "metadata": {
    "lines_to_next_cell": 2
   },
   "outputs": [
    {
     "name": "stdout",
     "output_type": "stream",
     "text": [
      "http://fr.wikipedia.org/wiki/Championnat_de_France_de_football_2019-2020\n",
      "http://fr.wikipedia.org/wiki/Paris_Saint-Germain_Football_Club\n",
      "http://fr.wikipedia.org/wiki/Parc_des_Princes\n",
      "48° 50′ 29″ N, 2° 15′ 11″ E\n",
      "http://fr.wikipedia.org/wiki/LOSC_Lille\n",
      "http://fr.wikipedia.org/wiki/Stade_Pierre-Mauroy\n",
      "50° 36′ 43″ N, 3° 07′ 50″ E\n",
      "http://fr.wikipedia.org/wiki/Olympique_lyonnais\n",
      "http://fr.wikipedia.org/wiki/Parc_Olympique_lyonnais\n",
      "45° 45′ 55″ N, 4° 58′ 55″ E\n",
      "http://fr.wikipedia.org/wiki/Association_sportive_de_Saint-%C3%89tienne\n",
      "http://fr.wikipedia.org/wiki/Stade_Geoffroy-Guichard\n",
      "45° 27′ 39″ N, 4° 23′ 25″ E\n",
      "http://fr.wikipedia.org/wiki/Olympique_de_Marseille\n"
     ]
    },
    {
     "ename": "KeyboardInterrupt",
     "evalue": "",
     "output_type": "error",
     "traceback": [
      "\u001b[0;31m---------------------------------------------------------------------------\u001b[0m",
      "\u001b[0;31mKeyboardInterrupt\u001b[0m                         Traceback (most recent call last)",
      "\u001b[0;32m<ipython-input-23-6e2619399738>\u001b[0m in \u001b[0;36m<module>\u001b[0;34m\u001b[0m\n\u001b[1;32m     40\u001b[0m        \u001b[0;31m# aller sur la page de l'équipe\u001b[0m\u001b[0;34m\u001b[0m\u001b[0;34m\u001b[0m\u001b[0;34m\u001b[0m\u001b[0m\n\u001b[1;32m     41\u001b[0m \u001b[0;34m\u001b[0m\u001b[0m\n\u001b[0;32m---> 42\u001b[0;31m             \u001b[0msearch\u001b[0m \u001b[0;34m=\u001b[0m \u001b[0murllib\u001b[0m\u001b[0;34m.\u001b[0m\u001b[0mrequest\u001b[0m\u001b[0;34m.\u001b[0m\u001b[0murlopen\u001b[0m\u001b[0;34m(\u001b[0m\u001b[0murl_get_info\u001b[0m\u001b[0;34m)\u001b[0m\u001b[0;34m.\u001b[0m\u001b[0mread\u001b[0m\u001b[0;34m(\u001b[0m\u001b[0;34m)\u001b[0m\u001b[0;34m\u001b[0m\u001b[0;34m\u001b[0m\u001b[0m\n\u001b[0m\u001b[1;32m     43\u001b[0m             \u001b[0msearch_team\u001b[0m\u001b[0;34m=\u001b[0m\u001b[0mbs4\u001b[0m\u001b[0;34m.\u001b[0m\u001b[0mBeautifulSoup\u001b[0m\u001b[0;34m(\u001b[0m\u001b[0msearch\u001b[0m\u001b[0;34m)\u001b[0m\u001b[0;34m\u001b[0m\u001b[0;34m\u001b[0m\u001b[0m\n\u001b[1;32m     44\u001b[0m \u001b[0;34m\u001b[0m\u001b[0m\n",
      "\u001b[0;32m/usr/local/Cellar/python@3.8/3.8.6/Frameworks/Python.framework/Versions/3.8/lib/python3.8/http/client.py\u001b[0m in \u001b[0;36mread\u001b[0;34m(self, amt)\u001b[0m\n\u001b[1;32m    469\u001b[0m             \u001b[0;32melse\u001b[0m\u001b[0;34m:\u001b[0m\u001b[0;34m\u001b[0m\u001b[0;34m\u001b[0m\u001b[0m\n\u001b[1;32m    470\u001b[0m                 \u001b[0;32mtry\u001b[0m\u001b[0;34m:\u001b[0m\u001b[0;34m\u001b[0m\u001b[0;34m\u001b[0m\u001b[0m\n\u001b[0;32m--> 471\u001b[0;31m                     \u001b[0ms\u001b[0m \u001b[0;34m=\u001b[0m \u001b[0mself\u001b[0m\u001b[0;34m.\u001b[0m\u001b[0m_safe_read\u001b[0m\u001b[0;34m(\u001b[0m\u001b[0mself\u001b[0m\u001b[0;34m.\u001b[0m\u001b[0mlength\u001b[0m\u001b[0;34m)\u001b[0m\u001b[0;34m\u001b[0m\u001b[0;34m\u001b[0m\u001b[0m\n\u001b[0m\u001b[1;32m    472\u001b[0m                 \u001b[0;32mexcept\u001b[0m \u001b[0mIncompleteRead\u001b[0m\u001b[0;34m:\u001b[0m\u001b[0;34m\u001b[0m\u001b[0;34m\u001b[0m\u001b[0m\n\u001b[1;32m    473\u001b[0m                     \u001b[0mself\u001b[0m\u001b[0;34m.\u001b[0m\u001b[0m_close_conn\u001b[0m\u001b[0;34m(\u001b[0m\u001b[0;34m)\u001b[0m\u001b[0;34m\u001b[0m\u001b[0;34m\u001b[0m\u001b[0m\n",
      "\u001b[0;32m/usr/local/Cellar/python@3.8/3.8.6/Frameworks/Python.framework/Versions/3.8/lib/python3.8/http/client.py\u001b[0m in \u001b[0;36m_safe_read\u001b[0;34m(self, amt)\u001b[0m\n\u001b[1;32m    610\u001b[0m         \u001b[0mIncompleteRead\u001b[0m \u001b[0mexception\u001b[0m \u001b[0mcan\u001b[0m \u001b[0mbe\u001b[0m \u001b[0mused\u001b[0m \u001b[0mto\u001b[0m \u001b[0mdetect\u001b[0m \u001b[0mthe\u001b[0m \u001b[0mproblem\u001b[0m\u001b[0;34m.\u001b[0m\u001b[0;34m\u001b[0m\u001b[0;34m\u001b[0m\u001b[0m\n\u001b[1;32m    611\u001b[0m         \"\"\"\n\u001b[0;32m--> 612\u001b[0;31m         \u001b[0mdata\u001b[0m \u001b[0;34m=\u001b[0m \u001b[0mself\u001b[0m\u001b[0;34m.\u001b[0m\u001b[0mfp\u001b[0m\u001b[0;34m.\u001b[0m\u001b[0mread\u001b[0m\u001b[0;34m(\u001b[0m\u001b[0mamt\u001b[0m\u001b[0;34m)\u001b[0m\u001b[0;34m\u001b[0m\u001b[0;34m\u001b[0m\u001b[0m\n\u001b[0m\u001b[1;32m    613\u001b[0m         \u001b[0;32mif\u001b[0m \u001b[0mlen\u001b[0m\u001b[0;34m(\u001b[0m\u001b[0mdata\u001b[0m\u001b[0;34m)\u001b[0m \u001b[0;34m<\u001b[0m \u001b[0mamt\u001b[0m\u001b[0;34m:\u001b[0m\u001b[0;34m\u001b[0m\u001b[0;34m\u001b[0m\u001b[0m\n\u001b[1;32m    614\u001b[0m             \u001b[0;32mraise\u001b[0m \u001b[0mIncompleteRead\u001b[0m\u001b[0;34m(\u001b[0m\u001b[0mdata\u001b[0m\u001b[0;34m,\u001b[0m \u001b[0mamt\u001b[0m\u001b[0;34m-\u001b[0m\u001b[0mlen\u001b[0m\u001b[0;34m(\u001b[0m\u001b[0mdata\u001b[0m\u001b[0;34m)\u001b[0m\u001b[0;34m)\u001b[0m\u001b[0;34m\u001b[0m\u001b[0;34m\u001b[0m\u001b[0m\n",
      "\u001b[0;32m/usr/local/Cellar/python@3.8/3.8.6/Frameworks/Python.framework/Versions/3.8/lib/python3.8/socket.py\u001b[0m in \u001b[0;36mreadinto\u001b[0;34m(self, b)\u001b[0m\n\u001b[1;32m    667\u001b[0m         \u001b[0;32mwhile\u001b[0m \u001b[0;32mTrue\u001b[0m\u001b[0;34m:\u001b[0m\u001b[0;34m\u001b[0m\u001b[0;34m\u001b[0m\u001b[0m\n\u001b[1;32m    668\u001b[0m             \u001b[0;32mtry\u001b[0m\u001b[0;34m:\u001b[0m\u001b[0;34m\u001b[0m\u001b[0;34m\u001b[0m\u001b[0m\n\u001b[0;32m--> 669\u001b[0;31m                 \u001b[0;32mreturn\u001b[0m \u001b[0mself\u001b[0m\u001b[0;34m.\u001b[0m\u001b[0m_sock\u001b[0m\u001b[0;34m.\u001b[0m\u001b[0mrecv_into\u001b[0m\u001b[0;34m(\u001b[0m\u001b[0mb\u001b[0m\u001b[0;34m)\u001b[0m\u001b[0;34m\u001b[0m\u001b[0;34m\u001b[0m\u001b[0m\n\u001b[0m\u001b[1;32m    670\u001b[0m             \u001b[0;32mexcept\u001b[0m \u001b[0mtimeout\u001b[0m\u001b[0;34m:\u001b[0m\u001b[0;34m\u001b[0m\u001b[0;34m\u001b[0m\u001b[0m\n\u001b[1;32m    671\u001b[0m                 \u001b[0mself\u001b[0m\u001b[0;34m.\u001b[0m\u001b[0m_timeout_occurred\u001b[0m \u001b[0;34m=\u001b[0m \u001b[0;32mTrue\u001b[0m\u001b[0;34m\u001b[0m\u001b[0;34m\u001b[0m\u001b[0m\n",
      "\u001b[0;32m/usr/local/Cellar/python@3.8/3.8.6/Frameworks/Python.framework/Versions/3.8/lib/python3.8/ssl.py\u001b[0m in \u001b[0;36mrecv_into\u001b[0;34m(self, buffer, nbytes, flags)\u001b[0m\n\u001b[1;32m   1239\u001b[0m                   \u001b[0;34m\"non-zero flags not allowed in calls to recv_into() on %s\"\u001b[0m \u001b[0;34m%\u001b[0m\u001b[0;34m\u001b[0m\u001b[0;34m\u001b[0m\u001b[0m\n\u001b[1;32m   1240\u001b[0m                   self.__class__)\n\u001b[0;32m-> 1241\u001b[0;31m             \u001b[0;32mreturn\u001b[0m \u001b[0mself\u001b[0m\u001b[0;34m.\u001b[0m\u001b[0mread\u001b[0m\u001b[0;34m(\u001b[0m\u001b[0mnbytes\u001b[0m\u001b[0;34m,\u001b[0m \u001b[0mbuffer\u001b[0m\u001b[0;34m)\u001b[0m\u001b[0;34m\u001b[0m\u001b[0;34m\u001b[0m\u001b[0m\n\u001b[0m\u001b[1;32m   1242\u001b[0m         \u001b[0;32melse\u001b[0m\u001b[0;34m:\u001b[0m\u001b[0;34m\u001b[0m\u001b[0;34m\u001b[0m\u001b[0m\n\u001b[1;32m   1243\u001b[0m             \u001b[0;32mreturn\u001b[0m \u001b[0msuper\u001b[0m\u001b[0;34m(\u001b[0m\u001b[0;34m)\u001b[0m\u001b[0;34m.\u001b[0m\u001b[0mrecv_into\u001b[0m\u001b[0;34m(\u001b[0m\u001b[0mbuffer\u001b[0m\u001b[0;34m,\u001b[0m \u001b[0mnbytes\u001b[0m\u001b[0;34m,\u001b[0m \u001b[0mflags\u001b[0m\u001b[0;34m)\u001b[0m\u001b[0;34m\u001b[0m\u001b[0;34m\u001b[0m\u001b[0m\n",
      "\u001b[0;32m/usr/local/Cellar/python@3.8/3.8.6/Frameworks/Python.framework/Versions/3.8/lib/python3.8/ssl.py\u001b[0m in \u001b[0;36mread\u001b[0;34m(self, len, buffer)\u001b[0m\n\u001b[1;32m   1097\u001b[0m         \u001b[0;32mtry\u001b[0m\u001b[0;34m:\u001b[0m\u001b[0;34m\u001b[0m\u001b[0;34m\u001b[0m\u001b[0m\n\u001b[1;32m   1098\u001b[0m             \u001b[0;32mif\u001b[0m \u001b[0mbuffer\u001b[0m \u001b[0;32mis\u001b[0m \u001b[0;32mnot\u001b[0m \u001b[0;32mNone\u001b[0m\u001b[0;34m:\u001b[0m\u001b[0;34m\u001b[0m\u001b[0;34m\u001b[0m\u001b[0m\n\u001b[0;32m-> 1099\u001b[0;31m                 \u001b[0;32mreturn\u001b[0m \u001b[0mself\u001b[0m\u001b[0;34m.\u001b[0m\u001b[0m_sslobj\u001b[0m\u001b[0;34m.\u001b[0m\u001b[0mread\u001b[0m\u001b[0;34m(\u001b[0m\u001b[0mlen\u001b[0m\u001b[0;34m,\u001b[0m \u001b[0mbuffer\u001b[0m\u001b[0;34m)\u001b[0m\u001b[0;34m\u001b[0m\u001b[0;34m\u001b[0m\u001b[0m\n\u001b[0m\u001b[1;32m   1100\u001b[0m             \u001b[0;32melse\u001b[0m\u001b[0;34m:\u001b[0m\u001b[0;34m\u001b[0m\u001b[0;34m\u001b[0m\u001b[0m\n\u001b[1;32m   1101\u001b[0m                 \u001b[0;32mreturn\u001b[0m \u001b[0mself\u001b[0m\u001b[0;34m.\u001b[0m\u001b[0m_sslobj\u001b[0m\u001b[0;34m.\u001b[0m\u001b[0mread\u001b[0m\u001b[0;34m(\u001b[0m\u001b[0mlen\u001b[0m\u001b[0;34m)\u001b[0m\u001b[0;34m\u001b[0m\u001b[0;34m\u001b[0m\u001b[0m\n",
      "\u001b[0;31mKeyboardInterrupt\u001b[0m: "
     ]
    }
   ],
   "source": [
    "import urllib\n",
    "import pandas as pd\n",
    "import bs4 \n",
    "\n",
    "division=[]\n",
    "equipe=[]\n",
    "stade=[]\n",
    "latitude_stade=[]        \n",
    "longitude_stade=[]     \n",
    "\n",
    "\n",
    "url_list=[\"http://fr.wikipedia.org/wiki/Championnat_de_France_de_football_2019-2020\", \"http://fr.wikipedia.org/wiki/Championnat_de_France_de_football_de_Ligue_2_2019-2020\"]\n",
    "\n",
    "for url_ligue in url_list :\n",
    "       \n",
    "    print(url_ligue)\n",
    "    sock = urllib.request.urlopen(url_ligue).read() \n",
    "    page=bs4.BeautifulSoup(sock)\n",
    "\n",
    "# Rechercher les liens des équipes dans la liste disponible sur wikipedia \n",
    "\n",
    "    for team in page.findAll('span' , {'class' : 'toponyme'}) :  \n",
    "        \n",
    "        # Indiquer si c'est de la ligue 1 ou de la ligue 2\n",
    "        \n",
    "        if url_ligue==url_list[0] :\n",
    "            division.append(\"L1\")\n",
    "        else :\n",
    "            division.append(\"L2\")\n",
    "\n",
    "       # Trouver le nom et le lien de l'équipe\n",
    "            \n",
    "        if team.find('a')!=None :\n",
    "            team_url=team.find('a').get('href')\n",
    "            name_team=team.find('a').get('title')\n",
    "            equipe.append(name_team)\n",
    "            url_get_info = \"http://fr.wikipedia.org\"+team_url\n",
    "            print(url_get_info)\n",
    " \n",
    "       # aller sur la page de l'équipe\n",
    "           \n",
    "            search = urllib.request.urlopen(url_get_info).read()\n",
    "            search_team=bs4.BeautifulSoup(search)\n",
    "\n",
    "       # trouver le stade             \n",
    "            compteur = 0\n",
    "            for stadium in search_team.findAll('tr'):\n",
    "                for x in stadium.findAll('th' , {'scope' : 'row'} ) :\n",
    "                    if x.contents[0].string==\"Stade\" and compteur == 0:\n",
    "                        compteur = 1\n",
    "                        # trouver le lien du stade et son nom\n",
    "                        url_stade=stadium.findAll('a')[1].get('href')\n",
    "                        name_stadium=stadium.findAll('a')[1].get('title')\n",
    "                        stade.append(name_stadium)\n",
    "                        url_get_stade = \"http://fr.wikipedia.org\"+url_stade\n",
    "                        print(url_get_stade)\n",
    "                        \n",
    "                        # Aller sur la page du stade et trouver ses coodronnées géographiques\n",
    "                        \n",
    "                        search_stade = urllib.request.urlopen(url_get_stade).read()\n",
    "                        soup_stade=bs4.BeautifulSoup(search_stade) \n",
    "                        for coordinates in soup_stade.find('a',{'class': \"mw-kartographer-maplink\"}) :\n",
    "                            print(coordinates)\n",
    "                            liste =   coordinates.split(\",\")             \n",
    "                            latitude_stade.append(liste[0])\n",
    "                            longitude_stade.append(liste[1])\n",
    "                            \n",
    "\n",
    "dict_ = {'division' : division , 'equipe': equipe, 'stade': stade, 'latitude': latitude_stade, 'longitude' : longitude_stade}\n",
    "data = pd.DataFrame(dict_)"
   ]
  },
  {
   "cell_type": "code",
   "execution_count": null,
   "metadata": {
    "lines_to_next_cell": 2
   },
   "outputs": [],
   "source": [
    "len(division), len(equipe), len(stade), len(latitude_stade), len(longitude_stade)"
   ]
  },
  {
   "cell_type": "code",
   "execution_count": null,
   "metadata": {
    "lines_to_next_cell": 2
   },
   "outputs": [],
   "source": [
    "data"
   ]
  },
  {
   "cell_type": "code",
   "execution_count": 24,
   "metadata": {},
   "outputs": [
    {
     "name": "stdout",
     "output_type": "stream",
     "text": [
      "(47.95888888888889, 0.22222222222222224)\n"
     ]
    }
   ],
   "source": [
    "# -*- coding: utf-8 -*-\n",
    "import re\n",
    "\n",
    "def dms2dd(degrees, minutes, seconds, direction):\n",
    "    dd = float(degrees) + float(minutes)/60 + float(seconds)/(60*60);\n",
    "    if direction == 'S' or direction == 'O':\n",
    "        dd *= -1\n",
    "    return dd;\n",
    "\n",
    "def parse_dms(dms):\n",
    "    parts = re.split('[^\\d\\w]+', dms)\n",
    "    lat = dms2dd(parts[0], parts[1], parts[2], parts[3])\n",
    "    lng = dms2dd(parts[4], parts[5], parts[6], parts[7])\n",
    "    return (lat, lng)\n",
    "\n",
    "dd = parse_dms(\"47°57'32' N 0°13'20' E\")\n",
    "\n",
    "print(dd)"
   ]
  },
  {
   "cell_type": "markdown",
   "metadata": {},
   "source": [
    "## Enoncé de l'exercice (version sans guide)\n",
    "\n",
    "Pour cet exercice, nous vous demandons d'obtenir \n",
    "\n",
    "### Etape 1 \n",
    "les informations personnelles des ``893`` pokemons sur le site internet [pokemondb.net](http://pokemondb.net/pokedex/national). Les informations que nous aimerions obtenir au final dans un DataFrame  sont celles contenues dans 4 tableaux :\n",
    "\n",
    "- Pokédex data\n",
    "- Training\n",
    "- Breeding\n",
    "- Base stats\n",
    "\n",
    "Pour exemple : [Nincada](http://pokemondb.net/pokedex/nincada)."
   ]
  },
  {
   "cell_type": "markdown",
   "metadata": {},
   "source": [
    "<div class=\"grid-col span-md-6 span-lg-4\">\n",
    "<h2>Pokédex data</h2>\n",
    "<table class=\"vitals-table\">\n",
    "<tbody>\n",
    "<tr>\n",
    "<th>National №</th>\n",
    "<td><strong>290</strong></td>\n",
    "</tr>\n",
    "<tr>\n",
    "<th>Type</th>\n",
    "<td>\n",
    "<a class=\"type-icon type-bug\" href=\"/type/bug\">Bug</a> <a class=\"type-icon type-ground\" href=\"/type/ground\">Ground</a> </td>\n",
    "</tr>\n",
    "<tr>\n",
    "<th>Species</th>\n",
    "<td>Trainee Pokémon</td>\n",
    "</tr>\n",
    "<tr>\n",
    "<th>Height</th>\n",
    "<td>0.5&nbsp;m (1′08″)</td>\n",
    "</tr>\n",
    "<tr>\n",
    "<th>Weight</th>\n",
    "<td>5.5&nbsp;kg (12.1&nbsp;lbs)</td>\n",
    "</tr>\n",
    "<tr>\n",
    "<th>Abilities</th>\n",
    "<td><span class=\"text-muted\">1. <a href=\"/ability/compound-eyes\" title=\"The Pokémon's accuracy is boosted.\">Compound Eyes</a></span><br><small class=\"text-muted\"><a href=\"/ability/run-away\" title=\"Enables a sure getaway from wild Pokémon.\">Run Away</a> (hidden ability)</small><br></td>\n",
    "</tr>\n",
    "<tr>\n",
    "<th>Local №</th>\n",
    "<td>042 <small class=\"text-muted\">(Ruby/Sapphire/Emerald)</small><br>111 <small class=\"text-muted\">(X/Y — Central Kalos)</small><br>043 <small class=\"text-muted\">(Omega Ruby/Alpha Sapphire)</small><br>104 <small class=\"text-muted\">(Sword/Shield)</small><br></td>\n",
    "</tr>\n",
    "</tbody>\n",
    "</table>\n",
    "</div>\n",
    "\n",
    "\n",
    "<div class=\"grid-col span-md-12 span-lg-4\">\n",
    "<div class=\"grid-row\">\n",
    "<div class=\"grid-col span-md-6 span-lg-12\">\n",
    "<h2>Training</h2>\n",
    "<table class=\"vitals-table\">\n",
    "<tbody>\n",
    "<tr>\n",
    "<th>EV yield</th>\n",
    "<td class=\"text\">\n",
    "1 Defense </td>\n",
    "</tr>\n",
    "<tr>\n",
    "<th>Catch rate</th>\n",
    "<td>255 <small class=\"text-muted\">(33.3% with PokéBall, full HP)</small></td>\n",
    "</tr>\n",
    "<tr>\n",
    "<th>Base <a href=\"/glossary#def-friendship\">Friendship</a></th>\n",
    "<td>70 <small class=\"text-muted\">(normal)</small></td>\n",
    "</tr>\n",
    "<tr>\n",
    "<th>Base Exp.</th>\n",
    "<td>53</td>\n",
    "</tr>\n",
    "<tr>\n",
    "<th>Growth Rate</th>\n",
    "<td>Erratic</td>\n",
    "</tr>\n",
    "</tbody>\n",
    "</table>\n",
    "</div>\n",
    "<div class=\"grid-col span-md-6 span-lg-12\">\n",
    "<h2>Breeding</h2>\n",
    "<table class=\"vitals-table\">\n",
    "<tbody>\n",
    "<tr>\n",
    "<th>Egg Groups</th>\n",
    "<td>\n",
    "<a href=\"/egg-group/bug\">Bug</a> </td>\n",
    "</tr>\n",
    "<tr>\n",
    "<th>Gender</th>\n",
    "<td><span class=\"text-blue\">50% male</span>, <span class=\"text-pink\">50% female</span></td> </tr>\n",
    "<tr>\n",
    "<th><a href=\"/glossary#def-eggcycle\">Egg cycles</a></th>\n",
    "<td>15 <small class=\"text-muted\">(3,599–3,855 steps)</small>\n",
    "</td>\n",
    "</tr>\n",
    "</tbody>\n",
    "</table>\n",
    "</div>\n",
    "</div>\n",
    "</div>\n",
    "\n",
    "<div class=\"grid-col span-md-12 span-lg-8\">\n",
    "<div id=\"dex-stats\"></div>\n",
    "<h2>Base stats</h2>\n",
    "<div class=\"resp-scroll\">\n",
    "<table class=\"vitals-table\">\n",
    "<tbody>\n",
    "<tr>\n",
    "<th>HP</th>\n",
    "<td class=\"cell-num\">31</td>\n",
    "<td class=\"cell-barchart\">\n",
    "<div style=\"width:17.22%;\" class=\"barchart-bar barchart-rank-2 \"></div>\n",
    "</td>\n",
    "<td class=\"cell-num\">172</td>\n",
    "<td class=\"cell-num\">266</td>\n",
    "</tr>\n",
    "<tr>\n",
    "<th>Attack</th>\n",
    "<td class=\"cell-num\">45</td>\n",
    "<td class=\"cell-barchart\">\n",
    "<div style=\"width:25.00%;\" class=\"barchart-bar barchart-rank-2 \"></div>\n",
    "</td>\n",
    "<td class=\"cell-num\">85</td>\n",
    "<td class=\"cell-num\">207</td>\n",
    "</tr>\n",
    "<tr>\n",
    "<th>Defense</th>\n",
    "<td class=\"cell-num\">90</td>\n",
    "<td class=\"cell-barchart\">\n",
    "<div style=\"width:50.00%;\" class=\"barchart-bar barchart-rank-4 \"></div>\n",
    "</td>\n",
    "<td class=\"cell-num\">166</td>\n",
    "<td class=\"cell-num\">306</td>\n",
    "</tr>\n",
    "<tr>\n",
    "<th>Sp. Atk</th>\n",
    "<td class=\"cell-num\">30</td>\n",
    "<td class=\"cell-barchart\">\n",
    "<div style=\"width:16.67%;\" class=\"barchart-bar barchart-rank-2 \"></div>\n",
    "</td>\n",
    "<td class=\"cell-num\">58</td>\n",
    "<td class=\"cell-num\">174</td>\n",
    "</tr>\n",
    "<tr>\n",
    "<th>Sp. Def</th>\n",
    "<td class=\"cell-num\">30</td>\n",
    "<td class=\"cell-barchart\">\n",
    "<div style=\"width:16.67%;\" class=\"barchart-bar barchart-rank-2 \"></div>\n",
    "</td>\n",
    "<td class=\"cell-num\">58</td>\n",
    "<td class=\"cell-num\">174</td>\n",
    "</tr>\n",
    "<tr>\n",
    "<th>Speed</th>\n",
    "<td class=\"cell-num\">40</td>\n",
    "<td class=\"cell-barchart\">\n",
    "<div style=\"width:22.22%;\" class=\"barchart-bar barchart-rank-2 \"></div>\n",
    "</td>\n",
    "<td class=\"cell-num\">76</td>\n",
    "<td class=\"cell-num\">196</td>\n",
    "</tr>\n",
    "</tbody>\n",
    "<tfoot>\n",
    "<tr>\n",
    "<th>Total</th>\n",
    "<td class=\"cell-total\"><b>266</b></td>\n",
    "<th class=\"cell-barchart\"></th>\n",
    "<th>Min</th>\n",
    "<th>Max</th>\n",
    "</tr>\n",
    "</tfoot>\n",
    "</table>\n",
    "</div>\n",
    "</div>"
   ]
  },
  {
   "cell_type": "markdown",
   "metadata": {},
   "source": [
    "### Etape 2\n",
    "\n",
    "Nous aimerions que vous récupériez également les images de chacun des pokémons et que vous les enregistriez dans un dossier  \n",
    "\n",
    "(indice : utilisez les modules request et [shutil](https://docs.python.org/3/library/shutil.html))\n",
    "\n",
    "_pour cette question, il faut que vous cherchiez de vous même certains éléments, tout n'est pas présent dans le TD_."
   ]
  },
  {
   "cell_type": "markdown",
   "metadata": {},
   "source": [
    "## Enoncé de l'exercice (version guidée)\n",
    "\n",
    "Pour cet exercice, nous vous demandons d'obtenir \n",
    "\n",
    "### Etape 1 \n",
    "les informations personnelles des ``893`` pokemons sur le site internet [pokemondb.net](http://pokemondb.net/pokedex/national). Les informations que nous aimerions obtenir au final pour les pokemons sont celles contenues dans 4 tableaux :\n",
    "\n",
    "- Pokédex data\n",
    "- Training\n",
    "- Breeding\n",
    "- Base stats\n",
    "\n",
    "Pour exemple : [Nincada](http://pokemondb.net/pokedex/nincada)."
   ]
  },
  {
   "cell_type": "markdown",
   "metadata": {},
   "source": [
    "<div class=\"grid-col span-md-6 span-lg-4\">\n",
    "<h2>Pokédex data</h2>\n",
    "<table class=\"vitals-table\">\n",
    "<tbody>\n",
    "<tr>\n",
    "<th>National №</th>\n",
    "<td><strong>290</strong></td>\n",
    "</tr>\n",
    "<tr>\n",
    "<th>Type</th>\n",
    "<td>\n",
    "<a class=\"type-icon type-bug\" href=\"/type/bug\">Bug</a> <a class=\"type-icon type-ground\" href=\"/type/ground\">Ground</a> </td>\n",
    "</tr>\n",
    "<tr>\n",
    "<th>Species</th>\n",
    "<td>Trainee Pokémon</td>\n",
    "</tr>\n",
    "<tr>\n",
    "<th>Height</th>\n",
    "<td>0.5&nbsp;m (1′08″)</td>\n",
    "</tr>\n",
    "<tr>\n",
    "<th>Weight</th>\n",
    "<td>5.5&nbsp;kg (12.1&nbsp;lbs)</td>\n",
    "</tr>\n",
    "<tr>\n",
    "<th>Abilities</th>\n",
    "<td><span class=\"text-muted\">1. <a href=\"/ability/compound-eyes\" title=\"The Pokémon's accuracy is boosted.\">Compound Eyes</a></span><br><small class=\"text-muted\"><a href=\"/ability/run-away\" title=\"Enables a sure getaway from wild Pokémon.\">Run Away</a> (hidden ability)</small><br></td>\n",
    "</tr>\n",
    "<tr>\n",
    "<th>Local №</th>\n",
    "<td>042 <small class=\"text-muted\">(Ruby/Sapphire/Emerald)</small><br>111 <small class=\"text-muted\">(X/Y — Central Kalos)</small><br>043 <small class=\"text-muted\">(Omega Ruby/Alpha Sapphire)</small><br>104 <small class=\"text-muted\">(Sword/Shield)</small><br></td>\n",
    "</tr>\n",
    "</tbody>\n",
    "</table>\n",
    "</div>\n",
    "\n",
    "\n",
    "<div class=\"grid-col span-md-12 span-lg-4\">\n",
    "<div class=\"grid-row\">\n",
    "<div class=\"grid-col span-md-6 span-lg-12\">\n",
    "<h2>Training</h2>\n",
    "<table class=\"vitals-table\">\n",
    "<tbody>\n",
    "<tr>\n",
    "<th>EV yield</th>\n",
    "<td class=\"text\">\n",
    "1 Defense </td>\n",
    "</tr>\n",
    "<tr>\n",
    "<th>Catch rate</th>\n",
    "<td>255 <small class=\"text-muted\">(33.3% with PokéBall, full HP)</small></td>\n",
    "</tr>\n",
    "<tr>\n",
    "<th>Base <a href=\"/glossary#def-friendship\">Friendship</a></th>\n",
    "<td>70 <small class=\"text-muted\">(normal)</small></td>\n",
    "</tr>\n",
    "<tr>\n",
    "<th>Base Exp.</th>\n",
    "<td>53</td>\n",
    "</tr>\n",
    "<tr>\n",
    "<th>Growth Rate</th>\n",
    "<td>Erratic</td>\n",
    "</tr>\n",
    "</tbody>\n",
    "</table>\n",
    "</div>\n",
    "<div class=\"grid-col span-md-6 span-lg-12\">\n",
    "<h2>Breeding</h2>\n",
    "<table class=\"vitals-table\">\n",
    "<tbody>\n",
    "<tr>\n",
    "<th>Egg Groups</th>\n",
    "<td>\n",
    "<a href=\"/egg-group/bug\">Bug</a> </td>\n",
    "</tr>\n",
    "<tr>\n",
    "<th>Gender</th>\n",
    "<td><span class=\"text-blue\">50% male</span>, <span class=\"text-pink\">50% female</span></td> </tr>\n",
    "<tr>\n",
    "<th><a href=\"/glossary#def-eggcycle\">Egg cycles</a></th>\n",
    "<td>15 <small class=\"text-muted\">(3,599–3,855 steps)</small>\n",
    "</td>\n",
    "</tr>\n",
    "</tbody>\n",
    "</table>\n",
    "</div>\n",
    "</div>\n",
    "</div>\n",
    "\n",
    "<div class=\"grid-col span-md-12 span-lg-8\">\n",
    "<div id=\"dex-stats\"></div>\n",
    "<h2>Base stats</h2>\n",
    "<div class=\"resp-scroll\">\n",
    "<table class=\"vitals-table\">\n",
    "<tbody>\n",
    "<tr>\n",
    "<th>HP</th>\n",
    "<td class=\"cell-num\">31</td>\n",
    "<td class=\"cell-barchart\">\n",
    "<div style=\"width:17.22%;\" class=\"barchart-bar barchart-rank-2 \"></div>\n",
    "</td>\n",
    "<td class=\"cell-num\">172</td>\n",
    "<td class=\"cell-num\">266</td>\n",
    "</tr>\n",
    "<tr>\n",
    "<th>Attack</th>\n",
    "<td class=\"cell-num\">45</td>\n",
    "<td class=\"cell-barchart\">\n",
    "<div style=\"width:25.00%;\" class=\"barchart-bar barchart-rank-2 \"></div>\n",
    "</td>\n",
    "<td class=\"cell-num\">85</td>\n",
    "<td class=\"cell-num\">207</td>\n",
    "</tr>\n",
    "<tr>\n",
    "<th>Defense</th>\n",
    "<td class=\"cell-num\">90</td>\n",
    "<td class=\"cell-barchart\">\n",
    "<div style=\"width:50.00%;\" class=\"barchart-bar barchart-rank-4 \"></div>\n",
    "</td>\n",
    "<td class=\"cell-num\">166</td>\n",
    "<td class=\"cell-num\">306</td>\n",
    "</tr>\n",
    "<tr>\n",
    "<th>Sp. Atk</th>\n",
    "<td class=\"cell-num\">30</td>\n",
    "<td class=\"cell-barchart\">\n",
    "<div style=\"width:16.67%;\" class=\"barchart-bar barchart-rank-2 \"></div>\n",
    "</td>\n",
    "<td class=\"cell-num\">58</td>\n",
    "<td class=\"cell-num\">174</td>\n",
    "</tr>\n",
    "<tr>\n",
    "<th>Sp. Def</th>\n",
    "<td class=\"cell-num\">30</td>\n",
    "<td class=\"cell-barchart\">\n",
    "<div style=\"width:16.67%;\" class=\"barchart-bar barchart-rank-2 \"></div>\n",
    "</td>\n",
    "<td class=\"cell-num\">58</td>\n",
    "<td class=\"cell-num\">174</td>\n",
    "</tr>\n",
    "<tr>\n",
    "<th>Speed</th>\n",
    "<td class=\"cell-num\">40</td>\n",
    "<td class=\"cell-barchart\">\n",
    "<div style=\"width:22.22%;\" class=\"barchart-bar barchart-rank-2 \"></div>\n",
    "</td>\n",
    "<td class=\"cell-num\">76</td>\n",
    "<td class=\"cell-num\">196</td>\n",
    "</tr>\n",
    "</tbody>\n",
    "<tfoot>\n",
    "<tr>\n",
    "<th>Total</th>\n",
    "<td class=\"cell-total\"><b>266</b></td>\n",
    "<th class=\"cell-barchart\"></th>\n",
    "<th>Min</th>\n",
    "<th>Max</th>\n",
    "</tr>\n",
    "</tfoot>\n",
    "</table>\n",
    "</div>\n",
    "</div>"
   ]
  },
  {
   "cell_type": "markdown",
   "metadata": {},
   "source": [
    "Pour cela, le code devra être divisé en plusieurs étapes : \n",
    "\n",
    "1) trouver la page principale du site et la transformer en un objet intelligible pour votre code :\n",
    "- urllib.request.Request\n",
    "- urllib.request.urlopen\n",
    "- bs4.BeautifulSoup\n",
    "\n",
    "note : pour ce site, il faudra ajouter un paramètre supplémentaire à la fonction Request \n",
    "\n",
    "urllib.request.Request( www.sitequinousintéresse.com ,headers={'User-Agent': 'Mozilla/5.0'})\n",
    "\n",
    "2) regarder la page de 2-3 pokemons et trouver une structure commune à leur url, en déduire sur quel élément on fera une boucle pour avoir les informations de chaque page\n",
    "\n",
    "3) obtenir la liste qui nous permettra de faire la boucle par la suite\n",
    "\n",
    "4) à partir de la page d'un pokemon, obtenir les 4 tableaux qui nous intéressent :\n",
    "- on va chercher l'élément suivant : ('table', { 'class' : \"vitals-table\"}\n",
    "- les stocker dans un dictionnaire\n",
    "\n",
    "5) écrire une fonction qui généralise cette récupération afin de l'intégrer à notre boucle\n",
    "\n",
    "6) lancer la boucle sur tous les pokemons déjà trouvés\n",
    "\n",
    "7) obtenir un DataFrame avec toutes les informations récupérées\n"
   ]
  },
  {
   "cell_type": "markdown",
   "metadata": {},
   "source": [
    "### Etape 2\n",
    "\n",
    "Nous aimerions que vous récupériez également les images de chacun des pokémons et que vous les enregistriez dans un dossier  \n",
    "\n",
    "(indice : utilisez les modules request et [shutil](https://docs.python.org/3/library/shutil.html))\n",
    "\n",
    "_pour cette question, il faut que vous cherchiez de vous même certains éléments, tout n'est pas présent dans le TD_."
   ]
  },
  {
   "cell_type": "markdown",
   "metadata": {},
   "source": [
    "### Bonus : Aller sur internet avec Selenium\n",
    "\n",
    "Jusqu'à présent, nous avons raisonné comme si nous connaissions toujours l'url qui nous intéresse. De plus, les pages que nous visitons sont \"statiques\", elles ne dépendent pas d'une action ou d'une recherche de l'internaute. \n",
    "\n",
    "Nous allons voir à présent comment nous en sortir pour remplir des champs sur un site web et récupérer ce qui nous intéresse. \n",
    "\n",
    "L'avantage du package [Selenium](https://pypi.python.org/pypi/selenium) est d'obtenir des informations du site qui ne sont pas dans le code html mais qui apparaissent uniquement à la suite de l'exécution de script javascript en arrière plan. \n",
    "\n",
    "[Selenium](https://pypi.python.org/pypi/selenium) se comporte comme un utilisateur lambda sur internet : il clique sur des liens, il remplit des formulaires etc. Dans cet exemple, nous allons essayer de aller sur le site de [Bing Actualités](https://www.bing.com/news) et entrer dans la barre de recherche un sujet donné. \n",
    "\n",
    "La version de [chromedriver](https://sites.google.com/a/chromium.org/chromedriver/) doit être ``>= 2.36`` et dépend de la version de Chrome que vous avez sur votre poste.\n"
   ]
  },
  {
   "cell_type": "code",
   "execution_count": null,
   "metadata": {
    "lines_to_next_cell": 2
   },
   "outputs": [],
   "source": [
    "# Si selenium n'est pas installé.\n",
    "# #!pip install selenium"
   ]
  },
  {
   "cell_type": "code",
   "execution_count": null,
   "metadata": {},
   "outputs": [],
   "source": [
    "import selenium #pip install selenium\n",
    "# télécharger le chrome driver https://chromedriver.storage.googleapis.com/index.html?path=85.0.4183.83/\n",
    "path_to_web_driver = \"chromedriver\""
   ]
  },
  {
   "cell_type": "markdown",
   "metadata": {},
   "source": [
    "On va sur le site de Bing Actualités, et on lui indique le mot clé que nous souhaitons chercher. \n",
    "\n",
    "Dans cet exemple, on va voir que l'ordinateur va ouvrir une nouvelle fenetre.\n"
   ]
  },
  {
   "cell_type": "code",
   "execution_count": null,
   "metadata": {
    "lines_to_next_cell": 2
   },
   "outputs": [],
   "source": [
    "import time\n",
    "\n",
    "from selenium import webdriver\n",
    "from selenium.webdriver.common.keys import Keys\n",
    "\n",
    "chrome_options = webdriver.ChromeOptions()\n",
    "#chrome_options.add_argument('--headless')\n",
    "#chrome_options.add_argument('--no-sandbox')\n",
    "#chrome_options.add_argument('--verbose') \n",
    "\n",
    "browser = webdriver.Chrome(executable_path=path_to_web_driver,\n",
    "                           options=chrome_options)\n",
    "\n",
    "browser.get('https://www.bing.com/news')\n",
    "\n",
    "# on cherche l'endroit où on peut remplir un formulaire\n",
    "# en utilisant les outils du navigateur > inspecter les éléments de la page\n",
    "# on voit que la barre de recherche est un élement du code appelé 'q' comme query\n",
    "# on lui demande de chercher cet élément\n",
    "\n",
    "search = browser.find_element_by_name('q')\n",
    "print(search)\n",
    "print([search.text, search.tag_name, search.id])\n",
    "\n",
    "# on envoie à cet endroit le mot qu'on aurait tapé dans la barre de recherche\n",
    "search.send_keys(\"Trump\")\n",
    "\n",
    "search_button = browser.find_element_by_xpath(\"//input[@id='sb_form_go']\")\n",
    "\n",
    "#search_button = browser.find_element_by_id('search_button_homepage')\n",
    " \n",
    "search_button.click()\n",
    "\n",
    "# on appuie sur le bouton \"Entrée\" Return en anglais\n",
    "#search.send_keys(Keys.RETURN)"
   ]
  },
  {
   "cell_type": "code",
   "execution_count": null,
   "metadata": {
    "lines_to_next_cell": 2
   },
   "outputs": [],
   "source": [
    "png = browser.get_screenshot_as_png()"
   ]
  },
  {
   "cell_type": "code",
   "execution_count": null,
   "metadata": {},
   "outputs": [],
   "source": [
    "from IPython.display import Image\n",
    "Image(png, width='500')"
   ]
  },
  {
   "cell_type": "markdown",
   "metadata": {},
   "source": [
    "On extrait les résultats.\n"
   ]
  },
  {
   "cell_type": "code",
   "execution_count": null,
   "metadata": {
    "lines_to_next_cell": 2
   },
   "outputs": [],
   "source": [
    "from selenium.common.exceptions import StaleElementReferenceException\n",
    "links = browser.find_elements_by_xpath(\"//div/a[@class='title'][@href]\")\n",
    "\n",
    "results = []\n",
    "for link in links:\n",
    "    try:\n",
    "        url = link.get_attribute('href')\n",
    "    except StaleElementReferenceException as e:\n",
    "        print(\"Issue with '{0}' and '{1}'\".format(url, link))\n",
    "        print(\"It might be due to slow javascript which produces the HTML page.\")\n",
    "    results.append(url)\n",
    "\n",
    "len(results)"
   ]
  },
  {
   "cell_type": "code",
   "execution_count": null,
   "metadata": {
    "lines_to_next_cell": 2
   },
   "outputs": [],
   "source": [
    "# on a une pause de 10 secondes pour aller voir ce qui se passe sur la page internet\n",
    "# on demande de quitter le navigateur quand tout est fini\n",
    "browser.quit()"
   ]
  },
  {
   "cell_type": "code",
   "execution_count": null,
   "metadata": {},
   "outputs": [],
   "source": [
    "print(results)"
   ]
  },
  {
   "cell_type": "markdown",
   "metadata": {},
   "source": [
    "### Utiliser selenium pour jouer à 2048\n",
    "\n",
    "Dans cet exemple, on utilise le module pour que python appuie lui même sur les touches du clavier afin de jouer à 2048.\n",
    "\n",
    "Note : ce bout de code ne donne pas une solution à 2048, il permet juste de voir ce qu'on peut faire avec selenium\n"
   ]
  },
  {
   "cell_type": "code",
   "execution_count": null,
   "metadata": {},
   "outputs": [],
   "source": [
    "from selenium import webdriver\n",
    "from selenium.webdriver.common.keys import Keys\n",
    "\n",
    "# on ouvre la page internet du jeu 2048\n",
    "\n",
    "browser = webdriver.Chrome(executable_path=path_to_web_driver,\n",
    "                           options=chrome_options)\n",
    "browser.get('https://play2048.co//')\n",
    "\n",
    "# Ce qu'on va faire : une boucle qui répète inlassablement la même chose : haut / droite / bas / gauche\n",
    "\n",
    "# on commence par cliquer sur la page pour que les touches sachent \n",
    "browser.find_element_by_class_name('grid-container').click()\n",
    "grid = browser.find_element_by_tag_name('body')\n",
    "\n",
    "# pour savoir quels coups faire à quel moment, on crée un dictionnaire\n",
    "direction = {0: Keys.UP, 1: Keys.RIGHT, 2: Keys.DOWN, 3: Keys.LEFT}\n",
    "count = 0\n",
    "\n",
    "while True:\n",
    "    try: # on vérifie que le bouton \"Try again\" n'est pas là - sinon ça veut dire que le jeu est fini\n",
    "        retryButton = browser.find_element_by_link_text('Try again')\n",
    "        scoreElem = browser.find_element_by_class_name('score-container')\n",
    "        break\n",
    "    except:\n",
    "        #Do nothing.  Game is not over yet\n",
    "        pass\n",
    "    # on continue le jeu - on appuie sur la touche suivante pour le coup d'après\n",
    "    count += 1\n",
    "    grid.send_keys(direction[count % 4]) \n",
    "    time.sleep(0.1)\n",
    "\n",
    "print('Score final : {} en {} coups'.format(scoreElem.text, count))    \n",
    "browser.quit()"
   ]
  }
 ],
 "metadata": {
  "kernelspec": {
   "display_name": "Python 3",
   "language": "python",
   "name": "python3"
  },
  "language_info": {
   "codemirror_mode": {
    "name": "ipython",
    "version": 3
   },
   "file_extension": ".py",
   "mimetype": "text/x-python",
   "name": "python",
   "nbconvert_exporter": "python",
   "pygments_lexer": "ipython3",
   "version": "3.8.6"
  }
 },
 "nbformat": 4,
 "nbformat_minor": 4
}
