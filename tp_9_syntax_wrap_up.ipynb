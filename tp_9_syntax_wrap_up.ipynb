{
 "cells": [
  {
   "cell_type": "markdown",
   "metadata": {},
   "source": [
    "# **M1 - CSB**\n",
    "# **TP 9 - Syntaxe Wrap Up**\n",
    "\n",
    "\n",
    "***\n",
    "\n",
    "[**Notions et exercices**](#notions)\n",
    "\n",
    "1. [Python Keywords - mots clefs en Python](#0)\n",
    "2. [Types et constructeurs](#2)\n",
    "3. [Listes, aspects fonctionnels](#3)"
   ]
  },
  {
   "cell_type": "markdown",
   "metadata": {},
   "source": [
    "<a id='1'></a>\n",
    "# 1. Python Keywords - mots clefs en Python\n",
    "***\n",
    "\n",
    "\n",
    "- Il existe 33 mots clefs en Python que l'on ne peut pas utiliser comme nom de variables car ils définissent la syntaxe et la structure du langage (Python est sensible à la casse). En dehors de ``True``, ``False`` et ``None``, ils sont tous en minuscules.\n",
    "\n",
    "- Ces mots clefs sont : \n",
    "|        |          |         |          |        |\n",
    "|--------|----------|---------|----------|--------|\n",
    "| ``False``  | ``await``    | ``else``    | ``import``   | ``pass``   |\n",
    "| ``None``   | ``break``    | ``except``  | ``in``       | ``raise``  |\n",
    "| ``True``   | ``class``    | ``finally`` | ``is``       | ``return`` |\n",
    "| ``and``    | ``continue`` | ``for``     | ``lambda``   | ``try``    |\n",
    "| ``as``     | ``def``      | ``from``    | ``nonlocal`` | ``while``  |\n",
    "| ``assert`` | ``del``      | ``global``  | ``not``      | ``with``   |\n",
    "| ``async``  | ``elif``     | ``if``      | ``or``       | ``yield``  |"
   ]
  },
  {
   "cell_type": "markdown",
   "metadata": {},
   "source": [
    "- Liste des mots clefs en Python"
   ]
  },
  {
   "cell_type": "code",
   "execution_count": 1,
   "metadata": {},
   "outputs": [
    {
     "name": "stdout",
     "output_type": "stream",
     "text": [
      "['False', 'None', 'True', '__peg_parser__', 'and', 'as', 'assert', 'async', 'await', 'break', 'class', 'continue', 'def', 'del', 'elif', 'else', 'except', 'finally', 'for', 'from', 'global', 'if', 'import', 'in', 'is', 'lambda', 'nonlocal', 'not', 'or', 'pass', 'raise', 'return', 'try', 'while', 'with', 'yield']\n"
     ]
    }
   ],
   "source": [
    "import keyword\n",
    "print(keyword.kwlist)"
   ]
  },
  {
   "cell_type": "markdown",
   "metadata": {},
   "source": [
    "### ``False``, ``True`` et ``None``\n",
    "- Valeurs booléennes et type spécial pour l'abscence de résultat"
   ]
  },
  {
   "cell_type": "code",
   "execution_count": 5,
   "metadata": {},
   "outputs": [],
   "source": [
    "# \"Vrai / Faux\"\n",
    "boolean = False\n",
    "boolean = True\n",
    "\n",
    "# Absence de résultats\n",
    "boolean = None"
   ]
  },
  {
   "cell_type": "markdown",
   "metadata": {},
   "source": [
    "## Exercice - somme de booléens\n",
    "- Définir une liste aléatoire de booléens de longueur 10 (on pourra utiliser ``random.choice`` avoir importer le package ``random``\n",
    "- Observer ce qui se passe quand on calcule la somme de la liste avec la fonction Python built-in ``sum``\n",
    "- Observer les résultats des fonctions ``all`` et ``any`` appliquées aux listes ``l1``, ``l2`` et ``l3``. Que font ces fonctions ? "
   ]
  },
  {
   "cell_type": "code",
   "execution_count": 32,
   "metadata": {},
   "outputs": [
    {
     "data": {
      "text/plain": [
       "True"
      ]
     },
     "execution_count": 32,
     "metadata": {},
     "output_type": "execute_result"
    }
   ],
   "source": [
    "import random\n",
    "random.choice([True, False])\n",
    "\n",
    "l1 = [True, False, False]\n",
    "l2 = [True, True, True]\n",
    "l3 = [False, False, False]"
   ]
  },
  {
   "cell_type": "markdown",
   "metadata": {},
   "source": [
    "## ``and``, ``or`` et ``not``\n",
    "- Opérateurs logiques"
   ]
  },
  {
   "cell_type": "code",
   "execution_count": 21,
   "metadata": {},
   "outputs": [
    {
     "name": "stdout",
     "output_type": "stream",
     "text": [
      "True and True = True\n",
      "False and True = False\n",
      "True or True = True\n",
      "True or False = True\n",
      "not True =  False\n",
      "not False =  True\n",
      "True\n"
     ]
    }
   ],
   "source": [
    "# Valeurs logiques\n",
    "print(\"True and True =\", True and True)\n",
    "print(\"False and True =\", False and True)\n",
    "\n",
    "print(\"True or True =\", True or True)\n",
    "print(\"True or False =\", True or False)\n",
    "\n",
    "print(\"not True = \", not True)\n",
    "print(\"not False = \", not False)\n",
    "\n",
    "grades = [10, 18, 20, 20]\n",
    "more_than_3 = len(grades) > 3\n",
    "grade_mean_more_than_10 = (sum(grades) / len(grades)) > 10\n",
    "no_grade_below_8 = all([x > 8 for x in grades])\n",
    "condition_for_next_year = more_than_3 and grade_mean_more_than_10 and no_grade_below_8\n",
    "print(condition_for_next_year)"
   ]
  },
  {
   "cell_type": "markdown",
   "metadata": {},
   "source": [
    "## Exercice - ou exclusif\n",
    "- Coder une fonction ``ou_exclusif`` qui:\n",
    " - prend en argument deux booléen\n",
    " - renvoie: \n",
    "     - ``True`` si un un seul des deux booléens vaut ``True`` \n",
    "     - ``False`` dans tous les autres cas"
   ]
  },
  {
   "cell_type": "markdown",
   "metadata": {},
   "source": [
    "## ``with`` et ``as``\n",
    "- Context manager"
   ]
  },
  {
   "cell_type": "code",
   "execution_count": 12,
   "metadata": {},
   "outputs": [],
   "source": [
    "with open(\"file_test.txt\", \"w\") as file:\n",
    "    # En dehors de ce bloc indenté, la variable file n'existe plus \n",
    "    # car le fichier a été fermé\n",
    "    file.write(\"lala\")"
   ]
  },
  {
   "cell_type": "markdown",
   "metadata": {},
   "source": [
    "## Exercice - utilisation du contexte manager\n",
    "- Ecrire le dictionnaire d dans un fichier pickle\n",
    "- Lire le fichier créé en utilisant un context manager et créer une variable égale au dictionnaire enregistré \n",
    "- Vérifier qu'il est bien égal au dictionnaire originel\n",
    "\n",
    "(Vous pouvez regarder le TP 4 sur les fichiers)\n"
   ]
  },
  {
   "cell_type": "code",
   "execution_count": 33,
   "metadata": {},
   "outputs": [],
   "source": [
    "d = {\"Paris\": 75, \"Nantes\": 44}"
   ]
  },
  {
   "cell_type": "markdown",
   "metadata": {},
   "source": [
    "## ``assert``\n",
    "- Permet de vérifier une condition booléenne : on lève une erreur de type ``AssertionError`` si elle échoue"
   ]
  },
  {
   "cell_type": "code",
   "execution_count": 49,
   "metadata": {},
   "outputs": [],
   "source": [
    "liste = [1, 2, 3, 4, 5]\n",
    "# Ne lève pas d'erreur car les conditions sont vérifiées\n",
    "assert len(liste) == 5\n",
    "assert len(liste) > 4\n",
    "\n",
    "# Lève une erreur\n",
    "#assert len(liste) == 100"
   ]
  },
  {
   "cell_type": "markdown",
   "metadata": {},
   "source": [
    "## ``async`` et ``await``\n",
    "- Sont utilisés pour faire de la programmation asynchrone"
   ]
  },
  {
   "cell_type": "markdown",
   "metadata": {},
   "source": [
    "## ``if``, ``elif`` et ``else``\n",
    "- Opérateurs de tests"
   ]
  },
  {
   "cell_type": "code",
   "execution_count": 37,
   "metadata": {},
   "outputs": [
    {
     "name": "stdout",
     "output_type": "stream",
     "text": [
      "La longueur est 3\n",
      "La longueur est inférieure à 10\n",
      "La longueur est inférieure à 9\n",
      "La longueur est inférieure à 8\n",
      "La longueur est inférieure à 7\n"
     ]
    }
   ],
   "source": [
    "liste = [1, 2, 3]\n",
    "\n",
    "# Les conditions sont exclusives\n",
    "# Si une réussie, on ne rentre pas dans les autres\n",
    "if len(liste) == 3:\n",
    "    print(\"La longueur est 3\")\n",
    "    \n",
    "elif len(liste) == 2:\n",
    "    print(\"La longueur est 2\")\n",
    "    \n",
    "elif len(liste) < 5: # c'est vrai, mais une seule condition est exécutée\n",
    "    print(\"La longueur est plus petite que 5\")\n",
    "else:\n",
    "    print(\"La longueur n'est ni 2 ni 3\")\n",
    "    \n",
    "    \n",
    "# On rentre dans tous les if\n",
    "if len(liste) < 10:\n",
    "    print(\"La longueur est inférieure à 10\")\n",
    "\n",
    "if len(liste) < 9:\n",
    "    print(\"La longueur est inférieure à 9\")\n",
    "    \n",
    "if len(liste) < 8:\n",
    "    print(\"La longueur est inférieure à 8\")\n",
    "    \n",
    "if len(liste) < 7:\n",
    "    print(\"La longueur est inférieure à 7\")\n",
    "    "
   ]
  },
  {
   "cell_type": "markdown",
   "metadata": {},
   "source": [
    "## ``for``, ``while``, ``continue``, ``break``, ``pass``\n",
    "- Opérateurs pour les boucles (mais pas que)"
   ]
  },
  {
   "cell_type": "code",
   "execution_count": 88,
   "metadata": {},
   "outputs": [
    {
     "name": "stdout",
     "output_type": "stream",
     "text": [
      "Liste d'entiers\n",
      "0\n",
      "1\n",
      "2\n",
      "\n",
      "###########\n",
      "\n",
      "Liste d'objets\n",
      "bonjour\n",
      "de\n",
      "{'ville': 'paris'}\n",
      "\n",
      "###########\n",
      "\n",
      "Continue\n",
      "0\n",
      "1\n",
      "2\n",
      "3\n",
      "5\n",
      "6\n",
      "7\n",
      "8\n",
      "9\n",
      "\n",
      "###########\n",
      "\n",
      "Break\n",
      "4\n"
     ]
    }
   ],
   "source": [
    "print(\"Liste d'entiers\")\n",
    "# Itérer sur des entiers définis par un range\n",
    "for x in range(3):\n",
    "    print(x)\n",
    "    \n",
    "print(\"\\n###########\\n\")\n",
    "print(\"Liste d'objets\")\n",
    "# Itérer sur une liste d'objet\n",
    "for x in [\"bonjour\", \"de\", {\"ville\": \"paris\"}]:\n",
    "    print(x)\n",
    "    \n",
    "print(\"\\n###########\\n\")\n",
    "print(\"Continue\")\n",
    "for x in range(10):\n",
    "    if x == 4:\n",
    "        # On n'affichera pas 4\n",
    "        # continue indique à la boucle de passer au suivant\n",
    "        continue\n",
    "    else:\n",
    "        print(x)\n",
    "           \n",
    "print(\"\\n###########\\n\")\n",
    "print(\"Break\")\n",
    "for x in range(10):\n",
    "    if x == 4:\n",
    "        # On affichere que 4 et on s'arrêtera\n",
    "        # break est utilisé pour sortir de la boucle\n",
    "        print(x)\n",
    "        break\n",
    "    else:\n",
    "        # On ne fait rien\n",
    "        pass"
   ]
  },
  {
   "cell_type": "markdown",
   "metadata": {},
   "source": [
    "## Exercice - recherche d'entier\n",
    "- On définit un entier aléatoire ``random_integer``\n",
    "- En utilisant ``continue`` ou ``break`` ou les deux, écrire un programme qui itère sur tous les entiers de 0 à 500 et vérifie si un de ces entiers est égal à ``random_integer``. Le programme doit s'arrêter dès qu'il a trouvé la bonne valeur (pas d'opérations inutiles)"
   ]
  },
  {
   "cell_type": "code",
   "execution_count": 51,
   "metadata": {},
   "outputs": [],
   "source": [
    "random_integer = random.randint(0, 500)"
   ]
  },
  {
   "cell_type": "markdown",
   "metadata": {},
   "source": [
    "## ``import`` et ``from``\n",
    "- Utiliser pour les imports de package"
   ]
  },
  {
   "cell_type": "markdown",
   "metadata": {},
   "source": [
    "- Import de fonction d'un package"
   ]
  },
  {
   "cell_type": "code",
   "execution_count": null,
   "metadata": {},
   "outputs": [],
   "source": [
    "# On importe une fonction précise\n",
    "from random import randint\n",
    "# Génère un entier aléatoire entre 0 et 10\n",
    "# On a importé la fonction précisément, \n",
    "# donc pas besoin d'indiquer le nom du package\n",
    "print(randint(0,10))"
   ]
  },
  {
   "cell_type": "markdown",
   "metadata": {},
   "source": [
    "- Import de classe d'un package"
   ]
  },
  {
   "cell_type": "code",
   "execution_count": 56,
   "metadata": {},
   "outputs": [],
   "source": [
    "from bs4 import BeautifulSoup"
   ]
  },
  {
   "cell_type": "markdown",
   "metadata": {},
   "source": [
    "- Import d'un package"
   ]
  },
  {
   "cell_type": "code",
   "execution_count": 87,
   "metadata": {},
   "outputs": [
    {
     "name": "stdout",
     "output_type": "stream",
     "text": [
      "2\n"
     ]
    }
   ],
   "source": [
    "# On inmporte tout le package random\n",
    "import random\n",
    "# Sélectionne aléatoirement une valeur de la liste\n",
    "print(random.choice([1, 2, 3]))"
   ]
  },
  {
   "cell_type": "markdown",
   "metadata": {},
   "source": [
    "- Import de toutes les fonction d'un package (très mauvaise pratique)"
   ]
  },
  {
   "cell_type": "code",
   "execution_count": 57,
   "metadata": {},
   "outputs": [
    {
     "name": "stdout",
     "output_type": "stream",
     "text": [
      "10\n",
      "3\n"
     ]
    }
   ],
   "source": [
    "# On peut importer tous les fonctions du package \n",
    "# C'est une très mauvaise pratique (risque de fonctions avec le même nom)\n",
    "from random import * \n",
    "print(randint(0,10))\n",
    "print(choice([1, 2, 3]))"
   ]
  },
  {
   "cell_type": "markdown",
   "metadata": {},
   "source": [
    "## Exercice - Classe ``Counter`` du package ``collections``\n",
    "- Importer la classe ``Counter`` du package ``collections``\n",
    "- Initialiser une variable ``counter`` égale à une instance de la classe ``Counter``. Pour initialiser cette classe, donner en argument le dictionnaire d.\n",
    "- Utiliser la méthode ``.most_common()``. Que fais cette méthode ?"
   ]
  },
  {
   "cell_type": "markdown",
   "metadata": {},
   "source": [
    "## ``raise`` et ``return``\n",
    "- ``raise`` pour lever une erreur et ``return`` pour renvoie un résultat dans une fonction"
   ]
  },
  {
   "cell_type": "markdown",
   "metadata": {},
   "source": [
    "- Exemple avec la division par 0"
   ]
  },
  {
   "cell_type": "code",
   "execution_count": 69,
   "metadata": {},
   "outputs": [
    {
     "ename": "ZeroDivisionError",
     "evalue": "division by zero",
     "output_type": "error",
     "traceback": [
      "\u001b[0;31m---------------------------------------------------------------------------\u001b[0m",
      "\u001b[0;31mZeroDivisionError\u001b[0m                         Traceback (most recent call last)",
      "\u001b[0;32m<ipython-input-69-bc757c3fda29>\u001b[0m in \u001b[0;36m<module>\u001b[0;34m\u001b[0m\n\u001b[0;32m----> 1\u001b[0;31m \u001b[0;36m1\u001b[0m \u001b[0;34m/\u001b[0m \u001b[0;36m0\u001b[0m\u001b[0;34m\u001b[0m\u001b[0;34m\u001b[0m\u001b[0m\n\u001b[0m",
      "\u001b[0;31mZeroDivisionError\u001b[0m: division by zero"
     ]
    }
   ],
   "source": [
    "1 / 0"
   ]
  },
  {
   "cell_type": "markdown",
   "metadata": {},
   "source": [
    "- On peut ajouter un message d'erreur"
   ]
  },
  {
   "cell_type": "code",
   "execution_count": 70,
   "metadata": {},
   "outputs": [],
   "source": [
    "def division(a, b):\n",
    "    if b == 0:\n",
    "        raise ZeroDivisionError(\"On ne peut pas diviser par 0\")\n",
    "    else:\n",
    "        return a / b"
   ]
  },
  {
   "cell_type": "code",
   "execution_count": 71,
   "metadata": {},
   "outputs": [
    {
     "ename": "ZeroDivisionError",
     "evalue": "On ne peut pas diviser par 0",
     "output_type": "error",
     "traceback": [
      "\u001b[0;31m---------------------------------------------------------------------------\u001b[0m",
      "\u001b[0;31mZeroDivisionError\u001b[0m                         Traceback (most recent call last)",
      "\u001b[0;32m<ipython-input-71-c67caa4c08c8>\u001b[0m in \u001b[0;36m<module>\u001b[0;34m\u001b[0m\n\u001b[0;32m----> 1\u001b[0;31m \u001b[0mdivision\u001b[0m\u001b[0;34m(\u001b[0m\u001b[0;36m1\u001b[0m\u001b[0;34m,\u001b[0m \u001b[0;36m0\u001b[0m\u001b[0;34m)\u001b[0m\u001b[0;34m\u001b[0m\u001b[0;34m\u001b[0m\u001b[0m\n\u001b[0m",
      "\u001b[0;32m<ipython-input-70-bca189432e05>\u001b[0m in \u001b[0;36mdivision\u001b[0;34m(a, b)\u001b[0m\n\u001b[1;32m      1\u001b[0m \u001b[0;32mdef\u001b[0m \u001b[0mdivision\u001b[0m\u001b[0;34m(\u001b[0m\u001b[0ma\u001b[0m\u001b[0;34m,\u001b[0m \u001b[0mb\u001b[0m\u001b[0;34m)\u001b[0m\u001b[0;34m:\u001b[0m\u001b[0;34m\u001b[0m\u001b[0;34m\u001b[0m\u001b[0m\n\u001b[1;32m      2\u001b[0m     \u001b[0;32mif\u001b[0m \u001b[0mb\u001b[0m \u001b[0;34m==\u001b[0m \u001b[0;36m0\u001b[0m\u001b[0;34m:\u001b[0m\u001b[0;34m\u001b[0m\u001b[0;34m\u001b[0m\u001b[0m\n\u001b[0;32m----> 3\u001b[0;31m         \u001b[0;32mraise\u001b[0m \u001b[0mZeroDivisionError\u001b[0m\u001b[0;34m(\u001b[0m\u001b[0;34m\"On ne peut pas diviser par 0\"\u001b[0m\u001b[0;34m)\u001b[0m\u001b[0;34m\u001b[0m\u001b[0;34m\u001b[0m\u001b[0m\n\u001b[0m\u001b[1;32m      4\u001b[0m     \u001b[0;32melse\u001b[0m\u001b[0;34m:\u001b[0m\u001b[0;34m\u001b[0m\u001b[0;34m\u001b[0m\u001b[0m\n\u001b[1;32m      5\u001b[0m         \u001b[0;32mreturn\u001b[0m \u001b[0ma\u001b[0m \u001b[0;34m/\u001b[0m \u001b[0mb\u001b[0m\u001b[0;34m\u001b[0m\u001b[0;34m\u001b[0m\u001b[0m\n",
      "\u001b[0;31mZeroDivisionError\u001b[0m: On ne peut pas diviser par 0"
     ]
    }
   ],
   "source": [
    "division(1, 0)"
   ]
  },
  {
   "cell_type": "markdown",
   "metadata": {},
   "source": [
    "## ``in`` et ``is``\n",
    "- ``in`` permet de tester si un élément est dans un itérable (quelque chose sur lequel on peut itérer, une liste, un dictionnaire, une chaîne de caractères)"
   ]
  },
  {
   "cell_type": "code",
   "execution_count": 97,
   "metadata": {},
   "outputs": [
    {
     "name": "stdout",
     "output_type": "stream",
     "text": [
      "True\n",
      "True\n",
      "x is None\n"
     ]
    }
   ],
   "source": [
    "print(1 in [1, 2, 3, 4])\n",
    "print(\"a\" in \"Salut\")\n",
    "\n"
   ]
  },
  {
   "cell_type": "markdown",
   "metadata": {},
   "source": [
    "- ``is`` permet de tester certains égalités, par exemple avec ``None`` (en fait, il test si les identifiants sont égaux)"
   ]
  },
  {
   "cell_type": "code",
   "execution_count": 99,
   "metadata": {},
   "outputs": [
    {
     "name": "stdout",
     "output_type": "stream",
     "text": [
      "x is None\n"
     ]
    }
   ],
   "source": [
    "x = None\n",
    "if x is None:\n",
    "    print(\"x is None\")"
   ]
  },
  {
   "cell_type": "code",
   "execution_count": 105,
   "metadata": {},
   "outputs": [
    {
     "name": "stdout",
     "output_type": "stream",
     "text": [
      "True\n",
      "4404860416 4404860416\n"
     ]
    }
   ],
   "source": [
    "l1 = [1, 2, 3]\n",
    "l2 = l1\n",
    "print(l1 is l2)\n",
    "print(id(l1), id(l2))\n",
    "assert id(l1) == id(l2)"
   ]
  },
  {
   "cell_type": "code",
   "execution_count": 106,
   "metadata": {},
   "outputs": [
    {
     "name": "stdout",
     "output_type": "stream",
     "text": [
      "False\n",
      "4404860416 4363332928\n"
     ]
    },
    {
     "ename": "AssertionError",
     "evalue": "",
     "output_type": "error",
     "traceback": [
      "\u001b[0;31m---------------------------------------------------------------------------\u001b[0m",
      "\u001b[0;31mAssertionError\u001b[0m                            Traceback (most recent call last)",
      "\u001b[0;32m<ipython-input-106-8e82f33b4849>\u001b[0m in \u001b[0;36m<module>\u001b[0;34m\u001b[0m\n\u001b[1;32m      2\u001b[0m \u001b[0mprint\u001b[0m\u001b[0;34m(\u001b[0m\u001b[0ml1\u001b[0m \u001b[0;32mis\u001b[0m \u001b[0ml3\u001b[0m\u001b[0;34m)\u001b[0m\u001b[0;34m\u001b[0m\u001b[0;34m\u001b[0m\u001b[0m\n\u001b[1;32m      3\u001b[0m \u001b[0mprint\u001b[0m\u001b[0;34m(\u001b[0m\u001b[0mid\u001b[0m\u001b[0;34m(\u001b[0m\u001b[0ml1\u001b[0m\u001b[0;34m)\u001b[0m\u001b[0;34m,\u001b[0m \u001b[0mid\u001b[0m\u001b[0;34m(\u001b[0m\u001b[0ml3\u001b[0m\u001b[0;34m)\u001b[0m\u001b[0;34m)\u001b[0m\u001b[0;34m\u001b[0m\u001b[0;34m\u001b[0m\u001b[0m\n\u001b[0;32m----> 4\u001b[0;31m \u001b[0;32massert\u001b[0m \u001b[0mid\u001b[0m\u001b[0;34m(\u001b[0m\u001b[0ml1\u001b[0m\u001b[0;34m)\u001b[0m \u001b[0;34m==\u001b[0m \u001b[0mid\u001b[0m\u001b[0;34m(\u001b[0m\u001b[0ml3\u001b[0m\u001b[0;34m)\u001b[0m\u001b[0;34m\u001b[0m\u001b[0;34m\u001b[0m\u001b[0m\n\u001b[0m",
      "\u001b[0;31mAssertionError\u001b[0m: "
     ]
    }
   ],
   "source": [
    "l3 = [1, 2, 3]\n",
    "print(l1 is l3)\n",
    "print(id(l1), id(l3))\n",
    "assert id(l1) == id(l3)"
   ]
  },
  {
   "cell_type": "markdown",
   "metadata": {},
   "source": [
    "## ``try``, ``except`` et ``finally``\n",
    "- Permettent de gérer les erreurs en fournissant trois blocs logiques : \n",
    "- ``try`` : on essaie de faire une action\n",
    "- ``except``: ce qu'on fait dans le cas où l'action échoue suite à une erreur \n",
    "- ``finally``: dans tous les cas, on exécute ce bloc (qu'il y ait une erreur ou pas)"
   ]
  },
  {
   "cell_type": "code",
   "execution_count": 86,
   "metadata": {},
   "outputs": [
    {
     "name": "stdout",
     "output_type": "stream",
     "text": [
      "Version sans regarder l'erreur\n",
      "\n",
      "###########\n",
      "\n",
      "Essayons de diviser par 0\n",
      "On arrive pas à diviser par 0\n",
      "Si on y arrive, c'est qu'on ne divise pas par 0\n",
      "\n",
      "\n",
      "Essayons de diviser par 1\n",
      "Si on y arrive, c'est qu'on ne divise pas par 0\n",
      "\n",
      "\n",
      "\n",
      "###########\n",
      "\n",
      "Version en regardant l'erreur\n",
      "\n",
      "###########\n",
      "\n",
      "Essayons de diviser par 0\n",
      "On arrive pas à diviser par 0\n",
      "Voici l'erreur\n",
      "division by zero\n",
      "Si on y arrive, c'est qu'on ne divise pas par 0\n",
      "\n",
      "\n",
      "Essayons de diviser par 1\n",
      "Si on y arrive, c'est qu'on ne divise pas par 0\n",
      "\n",
      "\n",
      "Version en regardant certaines erreurs\n",
      "\n",
      "###########\n",
      "\n",
      "Essayons de diviser par 0\n",
      "On arrive pas à diviser par 0\n",
      "Si on y arrive, c'est qu'on ne divise pas par 0\n",
      "\n",
      "\n",
      "Essayons de diviser par 1\n",
      "Si on y arrive, c'est qu'on ne divise pas par 0\n",
      "\n",
      "\n",
      "Essayons de diviser par string\n",
      "On arrive pas à diviser par une chaîne de caractères\n",
      "Si on y arrive, c'est qu'on ne divise pas par 0\n",
      "\n",
      "\n"
     ]
    }
   ],
   "source": [
    "print(\"Version sans regarder l'erreur\")\n",
    "print(\"\\n###########\\n\")\n",
    "for denom in [0, 1]:\n",
    "    print(\"Essayons de diviser par\", denom)\n",
    "    try:\n",
    "        1 / denom\n",
    "    except:\n",
    "        print(\"On arrive pas à diviser par 0\")\n",
    "    finally:\n",
    "        print(\"Si on y arrive, c'est qu'on ne divise pas par 0\")\n",
    "    print(\"\\n\")\n",
    "print(\"\\n###########\\n\")\n",
    "\n",
    "    \n",
    "print(\"Version en regardant l'erreur\") \n",
    "print(\"\\n###########\\n\")\n",
    "for denom in [0, 1]:\n",
    "    print(\"Essayons de diviser par\", denom)\n",
    "    try:\n",
    "        1 / denom\n",
    "    except Exception as e:\n",
    "        print(\"On arrive pas à diviser par 0\")\n",
    "        print(\"Voici l'erreur\")\n",
    "        print(e)\n",
    "    finally:\n",
    "        print(\"Si on y arrive, c'est qu'on ne divise pas par 0\")\n",
    "    print(\"\\n\")\n",
    "    \n",
    "    \n",
    "print(\"Version en regardant certaines erreurs\") \n",
    "print(\"\\n###########\\n\")\n",
    "for denom in [0, 1, \"string\"]:\n",
    "    print(\"Essayons de diviser par\", denom)\n",
    "    try:\n",
    "        1 / denom\n",
    "    except ZeroDivisionError:\n",
    "        print(\"On arrive pas à diviser par 0\")\n",
    "    except TypeError:\n",
    "        print(\"On arrive pas à diviser par une chaîne de caractères\")\n",
    "    finally:\n",
    "        print(\"Si on y arrive, c'est qu'on ne divise pas par 0\")\n",
    "    print(\"\\n\")"
   ]
  },
  {
   "cell_type": "markdown",
   "metadata": {},
   "source": [
    "## ``def`` et ``class`` \n",
    "- Sont utilisés pour définir fonctions et classes"
   ]
  },
  {
   "cell_type": "code",
   "execution_count": 91,
   "metadata": {},
   "outputs": [
    {
     "name": "stdout",
     "output_type": "stream",
     "text": [
      "100\n",
      "100\n"
     ]
    }
   ],
   "source": [
    "def fonction_carre(x):\n",
    "    return x**2\n",
    "\n",
    "\n",
    "class Maths:\n",
    "    def __init__(self):\n",
    "        pass\n",
    "    \n",
    "    def calculer_puissance_n(self, x, n):\n",
    "        return x**n\n",
    "    \n",
    "    def calculer_carre(self, x):\n",
    "        return self.calculer_puissance_n(x, 2)\n",
    "    \n",
    "    \n",
    "print(fonction_carre(10))\n",
    "maths = Maths()\n",
    "print(maths.calculer_carre(10))"
   ]
  },
  {
   "cell_type": "markdown",
   "metadata": {},
   "source": [
    "## ``del``\n",
    "- Permet de supprimer une variable"
   ]
  },
  {
   "cell_type": "code",
   "execution_count": 116,
   "metadata": {},
   "outputs": [
    {
     "ename": "NameError",
     "evalue": "name 'a' is not defined",
     "output_type": "error",
     "traceback": [
      "\u001b[0;31m---------------------------------------------------------------------------\u001b[0m",
      "\u001b[0;31mNameError\u001b[0m                                 Traceback (most recent call last)",
      "\u001b[0;32m<ipython-input-116-bfaea7f19d8f>\u001b[0m in \u001b[0;36m<module>\u001b[0;34m\u001b[0m\n\u001b[1;32m      2\u001b[0m \u001b[0;32mdel\u001b[0m \u001b[0ma\u001b[0m\u001b[0;34m\u001b[0m\u001b[0;34m\u001b[0m\u001b[0m\n\u001b[1;32m      3\u001b[0m \u001b[0;31m# NameError car la variable a n'existe plus\u001b[0m\u001b[0;34m\u001b[0m\u001b[0;34m\u001b[0m\u001b[0;34m\u001b[0m\u001b[0m\n\u001b[0;32m----> 4\u001b[0;31m \u001b[0ma\u001b[0m\u001b[0;34m\u001b[0m\u001b[0;34m\u001b[0m\u001b[0m\n\u001b[0m",
      "\u001b[0;31mNameError\u001b[0m: name 'a' is not defined"
     ]
    }
   ],
   "source": [
    "a = 1\n",
    "del a\n",
    "# NameError car la variable a n'existe plus\n",
    "a"
   ]
  },
  {
   "cell_type": "markdown",
   "metadata": {},
   "source": [
    "- Permet de supprimer un objet dans un itérable en supprimant la valeur de l'indexe associé"
   ]
  },
  {
   "cell_type": "code",
   "execution_count": 117,
   "metadata": {},
   "outputs": [
    {
     "name": "stdout",
     "output_type": "stream",
     "text": [
      "{44: 'Nantes'}\n",
      "[2, 3]\n"
     ]
    }
   ],
   "source": [
    "# On supprime la clef 75 \n",
    "d = {75: \"Paris\", 44: \"Nantes\"}\n",
    "del d[75]\n",
    "print(d)\n",
    "\n",
    "# On supprime la première valeur et la dernière\n",
    "l = [1, 2, 3, 4]\n",
    "del l[0], l[-1]\n",
    "print(l)"
   ]
  },
  {
   "cell_type": "markdown",
   "metadata": {},
   "source": [
    "## ``lambda``"
   ]
  },
  {
   "cell_type": "markdown",
   "metadata": {},
   "source": [
    "## ``yeld``"
   ]
  },
  {
   "cell_type": "markdown",
   "metadata": {},
   "source": [
    "## ``nonlocal`` et ``global``"
   ]
  },
  {
   "cell_type": "markdown",
   "metadata": {},
   "source": [
    "<a id='2'></a>\n",
    "# 2. Types et constructeurs\n",
    "***\n",
    "\n",
    "\n",
    "\n",
    "- Les types de bases en Python que nous avons utilisés : \n",
    "\n",
    " - ``int`` : entier\n",
    " - ``float`` : réel\n",
    " - ``str`` : chaîne de caractères\n",
    " - ``bool`` : booléen\n",
    " - ``list`` : liste\n",
    " - ``dict`` : dictionnaire\n",
    " - ``set`` : ensemble\n",
    " "
   ]
  },
  {
   "cell_type": "markdown",
   "metadata": {},
   "source": [
    "## Conversion d'un type à un autre"
   ]
  },
  {
   "cell_type": "markdown",
   "metadata": {},
   "source": [
    "- String vers entier"
   ]
  },
  {
   "cell_type": "code",
   "execution_count": 26,
   "metadata": {},
   "outputs": [
    {
     "data": {
      "text/plain": [
       "1"
      ]
     },
     "execution_count": 26,
     "metadata": {},
     "output_type": "execute_result"
    }
   ],
   "source": [
    "int(\"1\")"
   ]
  },
  {
   "cell_type": "markdown",
   "metadata": {},
   "source": [
    "- Entier vers string"
   ]
  },
  {
   "cell_type": "code",
   "execution_count": 27,
   "metadata": {},
   "outputs": [
    {
     "data": {
      "text/plain": [
       "'1'"
      ]
     },
     "execution_count": 27,
     "metadata": {},
     "output_type": "execute_result"
    }
   ],
   "source": [
    "str(1)"
   ]
  },
  {
   "cell_type": "code",
   "execution_count": null,
   "metadata": {},
   "outputs": [],
   "source": []
  }
 ],
 "metadata": {
  "kernelspec": {
   "display_name": "Python 3",
   "language": "python",
   "name": "python3"
  },
  "language_info": {
   "codemirror_mode": {
    "name": "ipython",
    "version": 3
   },
   "file_extension": ".py",
   "mimetype": "text/x-python",
   "name": "python",
   "nbconvert_exporter": "python",
   "pygments_lexer": "ipython3",
   "version": "3.9.0"
  }
 },
 "nbformat": 4,
 "nbformat_minor": 4
}
