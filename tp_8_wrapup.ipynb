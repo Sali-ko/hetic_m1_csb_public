{
 "cells": [
  {
   "cell_type": "markdown",
   "metadata": {},
   "source": [
    "# **M1 - CSB**\n",
    "# **TP 8 - Wrap Up**\n",
    "\n",
    "\n",
    "***\n",
    "\n",
    "[**Notions**](#notions)\n",
    "\n",
    "1. [Python Keywords - mots clefs en Python](#0)\n",
    "1. [La méthode ``.__init__()``](#1)\n",
    "2. [Définir une méthode](#2)\n",
    "3. [Initialiser avec des arguments](#3)\n",
    "4. [Définir une méthode avec un argument](#4)\n",
    "5. [Exercices](#5)\n",
    "6. [Programmation orientée objet](#6)\n",
    "7. [Héritage de classe](#7)\n",
    "8. [Exercices](#8)\n",
    "\n",
    "\n"
   ]
  },
  {
   "cell_type": "markdown",
   "metadata": {},
   "source": [
    "<a id='1'></a>\n",
    "# 1. Python Keywords - mots clefs en Python\n",
    "***\n",
    "\n",
    "\n",
    "- Il existe 33 mots clefs en Python que l'on ne peut pas utiliser comme nom de variables car ils définissent la syntaxe et la structure du langage (Python est sensible à la casse). En dehors de ``True``, ``False`` et ``None``, ils sont tous en minuscules.\n",
    "\n",
    "- Ces mots clefs sont : \n",
    "|        |          |         |          |        |\n",
    "|--------|----------|---------|----------|--------|\n",
    "| ``False``  | ``await``    | ``else``    | ``import``   | ``pass``   |\n",
    "| ``None``   | ``break``    | ``except``  | ``in``       | ``raise``  |\n",
    "| ``True``   | ``class``    | ``finally`` | ``is``       | ``return`` |\n",
    "| ``and``    | ``continue`` | ``for``     | ``lambda``   | ``try``    |\n",
    "| ``as``     | ``def``      | ``from``    | ``nonlocal`` | ``while``  |\n",
    "| ``assert`` | ``del``      | ``global``  | ``not``      | ``with``   |\n",
    "| ``async``  | ``elif``     | ``if``      | ``or``       | ``yield``  |"
   ]
  },
  {
   "cell_type": "code",
   "execution_count": 1,
   "metadata": {},
   "outputs": [
    {
     "name": "stdout",
     "output_type": "stream",
     "text": [
      "['False', 'None', 'True', '__peg_parser__', 'and', 'as', 'assert', 'async', 'await', 'break', 'class', 'continue', 'def', 'del', 'elif', 'else', 'except', 'finally', 'for', 'from', 'global', 'if', 'import', 'in', 'is', 'lambda', 'nonlocal', 'not', 'or', 'pass', 'raise', 'return', 'try', 'while', 'with', 'yield']\n"
     ]
    }
   ],
   "source": [
    "import keyword\n",
    "print(keyword.kwlist)"
   ]
  },
  {
   "cell_type": "code",
   "execution_count": null,
   "metadata": {},
   "outputs": [],
   "source": []
  },
  {
   "cell_type": "code",
   "execution_count": null,
   "metadata": {},
   "outputs": [],
   "source": []
  },
  {
   "cell_type": "code",
   "execution_count": null,
   "metadata": {},
   "outputs": [],
   "source": []
  },
  {
   "cell_type": "markdown",
   "metadata": {},
   "source": [
    "## 0. Introduction"
   ]
  },
  {
   "cell_type": "markdown",
   "metadata": {},
   "source": [
    "- En Python, tous les objets vus jusqu'ici ont un type :"
   ]
  },
  {
   "cell_type": "code",
   "execution_count": 17,
   "metadata": {},
   "outputs": [
    {
     "name": "stdout",
     "output_type": "stream",
     "text": [
      "1 est de type <class 'int'>\n",
      "1.5 est de type <class 'float'>\n",
      "[] est de type <class 'list'>\n",
      "{} est de type <class 'dict'>\n"
     ]
    }
   ],
   "source": [
    "n = 1 # entier\n",
    "f = 1.5 # réel\n",
    "l = []\n",
    "d = {}\n",
    "\n",
    "for value in [n, f, l , d]:\n",
    "    print(f\"{value} est de type {type(value)}\")"
   ]
  },
  {
   "cell_type": "markdown",
   "metadata": {},
   "source": [
    "- Le mot ``class`` est un autre mot pour désigner les types en Python. On peut soi-même définir ses propres types, que l'on appellera classe.\n",
    "- On pourra ainsi définir ses propres types et choisir leurs : \n",
    "    - attributs (ceux sont des informations)\n",
    "    - méthodes (ceux sont des fonctions liée à cette classe)"
   ]
  },
  {
   "cell_type": "code",
   "execution_count": 23,
   "metadata": {},
   "outputs": [
    {
     "name": "stdout",
     "output_type": "stream",
     "text": [
      "[5, 6]\n"
     ]
    },
    {
     "data": {
      "text/plain": [
       "dict_keys(['a'])"
      ]
     },
     "execution_count": 23,
     "metadata": {},
     "output_type": "execute_result"
    }
   ],
   "source": [
    "# un exemple de méthode\n",
    "l = []\n",
    "l.append(5) ## .append() pour la méthode liste\n",
    "l.append(6)\n",
    "l.sort()\n",
    "print(l)\n",
    "\n",
    "# un exemple de méthode\n",
    "d = {\"a\":1}\n",
    "d.keys() ## un exemple de méthode pour les dictionnaires"
   ]
  },
  {
   "cell_type": "markdown",
   "metadata": {},
   "source": [
    "<a id=\"1\"></a>\n",
    "## 1. La méthode ``.__init__()``"
   ]
  },
  {
   "cell_type": "code",
   "execution_count": null,
   "metadata": {},
   "outputs": [],
   "source": [
    "voiture_de_sport # snakecase\n",
    "VoitureDeSport # camelcase"
   ]
  },
  {
   "cell_type": "code",
   "execution_count": 37,
   "metadata": {
    "collapsed": false,
    "jupyter": {
     "outputs_hidden": false
    }
   },
   "outputs": [],
   "source": [
    "class Voiture:\n",
    "    def __init__(self):\n",
    "        self.x = 0 # attribut x\n",
    "        self.y = 0 # attribut y\n",
    "        self.couleur = \"rouge\" # couleur"
   ]
  },
  {
   "cell_type": "markdown",
   "metadata": {},
   "source": [
    "- Cette méthode permet de définir les valeurs des attributs (ici x et y)\n",
    "- ``self`` est une syntaxe qui permet d'avoir accès à notre objet n'importe où dans notre classe - qui désigne la voiture dans ce cas\n",
    "- ``x`` et ``y`` sont des attributs de le classe ``Voiture``"
   ]
  },
  {
   "cell_type": "markdown",
   "metadata": {},
   "source": [
    "- Ici, on instancie la classe : on crée une variable ``voiture``qui est une instance de la classe ``Voiture``"
   ]
  },
  {
   "cell_type": "code",
   "execution_count": 45,
   "metadata": {},
   "outputs": [
    {
     "name": "stdout",
     "output_type": "stream",
     "text": [
      "4556291584 4556291584\n",
      "4556513040 140505570728720\n"
     ]
    }
   ],
   "source": [
    "# Ids pour distinguer des objets\n",
    "l = []\n",
    "l1 = l\n",
    "print(id(l), id(l1)) # les mêmes car mêmes objets\n",
    "\n",
    "# Identifiants mémoire de voiture (l'instance) et de Voiture (classe)\n",
    "print(id(voiture), id(Voiture))"
   ]
  },
  {
   "cell_type": "code",
   "execution_count": 46,
   "metadata": {},
   "outputs": [
    {
     "name": "stdout",
     "output_type": "stream",
     "text": [
      "position x : 0 position y : 0 couleur :  rouge\n"
     ]
    }
   ],
   "source": [
    "voiture = Voiture()\n",
    "position_x = voiture.x\n",
    "position_y = voiture.y\n",
    "print(\"position x :\", position_x, \"position y :\", position_y, \"couleur : \", voiture.couleur)"
   ]
  },
  {
   "cell_type": "code",
   "execution_count": 47,
   "metadata": {},
   "outputs": [
    {
     "name": "stdout",
     "output_type": "stream",
     "text": [
      "<p>My first paragraph.</p>\n",
      "My first paragraph.\n"
     ]
    }
   ],
   "source": [
    "from bs4 import BeautifulSoup\n",
    "\n",
    "html = \"\"\"<!DOCTYPE html>\n",
    "<html>\n",
    "<body>\n",
    "<p>My first paragraph.</p>\n",
    "</body>\n",
    "</html>\"\"\"\n",
    "\n",
    "soup = BeautifulSoup(html)\n",
    "\n",
    "p = soup.find(\"p\") # méthode .find\n",
    "print(p)\n",
    "print(p.text) # attribut texte"
   ]
  },
  {
   "cell_type": "markdown",
   "metadata": {},
   "source": [
    "<a id=\"2\"></a>\n",
    "## 2. Définir une méthode\n",
    "- Notre classe voiture possède deux informations mais ne peut rien faire d'autre. Nous allons ici définir une première méthode"
   ]
  },
  {
   "cell_type": "code",
   "execution_count": 49,
   "metadata": {
    "collapsed": false,
    "jupyter": {
     "outputs_hidden": false
    }
   },
   "outputs": [],
   "source": [
    "class Voiture:\n",
    "    def __init__(self):\n",
    "        self.x = 0\n",
    "        self.y = 0\n",
    "        \n",
    "    def avancer_sur_y(self):\n",
    "        self.y += 1 # pareil self.y = self.y + 1"
   ]
  },
  {
   "cell_type": "markdown",
   "metadata": {},
   "source": [
    "- Regardons ce que devient l'attribut ``y``"
   ]
  },
  {
   "cell_type": "code",
   "execution_count": 50,
   "metadata": {},
   "outputs": [
    {
     "name": "stdout",
     "output_type": "stream",
     "text": [
      "position x : 0 position y : 0\n",
      "position x : 0 position y : 1\n"
     ]
    }
   ],
   "source": [
    "voiture = Voiture()\n",
    "position_x = voiture.x\n",
    "position_y = voiture.y\n",
    "print(\"position x :\", position_x, \"position y :\", position_y)\n",
    "\n",
    "# On avance\n",
    "voiture.avancer_sur_y()\n",
    "position_y = voiture.y\n",
    "print(\"position x :\", position_x, \"position y :\", position_y)"
   ]
  },
  {
   "cell_type": "markdown",
   "metadata": {},
   "source": [
    "- Définissons une flotte de voiture (``list`` de ``Voiture``) :"
   ]
  },
  {
   "cell_type": "code",
   "execution_count": 52,
   "metadata": {},
   "outputs": [],
   "source": [
    "flotte = [Voiture() for _ in range(10)] # _ pour la variable d'itération, car on ne s'en sert pas"
   ]
  },
  {
   "cell_type": "markdown",
   "metadata": {},
   "source": [
    "- Faisons avancer la première voiture"
   ]
  },
  {
   "cell_type": "code",
   "execution_count": 66,
   "metadata": {},
   "outputs": [
    {
     "name": "stdout",
     "output_type": "stream",
     "text": [
      "Position y : 11\n"
     ]
    }
   ],
   "source": [
    "voiture_0 = flotte[0]\n",
    "voiture_0.avancer_sur_y()\n",
    "print(\"Position y :\", voiture_0.y)"
   ]
  },
  {
   "cell_type": "markdown",
   "metadata": {},
   "source": [
    "- Faisons les toutes avancer"
   ]
  },
  {
   "cell_type": "code",
   "execution_count": 67,
   "metadata": {},
   "outputs": [
    {
     "name": "stdout",
     "output_type": "stream",
     "text": [
      "Les positions y des voitures de la flotte sont : [12, 6, 6, 6, 6, 6, 6, 6, 6, 6]\n"
     ]
    }
   ],
   "source": [
    "for i in range(len(flotte)):\n",
    "    flotte[i].avancer_sur_y()\n",
    "    \n",
    "print(\"Les positions y des voitures de la flotte sont : {}\".format([v.y for v in flotte]))"
   ]
  },
  {
   "cell_type": "markdown",
   "metadata": {},
   "source": [
    "- Différence méthodes et fonctions : \n",
    "    - Différence syntaxique une fonction s'appelle ainsi : ``f(a)``, une méthode ``objet.notre_methode()``\n",
    "    - Différence d'usage : une fonction peut gérer dans certains cas plusieurs types, une méthode est reliée à sa classe (\"son type\")"
   ]
  },
  {
   "cell_type": "code",
   "execution_count": 77,
   "metadata": {},
   "outputs": [
    {
     "name": "stdout",
     "output_type": "stream",
     "text": [
      "'dict' object has no attribute 'append'\n",
      "5\n",
      "3\n",
      "1\n"
     ]
    }
   ],
   "source": [
    "# Une méthode est liée à un type d'objet\n",
    "l = []\n",
    "l.append(5)\n",
    "#print(l)\n",
    "\n",
    "d = {}\n",
    "try: \n",
    "    d.append(3)\n",
    "    \n",
    "except Exception as e:\n",
    "    print(e)\n",
    "    \n",
    "# Fonction len\n",
    "s = 'HETIC'\n",
    "l = [1, 2, 3]\n",
    "d = {\"a\":4}\n",
    "for value in [s, l , d]:\n",
    "    print(len(value))"
   ]
  },
  {
   "cell_type": "markdown",
   "metadata": {},
   "source": [
    "<a id='3'></a>\n",
    "## 3. Initialiser avec des arguments"
   ]
  },
  {
   "cell_type": "code",
   "execution_count": 84,
   "metadata": {},
   "outputs": [],
   "source": [
    "class Voiture:\n",
    "    def __init__(self, x, y, couleur):\n",
    "        self.x = x\n",
    "        self.y = y\n",
    "        self.couleur = couleur\n",
    "        \n",
    "    def avancer_sur_y(self):\n",
    "        self.y += 1"
   ]
  },
  {
   "cell_type": "code",
   "execution_count": 85,
   "metadata": {},
   "outputs": [
    {
     "name": "stdout",
     "output_type": "stream",
     "text": [
      "position x : 1 position y : 10 couleur :  red\n",
      "position x : 1 position y : 11\n"
     ]
    }
   ],
   "source": [
    "voiture = Voiture(x=1, y=10, couleur=\"red\")\n",
    "position_x = voiture.x\n",
    "position_y = voiture.y\n",
    "print(\"position x :\", position_x, \"position y :\", position_y, \"couleur : \", voiture.couleur)\n",
    "\n",
    "# On avance\n",
    "voiture.avancer_sur_y()\n",
    "position_y = voiture.y\n",
    "print(\"position x :\", position_x, \"position y :\", position_y)"
   ]
  },
  {
   "cell_type": "markdown",
   "metadata": {},
   "source": [
    "<a id='4'></a>\n",
    "## 4. Définir une méthode avec un argument"
   ]
  },
  {
   "cell_type": "code",
   "execution_count": 86,
   "metadata": {},
   "outputs": [],
   "source": [
    "class Voiture:\n",
    "    def __init__(self):\n",
    "        self.x = 0\n",
    "        self.y = 0\n",
    "        \n",
    "    def avancer_sur_y(self, distance_sur_y):\n",
    "        self.y += distance_sur_y"
   ]
  },
  {
   "cell_type": "code",
   "execution_count": 87,
   "metadata": {},
   "outputs": [
    {
     "name": "stdout",
     "output_type": "stream",
     "text": [
      "position x : 0 position y : 0\n",
      "position x : 0 position y : 100\n",
      "position x : 0 position y : 110\n"
     ]
    }
   ],
   "source": [
    "voiture = Voiture()\n",
    "position_x = voiture.x\n",
    "position_y = voiture.y\n",
    "print(\"position x :\", position_x, \"position y :\", position_y)\n",
    "\n",
    "# On avance\n",
    "voiture.avancer_sur_y(distance_sur_y=100)\n",
    "position_y = voiture.y\n",
    "print(\"position x :\", position_x, \"position y :\", position_y)\n",
    "\n",
    "# On avance\n",
    "voiture.avancer_sur_y(distance_sur_y=10)\n",
    "position_y = voiture.y\n",
    "print(\"position x :\", position_x, \"position y :\", position_y)"
   ]
  },
  {
   "cell_type": "code",
   "execution_count": null,
   "metadata": {},
   "outputs": [],
   "source": [
    "l = [3, 5, 4]\n",
    "l.sort() # méthode sans argument\n",
    "l.append(7) # méthode avec argument"
   ]
  },
  {
   "cell_type": "markdown",
   "metadata": {},
   "source": [
    "<a id='5'></a>\n",
    "\n",
    "## 5. Exercices\n",
    "\n",
    "- Ecrire une classe ``FrenchTeacher`` qui :\n",
    "    - s'initialise sans argument\n",
    "    - possède une méthode ``check_first_caps`` qui prend en argument une chaîne de caractères et vérifie que la première lettre est bien une majuscule (on pourra utiliser ``.lower()`` ou ``.upper()``)\n",
    "\n",
    "\n",
    "- Ecrire une classe ``MathsTeacher`` qui :\n",
    "    - s'initialise avec un argument ``name`` qui servira à initialiser un attribut du même nom (c'est le nom du prof)\n",
    "    - possède une méthode ``compute_mean``qui prend en argument une liste et calcule sa moyenne\n",
    "    - possède une méthode ``say_hello`` qui prend en argument une instance de la classe ``MathsTeacher`` appellé ``other_instance`` et affiche (print) ``\"Salut {other_instance.name}\"``\n",
    "    \n",
    "  \n",
    "- (Plus difficile) Ecrire une classe ``HeadsOrTails`` qui permet à un utilisateur de jouer au jeu suivant :\n",
    " - On commence avec un score de 0\n",
    " - On est invité à jouer à Pile ou Face 4 fois\n",
    "    - A chaque fois, si on devine correctement, on gagne 1\n",
    "    - Sinon on perd 1\n",
    "    - Dans les deux cas on affiche un message à l'utilisateur pour lui indiqué s'il a réussi ou non\n",
    " - A la fin, on affiche le score final\n",
    " - On pourra par exemple utiliser :\n",
    "    - ``input()``pour que l'utilisateur saisisse une valeur\n",
    "    - la fonction ``randint``du package ``random`` que ci dessous :\n",
    "        \n",
    "- (Plus difficile) Implémenter une classe ``Explorer`` qui vous permet :\n",
    "    - D'afficher tous les fichiers dans le dossier courant \n",
    "    - D'afficher la liste des extensions présentes dans le dossier courant\n",
    "    - De réaliser toutes les opérations ci-dessus dans n'importe quel dossier dont on connait le chemin\n",
    "    (On pourra utiliser ``os.getcwd()``, ``os.listdir()``)\n",
    "    - Question facultative compliquée : écrire une methode qui permet de vérifier si deux noms de fichiers diffèrent de seulement un caractère au plus.\n",
    "    \n",
    "    \n",
    "- (Plus difficile) Ecrire une classe ``CsvReader`` qui permet à un utilisateur de lire un fichier .csv et de mettre les valeurs dans des listes de listes\n",
    "    - La classe s'initisalise avec le chemin vers le fichier\n",
    "    - Elle permettra de gérer les types ``float``, ``int`` et ``str``\n",
    "    - Elle possède une méthode ``parse`` qui transforme ce fichier ``data.csv`` (dans le repo Git):\n",
    "    ```csv \n",
    "Voiture, Vitesse, Prix\n",
    "Twingo, 100, 10000\n",
    "Mustang, 200, 100000\n",
    "```\n",
    "    - En cette liste de liste : \n",
    "    ```python\n",
    "    [[Voiture, Vitesse, Prix], [Twingo, 100, 10000], [Mustang, 200, 100000]]\n",
    "    ````"
   ]
  },
  {
   "cell_type": "code",
   "execution_count": 92,
   "metadata": {},
   "outputs": [
    {
     "data": {
      "text/plain": [
       "0"
      ]
     },
     "execution_count": 92,
     "metadata": {},
     "output_type": "execute_result"
    }
   ],
   "source": [
    "import random\n",
    "random.randint(0, 1) \n",
    "# génére un nombre aléatoire : 0 ou 1"
   ]
  },
  {
   "cell_type": "code",
   "execution_count": 135,
   "metadata": {},
   "outputs": [
    {
     "name": "stdout",
     "output_type": "stream",
     "text": [
      "False\n",
      "True\n",
      "False\n",
      "True\n"
     ]
    }
   ],
   "source": [
    "class FrenchTeacher:\n",
    "    def __init__(self):\n",
    "        pass\n",
    "#        self.profession = \"french_teacher\"    \n",
    "    \n",
    "    def check_first_caps(self, string):\n",
    "        return string[0].isupper()\n",
    "\n",
    "french_teacher = FrenchTeacher()\n",
    "print(french_teacher.check_first_caps(\"salut\"))\n",
    "print(french_teacher.check_first_caps(\"Salut\"))\n",
    "\n",
    "\n",
    "## Fonctionne aussi (on ne fait rien dans __init__)\n",
    "class FrenchTeacher:    \n",
    "    def check_first_caps(self, string):\n",
    "        return string[0].isupper()\n",
    "    \n",
    "french_teacher = FrenchTeacher()\n",
    "print(french_teacher.check_first_caps(\"salut\"))\n",
    "print(french_teacher.check_first_caps(\"Salut\"))"
   ]
  },
  {
   "cell_type": "code",
   "execution_count": 136,
   "metadata": {},
   "outputs": [
    {
     "name": "stdout",
     "output_type": "stream",
     "text": [
      "13.0\n",
      "Salut Hubert - c'est Jacques\n"
     ]
    }
   ],
   "source": [
    "class MathsTeacher:\n",
    "    def __init__(self, name):\n",
    "        self.name = name\n",
    "    \n",
    "    def compute_mean(self, l):\n",
    "        return sum(l) / len(l)\n",
    "    \n",
    "    def say_hello(self, other_maths_teacher):\n",
    "        print(f\"Salut {other_maths_teacher.name} - c'est {self.name}\")\n",
    "    \n",
    "maths_teacher = MathsTeacher(\"Jacques\")\n",
    "\n",
    "collegue_maths_teacher = MathsTeacher(\"Hubert\")\n",
    "\n",
    "print(maths_teacher.compute_mean([20, 9 , 10]))\n",
    "\n",
    "maths_teacher.say_hello(collegue_maths_teacher)"
   ]
  },
  {
   "cell_type": "code",
   "execution_count": 137,
   "metadata": {},
   "outputs": [
    {
     "name": "stdout",
     "output_type": "stream",
     "text": [
      "Taper 0 pour Pile ou 1 pour Face\n"
     ]
    },
    {
     "ename": "KeyboardInterrupt",
     "evalue": "Interrupted by user",
     "output_type": "error",
     "traceback": [
      "\u001b[0;31m---------------------------------------------------------------------------\u001b[0m",
      "\u001b[0;31mKeyboardInterrupt\u001b[0m                         Traceback (most recent call last)",
      "\u001b[0;32m<ipython-input-137-ebadabfa14b7>\u001b[0m in \u001b[0;36m<module>\u001b[0;34m\u001b[0m\n\u001b[1;32m     31\u001b[0m \u001b[0;34m\u001b[0m\u001b[0m\n\u001b[1;32m     32\u001b[0m \u001b[0mgame\u001b[0m \u001b[0;34m=\u001b[0m \u001b[0mHeadOrTails\u001b[0m\u001b[0;34m(\u001b[0m\u001b[0;34m)\u001b[0m\u001b[0;34m\u001b[0m\u001b[0;34m\u001b[0m\u001b[0m\n\u001b[0;32m---> 33\u001b[0;31m \u001b[0mgame\u001b[0m\u001b[0;34m.\u001b[0m\u001b[0mplay_4_times\u001b[0m\u001b[0;34m(\u001b[0m\u001b[0;34m)\u001b[0m\u001b[0;34m\u001b[0m\u001b[0;34m\u001b[0m\u001b[0m\n\u001b[0m",
      "\u001b[0;32m<ipython-input-137-ebadabfa14b7>\u001b[0m in \u001b[0;36mplay_4_times\u001b[0;34m(self)\u001b[0m\n\u001b[1;32m     25\u001b[0m     \u001b[0;32mdef\u001b[0m \u001b[0mplay_4_times\u001b[0m\u001b[0;34m(\u001b[0m\u001b[0mself\u001b[0m\u001b[0;34m)\u001b[0m\u001b[0;34m:\u001b[0m\u001b[0;34m\u001b[0m\u001b[0;34m\u001b[0m\u001b[0m\n\u001b[1;32m     26\u001b[0m         \u001b[0;32mfor\u001b[0m \u001b[0m_\u001b[0m \u001b[0;32min\u001b[0m \u001b[0mrange\u001b[0m\u001b[0;34m(\u001b[0m\u001b[0;36m4\u001b[0m\u001b[0;34m)\u001b[0m\u001b[0;34m:\u001b[0m\u001b[0;34m\u001b[0m\u001b[0;34m\u001b[0m\u001b[0m\n\u001b[0;32m---> 27\u001b[0;31m             \u001b[0mself\u001b[0m\u001b[0;34m.\u001b[0m\u001b[0mplay_once\u001b[0m\u001b[0;34m(\u001b[0m\u001b[0;34m)\u001b[0m\u001b[0;34m\u001b[0m\u001b[0;34m\u001b[0m\u001b[0m\n\u001b[0m\u001b[1;32m     28\u001b[0m \u001b[0;34m\u001b[0m\u001b[0m\n\u001b[1;32m     29\u001b[0m         \u001b[0mprint\u001b[0m\u001b[0;34m(\u001b[0m\u001b[0;34mf\"Votre score final est {self.score}\"\u001b[0m\u001b[0;34m)\u001b[0m\u001b[0;34m\u001b[0m\u001b[0;34m\u001b[0m\u001b[0m\n",
      "\u001b[0;32m<ipython-input-137-ebadabfa14b7>\u001b[0m in \u001b[0;36mplay_once\u001b[0;34m(self)\u001b[0m\n\u001b[1;32m     10\u001b[0m         \u001b[0mprint\u001b[0m\u001b[0;34m(\u001b[0m\u001b[0;34m\"Taper 0 pour Pile ou 1 pour Face\"\u001b[0m\u001b[0;34m)\u001b[0m\u001b[0;34m\u001b[0m\u001b[0;34m\u001b[0m\u001b[0m\n\u001b[1;32m     11\u001b[0m \u001b[0;34m\u001b[0m\u001b[0m\n\u001b[0;32m---> 12\u001b[0;31m         \u001b[0muser_tentative\u001b[0m \u001b[0;34m=\u001b[0m \u001b[0minput\u001b[0m\u001b[0;34m(\u001b[0m\u001b[0;34m)\u001b[0m\u001b[0;34m\u001b[0m\u001b[0;34m\u001b[0m\u001b[0m\n\u001b[0m\u001b[1;32m     13\u001b[0m \u001b[0;34m\u001b[0m\u001b[0m\n\u001b[1;32m     14\u001b[0m         \u001b[0;32mwhile\u001b[0m \u001b[0muser_tentative\u001b[0m \u001b[0;32mnot\u001b[0m \u001b[0;32min\u001b[0m \u001b[0;34m[\u001b[0m\u001b[0;34m\"0\"\u001b[0m\u001b[0;34m,\u001b[0m\u001b[0;34m\"1\"\u001b[0m\u001b[0;34m]\u001b[0m\u001b[0;34m:\u001b[0m\u001b[0;34m\u001b[0m\u001b[0;34m\u001b[0m\u001b[0m\n",
      "\u001b[0;32m/usr/local/lib/python3.9/site-packages/ipykernel/kernelbase.py\u001b[0m in \u001b[0;36mraw_input\u001b[0;34m(self, prompt)\u001b[0m\n\u001b[1;32m    858\u001b[0m                 \u001b[0;34m\"raw_input was called, but this frontend does not support input requests.\"\u001b[0m\u001b[0;34m\u001b[0m\u001b[0;34m\u001b[0m\u001b[0m\n\u001b[1;32m    859\u001b[0m             )\n\u001b[0;32m--> 860\u001b[0;31m         return self._input_request(str(prompt),\n\u001b[0m\u001b[1;32m    861\u001b[0m             \u001b[0mself\u001b[0m\u001b[0;34m.\u001b[0m\u001b[0m_parent_ident\u001b[0m\u001b[0;34m,\u001b[0m\u001b[0;34m\u001b[0m\u001b[0;34m\u001b[0m\u001b[0m\n\u001b[1;32m    862\u001b[0m             \u001b[0mself\u001b[0m\u001b[0;34m.\u001b[0m\u001b[0m_parent_header\u001b[0m\u001b[0;34m,\u001b[0m\u001b[0;34m\u001b[0m\u001b[0;34m\u001b[0m\u001b[0m\n",
      "\u001b[0;32m/usr/local/lib/python3.9/site-packages/ipykernel/kernelbase.py\u001b[0m in \u001b[0;36m_input_request\u001b[0;34m(self, prompt, ident, parent, password)\u001b[0m\n\u001b[1;32m    902\u001b[0m             \u001b[0;32mexcept\u001b[0m \u001b[0mKeyboardInterrupt\u001b[0m\u001b[0;34m:\u001b[0m\u001b[0;34m\u001b[0m\u001b[0;34m\u001b[0m\u001b[0m\n\u001b[1;32m    903\u001b[0m                 \u001b[0;31m# re-raise KeyboardInterrupt, to truncate traceback\u001b[0m\u001b[0;34m\u001b[0m\u001b[0;34m\u001b[0m\u001b[0;34m\u001b[0m\u001b[0m\n\u001b[0;32m--> 904\u001b[0;31m                 \u001b[0;32mraise\u001b[0m \u001b[0mKeyboardInterrupt\u001b[0m\u001b[0;34m(\u001b[0m\u001b[0;34m\"Interrupted by user\"\u001b[0m\u001b[0;34m)\u001b[0m \u001b[0;32mfrom\u001b[0m \u001b[0;32mNone\u001b[0m\u001b[0;34m\u001b[0m\u001b[0;34m\u001b[0m\u001b[0m\n\u001b[0m\u001b[1;32m    905\u001b[0m             \u001b[0;32mexcept\u001b[0m \u001b[0mException\u001b[0m \u001b[0;32mas\u001b[0m \u001b[0me\u001b[0m\u001b[0;34m:\u001b[0m\u001b[0;34m\u001b[0m\u001b[0;34m\u001b[0m\u001b[0m\n\u001b[1;32m    906\u001b[0m                 \u001b[0mself\u001b[0m\u001b[0;34m.\u001b[0m\u001b[0mlog\u001b[0m\u001b[0;34m.\u001b[0m\u001b[0mwarning\u001b[0m\u001b[0;34m(\u001b[0m\u001b[0;34m\"Invalid Message:\"\u001b[0m\u001b[0;34m,\u001b[0m \u001b[0mexc_info\u001b[0m\u001b[0;34m=\u001b[0m\u001b[0;32mTrue\u001b[0m\u001b[0;34m)\u001b[0m\u001b[0;34m\u001b[0m\u001b[0;34m\u001b[0m\u001b[0m\n",
      "\u001b[0;31mKeyboardInterrupt\u001b[0m: Interrupted by user"
     ]
    }
   ],
   "source": [
    "class HeadOrTails:\n",
    "    def __init__(self):\n",
    "        # Score de départ\n",
    "        self.score = 0\n",
    "        # Lancer le jeu\n",
    "    \n",
    "    def play_once(self):\n",
    "        \n",
    "        result = str(random.randint(0,1)) # 0 pour Tail et 1 pour Head\n",
    "        print(\"Taper 0 pour Pile ou 1 pour Face\")\n",
    "        \n",
    "        user_tentative = input()\n",
    "        \n",
    "        while user_tentative not in [\"0\",\"1\"]:\n",
    "            print(\"Veuillez saisir 0 pour Pile ou 1 pour Face\")\n",
    "            user_tentative = input()\n",
    "            \n",
    "        if result == user_tentative:\n",
    "            print(\"Bonne réponse ! \")\n",
    "            self.score += 1\n",
    "        else:\n",
    "            print(\"Mauvaise réponse ! \")\n",
    "            self.score -= 1\n",
    "    \n",
    "    def play_4_times(self):\n",
    "        for _ in range(4):\n",
    "            self.play_once()\n",
    "            \n",
    "        print(f\"Votre score final est {self.score}\")\n",
    "        \n",
    "        \n",
    "game = HeadOrTails()\n",
    "game.play_4_times()"
   ]
  },
  {
   "cell_type": "markdown",
   "metadata": {},
   "source": [
    "<a id='6'></a>\n",
    "## 6. Programmation orientée objet\n",
    "- Les classes font partie d'un paradigme de programmation appelé Programmation Orientée Objet (ou Object Oriented Programming). Le but de ce paradigme est d'utiliser des classes pour construire le programme. \n",
    "\n",
    "- Une classe est une portion de code qui définit les attributs (information) et méthodes (comportements) qui représentent précisément ce qu'on veut que le programme fasse.\n",
    "\n",
    "- Un attribut est une information, c'est une variable qui fait partie de la classe.\n",
    "\n",
    "- Une méthode est un comportement, c'une fonction qui fait partie de la classe.\n",
    "\n",
    "- Une instance (``voiture``) d'une classe est un objet qui a cette classe (``Voiture``) pour type."
   ]
  },
  {
   "cell_type": "code",
   "execution_count": 93,
   "metadata": {},
   "outputs": [],
   "source": [
    "class Voiture:\n",
    "    def __init__(self, x, y, couleur):\n",
    "        self.x = x\n",
    "        self.y = y\n",
    "        self.couleur = couleur\n",
    "        \n",
    "    def avancer_sur_y(self, distance_sur_y):\n",
    "        self.y += distance_sur_y\n",
    "        \n",
    "        \n",
    "corbillard = Voiture(x=0, y=-6, couleur='noir')\n",
    "\n",
    "magnum_car = Voiture(x=0, y=0, couleur='rouge')"
   ]
  },
  {
   "cell_type": "code",
   "execution_count": 94,
   "metadata": {},
   "outputs": [
    {
     "data": {
      "text/plain": [
       "140505568783280"
      ]
     },
     "execution_count": 94,
     "metadata": {},
     "output_type": "execute_result"
    }
   ],
   "source": [
    "id(Voiture) # identifiant"
   ]
  },
  {
   "cell_type": "markdown",
   "metadata": {},
   "source": [
    "## 7. Héritage de classe\n",
    "- ``Voiture`` est la classe mère et ``VoitureDeSport`` est la classe fille. On dit que ``VoitureDeSport``hérite de ``Voiture``\n",
    "- On initialise la classe mère, puis on peut rajouter de la logique qui n'est que pour la classe fille"
   ]
  },
  {
   "cell_type": "code",
   "execution_count": 95,
   "metadata": {
    "collapsed": false,
    "jupyter": {
     "outputs_hidden": false
    }
   },
   "outputs": [],
   "source": [
    "class Voiture:\n",
    "    def __init__(self, x, y):\n",
    "        self.x = x\n",
    "        self.y = y\n",
    "        \n",
    "    def avancer_sur_y(self, distance_sur_y):\n",
    "        self.y += distance_sur_y\n",
    "        \n",
    "    def avancer_sur_x(self, distance_sur_x):\n",
    "        self.x += distance_sur_x\n",
    "        \n",
    "\n",
    "class VoitureDeSport(Voiture):\n",
    "    def __init__(self, x, y , prix):  #self, arguments de la classe mère, arguments de la classe fille\n",
    "        # initialisation classe mère\n",
    "        Voiture.__init__(self, x, y)\n",
    "        # On ajoute le prix\n",
    "        self.prix = prix"
   ]
  },
  {
   "cell_type": "markdown",
   "metadata": {},
   "source": [
    "- ``.__dict__`` permet d'afficher tous les attributs d'une instance d'une classe"
   ]
  },
  {
   "cell_type": "code",
   "execution_count": 96,
   "metadata": {},
   "outputs": [
    {
     "name": "stdout",
     "output_type": "stream",
     "text": [
      "attributs de voiture : {'x': 1, 'y': 1}\n",
      "attributs de voiture_de_sport : {'x': 1, 'y': 1, 'prix': 100000}\n"
     ]
    }
   ],
   "source": [
    "voiture = Voiture(1,1)\n",
    "voiture_de_sport = VoitureDeSport(1,1, 100000)\n",
    "print(\"attributs de voiture :\", voiture.__dict__)\n",
    "print(\"attributs de voiture_de_sport :\",voiture_de_sport.__dict__)"
   ]
  },
  {
   "cell_type": "markdown",
   "metadata": {},
   "source": [
    "- On peut initialiser la classe mère avec la fonction ``super()`` (pas besoin d'ajouter le mot clef ``self``)"
   ]
  },
  {
   "cell_type": "code",
   "execution_count": 98,
   "metadata": {},
   "outputs": [],
   "source": [
    "class VoitureDeSport(Voiture):\n",
    "    def __init__(self, x, y, prix): \n",
    "        # initialisation classe mère avec super\n",
    "        super().__init__(x, y)\n",
    "        # On ajoute le prix\n",
    "        self.prix = prix"
   ]
  },
  {
   "cell_type": "code",
   "execution_count": 106,
   "metadata": {},
   "outputs": [
    {
     "name": "stdout",
     "output_type": "stream",
     "text": [
      "attributs de voiture_de_sport : {'x': 1, 'y': 1, 'prix': 100000}\n",
      "attributs de voiture_de_sport : {'x': 1, 'y': 11, 'prix': 100000}\n"
     ]
    }
   ],
   "source": [
    "voiture_de_sport = VoitureDeSport(1,1, 100000)\n",
    "print(\"attributs de voiture_de_sport :\",voiture_de_sport.__dict__)\n",
    "voiture_de_sport.avancer_sur_y(10)\n",
    "print(\"attributs de voiture_de_sport :\",voiture_de_sport.__dict__)"
   ]
  },
  {
   "cell_type": "markdown",
   "metadata": {},
   "source": [
    "- On peut définir des méthodes qui n'existent que pour la classe fille"
   ]
  },
  {
   "cell_type": "code",
   "execution_count": 131,
   "metadata": {},
   "outputs": [],
   "source": [
    "class VoitureDeSport(Voiture):\n",
    "    def __init__(self, x, y, prix): #def __init__(self, arguments_, arguments_parent_class):\n",
    "        # initialisation classe mère avec super\n",
    "        super().__init__(x, y)\n",
    "        # On ajoute le prix\n",
    "        self.prix = prix\n",
    "        \n",
    "    # On écrase la méthode avancer_sur_y de le classe mère\n",
    "    # Car on la réécrit\n",
    "    def avancer_sur_y(self):\n",
    "        self.y += 2000\n",
    "        \n",
    "    def avancer_sur_y_rapidement(self):\n",
    "        self.y += 100\n",
    "        \n",
    "    def prendre_de_la_valeur(self):\n",
    "        self.prix += 10000\n",
    "    \n",
    "    # La méthode est utilisée pour choisir ce qu'on affiche quand on utilise print\n",
    "    def __repr__(self):\n",
    "        return f\"Voiture de sport - son prix est {self.prix}\""
   ]
  },
  {
   "cell_type": "code",
   "execution_count": 132,
   "metadata": {},
   "outputs": [
    {
     "name": "stdout",
     "output_type": "stream",
     "text": [
      "attributs de voiture_de_sport : {'x': 1, 'y': 1, 'prix': 100000}\n",
      "attributs de voiture_de_sport : {'x': 1, 'y': 101, 'prix': 100000}\n",
      "attributs de voiture_de_sport : {'x': 1, 'y': 101, 'prix': 110000}\n",
      "Cette méthode n'existe que pour les voitures de sport pas pour les voitures\n"
     ]
    }
   ],
   "source": [
    "voiture_de_sport = VoitureDeSport(1,1, 100000)\n",
    "print(\"attributs de voiture_de_sport :\",voiture_de_sport.__dict__)\n",
    "voiture_de_sport.avancer_sur_y_rapidement()\n",
    "print(\"attributs de voiture_de_sport :\",voiture_de_sport.__dict__)\n",
    "voiture_de_sport.prendre_de_la_valeur()\n",
    "print(\"attributs de voiture_de_sport :\",voiture_de_sport.__dict__)\n",
    "\n",
    "\n",
    "try:\n",
    "    voiture.avancer_sur_y_rapidement()\n",
    "except:\n",
    "    print(\"Cette méthode n'existe que pour les voitures de sport pas pour les voitures\")"
   ]
  },
  {
   "cell_type": "code",
   "execution_count": 133,
   "metadata": {},
   "outputs": [
    {
     "name": "stdout",
     "output_type": "stream",
     "text": [
      "attributs de voiture_de_sport : {'x': 1, 'y': 2101, 'prix': 110000}\n"
     ]
    }
   ],
   "source": [
    "voiture_de_sport.avancer_sur_y()\n",
    "print(\"attributs de voiture_de_sport :\",voiture_de_sport.__dict__)"
   ]
  },
  {
   "cell_type": "code",
   "execution_count": 134,
   "metadata": {},
   "outputs": [
    {
     "name": "stdout",
     "output_type": "stream",
     "text": [
      "Voiture de sport - son prix est 110000\n"
     ]
    }
   ],
   "source": [
    "print(voiture_de_sport)"
   ]
  },
  {
   "cell_type": "markdown",
   "metadata": {},
   "source": [
    "## 8. Exercices\n",
    "- Reprendre la classe ``HeadsOrTails`` de l'exercice précédent et implémenter une classe fille``HeadsOrTailsV2`` qui en plus : \n",
    "    - Demande le nom du joueur\n",
    "    - Le salue en début et en fin de partie\n",
    "    \n",
    "    \n",
    "- Implémenter une classe ``Personne`` qui aura pour attribut ``nom``, ``prenom`` âge\n",
    "    - Implémenter une classe fille ``Lyceen`` qui aura en plus un attribut ``classe`` et une méthode ``veillir()`` qui augmente son âge de 1\n",
    "    - Implémenter une classe fille ``Enseignant`` qui aura en plus un attribut ``matière`` et une méthode ``noter_lyceen`` qui prend un argument une instance de classe ``Lycéen`` et affiche un message avec le nom de l'étudiant et une note aléatoire entre 0 et 20\n",
    "    \n",
    "- (Plus difficile) Implémenter une classe MySoup qui : \n",
    "\n",
    "    - s'initialise avec une chaîne de caractères représentant du code html\n",
    "    - contient une méthode ``.find_all_p``qui permet de renvoyer toutes les portions contenues dans des balises ``<p>``\n",
    "    - (plus difficile) contient une méthode qui est capable de vérifier si toutes les balises sont correctement ouvertes et fermées"
   ]
  },
  {
   "cell_type": "markdown",
   "metadata": {},
   "source": [
    "- HeadsOrTailsV2"
   ]
  },
  {
   "cell_type": "code",
   "execution_count": null,
   "metadata": {},
   "outputs": [],
   "source": [
    "import random\n",
    "\n",
    "\n",
    "class HeadsOrTails:\n",
    "    def __init__(self):\n",
    "        # Score de départ\n",
    "        self.score = 0\n",
    "        # Lancer le jeu\n",
    "    \n",
    "    def play_once(self):\n",
    "        result = str(random.randint(0,1)) # 0 pour Tail et 1 pour Head\n",
    "        print(\"Tapez 0 pour Pile ou 1 pour Face\")\n",
    "\n",
    "        user_tentative = input()        \n",
    "        while user_tentative not in [\"0\",\"1\"]:\n",
    "            print(\"Veuillez saisir 0 pour Pile ou 1 pour Face\")\n",
    "            user_tentative = input()\n",
    "            \n",
    "        if result == user_tentative:\n",
    "            print(\"Bonne réponse ! \")\n",
    "            self.score += 1\n",
    "        else:\n",
    "            print(\"Mauvaise réponse ! \")\n",
    "            self.score -= 1\n",
    "    \n",
    "    def play_4_times(self):\n",
    "        for _ in range(4):\n",
    "            self.play_once()\n",
    "            \n",
    "        print(f\"Votre score final est {self.score}\")\n",
    "        \n",
    "        \n",
    "class HeadsOrTailsV2(HeadsOrTails):\n",
    "    \n",
    "    def ask_name(self):\n",
    "        print('Comment vous appelez vous ?')\n",
    "        self.user_name = input()\n",
    "        \n",
    "    def say_hello(self):\n",
    "        print(f\"Salut {self.user_name}\")\n",
    "        \n",
    "    def say_goodbye(self):\n",
    "        print(f\"Au revoir {self.user_name}\")\n",
    "        \n",
    "    def play_and_greet(self):\n",
    "        self.ask_name()\n",
    "        self.say_hello()\n",
    "        self.play_4_times()\n",
    "        self.say_goodbye()\n",
    "        \n",
    "game = HeadsOrTailsV2()\n",
    "game.play_and_greet()"
   ]
  },
  {
   "cell_type": "markdown",
   "metadata": {},
   "source": [
    "- Person"
   ]
  },
  {
   "cell_type": "code",
   "execution_count": 10,
   "metadata": {},
   "outputs": [
    {
     "data": {
      "text/plain": [
       "[<p>My first paragraph.</p>,\n",
       " <p>My second paragraph.</p>,\n",
       " <p>My third paragraph.\n",
       "     </p>,\n",
       " <p>My fourth paragraph (in my third).</p>]"
      ]
     },
     "execution_count": 10,
     "metadata": {},
     "output_type": "execute_result"
    }
   ],
   "source": [
    "from bs4 import BeautifulSoup\n",
    "\n",
    "html = \"\"\"<!DOCTYPE html>\n",
    "<html>\n",
    "<body>\n",
    "\n",
    "<h1>My First Heading</h1>\n",
    "<p>My first paragraph.</p>\n",
    "<p>My second paragraph.</p>\n",
    "<p>My third paragraph.\n",
    "    <p>My fourth paragraph (in my third).</p>\n",
    "</p>\n",
    "\n",
    "\n",
    "\n",
    "</body>\n",
    "</html>\"\"\"\n",
    "\n",
    "soup = BeautifulSoup(html)\n",
    "\n",
    "soup.find_all(\"p\")"
   ]
  },
  {
   "cell_type": "code",
   "execution_count": 6,
   "metadata": {},
   "outputs": [],
   "source": [
    "# vars(soup)"
   ]
  },
  {
   "cell_type": "code",
   "execution_count": null,
   "metadata": {},
   "outputs": [],
   "source": [
    "for _ in range(10):\n",
    "    print(\"Salut\")\n",
    "    \n",
    "for i in range(10):\n",
    "    print(f\"Salut - {i}\")"
   ]
  }
 ],
 "metadata": {
  "kernelspec": {
   "display_name": "Python 3",
   "language": "python",
   "name": "python3"
  },
  "language_info": {
   "codemirror_mode": {
    "name": "ipython",
    "version": 3
   },
   "file_extension": ".py",
   "mimetype": "text/x-python",
   "name": "python",
   "nbconvert_exporter": "python",
   "pygments_lexer": "ipython3",
   "version": "3.9.0"
  }
 },
 "nbformat": 4,
 "nbformat_minor": 4
}
