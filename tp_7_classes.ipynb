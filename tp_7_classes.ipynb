{
 "cells": [
  {
   "cell_type": "markdown",
   "metadata": {},
   "source": [
    "# **M1 - CSB**\n",
    "# **TP 7 - Les classes en Python**\n",
    "\n",
    "\n",
    "***\n",
    "\n",
    "[**Notions**](#notions)\n",
    "\n",
    "1. [La méthode ``.__init__()``](#1)\n",
    "2. [Définir une méthode](#2)\n",
    "3. [Initialiser avec des arguments](#3)\n",
    "4. [Définir une méthode avec un argument](#4)\n",
    "5. [Exercices](#5)\n",
    "6. [Programmation orientée objet](#6)\n",
    "7. [Héritage de classe](#7)\n",
    "8. [Exercices](#8)"
   ]
  },
  {
   "cell_type": "markdown",
   "metadata": {},
   "source": [
    "<a id=\"1\"></a>\n",
    "## 1. La méthode ``.__init__()``\n",
    "- Cette méthode permet de définir les valeurs des attributs (ici x et y)\n",
    "- ``self`` est une syntaxe qui permet d'avoir accès à notre objet n'importe où dans notre classe - qui désigne la voiture dans ce cas\n",
    "- ``x`` et ``y`` sont des attributs de le classe ``Voiture``"
   ]
  },
  {
   "cell_type": "code",
   "execution_count": 97,
   "metadata": {
    "collapsed": false,
    "jupyter": {
     "outputs_hidden": false
    }
   },
   "outputs": [],
   "source": [
    "class Voiture():\n",
    "    def __init__(self):\n",
    "        self.x = 0\n",
    "        self.y = 0"
   ]
  },
  {
   "cell_type": "markdown",
   "metadata": {},
   "source": [
    "- Ici, on instancie la classe : on crée une variable ``voiture``qui est une instance de la classe ``Voiture``"
   ]
  },
  {
   "cell_type": "code",
   "execution_count": 98,
   "metadata": {},
   "outputs": [
    {
     "name": "stdout",
     "output_type": "stream",
     "text": [
      "position x : 0 position y: 0\n"
     ]
    }
   ],
   "source": [
    "voiture = Voiture()\n",
    "position_x = voiture.x\n",
    "position_y = voiture.y\n",
    "print(\"position x :\", position_x, \"position y:\", position_y)"
   ]
  },
  {
   "cell_type": "markdown",
   "metadata": {},
   "source": [
    "<a id=\"2\"></a>\n",
    "## 2. Définir une méthode\n",
    "- Notre classe voiture possède deux informations mais ne peut rien faire d'autre. Nous allons ici définir une première méthode"
   ]
  },
  {
   "cell_type": "code",
   "execution_count": 115,
   "metadata": {
    "collapsed": false,
    "jupyter": {
     "outputs_hidden": false
    }
   },
   "outputs": [],
   "source": [
    "class Voiture:\n",
    "    def __init__(self):\n",
    "        self.x = 0\n",
    "        self.y = 0\n",
    "        \n",
    "    def avancer_sur_y(self):\n",
    "        self.y += 1"
   ]
  },
  {
   "cell_type": "markdown",
   "metadata": {},
   "source": [
    "- Regardons ce que devient l'attribut ``y``"
   ]
  },
  {
   "cell_type": "code",
   "execution_count": 116,
   "metadata": {},
   "outputs": [
    {
     "name": "stdout",
     "output_type": "stream",
     "text": [
      "position x : 0 position y : 0\n",
      "position x : 0 position y : 1\n"
     ]
    }
   ],
   "source": [
    "voiture = Voiture()\n",
    "position_x = voiture.x\n",
    "position_y = voiture.y\n",
    "print(\"position x :\", position_x, \"position y :\", position_y)\n",
    "\n",
    "# On avance\n",
    "voiture.avancer_sur_y()\n",
    "position_y = voiture.y\n",
    "print(\"position x :\", position_x, \"position y :\", position_y)"
   ]
  },
  {
   "cell_type": "markdown",
   "metadata": {},
   "source": [
    "- Définissons une flotte de voiture :"
   ]
  },
  {
   "cell_type": "code",
   "execution_count": 117,
   "metadata": {},
   "outputs": [],
   "source": [
    "flotte = [Voiture() for _ in range(10)]"
   ]
  },
  {
   "cell_type": "markdown",
   "metadata": {},
   "source": [
    "- Faisons avancer la première voiture"
   ]
  },
  {
   "cell_type": "code",
   "execution_count": 118,
   "metadata": {},
   "outputs": [
    {
     "name": "stdout",
     "output_type": "stream",
     "text": [
      "Position y : 1\n"
     ]
    }
   ],
   "source": [
    "voiture_0 = flotte[0]\n",
    "voiture_0.avancer_sur_y()\n",
    "print(\"Position y :\", voiture_0.y)"
   ]
  },
  {
   "cell_type": "markdown",
   "metadata": {},
   "source": [
    "- Faisons les toutes avancer"
   ]
  },
  {
   "cell_type": "code",
   "execution_count": 119,
   "metadata": {},
   "outputs": [
    {
     "name": "stdout",
     "output_type": "stream",
     "text": [
      "Les positions y des voitures de la flotte sont : [2, 1, 1, 1, 1, 1, 1, 1, 1, 1]\n"
     ]
    }
   ],
   "source": [
    "for i in range(len(flotte)):\n",
    "    flotte[i].avancer_sur_y()\n",
    "    \n",
    "print(\"Les positions y des voitures de la flotte sont : {}\".format([v.y for v in flotte]))"
   ]
  },
  {
   "cell_type": "markdown",
   "metadata": {},
   "source": [
    "<a id='3'></a>\n",
    "## 3. Initialiser avec des arguments"
   ]
  },
  {
   "cell_type": "code",
   "execution_count": 120,
   "metadata": {},
   "outputs": [],
   "source": [
    "class Voiture:\n",
    "    def __init__(self, x, y):\n",
    "        self.x = x\n",
    "        self.y = y\n",
    "        \n",
    "    def avancer_sur_y(self):\n",
    "        self.y += 1"
   ]
  },
  {
   "cell_type": "code",
   "execution_count": 121,
   "metadata": {},
   "outputs": [
    {
     "name": "stdout",
     "output_type": "stream",
     "text": [
      "position x : 1 position y : 10\n",
      "position x : 1 position y : 11\n"
     ]
    }
   ],
   "source": [
    "voiture = Voiture(x=1, y=10)\n",
    "position_x = voiture.x\n",
    "position_y = voiture.y\n",
    "print(\"position x :\", position_x, \"position y :\", position_y)\n",
    "\n",
    "# On avance\n",
    "voiture.avancer_sur_y()\n",
    "position_y = voiture.y\n",
    "print(\"position x :\", position_x, \"position y :\", position_y)"
   ]
  },
  {
   "cell_type": "markdown",
   "metadata": {},
   "source": [
    "<a id='4'></a>\n",
    "## 4. Définir une méthode avec un argument"
   ]
  },
  {
   "cell_type": "code",
   "execution_count": 122,
   "metadata": {},
   "outputs": [],
   "source": [
    "class Voiture:\n",
    "    def __init__(self):\n",
    "        self.x = 0\n",
    "        self.y = 0\n",
    "        \n",
    "    def avancer_sur_y(self, distance_sur_y):\n",
    "        self.y += distance_sur_y"
   ]
  },
  {
   "cell_type": "code",
   "execution_count": 123,
   "metadata": {},
   "outputs": [
    {
     "name": "stdout",
     "output_type": "stream",
     "text": [
      "position x : 0 position y : 0\n",
      "position x : 0 position y : 100\n",
      "position x : 0 position y : 110\n"
     ]
    }
   ],
   "source": [
    "voiture = Voiture()\n",
    "position_x = voiture.x\n",
    "position_y = voiture.y\n",
    "print(\"position x :\", position_x, \"position y :\", position_y)\n",
    "\n",
    "# On avance\n",
    "voiture.avancer_sur_y(distance_sur_y=100)\n",
    "position_y = voiture.y\n",
    "print(\"position x :\", position_x, \"position y :\", position_y)\n",
    "\n",
    "# On avance\n",
    "voiture.avancer_sur_y(distance_sur_y=10)\n",
    "position_y = voiture.y\n",
    "print(\"position x :\", position_x, \"position y :\", position_y)"
   ]
  },
  {
   "cell_type": "markdown",
   "metadata": {},
   "source": [
    "<a id='5'></a>\n",
    "\n",
    "## 5. Exercices\n",
    "\n",
    "- Ecrire une classe ``FrenchTeacher`` qui :\n",
    "    - s'initialise sans argument\n",
    "    - possède une méthode ``check_first_caps`` qui prend en argument une chaîne de caractères et vérifie que la première lettre est bien une majuscule (on pourra utiliser ``.lower()`` ou ``.upper()``\n",
    "\n",
    "\n",
    "- Ecrire une classe ``MathsTeacher`` qui :\n",
    "    - s'initialise avec un argument ``name`` qui servira à initialiser un attribut du même nom\n",
    "    - possède une méthode ``compute_mean``qui prend en argument une liste et calcule sa moyenne\n",
    "    - possède une méthode ``say_hello`` qui prend en argument une instance de la classe ``MathsTeacher`` appellé ``other_instance`` et affiche (print) ``\"Salut {other_instance.name}\"``\n",
    "    \n",
    "  \n",
    "- (Plus difficile) Ecrire une classe ``HeadsOrTails`` qui permet à un utilisateur de jouer au jeu suivant :\n",
    " - On commence avec un score de 0\n",
    " - On est invité à jouer à Pile ou Face 4 fois\n",
    "    - A chaque fois, si on devine correctement, on gagne 1\n",
    "    - Sinon on perd 1\n",
    "    - Dans les deux cas on affiche un message à l'utilisateur pour lui indiqué s'il a réussi ou non\n",
    " - A la fin, on affiche le score final\n",
    " - On pourra par exemple utiliser \n",
    "  - ``input()``pour que l'utilisateur saisisse une valeur\n",
    "  - la fonction ``randint``du package ``random`` que ci dessous :\n",
    "        \n",
    "- (Plus difficile) Implémenter une classe ``Explorer`` qui vous permet :\n",
    "    - D'afficher tous les fichiers dans le dossier courant \n",
    "    - D'afficher la liste des extensions présentes dans le dossier courant\n",
    "    - De vérifier si deux fichiers ont des noms qui diffèrent de seulement un caractère\n",
    "    - De réaliser toutes les opérations ci-dessus dans n'importe quel dossier dont on connait le chemin\n",
    "    (On pourra utiliser ``os.getcwd()``, ``os.listdir()``)\n",
    "    \n",
    "    \n",
    "- (Plus difficile) Ecrire une classe ``CsvReader`` qui permet à un utilisateur de lire un fichier .csv et de mettre les valeurs dans des listes de listes\n",
    "    - La classe s'initisalise avec le chemin vers le fichier\n",
    "    - Elle possède une méthode ``parse`` qui transforme ce fichier ``data.csv`` (dans le repose Git):\n",
    "    ```csv \n",
    "Voiture, Vitesse, Prix,\n",
    "Twingo, 100, 10000,\n",
    "Mustang, 200, 100000,\n",
    "```\n",
    "    - En cette liste de liste : \n",
    "    ```python\n",
    "    [[Voiture, Vitesse, Prix], [Twingo, 100, 10000], [Mustang, 200, 100000]]\n",
    "    ````"
   ]
  },
  {
   "cell_type": "markdown",
   "metadata": {},
   "source": [
    "<a id='6'></a>\n",
    "## 6. Programmation orientée objet\n",
    "- Les classes font partie d'un paradigme de programmation appelé Programmation Orientée Objet (ou Object Oriented Programming). Le but de ce paradigme est d'utiliser des classes pour construire le programme. \n",
    "\n",
    "- Une classe est une portion de code qui définit les attributs et méthodes (comportements) qui représentent précisément ce qu'on veut que le programme fasse.\n",
    "\n",
    "- Un attribut est une information, c'est une variable qui fait partie de la classe.\n",
    "\n",
    "- Une méthode est un comportement, c'une fonction qui fait partie de la classe.\n",
    "\n",
    "- Une instance d'une classe est un objet qui a cette classe pour type."
   ]
  },
  {
   "cell_type": "markdown",
   "metadata": {},
   "source": [
    "## 7. Héritage de classe\n",
    "- ``Voiture`` est la classe mère et ``VoitureDeSport`` est la classe fille. On dit que ``VoitureDeSport``hérite de ``Voiture``\n",
    "- On initialise la classe mère, puis on peut rajouter de la logique qui n'est que pour la classe fille"
   ]
  },
  {
   "cell_type": "code",
   "execution_count": 125,
   "metadata": {
    "collapsed": false,
    "jupyter": {
     "outputs_hidden": false
    }
   },
   "outputs": [],
   "source": [
    "class Voiture:\n",
    "    def __init__(self, x, y):\n",
    "        self.x = x\n",
    "        self.y = y\n",
    "        \n",
    "    def avancer_sur_y(self, distance_sur_y):\n",
    "        self.y += distance_sur_y\n",
    "        \n",
    "    def avancer_sur_x(self, distance_sur_x):\n",
    "        self.x += distance_sur_x\n",
    "\n",
    "class VoitureDeSport(Voiture):\n",
    "    def __init__(self, x,y , prix): #def __init__(self, arguments_, arguments_parent_class):\n",
    "        # initialisation classe mère\n",
    "        Voiture.__init__(self, x, y)\n",
    "        # On ajoute le prix\n",
    "        self.prix = prix"
   ]
  },
  {
   "cell_type": "code",
   "execution_count": 126,
   "metadata": {},
   "outputs": [
    {
     "name": "stdout",
     "output_type": "stream",
     "text": [
      "attributs de voiture : {'x': 1, 'y': 1}\n",
      "attributs de voiture_de_sport : {'x': 1, 'y': 1, 'prix': 100000}\n"
     ]
    }
   ],
   "source": [
    "voiture = Voiture(1,1)\n",
    "voiture_de_sport = VoitureDeSport(1,1, 100000)\n",
    "print(\"attributs de voiture :\", voiture.__dict__)\n",
    "print(\"attributs de voiture_de_sport :\",voiture_de_sport.__dict__)"
   ]
  },
  {
   "cell_type": "markdown",
   "metadata": {},
   "source": [
    "- On peut initialiser la classe mère avec la fonction ``super()`` (pas besoin d'ajouter le mot clef ``self``)"
   ]
  },
  {
   "cell_type": "code",
   "execution_count": 127,
   "metadata": {},
   "outputs": [],
   "source": [
    "class VoitureDeSport(Voiture):\n",
    "    def __init__(self, x, y, prix): #def __init__(self, arguments_, arguments_parent_class):\n",
    "        # initialisation classe mère avec super\n",
    "        super().__init__(x, y)\n",
    "        # On ajoute le prix\n",
    "        self.prix = prix"
   ]
  },
  {
   "cell_type": "code",
   "execution_count": 128,
   "metadata": {},
   "outputs": [
    {
     "name": "stdout",
     "output_type": "stream",
     "text": [
      "attributs de voiture_de_sport : {'x': 1, 'y': 1, 'prix': 100000}\n"
     ]
    }
   ],
   "source": [
    "voiture_de_sport = VoitureDeSport(1,1, 100000)\n",
    "print(\"attributs de voiture_de_sport :\",voiture_de_sport.__dict__)"
   ]
  },
  {
   "cell_type": "markdown",
   "metadata": {},
   "source": [
    "- On peut définir des méthodes qui n'existent que pour la classe fille"
   ]
  },
  {
   "cell_type": "code",
   "execution_count": 129,
   "metadata": {},
   "outputs": [],
   "source": [
    "class VoitureDeSport(Voiture):\n",
    "    def __init__(self, x, y, prix): #def __init__(self, arguments_, arguments_parent_class):\n",
    "        # initialisation classe mère avec super\n",
    "        super().__init__(x, y)\n",
    "        # On ajoute le prix\n",
    "        self.prix = prix\n",
    "        \n",
    "    def avancer_sur_y_rapidement(self):\n",
    "        self.y += 100\n",
    "        \n",
    "    def prendre_de_la_valeur(self):\n",
    "        self.prix += 10000"
   ]
  },
  {
   "cell_type": "code",
   "execution_count": 130,
   "metadata": {},
   "outputs": [
    {
     "name": "stdout",
     "output_type": "stream",
     "text": [
      "attributs de voiture_de_sport : {'x': 1, 'y': 1, 'prix': 100000}\n",
      "attributs de voiture_de_sport : {'x': 1, 'y': 101, 'prix': 100000}\n",
      "attributs de voiture_de_sport : {'x': 1, 'y': 101, 'prix': 110000}\n"
     ]
    }
   ],
   "source": [
    "voiture_de_sport = VoitureDeSport(1,1, 100000)\n",
    "print(\"attributs de voiture_de_sport :\",voiture_de_sport.__dict__)\n",
    "voiture_de_sport.avancer_sur_y_rapidement()\n",
    "print(\"attributs de voiture_de_sport :\",voiture_de_sport.__dict__)\n",
    "voiture_de_sport.prendre_de_la_valeur()\n",
    "print(\"attributs de voiture_de_sport :\",voiture_de_sport.__dict__)"
   ]
  },
  {
   "cell_type": "markdown",
   "metadata": {},
   "source": [
    "## 8. Exercices\n",
    "- Reprendre la classe ``HeadsOrTails`` de l'exercice précédent et implémenter une classe fille``HeadsOrTailsV2`` qui en plus : \n",
    "    - Demande le nom du joueur\n",
    "    - Le salue en début et en fin de partie\n",
    "    \n",
    "    \n",
    "- Implémenter une classe ``Personne`` qui aura pour attribut ``nom``, ``prenom`` âge\n",
    "    - Implémenter une classe fille ``Lyceen`` qui aura en plus un attribut ``classe`` et une méthode ``veillir()`` qui augmente son âge de 1\n",
    "    - Implémenter une classe fille ``Enseignant`` qui aura en plus un attribut ``matière`` et une méthode ``noter_lyceen`` qui prend un argument une instance de classe ``Lycéen`` et affiche un message avec le nom de l'étudiant et une note aléatoire entre 0 et 20"
   ]
  },
  {
   "cell_type": "code",
   "execution_count": null,
   "metadata": {},
   "outputs": [],
   "source": []
  },
  {
   "cell_type": "code",
   "execution_count": null,
   "metadata": {},
   "outputs": [],
   "source": []
  }
 ],
 "metadata": {
  "kernelspec": {
   "display_name": "Python 3",
   "language": "python",
   "name": "python3"
  },
  "language_info": {
   "codemirror_mode": {
    "name": "ipython",
    "version": 3
   },
   "file_extension": ".py",
   "mimetype": "text/x-python",
   "name": "python",
   "nbconvert_exporter": "python",
   "pygments_lexer": "ipython3",
   "version": "3.9.0"
  }
 },
 "nbformat": 4,
 "nbformat_minor": 4
}
