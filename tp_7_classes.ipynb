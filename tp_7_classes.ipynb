{
 "cells": [
  {
   "cell_type": "markdown",
   "metadata": {},
   "source": [
    "# **M1 - CSB**\n",
    "# **TP 7 - Les classes en Python**\n",
    "\n",
    "\n",
    "***\n",
    "\n",
    "[**Notions et exercices**](#notions)\n",
    "\n",
    "0. [Introduction](#0)\n",
    "1. [La méthode ``.__init__()``](#1)\n",
    "2. [Définir une méthode](#2)\n",
    "3. [Initialiser avec des arguments](#3)\n",
    "4. [Définir une méthode avec un argument](#4)\n",
    "5. [Exercices](#5)\n",
    "6. [Programmation orientée objet](#6)\n",
    "7. [Héritage de classe](#7)\n",
    "8. [Exercices](#8)\n",
    "\n",
    "***\n",
    "\n",
    "\n",
    "[![Open In Colab](https://colab.research.google.com/assets/colab-badge.svg)](https://colab.research.google.com/github/Selimmmm/hetic_m1_csb_public/blob/master/tp_7_classes.ipynb)\n"
   ]
  },
  {
   "cell_type": "markdown",
   "metadata": {},
   "source": [
    "## 0. Introduction"
   ]
  },
  {
   "cell_type": "markdown",
   "metadata": {},
   "source": [
    "- En Python, tous les objets vus jusqu'ici ont un type :"
   ]
  },
  {
   "cell_type": "code",
   "execution_count": 17,
   "metadata": {},
   "outputs": [
    {
     "name": "stdout",
     "output_type": "stream",
     "text": [
      "1 est de type <class 'int'>\n",
      "1.5 est de type <class 'float'>\n",
      "[] est de type <class 'list'>\n",
      "{} est de type <class 'dict'>\n"
     ]
    }
   ],
   "source": [
    "n = 1 # entier\n",
    "f = 1.5 # réel\n",
    "l = []\n",
    "d = {}\n",
    "\n",
    "for value in [n, f, l , d]:\n",
    "    print(f\"{value} est de type {type(value)}\")"
   ]
  },
  {
   "cell_type": "markdown",
   "metadata": {},
   "source": [
    "- Le mot ``class`` est un autre mot pour désigner les types en Python. On peut soi-même définir ses propres types, que l'on appellera classe.\n",
    "- On pourra ainsi définir ses propres types et choisir leurs : \n",
    "    - attributs (ceux sont des informations)\n",
    "    - méthodes (ceux sont des fonctions liée à cette classe)"
   ]
  },
  {
   "cell_type": "code",
   "execution_count": 23,
   "metadata": {},
   "outputs": [
    {
     "name": "stdout",
     "output_type": "stream",
     "text": [
      "[5, 6]\n"
     ]
    },
    {
     "data": {
      "text/plain": [
       "dict_keys(['a'])"
      ]
     },
     "execution_count": 23,
     "metadata": {},
     "output_type": "execute_result"
    }
   ],
   "source": [
    "# un exemple de méthode\n",
    "l = []\n",
    "l.append(5) ## .append() pour la méthode liste\n",
    "l.append(6)\n",
    "l.sort()\n",
    "print(l)\n",
    "\n",
    "# un exemple de méthode\n",
    "d = {\"a\":1}\n",
    "d.keys() ## un exemple de méthode pour les dictionnaires"
   ]
  },
  {
   "cell_type": "markdown",
   "metadata": {},
   "source": [
    "<a id=\"1\"></a>\n",
    "## 1. La méthode ``.__init__()``"
   ]
  },
  {
   "cell_type": "code",
   "execution_count": null,
   "metadata": {},
   "outputs": [],
   "source": [
    "voiture_de_sport # snakecase\n",
    "VoitureDeSport # camelcase"
   ]
  },
  {
   "cell_type": "code",
   "execution_count": 37,
   "metadata": {
    "collapsed": false,
    "jupyter": {
     "outputs_hidden": false
    }
   },
   "outputs": [],
   "source": [
    "class Voiture:\n",
    "    def __init__(self):\n",
    "        self.x = 0 # attribut x\n",
    "        self.y = 0 # attribut y\n",
    "        self.couleur = \"rouge\" # couleur"
   ]
  },
  {
   "cell_type": "markdown",
   "metadata": {},
   "source": [
    "- Cette méthode permet de définir les valeurs des attributs (ici x et y)\n",
    "- ``self`` est une syntaxe qui permet d'avoir accès à notre objet n'importe où dans notre classe - qui désigne la voiture dans ce cas\n",
    "- ``x`` et ``y`` sont des attributs de le classe ``Voiture``"
   ]
  },
  {
   "cell_type": "markdown",
   "metadata": {},
   "source": [
    "- Ici, on instancie la classe : on crée une variable ``voiture``qui est une instance de la classe ``Voiture``"
   ]
  },
  {
   "cell_type": "code",
   "execution_count": 45,
   "metadata": {},
   "outputs": [
    {
     "name": "stdout",
     "output_type": "stream",
     "text": [
      "4556291584 4556291584\n",
      "4556513040 140505570728720\n"
     ]
    }
   ],
   "source": [
    "# Ids pour distinguer des objets\n",
    "l = []\n",
    "l1 = l\n",
    "print(id(l), id(l1)) # les mêmes car mêmes objets\n",
    "\n",
    "# Identifiants mémoire de voiture (l'instance) et de Voiture (classe)\n",
    "print(id(voiture), id(Voiture))"
   ]
  },
  {
   "cell_type": "code",
   "execution_count": 46,
   "metadata": {},
   "outputs": [
    {
     "name": "stdout",
     "output_type": "stream",
     "text": [
      "position x : 0 position y : 0 couleur :  rouge\n"
     ]
    }
   ],
   "source": [
    "voiture = Voiture()\n",
    "position_x = voiture.x\n",
    "position_y = voiture.y\n",
    "print(\"position x :\", position_x, \"position y :\", position_y, \"couleur : \", voiture.couleur)"
   ]
  },
  {
   "cell_type": "code",
   "execution_count": 47,
   "metadata": {},
   "outputs": [
    {
     "name": "stdout",
     "output_type": "stream",
     "text": [
      "<p>My first paragraph.</p>\n",
      "My first paragraph.\n"
     ]
    }
   ],
   "source": [
    "from bs4 import BeautifulSoup\n",
    "\n",
    "html = \"\"\"<!DOCTYPE html>\n",
    "<html>\n",
    "<body>\n",
    "<p>My first paragraph.</p>\n",
    "</body>\n",
    "</html>\"\"\"\n",
    "\n",
    "soup = BeautifulSoup(html)\n",
    "\n",
    "p = soup.find(\"p\") # méthode .find\n",
    "print(p)\n",
    "print(p.text) # attribut texte"
   ]
  },
  {
   "cell_type": "markdown",
   "metadata": {},
   "source": [
    "<a id=\"2\"></a>\n",
    "## 2. Définir une méthode\n",
    "- Notre classe voiture possède deux informations mais ne peut rien faire d'autre. Nous allons ici définir une première méthode"
   ]
  },
  {
   "cell_type": "code",
   "execution_count": 49,
   "metadata": {
    "collapsed": false,
    "jupyter": {
     "outputs_hidden": false
    }
   },
   "outputs": [],
   "source": [
    "class Voiture:\n",
    "    def __init__(self):\n",
    "        self.x = 0\n",
    "        self.y = 0\n",
    "        \n",
    "    def avancer_sur_y(self):\n",
    "        self.y += 1 # pareil self.y = self.y + 1"
   ]
  },
  {
   "cell_type": "markdown",
   "metadata": {},
   "source": [
    "- Regardons ce que devient l'attribut ``y``"
   ]
  },
  {
   "cell_type": "code",
   "execution_count": 50,
   "metadata": {},
   "outputs": [
    {
     "name": "stdout",
     "output_type": "stream",
     "text": [
      "position x : 0 position y : 0\n",
      "position x : 0 position y : 1\n"
     ]
    }
   ],
   "source": [
    "voiture = Voiture()\n",
    "position_x = voiture.x\n",
    "position_y = voiture.y\n",
    "print(\"position x :\", position_x, \"position y :\", position_y)\n",
    "\n",
    "# On avance\n",
    "voiture.avancer_sur_y()\n",
    "position_y = voiture.y\n",
    "print(\"position x :\", position_x, \"position y :\", position_y)"
   ]
  },
  {
   "cell_type": "markdown",
   "metadata": {},
   "source": [
    "- Définissons une flotte de voiture (``list`` de ``Voiture``) :"
   ]
  },
  {
   "cell_type": "code",
   "execution_count": 52,
   "metadata": {},
   "outputs": [],
   "source": [
    "flotte = [Voiture() for _ in range(10)] # _ pour la variable d'itération, car on ne s'en sert pas"
   ]
  },
  {
   "cell_type": "markdown",
   "metadata": {},
   "source": [
    "- Faisons avancer la première voiture"
   ]
  },
  {
   "cell_type": "code",
   "execution_count": 66,
   "metadata": {},
   "outputs": [
    {
     "name": "stdout",
     "output_type": "stream",
     "text": [
      "Position y : 11\n"
     ]
    }
   ],
   "source": [
    "voiture_0 = flotte[0]\n",
    "voiture_0.avancer_sur_y()\n",
    "print(\"Position y :\", voiture_0.y)"
   ]
  },
  {
   "cell_type": "markdown",
   "metadata": {},
   "source": [
    "- Faisons les toutes avancer"
   ]
  },
  {
   "cell_type": "code",
   "execution_count": 67,
   "metadata": {},
   "outputs": [
    {
     "name": "stdout",
     "output_type": "stream",
     "text": [
      "Les positions y des voitures de la flotte sont : [12, 6, 6, 6, 6, 6, 6, 6, 6, 6]\n"
     ]
    }
   ],
   "source": [
    "for i in range(len(flotte)):\n",
    "    flotte[i].avancer_sur_y()\n",
    "    \n",
    "print(\"Les positions y des voitures de la flotte sont : {}\".format([v.y for v in flotte]))"
   ]
  },
  {
   "cell_type": "markdown",
   "metadata": {},
   "source": [
    "- Différence méthodes et fonctions : \n",
    "    - Différence syntaxique une fonction s'appelle ainsi : ``f(a)``, une méthode ``objet.notre_methode()``\n",
    "    - Différence d'usage : une fonction peut gérer dans certains cas plusieurs types, une méthode est reliée à sa classe (\"son type\")"
   ]
  },
  {
   "cell_type": "code",
   "execution_count": 77,
   "metadata": {},
   "outputs": [
    {
     "name": "stdout",
     "output_type": "stream",
     "text": [
      "'dict' object has no attribute 'append'\n",
      "5\n",
      "3\n",
      "1\n"
     ]
    }
   ],
   "source": [
    "# Une méthode est liée à un type d'objet\n",
    "l = []\n",
    "l.append(5)\n",
    "#print(l)\n",
    "\n",
    "d = {}\n",
    "try: \n",
    "    d.append(3)\n",
    "    \n",
    "except Exception as e:\n",
    "    print(e)\n",
    "    \n",
    "# Fonction len\n",
    "s = 'HETIC'\n",
    "l = [1, 2, 3]\n",
    "d = {\"a\":4}\n",
    "for value in [s, l , d]:\n",
    "    print(len(value))"
   ]
  },
  {
   "cell_type": "markdown",
   "metadata": {},
   "source": [
    "<a id='3'></a>\n",
    "## 3. Initialiser avec des arguments"
   ]
  },
  {
   "cell_type": "code",
   "execution_count": 84,
   "metadata": {},
   "outputs": [],
   "source": [
    "class Voiture:\n",
    "    def __init__(self, x, y, couleur):\n",
    "        self.x = x\n",
    "        self.y = y\n",
    "        self.couleur = couleur\n",
    "        \n",
    "    def avancer_sur_y(self):\n",
    "        self.y += 1"
   ]
  },
  {
   "cell_type": "code",
   "execution_count": 85,
   "metadata": {},
   "outputs": [
    {
     "name": "stdout",
     "output_type": "stream",
     "text": [
      "position x : 1 position y : 10 couleur :  red\n",
      "position x : 1 position y : 11\n"
     ]
    }
   ],
   "source": [
    "voiture = Voiture(x=1, y=10, couleur=\"red\")\n",
    "position_x = voiture.x\n",
    "position_y = voiture.y\n",
    "print(\"position x :\", position_x, \"position y :\", position_y, \"couleur : \", voiture.couleur)\n",
    "\n",
    "# On avance\n",
    "voiture.avancer_sur_y()\n",
    "position_y = voiture.y\n",
    "print(\"position x :\", position_x, \"position y :\", position_y)"
   ]
  },
  {
   "cell_type": "markdown",
   "metadata": {},
   "source": [
    "<a id='4'></a>\n",
    "## 4. Définir une méthode avec un argument"
   ]
  },
  {
   "cell_type": "code",
   "execution_count": 86,
   "metadata": {},
   "outputs": [],
   "source": [
    "class Voiture:\n",
    "    def __init__(self):\n",
    "        self.x = 0\n",
    "        self.y = 0\n",
    "        \n",
    "    def avancer_sur_y(self, distance_sur_y):\n",
    "        self.y += distance_sur_y"
   ]
  },
  {
   "cell_type": "code",
   "execution_count": 87,
   "metadata": {},
   "outputs": [
    {
     "name": "stdout",
     "output_type": "stream",
     "text": [
      "position x : 0 position y : 0\n",
      "position x : 0 position y : 100\n",
      "position x : 0 position y : 110\n"
     ]
    }
   ],
   "source": [
    "voiture = Voiture()\n",
    "position_x = voiture.x\n",
    "position_y = voiture.y\n",
    "print(\"position x :\", position_x, \"position y :\", position_y)\n",
    "\n",
    "# On avance\n",
    "voiture.avancer_sur_y(distance_sur_y=100)\n",
    "position_y = voiture.y\n",
    "print(\"position x :\", position_x, \"position y :\", position_y)\n",
    "\n",
    "# On avance\n",
    "voiture.avancer_sur_y(distance_sur_y=10)\n",
    "position_y = voiture.y\n",
    "print(\"position x :\", position_x, \"position y :\", position_y)"
   ]
  },
  {
   "cell_type": "code",
   "execution_count": null,
   "metadata": {},
   "outputs": [],
   "source": [
    "l = [3, 5, 4]\n",
    "l.sort() # méthode sans argument\n",
    "l.append(7) # méthode avec argument"
   ]
  },
  {
   "cell_type": "markdown",
   "metadata": {},
   "source": [
    "<a id='5'></a>\n",
    "\n",
    "## 5. Exercices\n",
    "\n",
    "- Ecrire une classe ``FrenchTeacher`` qui :\n",
    "    - s'initialise sans argument\n",
    "    - possède une méthode ``check_first_caps`` qui prend en argument une chaîne de caractères et vérifie que la première lettre est bien une majuscule (on pourra utiliser ``.lower()`` ou ``.upper()``)\n",
    "\n",
    "\n",
    "- Ecrire une classe ``MathsTeacher`` qui :\n",
    "    - s'initialise avec un argument ``name`` qui servira à initialiser un attribut du même nom (c'est le nom du prof)\n",
    "    - possède une méthode ``compute_mean``qui prend en argument une liste et calcule sa moyenne\n",
    "    - possède une méthode ``say_hello`` qui prend en argument une instance de la classe ``MathsTeacher`` appellé ``other_instance`` et affiche (print) ``\"Salut {other_instance.name}\"``\n",
    "    \n",
    "  \n",
    "- (Plus difficile) Ecrire une classe ``HeadsOrTails`` qui permet à un utilisateur de jouer au jeu suivant :\n",
    " - On commence avec un score de 0\n",
    " - On est invité à jouer à Pile ou Face 4 fois\n",
    "    - A chaque fois, si on devine correctement, on gagne 1\n",
    "    - Sinon on perd 1\n",
    "    - Dans les deux cas on affiche un message à l'utilisateur pour lui indiqué s'il a réussi ou non\n",
    " - A la fin, on affiche le score final\n",
    " - On pourra par exemple utiliser :\n",
    "    - ``input()``pour que l'utilisateur saisisse une valeur\n",
    "    - la fonction ``randint``du package ``random`` que ci dessous :\n",
    "        \n",
    "- (Plus difficile) Implémenter une classe ``Explorer`` qui vous permet :\n",
    "    - D'afficher tous les fichiers dans le dossier courant \n",
    "    - D'afficher la liste des extensions présentes dans le dossier courant\n",
    "    - De réaliser toutes les opérations ci-dessus dans n'importe quel dossier dont on connait le chemin\n",
    "    (On pourra utiliser ``os.getcwd()``, ``os.listdir()``)\n",
    "    - Question compliquée : écrire une methode qui permet de vérifier si deux noms de fichiers diffèrent de seulement un caractère au plus.\n",
    "        - Elle peut par exemple prendre en argument deux chaînes de caractères\n",
    "        - Si mêmes chaînes exactement : renvoie True\n",
    "        - Si diffèrent seulement d'un caractère : renvoie True\n",
    "        - Dans tous les autres cas : renvoie False\n",
    "        \n",
    "    \n",
    "- (Plus difficile) Ecrire une classe ``CsvReader`` qui permet à un utilisateur de lire un fichier .csv et de mettre les valeurs dans des listes de listes\n",
    "    - La classe s'initisalise avec le chemin vers le fichier\n",
    "    - Elle permettra de gérer les types ``float``, ``int`` et ``str``\n",
    "    - Elle possède une méthode ``parse`` qui transforme ce fichier ``data.csv`` (dans le repo Git):\n",
    "    ```csv \n",
    "Voiture, Vitesse, Prix\n",
    "Twingo, 100, 10000\n",
    "Mustang, 200, 100000\n",
    "```\n",
    "    - En cette liste de liste : \n",
    "    ```python\n",
    "    [[Voiture, Vitesse, Prix], [Twingo, 100, 10000], [Mustang, 200, 100000]]\n",
    "    ````"
   ]
  },
  {
   "cell_type": "code",
   "execution_count": 92,
   "metadata": {},
   "outputs": [
    {
     "data": {
      "text/plain": [
       "0"
      ]
     },
     "execution_count": 92,
     "metadata": {},
     "output_type": "execute_result"
    }
   ],
   "source": [
    "import random\n",
    "random.randint(0, 1) \n",
    "# génére un nombre aléatoire : 0 ou 1"
   ]
  },
  {
   "cell_type": "code",
   "execution_count": 2,
   "metadata": {},
   "outputs": [
    {
     "name": "stdout",
     "output_type": "stream",
     "text": [
      "False\n",
      "True\n",
      "False\n",
      "True\n"
     ]
    }
   ],
   "source": [
    "class FrenchTeacher:\n",
    "    def __init__(self):\n",
    "        pass\n",
    "#        self.profession = \"french_teacher\"    \n",
    "    \n",
    "    def check_first_caps(self, string):\n",
    "        return string[0].isupper()\n",
    "\n",
    "french_teacher = FrenchTeacher()\n",
    "print(french_teacher.check_first_caps(\"salut\"))\n",
    "print(french_teacher.check_first_caps(\"Salut\"))\n",
    "\n",
    "\n",
    "## Fonctionne aussi (on ne fait rien dans __init__)\n",
    "class FrenchTeacher:    \n",
    "    def check_first_caps(self, string):\n",
    "        return string[0].isupper()\n",
    "    \n",
    "french_teacher = FrenchTeacher()\n",
    "print(french_teacher.check_first_caps(\"salut\"))\n",
    "print(french_teacher.check_first_caps(\"Salut\"))"
   ]
  },
  {
   "cell_type": "code",
   "execution_count": 3,
   "metadata": {},
   "outputs": [
    {
     "name": "stdout",
     "output_type": "stream",
     "text": [
      "13.0\n",
      "Salut Hubert - c'est Jacques\n"
     ]
    }
   ],
   "source": [
    "class MathsTeacher:\n",
    "    def __init__(self, name):\n",
    "        self.name = name\n",
    "    \n",
    "    def compute_mean(self, l):\n",
    "        return sum(l) / len(l)\n",
    "    \n",
    "    def say_hello(self, other_maths_teacher):\n",
    "        print(f\"Salut {other_maths_teacher.name} - c'est {self.name}\")\n",
    "    \n",
    "maths_teacher = MathsTeacher(\"Jacques\")\n",
    "\n",
    "collegue_maths_teacher = MathsTeacher(\"Hubert\")\n",
    "\n",
    "print(maths_teacher.compute_mean([20, 9 , 10]))\n",
    "\n",
    "maths_teacher.say_hello(collegue_maths_teacher)"
   ]
  },
  {
   "cell_type": "code",
   "execution_count": 5,
   "metadata": {},
   "outputs": [
    {
     "name": "stdout",
     "output_type": "stream",
     "text": [
      "Taper 0 pour Pile ou 1 pour Face\n"
     ]
    },
    {
     "name": "stdin",
     "output_type": "stream",
     "text": [
      " 0\n"
     ]
    },
    {
     "name": "stdout",
     "output_type": "stream",
     "text": [
      "Mauvaise réponse ! \n",
      "Taper 0 pour Pile ou 1 pour Face\n"
     ]
    },
    {
     "name": "stdin",
     "output_type": "stream",
     "text": [
      " 1\n"
     ]
    },
    {
     "name": "stdout",
     "output_type": "stream",
     "text": [
      "Mauvaise réponse ! \n",
      "Taper 0 pour Pile ou 1 pour Face\n"
     ]
    },
    {
     "name": "stdin",
     "output_type": "stream",
     "text": [
      " 1\n"
     ]
    },
    {
     "name": "stdout",
     "output_type": "stream",
     "text": [
      "Mauvaise réponse ! \n",
      "Taper 0 pour Pile ou 1 pour Face\n"
     ]
    },
    {
     "name": "stdin",
     "output_type": "stream",
     "text": [
      " 1\n"
     ]
    },
    {
     "name": "stdout",
     "output_type": "stream",
     "text": [
      "Bonne réponse ! \n",
      "Votre score final est -2\n"
     ]
    }
   ],
   "source": [
    "import random \n",
    "\n",
    "class HeadOrTails:\n",
    "    def __init__(self):\n",
    "        # Score de départ\n",
    "        self.score = 0\n",
    "        # Lancer le jeu\n",
    "    \n",
    "    def play_once(self):\n",
    "        \n",
    "        result = str(random.randint(0,1)) # 0 pour Tail et 1 pour Head\n",
    "        print(\"Taper 0 pour Pile ou 1 pour Face\")\n",
    "        \n",
    "        user_tentative = input()\n",
    "        \n",
    "        while user_tentative not in [\"0\",\"1\"]:\n",
    "            print(\"Veuillez saisir 0 pour Pile ou 1 pour Face\")\n",
    "            user_tentative = input()\n",
    "            \n",
    "        if result == user_tentative:\n",
    "            print(\"Bonne réponse ! \")\n",
    "            self.score += 1\n",
    "        else:\n",
    "            print(\"Mauvaise réponse ! \")\n",
    "            self.score -= 1\n",
    "    \n",
    "    def play_4_times(self):\n",
    "        for _ in range(4):\n",
    "            self.play_once()\n",
    "            \n",
    "        print(f\"Votre score final est {self.score}\")\n",
    "        \n",
    "        \n",
    "game = HeadOrTails()\n",
    "game.play_4_times()"
   ]
  },
  {
   "cell_type": "code",
   "execution_count": 3,
   "metadata": {},
   "outputs": [
    {
     "data": {
      "text/plain": [
       "3"
      ]
     },
     "execution_count": 3,
     "metadata": {},
     "output_type": "execute_result"
    }
   ],
   "source": [
    "sum([True, True, False, False, True])"
   ]
  },
  {
   "cell_type": "code",
   "execution_count": 73,
   "metadata": {},
   "outputs": [],
   "source": [
    "import os \n",
    "import numpy as np\n",
    "\n",
    "class Explorer:\n",
    "    def __init__(self):\n",
    "        pass\n",
    "    \n",
    "    def get_all_files_in_current_dir(self):\n",
    "        return os.listdir()\n",
    "    \n",
    "    def get_all_ext_in_current_dir(self):\n",
    "        return set([fn.split(\".\")[-1] for fn in os.listdir() if (not fn.startswith('.')) and (\".\" in fn)])\n",
    "    \n",
    "    def get_all_files_in_dir(self, path):\n",
    "        return os.listdir(path)\n",
    "    \n",
    "    def get_all_ext_in_dir(self, path):\n",
    "        return set([fn.split(\".\")[-1] for fn in os.listdir(path) if (not fn.startswith('.')) and (\".\" in fn)])\n",
    "    \n",
    "    # Vérifier si deux noms de fichiers diffèrent de seulement un caractère au plus.\n",
    "    def compare_strings(self, string_a, string_b):\n",
    "        # On initialise à False\n",
    "        success = False\n",
    "        \n",
    "        # si plus d'1 de différence en longueur, ce sera forcément False\n",
    "        if np.abs(len(string_a) - len(string_b)) > 1:\n",
    "            pass\n",
    "            \n",
    "        #Si même longueurs, on compte les lettres communes, on en veut\n",
    "        # au moins autant que la longueur des string moins 1\n",
    "        elif len(string_a) == len(string_b):\n",
    "            success = (sum([c_a == c_b for c_a, c_b in zip(string_a, string_b)]) >= len(string_a) - 1)\n",
    "        \n",
    "        # si différence de 1\n",
    "        else:\n",
    "            # On trouve le plus long et le plus court\n",
    "            longer = string_a if len(string_a) > len(string_b) else string_b\n",
    "            shorter = string_a if len(string_a) < len(string_b) else string_b\n",
    "            # On génère toutes les chaînes de caractères en supprimant un caractère\n",
    "            longer_with_one_char_out = []\n",
    "            for i in range(len(longer)):\n",
    "                string = longer[:i] + longer[i+1:]\n",
    "                longer_with_one_char_out.append(string)\n",
    "            print(longer_with_one_char_out)\n",
    "            success = any([string == shorter for string in longer_with_one_char_out])\n",
    "        return success"
   ]
  },
  {
   "cell_type": "markdown",
   "metadata": {},
   "source": [
    "- avec \"..\" : '/Users/selim/'\n",
    "- avec \"data\" : '/Users/selim/hetic_m1_csb_public/data'"
   ]
  },
  {
   "cell_type": "code",
   "execution_count": 78,
   "metadata": {},
   "outputs": [
    {
     "name": "stdout",
     "output_type": "stream",
     "text": [
      "['nde', 'ude', 'une', 'und']\n"
     ]
    },
    {
     "data": {
      "text/plain": [
       "True"
      ]
     },
     "execution_count": 78,
     "metadata": {},
     "output_type": "execute_result"
    }
   ],
   "source": [
    "explorer = Explorer()\n",
    "#explorer.get_all_ext_in_current_dir()\n",
    "#explorer.get_all_files_in_dir(\"../\")\n",
    "\n",
    "string_a = \"und\"\n",
    "string_b = \"unde\"\n",
    "explorer.compare_strings(string_a, string_b)"
   ]
  },
  {
   "cell_type": "code",
   "execution_count": 81,
   "metadata": {},
   "outputs": [
    {
     "data": {
      "text/plain": [
       "True"
      ]
     },
     "execution_count": 81,
     "metadata": {},
     "output_type": "execute_result"
    }
   ],
   "source": [
    "string_a = \"le chat\"\n",
    "string_b = \"le char\"\n",
    "explorer.compare_strings(string_a, string_b)"
   ]
  },
  {
   "cell_type": "code",
   "execution_count": 80,
   "metadata": {},
   "outputs": [
    {
     "name": "stdout",
     "output_type": "stream",
     "text": [
      "['bbc', 'Abc', 'Abc', 'Abb']\n"
     ]
    },
    {
     "data": {
      "text/plain": [
       "True"
      ]
     },
     "execution_count": 80,
     "metadata": {},
     "output_type": "execute_result"
    }
   ],
   "source": [
    "string_a = \"Abbc\"\n",
    "string_b = \"Abc\"\n",
    "explorer.compare_strings(string_a, string_b)"
   ]
  },
  {
   "cell_type": "code",
   "execution_count": 82,
   "metadata": {},
   "outputs": [
    {
     "data": {
      "text/plain": [
       "False"
      ]
     },
     "execution_count": 82,
     "metadata": {},
     "output_type": "execute_result"
    }
   ],
   "source": [
    "string_a = \"Abcc\"\n",
    "string_b = \"Abdd\"\n",
    "explorer.compare_strings(string_a, string_b)"
   ]
  },
  {
   "cell_type": "code",
   "execution_count": 83,
   "metadata": {},
   "outputs": [
    {
     "data": {
      "text/plain": [
       "False"
      ]
     },
     "execution_count": 83,
     "metadata": {},
     "output_type": "execute_result"
    }
   ],
   "source": [
    "string_a = \"Abc\"\n",
    "string_b = \"Abccccc\"\n",
    "explorer.compare_strings(string_a, string_b)"
   ]
  },
  {
   "cell_type": "code",
   "execution_count": 10,
   "metadata": {},
   "outputs": [],
   "source": [
    "from pprint import pprint\n",
    "\n",
    "class CsvReader:\n",
    "    def __init__(self, path):\n",
    "        self.path = path\n",
    "        self.process_file()\n",
    "        self.display_file()\n",
    "        self.n_cols = len(self.values[0])\n",
    "        self.n_rows = len(self.values)\n",
    "        \n",
    "        if self.validate_all_string():\n",
    "            print(\"All read as strings\")\n",
    "        \n",
    "    def read_file(self):\n",
    "        file = open(self.path, \"r\")\n",
    "        content = file.read()\n",
    "        \n",
    "        return content\n",
    "    \n",
    "    def parse_file(self, content):\n",
    "        lines = content.split(\"\\n\")\n",
    "        print(\"lines\")\n",
    "        print(lines)\n",
    "        #print(lines)\n",
    "        lines = [line.split(\",\") for line in lines]\n",
    "        #print(lines)\n",
    "        header = lines[0]\n",
    "        values = lines[1:]\n",
    "        return header, values\n",
    "    \n",
    "    def process_file(self):\n",
    "        content = self.read_file()\n",
    "        self.header, self.values = self.parse_file(content)\n",
    "        \n",
    "    ## TODO specify int / float or str et check index of type : [str, float, int]\n",
    "    def validate_all_string(self):\n",
    "        all_strings = True\n",
    "        for n_col in range(self.n_cols):\n",
    "            type_for_this_col = type(self.values[0][n_col])\n",
    "            all_types_of_this_col = [type(self.values[x][n_col]) for x in range(self.n_rows)]\n",
    "            if set(all_types_of_this_col) == {type_for_this_col}:\n",
    "                pass\n",
    "            else:\n",
    "                all_strings = False\n",
    "        return all_strings    \n",
    "        \n",
    "    def display_file(self):\n",
    "        print(f\"file read at {self.path}\")\n",
    "        pprint(self.header)\n",
    "        pprint(self.values)"
   ]
  },
  {
   "cell_type": "code",
   "execution_count": 11,
   "metadata": {},
   "outputs": [
    {
     "name": "stdout",
     "output_type": "stream",
     "text": [
      "lines\n",
      "['Voiture, Vitesse, Prix', 'Twingo, 100, 10000', 'Mustang,, 100000', 'Trabant, 50, 1000']\n",
      "file read at data/data.csv\n",
      "['Voiture', ' Vitesse', ' Prix']\n",
      "[['Twingo', ' 100', ' 10000'],\n",
      " ['Mustang', '', ' 100000'],\n",
      " ['Trabant', ' 50', ' 1000']]\n",
      "All read as strings\n"
     ]
    }
   ],
   "source": [
    "csv_reader = CsvReader(\"data/data.csv\")"
   ]
  },
  {
   "cell_type": "markdown",
   "metadata": {},
   "source": [
    "<a id='6'></a>\n",
    "## 6. Programmation orientée objet\n",
    "- Les classes font partie d'un paradigme de programmation appelé Programmation Orientée Objet (ou Object Oriented Programming). Le but de ce paradigme est d'utiliser des classes pour construire le programme. \n",
    "\n",
    "- Une classe est une portion de code qui définit les attributs (information) et méthodes (comportements) qui représentent précisément ce qu'on veut que le programme fasse.\n",
    "\n",
    "- Un attribut est une information, c'est une variable qui fait partie de la classe.\n",
    "\n",
    "- Une méthode est un comportement, c'une fonction qui fait partie de la classe.\n",
    "\n",
    "- Une instance (``voiture``) d'une classe est un objet qui a cette classe (``Voiture``) pour type."
   ]
  },
  {
   "cell_type": "code",
   "execution_count": 6,
   "metadata": {},
   "outputs": [],
   "source": [
    "class Voiture:\n",
    "    def __init__(self, x, y, couleur):\n",
    "        self.x = x\n",
    "        self.y = y\n",
    "        self.couleur = couleur\n",
    "        \n",
    "    def avancer_sur_y(self, distance_sur_y):\n",
    "        self.y += distance_sur_y\n",
    "        \n",
    "        \n",
    "corbillard = Voiture(x=0, y=-6, couleur='noir')\n",
    "\n",
    "magnum_car = Voiture(x=0, y=0, couleur='rouge')"
   ]
  },
  {
   "cell_type": "code",
   "execution_count": 8,
   "metadata": {},
   "outputs": [
    {
     "name": "stdout",
     "output_type": "stream",
     "text": [
      "140342792397088\n",
      "4543334768\n",
      "4543334624\n"
     ]
    }
   ],
   "source": [
    "print(id(Voiture)) # identifiant\n",
    "print(id(corbillard))\n",
    "print(id(magnum_car))"
   ]
  },
  {
   "cell_type": "markdown",
   "metadata": {},
   "source": [
    "## 7. Héritage de classe\n",
    "- ``Voiture`` est la classe mère et ``VoitureDeSport`` est la classe fille. On dit que ``VoitureDeSport``hérite de ``Voiture``\n",
    "- On initialise la classe mère, puis on peut rajouter de la logique qui n'est que pour la classe fille"
   ]
  },
  {
   "cell_type": "code",
   "execution_count": 9,
   "metadata": {
    "collapsed": false,
    "jupyter": {
     "outputs_hidden": false
    }
   },
   "outputs": [],
   "source": [
    "class Voiture:\n",
    "    def __init__(self, x, y):\n",
    "        self.x = x\n",
    "        self.y = y\n",
    "        \n",
    "    def avancer_sur_y(self, distance_sur_y):\n",
    "        self.y += distance_sur_y\n",
    "        \n",
    "    def avancer_sur_x(self, distance_sur_x):\n",
    "        self.x += distance_sur_x\n",
    "        \n",
    "\n",
    "class VoitureDeSport(Voiture):\n",
    "    def __init__(self, x, y , prix):  #self, arguments de la classe mère, arguments de la classe fille\n",
    "        # initialisation classe mère\n",
    "        Voiture.__init__(self, x, y)\n",
    "        # On ajoute le prix\n",
    "        self.prix = prix"
   ]
  },
  {
   "cell_type": "markdown",
   "metadata": {},
   "source": [
    "- ``.__dict__`` permet d'afficher tous les attributs d'une instance d'une classe"
   ]
  },
  {
   "cell_type": "code",
   "execution_count": 10,
   "metadata": {},
   "outputs": [
    {
     "name": "stdout",
     "output_type": "stream",
     "text": [
      "attributs de voiture : {'x': 1, 'y': 1}\n",
      "attributs de voiture_de_sport : {'x': 1, 'y': 1, 'prix': 100000}\n"
     ]
    }
   ],
   "source": [
    "voiture = Voiture(1,1)\n",
    "voiture_de_sport = VoitureDeSport(1,1, 100000)\n",
    "print(\"attributs de voiture :\", voiture.__dict__)\n",
    "print(\"attributs de voiture_de_sport :\",voiture_de_sport.__dict__)"
   ]
  },
  {
   "cell_type": "markdown",
   "metadata": {},
   "source": [
    "- On peut initialiser la classe mère avec la fonction ``super()`` (pas besoin d'ajouter le mot clef ``self``)"
   ]
  },
  {
   "cell_type": "code",
   "execution_count": 11,
   "metadata": {},
   "outputs": [],
   "source": [
    "class VoitureDeSport(Voiture):\n",
    "    def __init__(self, x, y, prix): \n",
    "        # initialisation classe mère avec super\n",
    "        super().__init__(x, y)\n",
    "        # On ajoute le prix\n",
    "        self.prix = prix"
   ]
  },
  {
   "cell_type": "code",
   "execution_count": 12,
   "metadata": {},
   "outputs": [
    {
     "name": "stdout",
     "output_type": "stream",
     "text": [
      "attributs de voiture_de_sport : {'x': 1, 'y': 1, 'prix': 100000}\n",
      "attributs de voiture_de_sport : {'x': 1, 'y': 11, 'prix': 100000}\n"
     ]
    }
   ],
   "source": [
    "voiture_de_sport = VoitureDeSport(1,1, 100000)\n",
    "print(\"attributs de voiture_de_sport :\",voiture_de_sport.__dict__)\n",
    "voiture_de_sport.avancer_sur_y(10)\n",
    "print(\"attributs de voiture_de_sport :\",voiture_de_sport.__dict__)"
   ]
  },
  {
   "cell_type": "markdown",
   "metadata": {},
   "source": [
    "- On peut définir des méthodes qui n'existent que pour la classe fille"
   ]
  },
  {
   "cell_type": "code",
   "execution_count": 13,
   "metadata": {},
   "outputs": [],
   "source": [
    "class VoitureDeSport(Voiture):\n",
    "    def __init__(self, x, y, prix): #def __init__(self, arguments_, arguments_parent_class):\n",
    "        # initialisation classe mère avec super\n",
    "        super().__init__(x, y)\n",
    "        # On ajoute le prix\n",
    "        self.prix = prix\n",
    "        \n",
    "    # On écrase la méthode avancer_sur_y de le classe mère\n",
    "    # Car on la réécrit\n",
    "    def avancer_sur_y(self):\n",
    "        self.y += 2000\n",
    "        \n",
    "    def avancer_sur_y_rapidement(self):\n",
    "        self.y += 100\n",
    "        \n",
    "    def prendre_de_la_valeur(self):\n",
    "        self.prix += 10000\n",
    "    \n",
    "    # La méthode est utilisée pour choisir ce qu'on affiche quand on utilise print\n",
    "    def __repr__(self):\n",
    "        return f\"Voiture de sport - son prix est {self.prix}\""
   ]
  },
  {
   "cell_type": "code",
   "execution_count": 17,
   "metadata": {},
   "outputs": [
    {
     "name": "stdout",
     "output_type": "stream",
     "text": [
      "Attributs de voiture_de_sport : {'x': 1, 'y': 1, 'prix': 100000}\n",
      "Attributs de voiture_de_sport : {'x': 1, 'y': 101, 'prix': 100000}\n",
      "Attributs de voiture_de_sport : {'x': 1, 'y': 101, 'prix': 110000}\n",
      "Cette méthode n'existe que pour les voitures de sport pas pour les voitures\n"
     ]
    }
   ],
   "source": [
    "voiture_de_sport = VoitureDeSport(1,1, 100000)\n",
    "print(\"Attributs de voiture_de_sport :\",voiture_de_sport.__dict__)\n",
    "voiture_de_sport.avancer_sur_y_rapidement()\n",
    "print(\"Attributs de voiture_de_sport :\",voiture_de_sport.__dict__)\n",
    "voiture_de_sport.prendre_de_la_valeur()\n",
    "print(\"Attributs de voiture_de_sport :\",voiture_de_sport.__dict__)\n",
    "\n",
    "\n",
    "try:\n",
    "    voiture.avancer_sur_y_rapidement()\n",
    "except:\n",
    "    print(\"Cette méthode n'existe que pour les voitures de sport pas pour les voitures\")"
   ]
  },
  {
   "cell_type": "code",
   "execution_count": 18,
   "metadata": {},
   "outputs": [
    {
     "name": "stdout",
     "output_type": "stream",
     "text": [
      "Attributs de voiture_de_sport : {'x': 1, 'y': 2101, 'prix': 110000}\n"
     ]
    }
   ],
   "source": [
    "voiture_de_sport.avancer_sur_y()\n",
    "print(\"Attributs de voiture_de_sport :\",voiture_de_sport.__dict__)"
   ]
  },
  {
   "cell_type": "code",
   "execution_count": 19,
   "metadata": {},
   "outputs": [
    {
     "name": "stdout",
     "output_type": "stream",
     "text": [
      "Voiture de sport - son prix est 110000\n"
     ]
    }
   ],
   "source": [
    "print(voiture_de_sport)"
   ]
  },
  {
   "cell_type": "markdown",
   "metadata": {},
   "source": [
    "## 8. Exercices\n",
    "- Reprendre la classe ``HeadsOrTails`` de l'exercice précédent et implémenter une classe fille``HeadsOrTailsV2`` qui en plus : \n",
    "    - Demande le nom du joueur\n",
    "    - Le salue en début et en fin de partie\n",
    "    \n",
    "    \n",
    "- Implémenter une classe ``Personne`` qui aura pour attribut ``nom``, ``prenom`` âge\n",
    "    - Implémenter une classe fille ``Lyceen`` qui aura en plus un attribut ``classe`` et une méthode ``veillir()`` qui augmente son âge de 1\n",
    "    - Implémenter une classe fille ``Enseignant`` qui aura en plus un attribut ``matière`` et une méthode ``noter_lyceen`` qui prend un argument une instance de classe ``Lycéen`` et affiche un message avec le nom de l'étudiant et une note aléatoire entre 0 et 20\n",
    "    \n",
    "- (Plus difficile) Implémenter une classe ``MySoup`` qui : \n",
    "\n",
    "    - s'initialise avec une chaîne de caractères représentant du code html\n",
    "    - contient une méthode ``.find_all_p``qui permet de renvoyer toutes les portions contenues dans des balises ``<p>``\n",
    "    - (plus difficile) contient une méthode qui est capable de vérifier si toutes les balises sont correctement ouvertes et fermées"
   ]
  },
  {
   "cell_type": "markdown",
   "metadata": {},
   "source": [
    "- HeadsOrTailsV2"
   ]
  },
  {
   "cell_type": "code",
   "execution_count": null,
   "metadata": {},
   "outputs": [],
   "source": [
    "import random\n",
    "\n",
    "class HeadsOrTails:\n",
    "    def __init__(self):\n",
    "        # Score de départ\n",
    "        self.score = 0\n",
    "        # Lancer le jeu\n",
    "    \n",
    "    def play_once(self):\n",
    "        result = str(random.randint(0,1)) # 0 pour Tail et 1 pour Head\n",
    "        print(\"Tapez 0 pour Pile ou 1 pour Face\")\n",
    "\n",
    "        user_tentative = input()        \n",
    "        while user_tentative not in [\"0\",\"1\"]:\n",
    "            print(\"Veuillez saisir 0 pour Pile ou 1 pour Face\")\n",
    "            user_tentative = input()\n",
    "            \n",
    "        if result == user_tentative:\n",
    "            print(\"Bonne réponse ! \")\n",
    "            self.score += 1\n",
    "        else:\n",
    "            print(\"Mauvaise réponse ! \")\n",
    "            self.score -= 1\n",
    "    \n",
    "    def play_4_times(self):\n",
    "        for _ in range(4):\n",
    "            self.play_once()\n",
    "            \n",
    "        print(f\"Votre score final est {self.score}\")\n",
    "        \n",
    "        \n",
    "class HeadsOrTailsV2(HeadsOrTails):\n",
    "    \n",
    "    def ask_name(self):\n",
    "        print('Comment vous appelez vous ?')\n",
    "        self.user_name = input()\n",
    "        \n",
    "    def say_hello(self):\n",
    "        print(f\"Salut {self.user_name}\")\n",
    "        \n",
    "    def say_goodbye(self):\n",
    "        print(f\"Au revoir {self.user_name}\")\n",
    "        \n",
    "    def play_and_greet(self):\n",
    "        self.ask_name()\n",
    "        self.say_hello()\n",
    "        self.play_4_times()\n",
    "        self.say_goodbye()\n",
    "        \n",
    "game = HeadsOrTailsV2()\n",
    "game.play_and_greet()"
   ]
  },
  {
   "cell_type": "markdown",
   "metadata": {},
   "source": [
    "Implémenter une classe Personne qui aura pour attribut nom, prenom âge\n",
    "\n",
    "Implémenter une classe fille Lyceen qui aura en plus un attribut classe et une méthode veillir() qui augmente son âge de 1\n",
    "Implémenter une classe fille Enseignant qui aura en plus un attribut matière et une méthode noter_lyceen qui prend un argument une instance de classe Lycéen et affiche un message avec le nom de l'étudiant et une note aléatoire entre 0 et 20"
   ]
  },
  {
   "cell_type": "code",
   "execution_count": 33,
   "metadata": {},
   "outputs": [
    {
     "name": "stdout",
     "output_type": "stream",
     "text": [
      "Note : 3\n"
     ]
    }
   ],
   "source": [
    "import random\n",
    "\n",
    "class Personne:\n",
    "    def __init__(self, nom, prenom, age):\n",
    "        self.nom = nom\n",
    "        self.prenom = prenom\n",
    "        self.age = age\n",
    "        \n",
    "class Lyceen(Personne):\n",
    "    def __init__(self, nom, prenom, age, classe):\n",
    "        super().__init__(nom, prenom,age)\n",
    "        self.classe = classe\n",
    "    \n",
    "    def veillir(self):\n",
    "        self.age += 1\n",
    "        print(self.age)\n",
    "\n",
    "class Enseignant(Personne):\n",
    "    def __init__(self, nom, prenom, age, matiere):\n",
    "        super().__init__(nom, prenom,age)\n",
    "        self.matiere = matiere\n",
    "        \n",
    "    def noter_lyceen(self, name):\n",
    "        note = random.randint(0,20)\n",
    "        print(\"Note :\", note)\n",
    "\n",
    "ens = Enseignant(\"Charles\", \"Henri\", 45, \"Histoire Géo\")\n",
    "lyc = Lyceen('Loic', 'Amiand', 30, 'MD4')\n",
    "ens.noter_lyceen(lyc.nom)"
   ]
  },
  {
   "cell_type": "markdown",
   "metadata": {},
   "source": [
    "- (Plus difficile) Implémenter une classe ``MySoup`` qui : \n",
    "\n",
    "    - s'initialise avec une chaîne de caractères représentant du code html\n",
    "    - contient une méthode ``.find_all_p``qui permet de renvoyer toutes les portions contenues dans des balises ``<p>``\n",
    "    - (plus difficile) contient une méthode qui est capable de vérifier si toutes les balises sont correctement ouvertes et fermées"
   ]
  },
  {
   "cell_type": "code",
   "execution_count": 36,
   "metadata": {},
   "outputs": [
    {
     "data": {
      "text/plain": [
       "[<p>My first paragraph.</p>,\n",
       " <p>My second paragraph.</p>,\n",
       " <p>My third paragraph.\n",
       "     </p>,\n",
       " <p>My fourth paragraph (in my third).</p>]"
      ]
     },
     "execution_count": 36,
     "metadata": {},
     "output_type": "execute_result"
    }
   ],
   "source": [
    "from bs4 import BeautifulSoup\n",
    "\n",
    "html = \"\"\"<!DOCTYPE html>\n",
    "<html>\n",
    "<body>\n",
    "\n",
    "<h1>My First Heading</h1>\n",
    "<p>My first paragraph.</p>\n",
    "<p>My second paragraph.</p>\n",
    "<p>My third paragraph.\n",
    "    <p>My fourth paragraph (in my third).</p>\n",
    "</p>\n",
    "</body>\n",
    "</html>\"\"\"\n",
    "\n",
    "soup = BeautifulSoup(html)\n",
    "\n",
    "soup.find_all(\"p\")"
   ]
  },
  {
   "cell_type": "code",
   "execution_count": 69,
   "metadata": {},
   "outputs": [],
   "source": [
    "class MySoup:\n",
    "    def __init__(self, html):\n",
    "        self.soup = html\n",
    "        self.ps = []\n",
    "        \n",
    "    def find_all_p(self):\n",
    "        potential_ps = html.split(\"<p>\")\n",
    "        for p in potential_ps:\n",
    "            p = p.strip(\"\\n\").strip(\" \")\n",
    "            if p.endswith(\"</p>\"):\n",
    "                self.ps.append(p.removesuffix(\"</p>\"))\n",
    "        return self.ps        "
   ]
  },
  {
   "cell_type": "code",
   "execution_count": 71,
   "metadata": {},
   "outputs": [
    {
     "data": {
      "text/plain": [
       "['My first paragraph.', 'My second paragraph.']"
      ]
     },
     "execution_count": 71,
     "metadata": {},
     "output_type": "execute_result"
    }
   ],
   "source": [
    "my_soup = MySoup(html)\n",
    "my_soup.find_all_p()"
   ]
  },
  {
   "cell_type": "code",
   "execution_count": null,
   "metadata": {},
   "outputs": [],
   "source": []
  }
 ],
 "metadata": {
  "kernelspec": {
   "display_name": "Python 3",
   "language": "python",
   "name": "python3"
  },
  "language_info": {
   "codemirror_mode": {
    "name": "ipython",
    "version": 3
   },
   "file_extension": ".py",
   "mimetype": "text/x-python",
   "name": "python",
   "nbconvert_exporter": "python",
   "pygments_lexer": "ipython3",
   "version": "3.9.0"
  }
 },
 "nbformat": 4,
 "nbformat_minor": 4
}
