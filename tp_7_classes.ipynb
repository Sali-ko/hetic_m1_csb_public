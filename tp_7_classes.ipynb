{
 "cells": [
  {
   "cell_type": "markdown",
   "metadata": {},
   "source": [
    "# **M1 - CSB**\n",
    "# **TP 7 - Les classes en Python**\n",
    "\n",
    "\n",
    "***\n",
    "\n",
    "[**Notions et exercices**](#notions)\n",
    "\n",
    "0. [Introduction](#0)\n",
    "1. [La méthode ``.__init__()``](#1)\n",
    "2. [Définir une méthode](#2)\n",
    "3. [Initialiser avec des arguments](#3)\n",
    "4. [Définir une méthode avec un argument](#4)\n",
    "5. [Exercices](#5)\n",
    "6. [Programmation orientée objet](#6)\n",
    "7. [Héritage de classe](#7)\n",
    "8. [Exercices](#8)\n",
    "\n",
    "\n",
    "***\n"
   ]
  },
  {
   "cell_type": "markdown",
   "metadata": {},
   "source": [
    "## 0. Introduction"
   ]
  },
  {
   "cell_type": "markdown",
   "metadata": {},
   "source": [
    "- En Python, tous les objets vus jusqu'ici ont un type :"
   ]
  },
  {
   "cell_type": "code",
   "execution_count": 17,
   "metadata": {},
   "outputs": [
    {
     "name": "stdout",
     "output_type": "stream",
     "text": [
      "1 est de type <class 'int'>\n",
      "1.5 est de type <class 'float'>\n",
      "[] est de type <class 'list'>\n",
      "{} est de type <class 'dict'>\n"
     ]
    }
   ],
   "source": [
    "n = 1 # entier\n",
    "f = 1.5 # réel\n",
    "l = []\n",
    "d = {}\n",
    "\n",
    "for value in [n, f, l , d]:\n",
    "    print(f\"{value} est de type {type(value)}\")"
   ]
  },
  {
   "cell_type": "markdown",
   "metadata": {},
   "source": [
    "- Le mot ``class`` est un autre mot pour désigner les types en Python. On peut soi-même définir ses propres types, que l'on appellera classe.\n",
    "- On pourra ainsi définir ses propres types et choisir leurs : \n",
    "    - attributs (ceux sont des informations)\n",
    "    - méthodes (ceux sont des fonctions liée à cette classe)"
   ]
  },
  {
   "cell_type": "code",
   "execution_count": 23,
   "metadata": {},
   "outputs": [
    {
     "name": "stdout",
     "output_type": "stream",
     "text": [
      "[5, 6]\n"
     ]
    },
    {
     "data": {
      "text/plain": [
       "dict_keys(['a'])"
      ]
     },
     "execution_count": 23,
     "metadata": {},
     "output_type": "execute_result"
    }
   ],
   "source": [
    "# un exemple de méthode\n",
    "l = []\n",
    "l.append(5) ## .append() pour la méthode liste\n",
    "l.append(6)\n",
    "l.sort()\n",
    "print(l)\n",
    "\n",
    "# un exemple de méthode\n",
    "d = {\"a\":1}\n",
    "d.keys() ## un exemple de méthode pour les dictionnaires"
   ]
  },
  {
   "cell_type": "markdown",
   "metadata": {},
   "source": [
    "<a id=\"1\"></a>\n",
    "## 1. La méthode ``.__init__()``"
   ]
  },
  {
   "cell_type": "code",
   "execution_count": null,
   "metadata": {},
   "outputs": [],
   "source": [
    "voiture_de_sport # snakecase\n",
    "VoitureDeSport # camelcase"
   ]
  },
  {
   "cell_type": "code",
   "execution_count": 37,
   "metadata": {
    "collapsed": false,
    "jupyter": {
     "outputs_hidden": false
    }
   },
   "outputs": [],
   "source": [
    "class Voiture:\n",
    "    def __init__(self):\n",
    "        self.x = 0 # attribut x\n",
    "        self.y = 0 # attribut y\n",
    "        self.couleur = \"rouge\" # couleur"
   ]
  },
  {
   "cell_type": "markdown",
   "metadata": {},
   "source": [
    "- Cette méthode permet de définir les valeurs des attributs (ici x et y)\n",
    "- ``self`` est une syntaxe qui permet d'avoir accès à notre objet n'importe où dans notre classe - qui désigne la voiture dans ce cas\n",
    "- ``x`` et ``y`` sont des attributs de le classe ``Voiture``"
   ]
  },
  {
   "cell_type": "markdown",
   "metadata": {},
   "source": [
    "- Ici, on instancie la classe : on crée une variable ``voiture``qui est une instance de la classe ``Voiture``"
   ]
  },
  {
   "cell_type": "code",
   "execution_count": 45,
   "metadata": {},
   "outputs": [
    {
     "name": "stdout",
     "output_type": "stream",
     "text": [
      "4556291584 4556291584\n",
      "4556513040 140505570728720\n"
     ]
    }
   ],
   "source": [
    "# Ids pour distinguer des objets\n",
    "l = []\n",
    "l1 = l\n",
    "print(id(l), id(l1)) # les mêmes car mêmes objets\n",
    "\n",
    "# Identifiants mémoire de voiture (l'instance) et de Voiture (classe)\n",
    "print(id(voiture), id(Voiture))"
   ]
  },
  {
   "cell_type": "code",
   "execution_count": 46,
   "metadata": {},
   "outputs": [
    {
     "name": "stdout",
     "output_type": "stream",
     "text": [
      "position x : 0 position y : 0 couleur :  rouge\n"
     ]
    }
   ],
   "source": [
    "voiture = Voiture()\n",
    "position_x = voiture.x\n",
    "position_y = voiture.y\n",
    "print(\"position x :\", position_x, \"position y :\", position_y, \"couleur : \", voiture.couleur)"
   ]
  },
  {
   "cell_type": "code",
   "execution_count": 47,
   "metadata": {},
   "outputs": [
    {
     "name": "stdout",
     "output_type": "stream",
     "text": [
      "<p>My first paragraph.</p>\n",
      "My first paragraph.\n"
     ]
    }
   ],
   "source": [
    "from bs4 import BeautifulSoup\n",
    "\n",
    "html = \"\"\"<!DOCTYPE html>\n",
    "<html>\n",
    "<body>\n",
    "<p>My first paragraph.</p>\n",
    "</body>\n",
    "</html>\"\"\"\n",
    "\n",
    "soup = BeautifulSoup(html)\n",
    "\n",
    "p = soup.find(\"p\") # méthode .find\n",
    "print(p)\n",
    "print(p.text) # attribut texte"
   ]
  },
  {
   "cell_type": "markdown",
   "metadata": {},
   "source": [
    "<a id=\"2\"></a>\n",
    "## 2. Définir une méthode\n",
    "- Notre classe voiture possède deux informations mais ne peut rien faire d'autre. Nous allons ici définir une première méthode"
   ]
  },
  {
   "cell_type": "code",
   "execution_count": 49,
   "metadata": {
    "collapsed": false,
    "jupyter": {
     "outputs_hidden": false
    }
   },
   "outputs": [],
   "source": [
    "class Voiture:\n",
    "    def __init__(self):\n",
    "        self.x = 0\n",
    "        self.y = 0\n",
    "        \n",
    "    def avancer_sur_y(self):\n",
    "        self.y += 1 # pareil self.y = self.y + 1"
   ]
  },
  {
   "cell_type": "markdown",
   "metadata": {},
   "source": [
    "- Regardons ce que devient l'attribut ``y``"
   ]
  },
  {
   "cell_type": "code",
   "execution_count": 50,
   "metadata": {},
   "outputs": [
    {
     "name": "stdout",
     "output_type": "stream",
     "text": [
      "position x : 0 position y : 0\n",
      "position x : 0 position y : 1\n"
     ]
    }
   ],
   "source": [
    "voiture = Voiture()\n",
    "position_x = voiture.x\n",
    "position_y = voiture.y\n",
    "print(\"position x :\", position_x, \"position y :\", position_y)\n",
    "\n",
    "# On avance\n",
    "voiture.avancer_sur_y()\n",
    "position_y = voiture.y\n",
    "print(\"position x :\", position_x, \"position y :\", position_y)"
   ]
  },
  {
   "cell_type": "markdown",
   "metadata": {},
   "source": [
    "- Définissons une flotte de voiture (``list`` de ``Voiture``) :"
   ]
  },
  {
   "cell_type": "code",
   "execution_count": 52,
   "metadata": {},
   "outputs": [],
   "source": [
    "flotte = [Voiture() for _ in range(10)] # _ pour la variable d'itération, car on ne s'en sert pas"
   ]
  },
  {
   "cell_type": "markdown",
   "metadata": {},
   "source": [
    "- Faisons avancer la première voiture"
   ]
  },
  {
   "cell_type": "code",
   "execution_count": 66,
   "metadata": {},
   "outputs": [
    {
     "name": "stdout",
     "output_type": "stream",
     "text": [
      "Position y : 11\n"
     ]
    }
   ],
   "source": [
    "voiture_0 = flotte[0]\n",
    "voiture_0.avancer_sur_y()\n",
    "print(\"Position y :\", voiture_0.y)"
   ]
  },
  {
   "cell_type": "markdown",
   "metadata": {},
   "source": [
    "- Faisons les toutes avancer"
   ]
  },
  {
   "cell_type": "code",
   "execution_count": 67,
   "metadata": {},
   "outputs": [
    {
     "name": "stdout",
     "output_type": "stream",
     "text": [
      "Les positions y des voitures de la flotte sont : [12, 6, 6, 6, 6, 6, 6, 6, 6, 6]\n"
     ]
    }
   ],
   "source": [
    "for i in range(len(flotte)):\n",
    "    flotte[i].avancer_sur_y()\n",
    "    \n",
    "print(\"Les positions y des voitures de la flotte sont : {}\".format([v.y for v in flotte]))"
   ]
  },
  {
   "cell_type": "markdown",
   "metadata": {},
   "source": [
    "- Différence méthodes et fonctions : \n",
    "    - Différence syntaxique une fonction s'appelle ainsi : ``f(a)``, une méthode ``objet.notre_methode()``\n",
    "    - Différence d'usage : une fonction peut gérer dans certains cas plusieurs types, une méthode est reliée à sa classe (\"son type\")"
   ]
  },
  {
   "cell_type": "code",
   "execution_count": 77,
   "metadata": {},
   "outputs": [
    {
     "name": "stdout",
     "output_type": "stream",
     "text": [
      "'dict' object has no attribute 'append'\n",
      "5\n",
      "3\n",
      "1\n"
     ]
    }
   ],
   "source": [
    "# Une méthode est liée à un type d'objet\n",
    "l = []\n",
    "l.append(5)\n",
    "#print(l)\n",
    "\n",
    "d = {}\n",
    "try: \n",
    "    d.append(3)\n",
    "    \n",
    "except Exception as e:\n",
    "    print(e)\n",
    "    \n",
    "# Fonction len\n",
    "s = 'HETIC'\n",
    "l = [1, 2, 3]\n",
    "d = {\"a\":4}\n",
    "for value in [s, l , d]:\n",
    "    print(len(value))"
   ]
  },
  {
   "cell_type": "markdown",
   "metadata": {},
   "source": [
    "<a id='3'></a>\n",
    "## 3. Initialiser avec des arguments"
   ]
  },
  {
   "cell_type": "code",
   "execution_count": 84,
   "metadata": {},
   "outputs": [],
   "source": [
    "class Voiture:\n",
    "    def __init__(self, x, y, couleur):\n",
    "        self.x = x\n",
    "        self.y = y\n",
    "        self.couleur = couleur\n",
    "        \n",
    "    def avancer_sur_y(self):\n",
    "        self.y += 1"
   ]
  },
  {
   "cell_type": "code",
   "execution_count": 85,
   "metadata": {},
   "outputs": [
    {
     "name": "stdout",
     "output_type": "stream",
     "text": [
      "position x : 1 position y : 10 couleur :  red\n",
      "position x : 1 position y : 11\n"
     ]
    }
   ],
   "source": [
    "voiture = Voiture(x=1, y=10, couleur=\"red\")\n",
    "position_x = voiture.x\n",
    "position_y = voiture.y\n",
    "print(\"position x :\", position_x, \"position y :\", position_y, \"couleur : \", voiture.couleur)\n",
    "\n",
    "# On avance\n",
    "voiture.avancer_sur_y()\n",
    "position_y = voiture.y\n",
    "print(\"position x :\", position_x, \"position y :\", position_y)"
   ]
  },
  {
   "cell_type": "markdown",
   "metadata": {},
   "source": [
    "<a id='4'></a>\n",
    "## 4. Définir une méthode avec un argument"
   ]
  },
  {
   "cell_type": "code",
   "execution_count": 86,
   "metadata": {},
   "outputs": [],
   "source": [
    "class Voiture:\n",
    "    def __init__(self):\n",
    "        self.x = 0\n",
    "        self.y = 0\n",
    "        \n",
    "    def avancer_sur_y(self, distance_sur_y):\n",
    "        self.y += distance_sur_y"
   ]
  },
  {
   "cell_type": "code",
   "execution_count": 87,
   "metadata": {},
   "outputs": [
    {
     "name": "stdout",
     "output_type": "stream",
     "text": [
      "position x : 0 position y : 0\n",
      "position x : 0 position y : 100\n",
      "position x : 0 position y : 110\n"
     ]
    }
   ],
   "source": [
    "voiture = Voiture()\n",
    "position_x = voiture.x\n",
    "position_y = voiture.y\n",
    "print(\"position x :\", position_x, \"position y :\", position_y)\n",
    "\n",
    "# On avance\n",
    "voiture.avancer_sur_y(distance_sur_y=100)\n",
    "position_y = voiture.y\n",
    "print(\"position x :\", position_x, \"position y :\", position_y)\n",
    "\n",
    "# On avance\n",
    "voiture.avancer_sur_y(distance_sur_y=10)\n",
    "position_y = voiture.y\n",
    "print(\"position x :\", position_x, \"position y :\", position_y)"
   ]
  },
  {
   "cell_type": "code",
   "execution_count": null,
   "metadata": {},
   "outputs": [],
   "source": [
    "l = [3, 5, 4]\n",
    "l.sort() # méthode sans argument\n",
    "l.append(7) # méthode avec argument"
   ]
  },
  {
   "cell_type": "markdown",
   "metadata": {},
   "source": [
    "<a id='5'></a>\n",
    "\n",
    "## 5. Exercices\n",
    "\n",
    "- Ecrire une classe ``FrenchTeacher`` qui :\n",
    "    - s'initialise sans argument\n",
    "    - possède une méthode ``check_first_caps`` qui prend en argument une chaîne de caractères et vérifie que la première lettre est bien une majuscule (on pourra utiliser ``.lower()`` ou ``.upper()``)\n",
    "\n",
    "\n",
    "- Ecrire une classe ``MathsTeacher`` qui :\n",
    "    - s'initialise avec un argument ``name`` qui servira à initialiser un attribut du même nom\n",
    "    - possède une méthode ``compute_mean``qui prend en argument une liste et calcule sa moyenne\n",
    "    - possède une méthode ``say_hello`` qui prend en argument une instance de la classe ``MathsTeacher`` appellé ``other_instance`` et affiche (print) ``\"Salut {other_instance.name}\"``\n",
    "    \n",
    "  \n",
    "- (Plus difficile) Ecrire une classe ``HeadsOrTails`` qui permet à un utilisateur de jouer au jeu suivant :\n",
    " - On commence avec un score de 0\n",
    " - On est invité à jouer à Pile ou Face 4 fois\n",
    "    - A chaque fois, si on devine correctement, on gagne 1\n",
    "    - Sinon on perd 1\n",
    "    - Dans les deux cas on affiche un message à l'utilisateur pour lui indiqué s'il a réussi ou non\n",
    " - A la fin, on affiche le score final\n",
    " - On pourra par exemple utiliser :\n",
    "    - ``input()``pour que l'utilisateur saisisse une valeur\n",
    "    - la fonction ``randint``du package ``random`` que ci dessous :\n",
    "        \n",
    "- (Plus difficile) Implémenter une classe ``Explorer`` qui vous permet :\n",
    "    - D'afficher tous les fichiers dans le dossier courant \n",
    "    - D'afficher la liste des extensions présentes dans le dossier courant\n",
    "    - De réaliser toutes les opérations ci-dessus dans n'importe quel dossier dont on connait le chemin\n",
    "    (On pourra utiliser ``os.getcwd()``, ``os.listdir()``)\n",
    "    \n",
    "    \n",
    "- (Plus difficile) Ecrire une classe ``CsvReader`` qui permet à un utilisateur de lire un fichier .csv et de mettre les valeurs dans des listes de listes\n",
    "    - La classe s'initisalise avec le chemin vers le fichier\n",
    "    - Elle permettra de gérer les types ``float``, ``int`` et ``str```\n",
    "    - Elle possède une méthode ``parse`` qui transforme ce fichier ``data.csv`` (dans le repose Git):\n",
    "    ```csv \n",
    "Voiture, Vitesse, Prix\n",
    "Twingo, 100, 10000\n",
    "Mustang, 200, 100000\n",
    "```\n",
    "    - En cette liste de liste : \n",
    "    ```python\n",
    "    [[Voiture, Vitesse, Prix], [Twingo, 100, 10000], [Mustang, 200, 100000]]\n",
    "    ````"
   ]
  },
  {
   "cell_type": "code",
   "execution_count": 92,
   "metadata": {},
   "outputs": [
    {
     "data": {
      "text/plain": [
       "0"
      ]
     },
     "execution_count": 92,
     "metadata": {},
     "output_type": "execute_result"
    }
   ],
   "source": [
    "import random\n",
    "random.randint(0, 1) \n",
    "# génére un nombre aléatoire : 0 ou 1"
   ]
  },
  {
   "cell_type": "markdown",
   "metadata": {},
   "source": [
    "<a id='6'></a>\n",
    "## 6. Programmation orientée objet\n",
    "- Les classes font partie d'un paradigme de programmation appelé Programmation Orientée Objet (ou Object Oriented Programming). Le but de ce paradigme est d'utiliser des classes pour construire le programme. \n",
    "\n",
    "- Une classe est une portion de code qui définit les attributs (information) et méthodes (comportements) qui représentent précisément ce qu'on veut que le programme fasse.\n",
    "\n",
    "- Un attribut est une information, c'est une variable qui fait partie de la classe.\n",
    "\n",
    "- Une méthode est un comportement, c'une fonction qui fait partie de la classe.\n",
    "\n",
    "- Une instance (``voiture``) d'une classe est un objet qui a cette classe (``Voiture``) pour type."
   ]
  },
  {
   "cell_type": "markdown",
   "metadata": {},
   "source": [
    "## 7. Héritage de classe\n",
    "- ``Voiture`` est la classe mère et ``VoitureDeSport`` est la classe fille. On dit que ``VoitureDeSport``hérite de ``Voiture``\n",
    "- On initialise la classe mère, puis on peut rajouter de la logique qui n'est que pour la classe fille"
   ]
  },
  {
   "cell_type": "code",
   "execution_count": 125,
   "metadata": {
    "collapsed": false,
    "jupyter": {
     "outputs_hidden": false
    }
   },
   "outputs": [],
   "source": [
    "class Voiture:\n",
    "    def __init__(self, x, y):\n",
    "        self.x = x\n",
    "        self.y = y\n",
    "        \n",
    "    def avancer_sur_y(self, distance_sur_y):\n",
    "        self.y += distance_sur_y\n",
    "        \n",
    "    def avancer_sur_x(self, distance_sur_x):\n",
    "        self.x += distance_sur_x\n",
    "\n",
    "class VoitureDeSport(Voiture):\n",
    "    def __init__(self, x, y , prix): #def __init__(self, arguments_, arguments_parent_class):\n",
    "        # initialisation classe mère\n",
    "        Voiture.__init__(self, x, y)\n",
    "        # On ajoute le prix\n",
    "        self.prix = prix"
   ]
  },
  {
   "cell_type": "code",
   "execution_count": 126,
   "metadata": {},
   "outputs": [
    {
     "name": "stdout",
     "output_type": "stream",
     "text": [
      "attributs de voiture : {'x': 1, 'y': 1}\n",
      "attributs de voiture_de_sport : {'x': 1, 'y': 1, 'prix': 100000}\n"
     ]
    }
   ],
   "source": [
    "voiture = Voiture(1,1)\n",
    "voiture_de_sport = VoitureDeSport(1,1, 100000)\n",
    "print(\"attributs de voiture :\", voiture.__dict__)\n",
    "print(\"attributs de voiture_de_sport :\",voiture_de_sport.__dict__)"
   ]
  },
  {
   "cell_type": "markdown",
   "metadata": {},
   "source": [
    "- On peut initialiser la classe mère avec la fonction ``super()`` (pas besoin d'ajouter le mot clef ``self``)"
   ]
  },
  {
   "cell_type": "code",
   "execution_count": 127,
   "metadata": {},
   "outputs": [],
   "source": [
    "class VoitureDeSport(Voiture):\n",
    "    def __init__(self, x, y, prix): #def __init__(self, arguments_, arguments_parent_class):\n",
    "        # initialisation classe mère avec super\n",
    "        super().__init__(x, y)\n",
    "        # On ajoute le prix\n",
    "        self.prix = prix"
   ]
  },
  {
   "cell_type": "markdown",
   "metadata": {},
   "source": [
    "- ``.__dict__`` permet d'afficher tous les attributs d'une instance d'une classe"
   ]
  },
  {
   "cell_type": "code",
   "execution_count": 128,
   "metadata": {},
   "outputs": [
    {
     "name": "stdout",
     "output_type": "stream",
     "text": [
      "attributs de voiture_de_sport : {'x': 1, 'y': 1, 'prix': 100000}\n"
     ]
    }
   ],
   "source": [
    "voiture_de_sport = VoitureDeSport(1,1, 100000)\n",
    "print(\"attributs de voiture_de_sport :\",voiture_de_sport.__dict__)"
   ]
  },
  {
   "cell_type": "markdown",
   "metadata": {},
   "source": [
    "- On peut définir des méthodes qui n'existent que pour la classe fille"
   ]
  },
  {
   "cell_type": "code",
   "execution_count": 129,
   "metadata": {},
   "outputs": [],
   "source": [
    "class VoitureDeSport(Voiture):\n",
    "    def __init__(self, x, y, prix): #def __init__(self, arguments_, arguments_parent_class):\n",
    "        # initialisation classe mère avec super\n",
    "        super().__init__(x, y)\n",
    "        # On ajoute le prix\n",
    "        self.prix = prix\n",
    "        \n",
    "    def avancer_sur_y_rapidement(self):\n",
    "        self.y += 100\n",
    "        \n",
    "    def prendre_de_la_valeur(self):\n",
    "        self.prix += 10000"
   ]
  },
  {
   "cell_type": "code",
   "execution_count": 130,
   "metadata": {},
   "outputs": [
    {
     "name": "stdout",
     "output_type": "stream",
     "text": [
      "attributs de voiture_de_sport : {'x': 1, 'y': 1, 'prix': 100000}\n",
      "attributs de voiture_de_sport : {'x': 1, 'y': 101, 'prix': 100000}\n",
      "attributs de voiture_de_sport : {'x': 1, 'y': 101, 'prix': 110000}\n"
     ]
    }
   ],
   "source": [
    "voiture_de_sport = VoitureDeSport(1,1, 100000)\n",
    "print(\"attributs de voiture_de_sport :\",voiture_de_sport.__dict__)\n",
    "voiture_de_sport.avancer_sur_y_rapidement()\n",
    "print(\"attributs de voiture_de_sport :\",voiture_de_sport.__dict__)\n",
    "voiture_de_sport.prendre_de_la_valeur()\n",
    "print(\"attributs de voiture_de_sport :\",voiture_de_sport.__dict__)"
   ]
  },
  {
   "cell_type": "markdown",
   "metadata": {},
   "source": [
    "## 8. Exercices\n",
    "- Reprendre la classe ``HeadsOrTails`` de l'exercice précédent et implémenter une classe fille``HeadsOrTailsV2`` qui en plus : \n",
    "    - Demande le nom du joueur\n",
    "    - Le salue en début et en fin de partie\n",
    "    \n",
    "    \n",
    "- Implémenter une classe ``Personne`` qui aura pour attribut ``nom``, ``prenom`` âge\n",
    "    - Implémenter une classe fille ``Lyceen`` qui aura en plus un attribut ``classe`` et une méthode ``veillir()`` qui augmente son âge de 1\n",
    "    - Implémenter une classe fille ``Enseignant`` qui aura en plus un attribut ``matière`` et une méthode ``noter_lyceen`` qui prend un argument une instance de classe ``Lycéen`` et affiche un message avec le nom de l'étudiant et une note aléatoire entre 0 et 20\n",
    "    \n",
    "- (Plus difficile) Implémenter une classe MySoup qui : \n",
    "\n",
    "    - s'initialise avec une chaîne de caractères représentant du code html\n",
    "    - contient une méthode ``.find_all_p``qui permet de renvoyer toutes les portions contenues dans des balises ``<p>``\n",
    "    - (plus difficile) contient une méthode qui est capable de vérifier si toutes les balises sont correctement ouvertes et fermées"
   ]
  },
  {
   "cell_type": "code",
   "execution_count": 10,
   "metadata": {},
   "outputs": [
    {
     "data": {
      "text/plain": [
       "[<p>My first paragraph.</p>,\n",
       " <p>My second paragraph.</p>,\n",
       " <p>My third paragraph.\n",
       "     </p>,\n",
       " <p>My fourth paragraph (in my third).</p>]"
      ]
     },
     "execution_count": 10,
     "metadata": {},
     "output_type": "execute_result"
    }
   ],
   "source": [
    "from bs4 import BeautifulSoup\n",
    "\n",
    "html = \"\"\"<!DOCTYPE html>\n",
    "<html>\n",
    "<body>\n",
    "\n",
    "<h1>My First Heading</h1>\n",
    "<p>My first paragraph.</p>\n",
    "<p>My second paragraph.</p>\n",
    "<p>My third paragraph.\n",
    "    <p>My fourth paragraph (in my third).</p>\n",
    "</p>\n",
    "\n",
    "\n",
    "\n",
    "</body>\n",
    "</html>\"\"\"\n",
    "\n",
    "soup = BeautifulSoup(html)\n",
    "\n",
    "soup.find_all(\"p\")"
   ]
  },
  {
   "cell_type": "code",
   "execution_count": 6,
   "metadata": {},
   "outputs": [],
   "source": [
    "# vars(soup)"
   ]
  },
  {
   "cell_type": "code",
   "execution_count": null,
   "metadata": {},
   "outputs": [],
   "source": [
    "for _ in range(10):\n",
    "    print(\"Salut\")\n",
    "    \n",
    "for i in range(10):\n",
    "    print(f\"Salut - {i}\")"
   ]
  }
 ],
 "metadata": {
  "kernelspec": {
   "display_name": "Python 3",
   "language": "python",
   "name": "python3"
  },
  "language_info": {
   "codemirror_mode": {
    "name": "ipython",
    "version": 3
   },
   "file_extension": ".py",
   "mimetype": "text/x-python",
   "name": "python",
   "nbconvert_exporter": "python",
   "pygments_lexer": "ipython3",
   "version": "3.9.0"
  }
 },
 "nbformat": 4,
 "nbformat_minor": 4
}
