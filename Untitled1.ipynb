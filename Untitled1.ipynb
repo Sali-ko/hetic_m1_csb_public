{
 "cells": [
  {
   "cell_type": "code",
   "execution_count": 9,
   "metadata": {},
   "outputs": [
    {
     "name": "stdout",
     "output_type": "stream",
     "text": [
      "['1', '2', '3']\n",
      "['4', '5', '6']\n",
      "['1 2 3', '4 5 6']\n",
      "[['1', '2', '3'], ['4', '5', '6']]\n"
     ]
    }
   ],
   "source": [
    "message = \"\"\"Etape 0 : 1 résultats trouvés dans la base de données numéro 1\n",
    "Etape 1 : 1 résultats trouvés dans la base de données numéro 2\n",
    "Etape 2 : 2 résultats trouvés dans la base de données numéro 3\n",
    "Etape 3 : 3 résultats trouvés dans la base de données numéro 4\n",
    "Etape 4 : 5 résultats trouvés dans la base de données numéro 5\n",
    "Etape 5 : 8 résultats trouvés dans la base de données numéro 5\n",
    "Etape 6 : 13 résultats trouvés dans la base de données numéro 5\n",
    "Etape 7 : 21 résultats trouvés dans la base de données numéro 6\n",
    "Etape 8 : 34 résultats trouvés dans la base de données numéro 6\n",
    "Etape 9 : 55 résultats trouvés dans la base de données numéro 3\n",
    "Etape 10 : 89 résultats trouvés dans la base de données numéro 4\n",
    "Etape 11 : 144 résultats trouvés dans la base de données numéro 4\n",
    "Etape 12 : 233 résultats trouvés dans la base de données numéro 3\n",
    "Etape 13 : 377 résultats trouvés dans la base de données numéro 1\"\"\"\n",
    "\n",
    "\n",
    "message = message.split(\"\\n\")\n",
    "message = [m.split(\" \") for m in message]\n",
    "message = [[m[1], m[3], m[-1]] for m in message] \n",
    "message\n",
    "\n",
    "\n",
    "listy = [\"1 2 3\", \"4 5 6\"]\n",
    "\n",
    "for item in listy:\n",
    "    print(item.split(\" \"))\n",
    "\n",
    "print(listy)\n",
    "\n",
    "\n",
    "\n",
    "listy = [\"1 2 3\", \"4 5 6\"]\n",
    "\n",
    "for x in  range(len(listy)):\n",
    "    item = listy[x]\n",
    "    listy[x] = item.split(\" \")\n",
    "\n",
    "print(listy)\n"
   ]
  },
  {
   "cell_type": "code",
   "execution_count": null,
   "metadata": {},
   "outputs": [],
   "source": []
  }
 ],
 "metadata": {
  "kernelspec": {
   "display_name": "Python 3",
   "language": "python",
   "name": "python3"
  },
  "language_info": {
   "codemirror_mode": {
    "name": "ipython",
    "version": 3
   },
   "file_extension": ".py",
   "mimetype": "text/x-python",
   "name": "python",
   "nbconvert_exporter": "python",
   "pygments_lexer": "ipython3",
   "version": "3.9.0"
  }
 },
 "nbformat": 4,
 "nbformat_minor": 4
}
