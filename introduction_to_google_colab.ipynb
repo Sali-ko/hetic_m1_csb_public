{
 "cells": [
  {
   "cell_type": "markdown",
   "metadata": {},
   "source": [
    "## Ce notebook sert d'exemple pour Google Colobaratory\n",
    "- L'importer sur Google Colab\n",
    "- Executer la cellule de code\n",
    "- Vérifier l'output et sa cohérence"
   ]
  },
  {
   "cell_type": "code",
   "execution_count": 4,
   "metadata": {},
   "outputs": [
    {
     "name": "stdout",
     "output_type": "stream",
     "text": [
      "min(l) = -1\n",
      "max(l) = 100\n",
      "len(l) = 8\n"
     ]
    }
   ],
   "source": [
    "# On définit une liste\n",
    "l = [- 1, 1, 2, 4, 5, 6, 70, 100]\n",
    "# On calcul le min, le max, et la longueur de la liste, et on les affiche\n",
    "for f in [min, max, len]:\n",
    "    print(f\"{f.__name__}(l) = {f(l)}\" )"
   ]
  },
  {
   "cell_type": "code",
   "execution_count": null,
   "metadata": {},
   "outputs": [],
   "source": []
  }
 ],
 "metadata": {
  "kernelspec": {
   "display_name": "Python 3",
   "language": "python",
   "name": "python3"
  },
  "language_info": {
   "codemirror_mode": {
    "name": "ipython",
    "version": 3
   },
   "file_extension": ".py",
   "mimetype": "text/x-python",
   "name": "python",
   "nbconvert_exporter": "python",
   "pygments_lexer": "ipython3",
   "version": "3.9.0"
  }
 },
 "nbformat": 4,
 "nbformat_minor": 4
}
